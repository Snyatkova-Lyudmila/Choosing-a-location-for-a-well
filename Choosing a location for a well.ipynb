{
 "cells": [
  {
   "cell_type": "markdown",
   "metadata": {},
   "source": [
    "**Название проекта: Выбор локации для скважины**"
   ]
  },
  {
   "cell_type": "markdown",
   "metadata": {},
   "source": [
    "## Введение\n",
    "\n",
    "**Описание проекта**\n",
    "\n",
    "Нефтедобывающая компания «ГлавРосГосНефть» принимает решение, где бурить новую скважину.\n",
    "\n",
    "Предоставлены пробы нефти в трёх регионах: в каждом 100 000 месторождений, характеристики (качество нефти и объём её запасов) для каждой скважины в регионе уже известны. Необходимо построить модель машинного обучения, которая поможет определить регион, где добыча принесёт наибольшую прибыль, проанализировать возможную прибыль и риски техникой *Bootstrap.*\n",
    "\n",
    "*Шаги для выбора локации:*\n",
    "\n",
    "* В избранном регионе ищут месторождения, для каждого определяют значения признаков (качество нефти и объём её запасов);\n",
    "* Строят модель для предсказания объёма запасов в новых скважинах, оценивают объём запасов;\n",
    "* Выбирают месторождения с самым высокими оценками значений;  \n",
    "Количество месторождений зависит от бюджета компании и стоимости разработки одной скважины;\n",
    "* Определяют регион с максимальной суммарной прибылью отобранных месторождений.\n",
    "\n",
    "---\n",
    "**Задачи исследования**\n",
    "\n",
    "* провести предобработку и анализ данных\n",
    "* подготовить данные\n",
    "* обучить и проверить модель для каждого региона\n",
    "* провести подготовку к расчёту прибыли:\n",
    "\n",
    "рассчитать достаточный объём сырья для безубыточной разработки новой скважины  \n",
    "cравнить полученный объём сырья со средним запасом в каждом регионе\n",
    "\n",
    "* рассчитать риски и прибыль для каждого региона\n",
    "* сформулировать выводы, дать рекомендации\n",
    "\n",
    "---\n",
    "**Цель исследования** - построить модель для определения региона, где добыча принесёт наибольшую прибыль, проанализировать возможную прибыль и риски с применением техники Bootstrap\n",
    "\n",
    "---\n",
    "**Данные для анализа**\n",
    "\n",
    "*datasets/geo_data_0.csv* - данные геологоразведки по первому региону\n",
    "\n",
    "*datasets/geo_data_1.csv* - данные геологоразведки по второму региону\n",
    "\n",
    "*datasets/geo_data_2.csv* - данные геологоразведки по третьему региону\n",
    "\n",
    "---\n",
    "**Условия задачи:**\n",
    "\n",
    "* Для обучения модели подходит только линейная регрессия (остальные — недостаточно предсказуемые);\n",
    "* При разведке региона исследуют 500 точек, из которых с помощью машинного обучения выбирают 200 лучших для разработки;\n",
    "* Бюджет на разработку скважин в регионе — 10 млрд рублей;\n",
    "* Доход с 1 барреля сырья = 450 руб.  Доход с каждой единицы продукта = 450 тыс. рублей (объём указан в тыс. баррелей);\n",
    "* После оценки рисков оставить регионы, в которых вероятность убытков < 2.5% / cреди них выбирают регион с наибольшей средней прибылью;\n",
    "* Данные синтетические: детали контрактов и характеристики месторождений не разглашаются.\n",
    "\n",
    "---\n",
    "**Описание данных**\n",
    "\n",
    "* *id* — уникальный идентификатор скважины\n",
    "* *f0, f1, f2* — три признака точек (неважно, что они означают, но сами признаки значимы)\n",
    "* *product* — объём запасов в скважине (тыс. баррелей)\n",
    "\n",
    "---\n",
    "**Этапы работы над проектом**\n",
    "\n",
    "*Шаг 1.* Загрузка и подготовка данных\n",
    "\n",
    "* загрузка данных\n",
    "* изучение общей информации\n",
    "* исследовательский анализ\n",
    "* подготовка данных\n",
    "* корреляционный анализ\n",
    "\n",
    "*Шаг 2.* Обучение и проверка модели\n",
    "\n",
    "*Шаг 3.* Подготовка к расчету прибыли\n",
    "\n",
    "* сохранение переменных с ключевыми значениями для расчётов\n",
    "* расчет \"точки безубыточности\" (достаточного объёма сырья для безубыточной разработки новой скважины)\n",
    "\n",
    "*Шаг 4.* Расчет прибыли и рисков\n",
    "\n",
    "*Шаг 5.* Общий вывод "
   ]
  },
  {
   "cell_type": "code",
   "execution_count": 361,
   "metadata": {},
   "outputs": [],
   "source": [
    "!pip uninstall -y scikit-learn -q\n",
    "!pip install scikit-learn==1.2.0 -q\n",
    "!pip install --upgrade numba -q\n",
    "!pip install --upgrade scipy -q\n",
    "!pip install seaborn --upgrade -q\n",
    "!pip install numpy==1.23 -q\n",
    "!pip install phik -q"
   ]
  },
  {
   "cell_type": "code",
   "execution_count": 364,
   "metadata": {},
   "outputs": [],
   "source": [
    "import os\n",
    "import pandas as pd\n",
    "import numpy as np\n",
    "import matplotlib.pyplot as plt\n",
    "import seaborn as sns\n",
    "import phik\n",
    "\n",
    "from sklearn.model_selection import train_test_split\n",
    "from sklearn.linear_model import LinearRegression\n",
    "from sklearn.pipeline import make_pipeline\n",
    "from sklearn.preprocessing import StandardScaler\n",
    "from sklearn.metrics import mean_squared_error\n",
    "from numpy.random import RandomState\n",
    "from phik.report import plot_correlation_matrix\n",
    "from phik import report"
   ]
  },
  {
   "cell_type": "code",
   "execution_count": 365,
   "metadata": {},
   "outputs": [],
   "source": [
    "RANDOM_STATE = 42"
   ]
  },
  {
   "cell_type": "markdown",
   "metadata": {},
   "source": [
    "## Загрузка и подготовка данных"
   ]
  },
  {
   "cell_type": "markdown",
   "metadata": {},
   "source": [
    "### Загрузка данных"
   ]
  },
  {
   "cell_type": "markdown",
   "metadata": {},
   "source": [
    "Считаем CSV-файлы с данными с помощью библиотеки pandas и сохраним их в датафреймы:\n",
    "\n",
    "*geo_data_0* - данные файла geo_data_0.csv (данные геологоразведки по первому региону)  \n",
    "*geo_data_1* - данные файла geo_data_1.csv (данные геологоразведки по второму региону)  \n",
    "*geo_data_2* - данные файла geo_data_2.csv (данные геологоразведки по третьему региону)\n",
    "\n",
    "***Для удобства в дальнейшем будем обозначать:  \n",
    "данные по нулевому, первому и второму региону - geo_data_0, geo_data_1 и geo_data_2 соответственно.***"
   ]
  },
  {
   "cell_type": "code",
   "execution_count": 366,
   "metadata": {},
   "outputs": [],
   "source": [
    "pth01 = '/datasets/geo_data_0.csv'\n",
    "pth02 = 'https://code.s3.yandex.net/datasets/geo_data_0.csv'\n",
    "\n",
    "if os.path.exists(pth01):\n",
    "    geo_data_0 = pd.read_csv(pth01)\n",
    "elif os.path.exists(pth02):\n",
    "    geo_data_0 = pd.read_csv(pth02)\n",
    "else:\n",
    "    print('Файл не найден')"
   ]
  },
  {
   "cell_type": "code",
   "execution_count": 367,
   "metadata": {},
   "outputs": [],
   "source": [
    "pth11 = '/datasets/geo_data_1.csv'\n",
    "pth12 = 'https://code.s3.yandex.net/datasets/geo_data_1.csv'\n",
    "\n",
    "if os.path.exists(pth11):\n",
    "    geo_data_1 = pd.read_csv(pth11)\n",
    "elif os.path.exists(pth12):\n",
    "    geo_data_1 = pd.read_csv(pth12)\n",
    "else:\n",
    "    print('Файл не найден')"
   ]
  },
  {
   "cell_type": "code",
   "execution_count": 368,
   "metadata": {},
   "outputs": [],
   "source": [
    "pth21 = '/datasets/geo_data_2.csv'\n",
    "pth22 = 'https://code.s3.yandex.net/datasets/geo_data_2.csv'\n",
    "\n",
    "if os.path.exists(pth21):\n",
    "    geo_data_2 = pd.read_csv(pth21)\n",
    "elif os.path.exists(pth22):\n",
    "    geo_data_2 = pd.read_csv(pth22)\n",
    "else:\n",
    "    print('Файл не найден')"
   ]
  },
  {
   "cell_type": "markdown",
   "metadata": {},
   "source": [
    "### Изучение общей информации\n",
    "\n",
    "На этом этапе изучим общую информацию о каждом датафрейме. Проверим, что данные в таблицах соответствуют описанию."
   ]
  },
  {
   "cell_type": "markdown",
   "metadata": {},
   "source": [
    "---\n",
    ">В целях оптимизации кода для получения информации о каждом датафрейме создадим функцию **check_df**"
   ]
  },
  {
   "cell_type": "code",
   "execution_count": 369,
   "metadata": {},
   "outputs": [],
   "source": [
    "def check_df(df):\n",
    "    display(df.head())\n",
    "    print('------------------------------------------------------------')\n",
    "    display(df.info())\n",
    "    print('------------------------------------------------------------')\n",
    "    print('Наименования столбцов:', df.columns)\n",
    "    print('------------------------------------------------------------')\n",
    "    display('Количество пропусков:', (df.isna().sum()))\n",
    "    print('------------------------------------------------------------')\n",
    "    display(f'Количество дубликатов: {df.duplicated().sum()}') \n",
    "    print('------------------------------------------------------------')\n",
    " \n",
    "    # проверка значений в столбце id на уникальность\n",
    "    total = len(df['id'])\n",
    "    unique = len(df['id'].unique())\n",
    "    if total - unique == 0:\n",
    "        print('Значения в столбце id уникальны')\n",
    "    else:\n",
    "        print(f'Значения в столбце id не уникальны: всего {total} значений, из них {unique} уникальных')"
   ]
  },
  {
   "cell_type": "markdown",
   "metadata": {},
   "source": [
    "---\n",
    "* **Датафрейм geo_data_0**"
   ]
  },
  {
   "cell_type": "code",
   "execution_count": 370,
   "metadata": {},
   "outputs": [
    {
     "data": {
      "text/html": [
       "<div>\n",
       "<style scoped>\n",
       "    .dataframe tbody tr th:only-of-type {\n",
       "        vertical-align: middle;\n",
       "    }\n",
       "\n",
       "    .dataframe tbody tr th {\n",
       "        vertical-align: top;\n",
       "    }\n",
       "\n",
       "    .dataframe thead th {\n",
       "        text-align: right;\n",
       "    }\n",
       "</style>\n",
       "<table border=\"1\" class=\"dataframe\">\n",
       "  <thead>\n",
       "    <tr style=\"text-align: right;\">\n",
       "      <th></th>\n",
       "      <th>id</th>\n",
       "      <th>f0</th>\n",
       "      <th>f1</th>\n",
       "      <th>f2</th>\n",
       "      <th>product</th>\n",
       "    </tr>\n",
       "  </thead>\n",
       "  <tbody>\n",
       "    <tr>\n",
       "      <th>0</th>\n",
       "      <td>txEyH</td>\n",
       "      <td>0.705745</td>\n",
       "      <td>-0.497823</td>\n",
       "      <td>1.221170</td>\n",
       "      <td>105.280062</td>\n",
       "    </tr>\n",
       "    <tr>\n",
       "      <th>1</th>\n",
       "      <td>2acmU</td>\n",
       "      <td>1.334711</td>\n",
       "      <td>-0.340164</td>\n",
       "      <td>4.365080</td>\n",
       "      <td>73.037750</td>\n",
       "    </tr>\n",
       "    <tr>\n",
       "      <th>2</th>\n",
       "      <td>409Wp</td>\n",
       "      <td>1.022732</td>\n",
       "      <td>0.151990</td>\n",
       "      <td>1.419926</td>\n",
       "      <td>85.265647</td>\n",
       "    </tr>\n",
       "    <tr>\n",
       "      <th>3</th>\n",
       "      <td>iJLyR</td>\n",
       "      <td>-0.032172</td>\n",
       "      <td>0.139033</td>\n",
       "      <td>2.978566</td>\n",
       "      <td>168.620776</td>\n",
       "    </tr>\n",
       "    <tr>\n",
       "      <th>4</th>\n",
       "      <td>Xdl7t</td>\n",
       "      <td>1.988431</td>\n",
       "      <td>0.155413</td>\n",
       "      <td>4.751769</td>\n",
       "      <td>154.036647</td>\n",
       "    </tr>\n",
       "  </tbody>\n",
       "</table>\n",
       "</div>"
      ],
      "text/plain": [
       "      id        f0        f1        f2     product\n",
       "0  txEyH  0.705745 -0.497823  1.221170  105.280062\n",
       "1  2acmU  1.334711 -0.340164  4.365080   73.037750\n",
       "2  409Wp  1.022732  0.151990  1.419926   85.265647\n",
       "3  iJLyR -0.032172  0.139033  2.978566  168.620776\n",
       "4  Xdl7t  1.988431  0.155413  4.751769  154.036647"
      ]
     },
     "metadata": {},
     "output_type": "display_data"
    },
    {
     "name": "stdout",
     "output_type": "stream",
     "text": [
      "------------------------------------------------------------\n",
      "<class 'pandas.core.frame.DataFrame'>\n",
      "RangeIndex: 100000 entries, 0 to 99999\n",
      "Data columns (total 5 columns):\n",
      " #   Column   Non-Null Count   Dtype  \n",
      "---  ------   --------------   -----  \n",
      " 0   id       100000 non-null  object \n",
      " 1   f0       100000 non-null  float64\n",
      " 2   f1       100000 non-null  float64\n",
      " 3   f2       100000 non-null  float64\n",
      " 4   product  100000 non-null  float64\n",
      "dtypes: float64(4), object(1)\n",
      "memory usage: 3.8+ MB\n"
     ]
    },
    {
     "data": {
      "text/plain": [
       "None"
      ]
     },
     "metadata": {},
     "output_type": "display_data"
    },
    {
     "name": "stdout",
     "output_type": "stream",
     "text": [
      "------------------------------------------------------------\n",
      "Наименования столбцов: Index(['id', 'f0', 'f1', 'f2', 'product'], dtype='object')\n",
      "------------------------------------------------------------\n"
     ]
    },
    {
     "data": {
      "text/plain": [
       "'Количество пропусков:'"
      ]
     },
     "metadata": {},
     "output_type": "display_data"
    },
    {
     "data": {
      "text/plain": [
       "id         0\n",
       "f0         0\n",
       "f1         0\n",
       "f2         0\n",
       "product    0\n",
       "dtype: int64"
      ]
     },
     "metadata": {},
     "output_type": "display_data"
    },
    {
     "name": "stdout",
     "output_type": "stream",
     "text": [
      "------------------------------------------------------------\n"
     ]
    },
    {
     "data": {
      "text/plain": [
       "'Количество дубликатов: 0'"
      ]
     },
     "metadata": {},
     "output_type": "display_data"
    },
    {
     "name": "stdout",
     "output_type": "stream",
     "text": [
      "------------------------------------------------------------\n",
      "Значения в столбце id не уникальны: всего 100000 значений, из них 99990 уникальных\n"
     ]
    }
   ],
   "source": [
    "check_df(geo_data_0)"
   ]
  },
  {
   "cell_type": "markdown",
   "metadata": {},
   "source": [
    "* **Датафрейм geo_data_1**"
   ]
  },
  {
   "cell_type": "code",
   "execution_count": 371,
   "metadata": {},
   "outputs": [
    {
     "data": {
      "text/html": [
       "<div>\n",
       "<style scoped>\n",
       "    .dataframe tbody tr th:only-of-type {\n",
       "        vertical-align: middle;\n",
       "    }\n",
       "\n",
       "    .dataframe tbody tr th {\n",
       "        vertical-align: top;\n",
       "    }\n",
       "\n",
       "    .dataframe thead th {\n",
       "        text-align: right;\n",
       "    }\n",
       "</style>\n",
       "<table border=\"1\" class=\"dataframe\">\n",
       "  <thead>\n",
       "    <tr style=\"text-align: right;\">\n",
       "      <th></th>\n",
       "      <th>id</th>\n",
       "      <th>f0</th>\n",
       "      <th>f1</th>\n",
       "      <th>f2</th>\n",
       "      <th>product</th>\n",
       "    </tr>\n",
       "  </thead>\n",
       "  <tbody>\n",
       "    <tr>\n",
       "      <th>0</th>\n",
       "      <td>kBEdx</td>\n",
       "      <td>-15.001348</td>\n",
       "      <td>-8.276000</td>\n",
       "      <td>-0.005876</td>\n",
       "      <td>3.179103</td>\n",
       "    </tr>\n",
       "    <tr>\n",
       "      <th>1</th>\n",
       "      <td>62mP7</td>\n",
       "      <td>14.272088</td>\n",
       "      <td>-3.475083</td>\n",
       "      <td>0.999183</td>\n",
       "      <td>26.953261</td>\n",
       "    </tr>\n",
       "    <tr>\n",
       "      <th>2</th>\n",
       "      <td>vyE1P</td>\n",
       "      <td>6.263187</td>\n",
       "      <td>-5.948386</td>\n",
       "      <td>5.001160</td>\n",
       "      <td>134.766305</td>\n",
       "    </tr>\n",
       "    <tr>\n",
       "      <th>3</th>\n",
       "      <td>KcrkZ</td>\n",
       "      <td>-13.081196</td>\n",
       "      <td>-11.506057</td>\n",
       "      <td>4.999415</td>\n",
       "      <td>137.945408</td>\n",
       "    </tr>\n",
       "    <tr>\n",
       "      <th>4</th>\n",
       "      <td>AHL4O</td>\n",
       "      <td>12.702195</td>\n",
       "      <td>-8.147433</td>\n",
       "      <td>5.004363</td>\n",
       "      <td>134.766305</td>\n",
       "    </tr>\n",
       "  </tbody>\n",
       "</table>\n",
       "</div>"
      ],
      "text/plain": [
       "      id         f0         f1        f2     product\n",
       "0  kBEdx -15.001348  -8.276000 -0.005876    3.179103\n",
       "1  62mP7  14.272088  -3.475083  0.999183   26.953261\n",
       "2  vyE1P   6.263187  -5.948386  5.001160  134.766305\n",
       "3  KcrkZ -13.081196 -11.506057  4.999415  137.945408\n",
       "4  AHL4O  12.702195  -8.147433  5.004363  134.766305"
      ]
     },
     "metadata": {},
     "output_type": "display_data"
    },
    {
     "name": "stdout",
     "output_type": "stream",
     "text": [
      "------------------------------------------------------------\n",
      "<class 'pandas.core.frame.DataFrame'>\n",
      "RangeIndex: 100000 entries, 0 to 99999\n",
      "Data columns (total 5 columns):\n",
      " #   Column   Non-Null Count   Dtype  \n",
      "---  ------   --------------   -----  \n",
      " 0   id       100000 non-null  object \n",
      " 1   f0       100000 non-null  float64\n",
      " 2   f1       100000 non-null  float64\n",
      " 3   f2       100000 non-null  float64\n",
      " 4   product  100000 non-null  float64\n",
      "dtypes: float64(4), object(1)\n",
      "memory usage: 3.8+ MB\n"
     ]
    },
    {
     "data": {
      "text/plain": [
       "None"
      ]
     },
     "metadata": {},
     "output_type": "display_data"
    },
    {
     "name": "stdout",
     "output_type": "stream",
     "text": [
      "------------------------------------------------------------\n",
      "Наименования столбцов: Index(['id', 'f0', 'f1', 'f2', 'product'], dtype='object')\n",
      "------------------------------------------------------------\n"
     ]
    },
    {
     "data": {
      "text/plain": [
       "'Количество пропусков:'"
      ]
     },
     "metadata": {},
     "output_type": "display_data"
    },
    {
     "data": {
      "text/plain": [
       "id         0\n",
       "f0         0\n",
       "f1         0\n",
       "f2         0\n",
       "product    0\n",
       "dtype: int64"
      ]
     },
     "metadata": {},
     "output_type": "display_data"
    },
    {
     "name": "stdout",
     "output_type": "stream",
     "text": [
      "------------------------------------------------------------\n"
     ]
    },
    {
     "data": {
      "text/plain": [
       "'Количество дубликатов: 0'"
      ]
     },
     "metadata": {},
     "output_type": "display_data"
    },
    {
     "name": "stdout",
     "output_type": "stream",
     "text": [
      "------------------------------------------------------------\n",
      "Значения в столбце id не уникальны: всего 100000 значений, из них 99996 уникальных\n"
     ]
    }
   ],
   "source": [
    "check_df(geo_data_1)"
   ]
  },
  {
   "cell_type": "markdown",
   "metadata": {},
   "source": [
    "* **Датафрейм geo_data_2**"
   ]
  },
  {
   "cell_type": "code",
   "execution_count": 372,
   "metadata": {},
   "outputs": [
    {
     "data": {
      "text/html": [
       "<div>\n",
       "<style scoped>\n",
       "    .dataframe tbody tr th:only-of-type {\n",
       "        vertical-align: middle;\n",
       "    }\n",
       "\n",
       "    .dataframe tbody tr th {\n",
       "        vertical-align: top;\n",
       "    }\n",
       "\n",
       "    .dataframe thead th {\n",
       "        text-align: right;\n",
       "    }\n",
       "</style>\n",
       "<table border=\"1\" class=\"dataframe\">\n",
       "  <thead>\n",
       "    <tr style=\"text-align: right;\">\n",
       "      <th></th>\n",
       "      <th>id</th>\n",
       "      <th>f0</th>\n",
       "      <th>f1</th>\n",
       "      <th>f2</th>\n",
       "      <th>product</th>\n",
       "    </tr>\n",
       "  </thead>\n",
       "  <tbody>\n",
       "    <tr>\n",
       "      <th>0</th>\n",
       "      <td>fwXo0</td>\n",
       "      <td>-1.146987</td>\n",
       "      <td>0.963328</td>\n",
       "      <td>-0.828965</td>\n",
       "      <td>27.758673</td>\n",
       "    </tr>\n",
       "    <tr>\n",
       "      <th>1</th>\n",
       "      <td>WJtFt</td>\n",
       "      <td>0.262778</td>\n",
       "      <td>0.269839</td>\n",
       "      <td>-2.530187</td>\n",
       "      <td>56.069697</td>\n",
       "    </tr>\n",
       "    <tr>\n",
       "      <th>2</th>\n",
       "      <td>ovLUW</td>\n",
       "      <td>0.194587</td>\n",
       "      <td>0.289035</td>\n",
       "      <td>-5.586433</td>\n",
       "      <td>62.871910</td>\n",
       "    </tr>\n",
       "    <tr>\n",
       "      <th>3</th>\n",
       "      <td>q6cA6</td>\n",
       "      <td>2.236060</td>\n",
       "      <td>-0.553760</td>\n",
       "      <td>0.930038</td>\n",
       "      <td>114.572842</td>\n",
       "    </tr>\n",
       "    <tr>\n",
       "      <th>4</th>\n",
       "      <td>WPMUX</td>\n",
       "      <td>-0.515993</td>\n",
       "      <td>1.716266</td>\n",
       "      <td>5.899011</td>\n",
       "      <td>149.600746</td>\n",
       "    </tr>\n",
       "  </tbody>\n",
       "</table>\n",
       "</div>"
      ],
      "text/plain": [
       "      id        f0        f1        f2     product\n",
       "0  fwXo0 -1.146987  0.963328 -0.828965   27.758673\n",
       "1  WJtFt  0.262778  0.269839 -2.530187   56.069697\n",
       "2  ovLUW  0.194587  0.289035 -5.586433   62.871910\n",
       "3  q6cA6  2.236060 -0.553760  0.930038  114.572842\n",
       "4  WPMUX -0.515993  1.716266  5.899011  149.600746"
      ]
     },
     "metadata": {},
     "output_type": "display_data"
    },
    {
     "name": "stdout",
     "output_type": "stream",
     "text": [
      "------------------------------------------------------------\n",
      "<class 'pandas.core.frame.DataFrame'>\n",
      "RangeIndex: 100000 entries, 0 to 99999\n",
      "Data columns (total 5 columns):\n",
      " #   Column   Non-Null Count   Dtype  \n",
      "---  ------   --------------   -----  \n",
      " 0   id       100000 non-null  object \n",
      " 1   f0       100000 non-null  float64\n",
      " 2   f1       100000 non-null  float64\n",
      " 3   f2       100000 non-null  float64\n",
      " 4   product  100000 non-null  float64\n",
      "dtypes: float64(4), object(1)\n",
      "memory usage: 3.8+ MB\n"
     ]
    },
    {
     "data": {
      "text/plain": [
       "None"
      ]
     },
     "metadata": {},
     "output_type": "display_data"
    },
    {
     "name": "stdout",
     "output_type": "stream",
     "text": [
      "------------------------------------------------------------\n",
      "Наименования столбцов: Index(['id', 'f0', 'f1', 'f2', 'product'], dtype='object')\n",
      "------------------------------------------------------------\n"
     ]
    },
    {
     "data": {
      "text/plain": [
       "'Количество пропусков:'"
      ]
     },
     "metadata": {},
     "output_type": "display_data"
    },
    {
     "data": {
      "text/plain": [
       "id         0\n",
       "f0         0\n",
       "f1         0\n",
       "f2         0\n",
       "product    0\n",
       "dtype: int64"
      ]
     },
     "metadata": {},
     "output_type": "display_data"
    },
    {
     "name": "stdout",
     "output_type": "stream",
     "text": [
      "------------------------------------------------------------\n"
     ]
    },
    {
     "data": {
      "text/plain": [
       "'Количество дубликатов: 0'"
      ]
     },
     "metadata": {},
     "output_type": "display_data"
    },
    {
     "name": "stdout",
     "output_type": "stream",
     "text": [
      "------------------------------------------------------------\n",
      "Значения в столбце id не уникальны: всего 100000 значений, из них 99996 уникальных\n"
     ]
    }
   ],
   "source": [
    "check_df(geo_data_2)"
   ]
  },
  {
   "cell_type": "markdown",
   "metadata": {},
   "source": [
    "---\n",
    "При изучении общей информации было выявлено, что во всех трех рассматриваемых датафреймах значения в столбце 'id' не уникальны, следовательно столбец 'id' не информативен и во всех трех датафреймах его можно удалить:"
   ]
  },
  {
   "cell_type": "code",
   "execution_count": 373,
   "metadata": {},
   "outputs": [],
   "source": [
    "# удалим столбец 'id' во всех трех датафреймах\n",
    "geo_data_0.drop('id', axis=1, inplace=True)\n",
    "geo_data_1.drop('id', axis=1, inplace=True)\n",
    "geo_data_2.drop('id', axis=1, inplace=True)"
   ]
  },
  {
   "cell_type": "code",
   "execution_count": 374,
   "metadata": {},
   "outputs": [
    {
     "data": {
      "text/html": [
       "<div>\n",
       "<style scoped>\n",
       "    .dataframe tbody tr th:only-of-type {\n",
       "        vertical-align: middle;\n",
       "    }\n",
       "\n",
       "    .dataframe tbody tr th {\n",
       "        vertical-align: top;\n",
       "    }\n",
       "\n",
       "    .dataframe thead th {\n",
       "        text-align: right;\n",
       "    }\n",
       "</style>\n",
       "<table border=\"1\" class=\"dataframe\">\n",
       "  <thead>\n",
       "    <tr style=\"text-align: right;\">\n",
       "      <th></th>\n",
       "      <th>f0</th>\n",
       "      <th>f1</th>\n",
       "      <th>f2</th>\n",
       "      <th>product</th>\n",
       "    </tr>\n",
       "  </thead>\n",
       "  <tbody>\n",
       "    <tr>\n",
       "      <th>0</th>\n",
       "      <td>0.705745</td>\n",
       "      <td>-0.497823</td>\n",
       "      <td>1.22117</td>\n",
       "      <td>105.280062</td>\n",
       "    </tr>\n",
       "  </tbody>\n",
       "</table>\n",
       "</div>"
      ],
      "text/plain": [
       "         f0        f1       f2     product\n",
       "0  0.705745 -0.497823  1.22117  105.280062"
      ]
     },
     "metadata": {},
     "output_type": "display_data"
    },
    {
     "data": {
      "text/html": [
       "<div>\n",
       "<style scoped>\n",
       "    .dataframe tbody tr th:only-of-type {\n",
       "        vertical-align: middle;\n",
       "    }\n",
       "\n",
       "    .dataframe tbody tr th {\n",
       "        vertical-align: top;\n",
       "    }\n",
       "\n",
       "    .dataframe thead th {\n",
       "        text-align: right;\n",
       "    }\n",
       "</style>\n",
       "<table border=\"1\" class=\"dataframe\">\n",
       "  <thead>\n",
       "    <tr style=\"text-align: right;\">\n",
       "      <th></th>\n",
       "      <th>f0</th>\n",
       "      <th>f1</th>\n",
       "      <th>f2</th>\n",
       "      <th>product</th>\n",
       "    </tr>\n",
       "  </thead>\n",
       "  <tbody>\n",
       "    <tr>\n",
       "      <th>0</th>\n",
       "      <td>-15.001348</td>\n",
       "      <td>-8.276</td>\n",
       "      <td>-0.005876</td>\n",
       "      <td>3.179103</td>\n",
       "    </tr>\n",
       "  </tbody>\n",
       "</table>\n",
       "</div>"
      ],
      "text/plain": [
       "          f0     f1        f2   product\n",
       "0 -15.001348 -8.276 -0.005876  3.179103"
      ]
     },
     "metadata": {},
     "output_type": "display_data"
    },
    {
     "data": {
      "text/html": [
       "<div>\n",
       "<style scoped>\n",
       "    .dataframe tbody tr th:only-of-type {\n",
       "        vertical-align: middle;\n",
       "    }\n",
       "\n",
       "    .dataframe tbody tr th {\n",
       "        vertical-align: top;\n",
       "    }\n",
       "\n",
       "    .dataframe thead th {\n",
       "        text-align: right;\n",
       "    }\n",
       "</style>\n",
       "<table border=\"1\" class=\"dataframe\">\n",
       "  <thead>\n",
       "    <tr style=\"text-align: right;\">\n",
       "      <th></th>\n",
       "      <th>f0</th>\n",
       "      <th>f1</th>\n",
       "      <th>f2</th>\n",
       "      <th>product</th>\n",
       "    </tr>\n",
       "  </thead>\n",
       "  <tbody>\n",
       "    <tr>\n",
       "      <th>0</th>\n",
       "      <td>-1.146987</td>\n",
       "      <td>0.963328</td>\n",
       "      <td>-0.828965</td>\n",
       "      <td>27.758673</td>\n",
       "    </tr>\n",
       "  </tbody>\n",
       "</table>\n",
       "</div>"
      ],
      "text/plain": [
       "         f0        f1        f2    product\n",
       "0 -1.146987  0.963328 -0.828965  27.758673"
      ]
     },
     "metadata": {},
     "output_type": "display_data"
    }
   ],
   "source": [
    "# выполним проверку\n",
    "display(geo_data_0.head(1))\n",
    "display(geo_data_1.head(1))\n",
    "display(geo_data_2.head(1))"
   ]
  },
  {
   "cell_type": "markdown",
   "metadata": {},
   "source": [
    "---\n",
    "После удаления столбца 'id' проведем проверку на наличие дубликатов во всех трех датафреймах :"
   ]
  },
  {
   "cell_type": "code",
   "execution_count": 375,
   "metadata": {},
   "outputs": [
    {
     "name": "stdout",
     "output_type": "stream",
     "text": [
      "Количество дубликатов в датафрейме geo_data_0: 0\n",
      "Количество дубликатов в датафрейме geo_data_0: 0\n",
      "Количество дубликатов в датафрейме geo_data_0: 0\n"
     ]
    }
   ],
   "source": [
    "print(f'Количество дубликатов в датафрейме geo_data_0: {geo_data_0.duplicated().sum()}')\n",
    "print(f'Количество дубликатов в датафрейме geo_data_0: {geo_data_1.duplicated().sum()}') \n",
    "print(f'Количество дубликатов в датафрейме geo_data_0: {geo_data_2.duplicated().sum()}') "
   ]
  },
  {
   "cell_type": "markdown",
   "metadata": {},
   "source": [
    "---\n",
    "**Вывод:**\n",
    "\n",
    "В каждом из трех рассматриваемых датафреймах содержится: 100 000 строк / 5 столбцов.\n",
    "    \n",
    "Каждый датафрейм = регион, каждая строка = месторождение, каждый столбец = параметр, который содержит информацию о месторождении.  \n",
    "Описание каждой скважины включает в себя следующие параметры:\n",
    "    \n",
    "* *id* — уникальный идентификатор скважины\n",
    "* *f0, f1, f2* — три признака точек\n",
    "* *product* — объём запасов в скважине (тыс. баррелей)\n",
    "\n",
    "---\n",
    "* пропущенных значений в данных нет \n",
    "* с типами данных все в порядке  \n",
    "* названия столбцов указаны в корректном формате\n",
    "\n",
    "При изучении общей информации было выявлено, что во всех трех рассматриваемых датафреймах значения в столбце 'id' не уникальны, т.к. эти данные не информативны, на этом этапе мы удалили столбец 'id' в каждом из датафреймов, после чего провели повторную проверку на наличие дубликатов."
   ]
  },
  {
   "cell_type": "markdown",
   "metadata": {},
   "source": [
    "### Иcследовательский анализ данных\n",
    "\n",
    "На этом этапе для каждого из датафреймов мы рассмотрим основные статистические характеристики признаков, построим графики распределения и диаграммы размаха (все признаки - количественные), определим выбросы."
   ]
  },
  {
   "cell_type": "markdown",
   "metadata": {},
   "source": [
    ">Для построения графиков (график распределения + диаграмма размаха) создадим функцию **all_graphs**  "
   ]
  },
  {
   "cell_type": "code",
   "execution_count": 376,
   "metadata": {},
   "outputs": [],
   "source": [
    "def all_graphs (df, name, number_bins):\n",
    "    \n",
    "    cols_list = df.columns.tolist()\n",
    "    \n",
    "    plt.figure(figsize=(20, 4))\n",
    "    plt.suptitle(f'Графики распределения для датафрейма {name}', fontsize = 15, fontweight='bold')\n",
    "\n",
    "    i=1\n",
    "\n",
    "    for t in cols_list:\n",
    "        plt.subplot(1, 4, i)\n",
    "        plt.hist(df[t], edgecolor='black', bins=number_bins)\n",
    "        plt.title(f'{t}', fontsize=15)\n",
    "        plt.ylabel(f'{t}', fontsize=14)\n",
    "        i = i+1\n",
    "    \n",
    "    plt.tight_layout()\n",
    "    plt.show() \n",
    "        \n",
    "    plt.figure(figsize=(20, 4))\n",
    "    plt.suptitle(f'Диаграммы размаха для датафрейма {name}', fontsize = 15, fontweight='bold')\n",
    "\n",
    "    i=1\n",
    "\n",
    "    for t in cols_list:\n",
    "        plt.subplot(1, 4, i)\n",
    "        df.boxplot(column=t, fontsize=14, vert=False)\n",
    "        plt.title(f'{t}', fontsize=15)\n",
    "        plt.ylabel(f'{t}', fontsize=14)\n",
    "        i = i+1\n",
    "        \n",
    "    plt.tight_layout()\n",
    "    plt.show()"
   ]
  },
  {
   "cell_type": "markdown",
   "metadata": {},
   "source": [
    ">Для удобства работы с выбросами создадим функцию **outliers_index**  \n",
    "(функция вычисляет индексы строк с выбросами с использованием метода межквартильного размаха)\n",
    "\n",
    "* на входе функция принимает название датасета (df), название столбца (column)\n",
    "* результат работы функции - список с индексами строк, которые содержат выбросы"
   ]
  },
  {
   "cell_type": "code",
   "execution_count": 377,
   "metadata": {},
   "outputs": [],
   "source": [
    "def outliers_index(df, column):\n",
    "    \n",
    "    q25 = np.array(df[column].quantile(0.25))\n",
    "    q75 = np.array(df[column].quantile(0.75))\n",
    "\n",
    "    iqr = q75 - q25\n",
    "    lower_bound = q25 - 1.5 * iqr\n",
    "    upper_bound = q75 + 1.5 * iqr\n",
    "    \n",
    "    delete_index = []\n",
    "    for index_value, value in zip(df[column].index, df[column]):\n",
    "        if value < lower_bound or value > upper_bound:\n",
    "            delete_index.append(index_value)\n",
    "    \n",
    "    return delete_index"
   ]
  },
  {
   "cell_type": "markdown",
   "metadata": {},
   "source": [
    "---\n",
    "* **Датафрейм geo_data_0**"
   ]
  },
  {
   "cell_type": "code",
   "execution_count": 378,
   "metadata": {},
   "outputs": [
    {
     "data": {
      "text/html": [
       "<div>\n",
       "<style scoped>\n",
       "    .dataframe tbody tr th:only-of-type {\n",
       "        vertical-align: middle;\n",
       "    }\n",
       "\n",
       "    .dataframe tbody tr th {\n",
       "        vertical-align: top;\n",
       "    }\n",
       "\n",
       "    .dataframe thead th {\n",
       "        text-align: right;\n",
       "    }\n",
       "</style>\n",
       "<table border=\"1\" class=\"dataframe\">\n",
       "  <thead>\n",
       "    <tr style=\"text-align: right;\">\n",
       "      <th></th>\n",
       "      <th>count</th>\n",
       "      <th>mean</th>\n",
       "      <th>std</th>\n",
       "      <th>min</th>\n",
       "      <th>25%</th>\n",
       "      <th>50%</th>\n",
       "      <th>75%</th>\n",
       "      <th>max</th>\n",
       "    </tr>\n",
       "  </thead>\n",
       "  <tbody>\n",
       "    <tr>\n",
       "      <th>f0</th>\n",
       "      <td>100000.0</td>\n",
       "      <td>0.500419</td>\n",
       "      <td>0.871832</td>\n",
       "      <td>-1.408605</td>\n",
       "      <td>-0.072580</td>\n",
       "      <td>0.502360</td>\n",
       "      <td>1.073581</td>\n",
       "      <td>2.362331</td>\n",
       "    </tr>\n",
       "    <tr>\n",
       "      <th>f1</th>\n",
       "      <td>100000.0</td>\n",
       "      <td>0.250143</td>\n",
       "      <td>0.504433</td>\n",
       "      <td>-0.848218</td>\n",
       "      <td>-0.200881</td>\n",
       "      <td>0.250252</td>\n",
       "      <td>0.700646</td>\n",
       "      <td>1.343769</td>\n",
       "    </tr>\n",
       "    <tr>\n",
       "      <th>f2</th>\n",
       "      <td>100000.0</td>\n",
       "      <td>2.502647</td>\n",
       "      <td>3.248248</td>\n",
       "      <td>-12.088328</td>\n",
       "      <td>0.287748</td>\n",
       "      <td>2.515969</td>\n",
       "      <td>4.715088</td>\n",
       "      <td>16.003790</td>\n",
       "    </tr>\n",
       "    <tr>\n",
       "      <th>product</th>\n",
       "      <td>100000.0</td>\n",
       "      <td>92.500000</td>\n",
       "      <td>44.288691</td>\n",
       "      <td>0.000000</td>\n",
       "      <td>56.497507</td>\n",
       "      <td>91.849972</td>\n",
       "      <td>128.564089</td>\n",
       "      <td>185.364347</td>\n",
       "    </tr>\n",
       "  </tbody>\n",
       "</table>\n",
       "</div>"
      ],
      "text/plain": [
       "            count       mean        std        min        25%        50%  \\\n",
       "f0       100000.0   0.500419   0.871832  -1.408605  -0.072580   0.502360   \n",
       "f1       100000.0   0.250143   0.504433  -0.848218  -0.200881   0.250252   \n",
       "f2       100000.0   2.502647   3.248248 -12.088328   0.287748   2.515969   \n",
       "product  100000.0  92.500000  44.288691   0.000000  56.497507  91.849972   \n",
       "\n",
       "                75%         max  \n",
       "f0         1.073581    2.362331  \n",
       "f1         0.700646    1.343769  \n",
       "f2         4.715088   16.003790  \n",
       "product  128.564089  185.364347  "
      ]
     },
     "execution_count": 378,
     "metadata": {},
     "output_type": "execute_result"
    }
   ],
   "source": [
    "geo_data_0.describe().T"
   ]
  },
  {
   "cell_type": "code",
   "execution_count": 379,
   "metadata": {},
   "outputs": [
    {
     "data": {
      "image/png": "[encoded data removed]",
      "text/plain": [
       "<Figure size 1440x288 with 4 Axes>"
      ]
     },
     "metadata": {
      "needs_background": "light"
     },
     "output_type": "display_data"
    },
    {
     "data": {
      "image/png": "[encoded data removed]",
      "text/plain": [
       "<Figure size 1440x288 with 4 Axes>"
      ]
     },
     "metadata": {
      "needs_background": "light"
     },
     "output_type": "display_data"
    }
   ],
   "source": [
    "all_graphs (geo_data_0, 'geo_data_0', 5)"
   ]
  },
  {
   "cell_type": "markdown",
   "metadata": {},
   "source": [
    "Распределение всех показателей - близкое к нормальному.\n",
    "\n",
    "Выбросы присутствуют только в столбце 'f2'.\n",
    "\n",
    "При помощи функции outliers_index определим количество строк с выбросами, а также найдем процент, который строки с выбросами составляют от всего датафрейма geo_data_0."
   ]
  },
  {
   "cell_type": "code",
   "execution_count": 380,
   "metadata": {},
   "outputs": [
    {
     "name": "stdout",
     "output_type": "stream",
     "text": [
      "Определение выбросов с помощью метода межквартильного размаха\n",
      "--------------------------------------------------------------\n",
      "Всего cтрок с выбросами: 506\n",
      "Строки с выбросами составляют от всего датафрейма: 0.51 %\n"
     ]
    }
   ],
   "source": [
    "print('Определение выбросов с помощью метода межквартильного размаха')\n",
    "print('--------------------------------------------------------------')\n",
    "print('Всего cтрок с выбросами:', len(outliers_index(geo_data_0, 'f2')))\n",
    "print('Строки с выбросами составляют от всего датафрейма:', \\\n",
    "      round((len(outliers_index(geo_data_0, 'f2')) / len(geo_data_0))*100,2), '%')"
   ]
  },
  {
   "cell_type": "markdown",
   "metadata": {},
   "source": [
    "---\n",
    "Определим выбросы в столбце 'f2' с помощью диаграммы размаха, а также найдем процент, который строки с выбросами составляют от всего датафрейма geo_data_0."
   ]
  },
  {
   "cell_type": "code",
   "execution_count": 381,
   "metadata": {},
   "outputs": [
    {
     "data": {
      "text/plain": [
       "(-6.5, 11.5)"
      ]
     },
     "execution_count": 381,
     "metadata": {},
     "output_type": "execute_result"
    },
    {
     "data": {
      "image/png": "[encoded data removed]",
      "text/plain": [
       "<Figure size 432x288 with 1 Axes>"
      ]
     },
     "metadata": {
      "needs_background": "light"
     },
     "output_type": "display_data"
    }
   ],
   "source": [
    "# зададим ограничения, чтобы отсечь все выбросы и определить верхнюю и нижнюю границы отсечения данных\n",
    "geo_data_0.boxplot(column='f2')\n",
    "plt.title('Диаграмма размаха для параметра f2 / на интервале (-6.5 ; 11.5)', fontsize=15)\n",
    "plt.ylabel('f2')\n",
    "plt.ylim(-6.5, 11.5)"
   ]
  },
  {
   "cell_type": "code",
   "execution_count": 382,
   "metadata": {},
   "outputs": [
    {
     "name": "stdout",
     "output_type": "stream",
     "text": [
      "Определение выбросов с помощью диаграммы размаха\n",
      "--------------------------------------------------------------\n",
      "Всего cтрок с выбросами: 452\n",
      "Строки с выбросами составляют от всего датафрейма: 0.45 %\n"
     ]
    }
   ],
   "source": [
    "print('Определение выбросов с помощью диаграммы размаха')\n",
    "print('--------------------------------------------------------------')\n",
    "print('Всего cтрок с выбросами:', len(geo_data_0.query('f2 > 11.5 or f2 <-6.5')))\n",
    "print('Строки с выбросами составляют от всего датафрейма:', \\\n",
    "      round((len(geo_data_0.query('f2 > 11.5 or f2 <-6.5')) / len(geo_data_0))*100,2), '%')"
   ]
  },
  {
   "cell_type": "markdown",
   "metadata": {},
   "source": [
    "---\n",
    "* **Датафрейм geo_data_1**"
   ]
  },
  {
   "cell_type": "code",
   "execution_count": 383,
   "metadata": {},
   "outputs": [
    {
     "data": {
      "text/html": [
       "<div>\n",
       "<style scoped>\n",
       "    .dataframe tbody tr th:only-of-type {\n",
       "        vertical-align: middle;\n",
       "    }\n",
       "\n",
       "    .dataframe tbody tr th {\n",
       "        vertical-align: top;\n",
       "    }\n",
       "\n",
       "    .dataframe thead th {\n",
       "        text-align: right;\n",
       "    }\n",
       "</style>\n",
       "<table border=\"1\" class=\"dataframe\">\n",
       "  <thead>\n",
       "    <tr style=\"text-align: right;\">\n",
       "      <th></th>\n",
       "      <th>count</th>\n",
       "      <th>mean</th>\n",
       "      <th>std</th>\n",
       "      <th>min</th>\n",
       "      <th>25%</th>\n",
       "      <th>50%</th>\n",
       "      <th>75%</th>\n",
       "      <th>max</th>\n",
       "    </tr>\n",
       "  </thead>\n",
       "  <tbody>\n",
       "    <tr>\n",
       "      <th>f0</th>\n",
       "      <td>100000.0</td>\n",
       "      <td>1.141296</td>\n",
       "      <td>8.965932</td>\n",
       "      <td>-31.609576</td>\n",
       "      <td>-6.298551</td>\n",
       "      <td>1.153055</td>\n",
       "      <td>8.621015</td>\n",
       "      <td>29.421755</td>\n",
       "    </tr>\n",
       "    <tr>\n",
       "      <th>f1</th>\n",
       "      <td>100000.0</td>\n",
       "      <td>-4.796579</td>\n",
       "      <td>5.119872</td>\n",
       "      <td>-26.358598</td>\n",
       "      <td>-8.267985</td>\n",
       "      <td>-4.813172</td>\n",
       "      <td>-1.332816</td>\n",
       "      <td>18.734063</td>\n",
       "    </tr>\n",
       "    <tr>\n",
       "      <th>f2</th>\n",
       "      <td>100000.0</td>\n",
       "      <td>2.494541</td>\n",
       "      <td>1.703572</td>\n",
       "      <td>-0.018144</td>\n",
       "      <td>1.000021</td>\n",
       "      <td>2.011479</td>\n",
       "      <td>3.999904</td>\n",
       "      <td>5.019721</td>\n",
       "    </tr>\n",
       "    <tr>\n",
       "      <th>product</th>\n",
       "      <td>100000.0</td>\n",
       "      <td>68.825000</td>\n",
       "      <td>45.944423</td>\n",
       "      <td>0.000000</td>\n",
       "      <td>26.953261</td>\n",
       "      <td>57.085625</td>\n",
       "      <td>107.813044</td>\n",
       "      <td>137.945408</td>\n",
       "    </tr>\n",
       "  </tbody>\n",
       "</table>\n",
       "</div>"
      ],
      "text/plain": [
       "            count       mean        std        min        25%        50%  \\\n",
       "f0       100000.0   1.141296   8.965932 -31.609576  -6.298551   1.153055   \n",
       "f1       100000.0  -4.796579   5.119872 -26.358598  -8.267985  -4.813172   \n",
       "f2       100000.0   2.494541   1.703572  -0.018144   1.000021   2.011479   \n",
       "product  100000.0  68.825000  45.944423   0.000000  26.953261  57.085625   \n",
       "\n",
       "                75%         max  \n",
       "f0         8.621015   29.421755  \n",
       "f1        -1.332816   18.734063  \n",
       "f2         3.999904    5.019721  \n",
       "product  107.813044  137.945408  "
      ]
     },
     "execution_count": 383,
     "metadata": {},
     "output_type": "execute_result"
    }
   ],
   "source": [
    "geo_data_1.describe().T"
   ]
  },
  {
   "cell_type": "code",
   "execution_count": 384,
   "metadata": {},
   "outputs": [
    {
     "data": {
      "image/png": "[encoded data removed]",
      "text/plain": [
       "<Figure size 1440x288 with 4 Axes>"
      ]
     },
     "metadata": {
      "needs_background": "light"
     },
     "output_type": "display_data"
    },
    {
     "data": {
      "image/png": "[encoded data removed]",
      "text/plain": [
       "<Figure size 1440x288 with 4 Axes>"
      ]
     },
     "metadata": {
      "needs_background": "light"
     },
     "output_type": "display_data"
    }
   ],
   "source": [
    "all_graphs (geo_data_1, 'geo_data_1', 5)"
   ]
  },
  {
   "cell_type": "markdown",
   "metadata": {},
   "source": [
    "Распределение всех показателей, кроме 'product' - близкое к нормальному.\n",
    "\n",
    "Выбросы присутствуют только в столбце 'f1'.\n",
    "\n",
    "При помощи функции outliers_index определим количество строк с выбросами, а также найдем процент, который строки с выбросами составляют от всего датафрейма geo_data_1."
   ]
  },
  {
   "cell_type": "code",
   "execution_count": 385,
   "metadata": {},
   "outputs": [
    {
     "name": "stdout",
     "output_type": "stream",
     "text": [
      "Определение выбросов с помощью метода межквартильного размаха\n",
      "--------------------------------------------------------------\n",
      "Всего cтрок с выбросами: 636\n",
      "Строки с выбросами составляют от всего датафрейма: 0.64 %\n"
     ]
    }
   ],
   "source": [
    "print('Определение выбросов с помощью метода межквартильного размаха')\n",
    "print('--------------------------------------------------------------')\n",
    "print('Всего cтрок с выбросами:', len(outliers_index(geo_data_1, 'f1')))\n",
    "print('Строки с выбросами составляют от всего датафрейма:', \\\n",
    "      round((len(outliers_index(geo_data_1, 'f1')) / len(geo_data_1))*100,2), '%')"
   ]
  },
  {
   "cell_type": "markdown",
   "metadata": {},
   "source": [
    "---\n",
    "Определим выбросы в столбце 'f1' с помощью диаграммы размаха, а также найдем процент, который строки с выбросами составляют от всего датафрейма geo_data_1."
   ]
  },
  {
   "cell_type": "code",
   "execution_count": 386,
   "metadata": {},
   "outputs": [
    {
     "data": {
      "text/plain": [
       "(-19.0, 9.5)"
      ]
     },
     "execution_count": 386,
     "metadata": {},
     "output_type": "execute_result"
    },
    {
     "data": {
      "image/png": "[encoded data removed]",
      "text/plain": [
       "<Figure size 432x288 with 1 Axes>"
      ]
     },
     "metadata": {
      "needs_background": "light"
     },
     "output_type": "display_data"
    }
   ],
   "source": [
    "# зададим ограничения, чтобы отсечь все выбросы и определить верхнюю и нижнюю границы отсечения данных\n",
    "geo_data_1.boxplot(column='f1')\n",
    "plt.title('Диаграмма размаха для параметра f1 / на интервале (-19 ; 9.5)', fontsize=15)\n",
    "plt.ylabel('f1')\n",
    "plt.ylim(-19, 9.5)"
   ]
  },
  {
   "cell_type": "code",
   "execution_count": 387,
   "metadata": {},
   "outputs": [
    {
     "name": "stdout",
     "output_type": "stream",
     "text": [
      "Определение выбросов с помощью диаграммы размаха\n",
      "--------------------------------------------------------------\n",
      "Всего cтрок с выбросами: 500\n",
      "Строки с выбросами составляют от всего датафрейма: 0.5 %\n"
     ]
    }
   ],
   "source": [
    "print('Определение выбросов с помощью диаграммы размаха')\n",
    "print('--------------------------------------------------------------')\n",
    "print('Всего cтрок с выбросами:', len(geo_data_1.query('f1 > 9.5 or f1 < -19')))\n",
    "print('Строки с выбросами составляют от всего датафрейма:', \\\n",
    "      round((len(geo_data_1.query('f1 > 9.5 or f1 < -19')) / len(geo_data_1))*100,2), '%')"
   ]
  },
  {
   "cell_type": "markdown",
   "metadata": {},
   "source": [
    "---\n",
    "* **Датафрейм geo_data_2**"
   ]
  },
  {
   "cell_type": "code",
   "execution_count": 388,
   "metadata": {},
   "outputs": [
    {
     "data": {
      "text/html": [
       "<div>\n",
       "<style scoped>\n",
       "    .dataframe tbody tr th:only-of-type {\n",
       "        vertical-align: middle;\n",
       "    }\n",
       "\n",
       "    .dataframe tbody tr th {\n",
       "        vertical-align: top;\n",
       "    }\n",
       "\n",
       "    .dataframe thead th {\n",
       "        text-align: right;\n",
       "    }\n",
       "</style>\n",
       "<table border=\"1\" class=\"dataframe\">\n",
       "  <thead>\n",
       "    <tr style=\"text-align: right;\">\n",
       "      <th></th>\n",
       "      <th>count</th>\n",
       "      <th>mean</th>\n",
       "      <th>std</th>\n",
       "      <th>min</th>\n",
       "      <th>25%</th>\n",
       "      <th>50%</th>\n",
       "      <th>75%</th>\n",
       "      <th>max</th>\n",
       "    </tr>\n",
       "  </thead>\n",
       "  <tbody>\n",
       "    <tr>\n",
       "      <th>f0</th>\n",
       "      <td>100000.0</td>\n",
       "      <td>0.002023</td>\n",
       "      <td>1.732045</td>\n",
       "      <td>-8.760004</td>\n",
       "      <td>-1.162288</td>\n",
       "      <td>0.009424</td>\n",
       "      <td>1.158535</td>\n",
       "      <td>7.238262</td>\n",
       "    </tr>\n",
       "    <tr>\n",
       "      <th>f1</th>\n",
       "      <td>100000.0</td>\n",
       "      <td>-0.002081</td>\n",
       "      <td>1.730417</td>\n",
       "      <td>-7.084020</td>\n",
       "      <td>-1.174820</td>\n",
       "      <td>-0.009482</td>\n",
       "      <td>1.163678</td>\n",
       "      <td>7.844801</td>\n",
       "    </tr>\n",
       "    <tr>\n",
       "      <th>f2</th>\n",
       "      <td>100000.0</td>\n",
       "      <td>2.495128</td>\n",
       "      <td>3.473445</td>\n",
       "      <td>-11.970335</td>\n",
       "      <td>0.130359</td>\n",
       "      <td>2.484236</td>\n",
       "      <td>4.858794</td>\n",
       "      <td>16.739402</td>\n",
       "    </tr>\n",
       "    <tr>\n",
       "      <th>product</th>\n",
       "      <td>100000.0</td>\n",
       "      <td>95.000000</td>\n",
       "      <td>44.749921</td>\n",
       "      <td>0.000000</td>\n",
       "      <td>59.450441</td>\n",
       "      <td>94.925613</td>\n",
       "      <td>130.595027</td>\n",
       "      <td>190.029838</td>\n",
       "    </tr>\n",
       "  </tbody>\n",
       "</table>\n",
       "</div>"
      ],
      "text/plain": [
       "            count       mean        std        min        25%        50%  \\\n",
       "f0       100000.0   0.002023   1.732045  -8.760004  -1.162288   0.009424   \n",
       "f1       100000.0  -0.002081   1.730417  -7.084020  -1.174820  -0.009482   \n",
       "f2       100000.0   2.495128   3.473445 -11.970335   0.130359   2.484236   \n",
       "product  100000.0  95.000000  44.749921   0.000000  59.450441  94.925613   \n",
       "\n",
       "                75%         max  \n",
       "f0         1.158535    7.238262  \n",
       "f1         1.163678    7.844801  \n",
       "f2         4.858794   16.739402  \n",
       "product  130.595027  190.029838  "
      ]
     },
     "execution_count": 388,
     "metadata": {},
     "output_type": "execute_result"
    }
   ],
   "source": [
    "geo_data_2.describe().T"
   ]
  },
  {
   "cell_type": "code",
   "execution_count": 389,
   "metadata": {},
   "outputs": [
    {
     "data": {
      "image/png": "[encoded data removed]",
      "text/plain": [
       "<Figure size 1440x288 with 4 Axes>"
      ]
     },
     "metadata": {
      "needs_background": "light"
     },
     "output_type": "display_data"
    },
    {
     "data": {
      "image/png": "[encoded data removed]",
      "text/plain": [
       "<Figure size 1440x288 with 4 Axes>"
      ]
     },
     "metadata": {
      "needs_background": "light"
     },
     "output_type": "display_data"
    }
   ],
   "source": [
    "all_graphs (geo_data_2, 'geo_data_2', 5)"
   ]
  },
  {
   "cell_type": "markdown",
   "metadata": {},
   "source": [
    "Распределение всех показателей - близкое к нормальному.\n",
    "\n",
    "Выбросы присутствуют в столбцах 'f0', 'f1','f2'.\n",
    "\n",
    "При помощи функции outliers_index определим количество строк с выбросами, а также найдем процент, который строки с выбросами составляют от всего датафрейма geo_data_2."
   ]
  },
  {
   "cell_type": "code",
   "execution_count": 390,
   "metadata": {},
   "outputs": [],
   "source": [
    "len_1 = len(outliers_index(geo_data_2, 'f0'))\n",
    "len_2 = len(outliers_index(geo_data_2, 'f1'))\n",
    "len_3 = len(outliers_index(geo_data_2, 'f2'))\n",
    "len_sum = len_1 + len_2 + len_3"
   ]
  },
  {
   "cell_type": "code",
   "execution_count": 391,
   "metadata": {},
   "outputs": [
    {
     "name": "stdout",
     "output_type": "stream",
     "text": [
      "Количество выбросов в столбце f0: 733\n",
      "Количество выбросов в столбце f1: 684\n",
      "Количество выбросов в столбце f2: 584\n",
      "------------------------------------------------------------\n",
      "Всего cтрок с выбросами до 2001 / некоторые строки с выбросами могут пересекаться\n",
      "Строки с выбросами составляют от всего датафрейма до 2.0 %\n"
     ]
    }
   ],
   "source": [
    "print('Количество выбросов в столбце f0:', len(outliers_index(geo_data_2, 'f0')))\n",
    "print('Количество выбросов в столбце f1:', len(outliers_index(geo_data_2, 'f1')))\n",
    "print('Количество выбросов в столбце f2:', len(outliers_index(geo_data_2, 'f2')))\n",
    "print('------------------------------------------------------------')\n",
    "print(f'Всего cтрок с выбросами до {len_sum} / некоторые строки с выбросами могут пересекаться')\n",
    "print('Строки с выбросами составляют от всего датафрейма до', round((len_sum / len(geo_data_2))*100,2), '%')"
   ]
  },
  {
   "cell_type": "markdown",
   "metadata": {},
   "source": [
    "---\n",
    "Определим выбросы в столбцах 'f0', 'f1','f2' с помощью диаграммы размаха, а также найдем процент, который строки с выбросами составляют от всего датафрейма geo_data_2."
   ]
  },
  {
   "cell_type": "code",
   "execution_count": 392,
   "metadata": {},
   "outputs": [
    {
     "data": {
      "text/plain": [
       "(-7.0, 12.0)"
      ]
     },
     "execution_count": 392,
     "metadata": {},
     "output_type": "execute_result"
    },
    {
     "data": {
      "image/png": "[encoded data removed]",
      "text/plain": [
       "<Figure size 1080x288 with 3 Axes>"
      ]
     },
     "metadata": {
      "needs_background": "light"
     },
     "output_type": "display_data"
    }
   ],
   "source": [
    "plt.figure(figsize=(15, 4))\n",
    "plt.suptitle(f'Диаграммы размаха для столбцов f0, f1, f2 c ограничениями', fontsize=15)\n",
    "\n",
    "plt.subplot(1, 3, 1)\n",
    "geo_data_2.boxplot(column='f0', fontsize=14)\n",
    "plt.title('f0', fontsize=15)\n",
    "plt.ylim(-4.7, 4.7)\n",
    "\n",
    "plt.subplot(1, 3, 2)\n",
    "geo_data_2.boxplot(column='f1', fontsize=14)\n",
    "plt.title('f1', fontsize=15)\n",
    "plt.ylim(-4.7, 4.7)\n",
    "\n",
    "plt.subplot(1, 3, 3)\n",
    "geo_data_2.boxplot(column='f2', fontsize=14)\n",
    "plt.title('f2', fontsize=15)\n",
    "plt.ylim(-7, 12)"
   ]
  },
  {
   "cell_type": "code",
   "execution_count": 393,
   "metadata": {},
   "outputs": [],
   "source": [
    "len_1_ = len(geo_data_2.query('f0 > 4.7 or f0 < -4.7'))\n",
    "len_2_ = len(geo_data_2.query('f1 > 4.7 or f1 < -4.7'))\n",
    "len_3_ = len(geo_data_2.query('f2 > 12 or f2 < -7'))\n",
    "len_sum_ = len_1_ + len_2_ + len_3_"
   ]
  },
  {
   "cell_type": "code",
   "execution_count": 394,
   "metadata": {},
   "outputs": [
    {
     "name": "stdout",
     "output_type": "stream",
     "text": [
      "Определение выбросов с помощью диаграммы размаха\n",
      "--------------------------------------------------------------\n",
      "Количество выбросов в столбце f0: 667\n",
      "Количество выбросов в столбце f1: 663\n",
      "Количество выбросов в столбце f2: 567\n",
      "------------------------------------------------------------\n",
      "Всего cтрок с выбросами до 1897 / некоторые строки с выбросами могут пересекаться\n",
      "Строки с выбросами составляют от всего датафрейма до 1.9 %\n"
     ]
    }
   ],
   "source": [
    "print('Определение выбросов с помощью диаграммы размаха')\n",
    "print('--------------------------------------------------------------')\n",
    "print('Количество выбросов в столбце f0:', len_1_)\n",
    "print('Количество выбросов в столбце f1:', len_2_)\n",
    "print('Количество выбросов в столбце f2:', len_3_)\n",
    "print('------------------------------------------------------------')\n",
    "print(f'Всего cтрок с выбросами до {len_sum_} / некоторые строки с выбросами могут пересекаться')\n",
    "print('Строки с выбросами составляют от всего датафрейма до', round((len_sum_ / len(geo_data_2))*100,2), '%')"
   ]
  },
  {
   "cell_type": "markdown",
   "metadata": {},
   "source": [
    "---\n",
    "**Результаты работы с выбросами:**\n",
    "\n",
    "В данных были выявлены следующие выбросы:\n",
    "* в датафрейме geo_data_0 - в столбце 'f2'\n",
    "* в датафрейме geo_data_1 - в столбце 'f1'\n",
    "* в датафрейме geo_data_2 - в столбцах 'f0', 'f1','f2'\n",
    "\n",
    "Мы определили выбросы двумя способами: c помощью метода межквартильного размаха и диаграммы размаха, нашли количество строк с выбросами и процент, который строки с выбросами составляют от всего датафрейма.\n",
    "\n",
    "Результаты определения выбросов с помощью *метода межквартильного размаха*:\n",
    "\n",
    "* geo_data_0 / 'f2': 506 cтрок с выбросами (0.51 %)\n",
    "* geo_data_1 / 'f1': 636 cтрок с выбросами (0.64 %)\n",
    "* geo_data_2 / 'f0', 'f1','f2': соответственно 733, 684, 584 cтрок - общее количество строк с выбросами до 2001 (2 %)\n",
    "\n",
    "Результаты определения выбросов с помощью *диаграммы размаха*:\n",
    "\n",
    "* geo_data_0 / 'f2': 452 cтрок с выбросами (0.45 %)\n",
    "* geo_data_1 / 'f1': 500 cтрок с выбросами (0.5 %)\n",
    "* geo_data_2 / 'f0', 'f1','f2': соответственно 667, 663, 567 cтрок - общее количество строк с выбросами до 1897 (1.9 %)\n",
    "\n",
    "Количество строк с выбросами, отпределенное разными способами, отличается несущественно.\n",
    "\n",
    "---\n",
    "Метод работы с выбросами уникален для каждого проекта и зависит от конкретной задачи и доступных данных. Отметим, что в данной ситуации для определения выбросов мы будем использовать метод межквартильного размаха.\n",
    "\n",
    "Согласно условиям задачи, все данные синтетические: детали контрактов и характеристики месторождений не разглашаются, таким образом, мы не можем говорить о реалистичности значений показателей и, соответственно, не можем определить, будут ли являться значения \"выбросами\" в реальной жизни.\n",
    "\n",
    "Следовательно, *в условиях засекреченности данных для определения выбросов оптимальным решением будет использовать метод межквартильного размаха*.\n"
   ]
  },
  {
   "cell_type": "markdown",
   "metadata": {},
   "source": [
    "---\n",
    "**Вывод:**\n",
    "    \n",
    "Для каждого из датафреймов мы рассмотрели основные статистические характеристики признаков, построили графики распределения и диаграммы размаха (все признаки - количественные), определили выбросы с помощью двух методов: метода межквартильного размаха и диаграммы размаха.\n",
    "\n",
    "Отметим, что метод межквартильного размаха был выбран, поскольку, согласно условиям задачи, все данные синтетические: детали контрактов и характеристики месторождений не разглашаются, следовательно, мы не можем говорить о реалистичности значений показателей и не можем определить, будут ли являться значения \"выбросами\" в реальной жизни.\n",
    "\n",
    "---\n",
    "Во всех трех рассматриваемых датафреймах в данных есть выбросы.  \n",
    "Используя метод межквартильного размаха, мы выявили следующее:\n",
    "\n",
    "* в датафрейме geo_data_0 есть выбросы в столбце 'f2' / количество cтрок с выбросами: 506 (0.51 %)\n",
    "* в датафрейме geo_data_1 есть выбросы в столбце 'f1' / количество cтрок с выбросами: 636 (0.64 %)\n",
    "* в датафрейме geo_data_2 есть выбросы в столбцах 'f0', 'f1','f2' / количество cтрок с выбросами: до 2001 (2 %)\n",
    "\n",
    "---\n",
    "Таким образом, если мы удалим все строки с выбросами, данные сильно не пострадают."
   ]
  },
  {
   "cell_type": "markdown",
   "metadata": {},
   "source": [
    "### Подготовка данных"
   ]
  },
  {
   "cell_type": "markdown",
   "metadata": {},
   "source": [
    "Перед обучением модели удалим выбросы, поскольку они искажают данные, приводят к неверным результатам о тенденциях и связях, что в конечном итоге может привести к снижению качества модели обучения."
   ]
  },
  {
   "cell_type": "code",
   "execution_count": 395,
   "metadata": {},
   "outputs": [],
   "source": [
    "outliers_data = [(geo_data_0,'f2'), (geo_data_1,'f1'), (geo_data_2,'f0'), (geo_data_2,'f1'), (geo_data_2,'f2')]"
   ]
  },
  {
   "cell_type": "code",
   "execution_count": 396,
   "metadata": {},
   "outputs": [],
   "source": [
    "for df,column in outliers_data:\n",
    "    indexes = outliers_index(df,column)\n",
    "    df.drop(indexes, axis = 0, inplace = True)"
   ]
  },
  {
   "cell_type": "code",
   "execution_count": 397,
   "metadata": {},
   "outputs": [],
   "source": [
    "geo_data_0 = geo_data_0.reset_index(drop = True)\n",
    "geo_data_1 = geo_data_1.reset_index(drop = True)\n",
    "geo_data_2 = geo_data_2.reset_index(drop = True)"
   ]
  },
  {
   "cell_type": "code",
   "execution_count": 398,
   "metadata": {},
   "outputs": [
    {
     "name": "stdout",
     "output_type": "stream",
     "text": [
      "В датафрейме geo_data_0 осталось 99494 строк / удалили 506 строк с выбросами (0.51)%\n",
      "В датафрейме geo_data_1 осталось 99364 строк / удалили 636 строк с выбросами (0.64)%\n",
      "В датафрейме geo_data_1 осталось 98003 строк / удалили 1997 строк с выбросами (2.04)%\n"
     ]
    }
   ],
   "source": [
    "# проведем проверку / выведем результаты на экран\n",
    "\n",
    "del_0 = 100000 - len(geo_data_0)\n",
    "pct_del_0 = round(((100000 - len(geo_data_0)) / len(geo_data_0))*100,2)\n",
    "del_1 = 100000 - len(geo_data_1)\n",
    "pct_del_1 = round(((100000 - len(geo_data_1)) / len(geo_data_1))*100,2)\n",
    "del_2 = 100000 - len(geo_data_2)\n",
    "pct_del_2 = round(((100000 - len(geo_data_2)) / len(geo_data_2))*100,2)\n",
    "\n",
    "print(f'В датафрейме geo_data_0 осталось {len(geo_data_0)} строк / удалили {del_0} строк с выбросами ({pct_del_0})%')\n",
    "print(f'В датафрейме geo_data_1 осталось {len(geo_data_1)} строк / удалили {del_1} строк с выбросами ({pct_del_1})%')\n",
    "print(f'В датафрейме geo_data_1 осталось {len(geo_data_2)} строк / удалили {del_2} строк с выбросами ({pct_del_2})%')"
   ]
  },
  {
   "cell_type": "markdown",
   "metadata": {},
   "source": [
    "---\n",
    "**Вывод:**\n",
    "    \n",
    "На этом этапе мы во всех трех рассматриваемых датафреймах избавились от выбросов (которые были определены с помощью метода межквартильного размаха):\n",
    "\n",
    "* в датафрейме geo_data_0 осталось 99494 строк / удалили 506 строк с выбросами (0.51)%\n",
    "* в датафрейме geo_data_1 осталось 99364 строк / удалили 636 строк с выбросами (0.64)%\n",
    "* в датафрейме geo_data_1 осталось 98003 строк / удалили 1997 строк с выбросами (2.04)%"
   ]
  },
  {
   "cell_type": "markdown",
   "metadata": {},
   "source": [
    "### Корреляционный анализ\n",
    "\n",
    "Для того, чтобы выяснить, нет ли утечки целевого признака, а также лучше понять наши данные, проведем корреляционный анализ.  \n",
    "Так как не все признаки имеют нормальное распределение, будем использовать модуль phik."
   ]
  },
  {
   "cell_type": "markdown",
   "metadata": {},
   "source": [
    "* **Датафрейм geo_data_0**"
   ]
  },
  {
   "cell_type": "code",
   "execution_count": 399,
   "metadata": {},
   "outputs": [
    {
     "name": "stdout",
     "output_type": "stream",
     "text": [
      "interval columns not set, guessing: ['f0', 'f1', 'f2', 'product']\n"
     ]
    },
    {
     "data": {
      "image/png": "[encoded data removed]",
      "text/plain": [
       "<Figure size 576x432 with 2 Axes>"
      ]
     },
     "metadata": {
      "needs_background": "light"
     },
     "output_type": "display_data"
    }
   ],
   "source": [
    "phik_overview_0 = geo_data_0.phik_matrix()\n",
    "\n",
    "plot_correlation_matrix(\n",
    "    phik_overview_0.values,\n",
    "    x_labels=phik_overview_0.columns,\n",
    "    y_labels=phik_overview_0.index,\n",
    "    vmin=0, vmax=1, color_map='Blues',\n",
    "    title='Матрица корреляции для датафрейма geo_data_0',\n",
    "    figsize=(8, 6)\n",
    ")\n",
    "plt.show()"
   ]
  },
  {
   "cell_type": "markdown",
   "metadata": {},
   "source": [
    "Сильную корреляцию мы видим между признаками: 'f1' / 'f0' = 0.76  \n",
    "Умеренная корреляция между признаками: 'product' / 'f2' = 0.48\n",
    "\n",
    "Остальные признаки коррелируют между собой слабо."
   ]
  },
  {
   "cell_type": "markdown",
   "metadata": {},
   "source": [
    "* **Датафрейм geo_data_1**"
   ]
  },
  {
   "cell_type": "code",
   "execution_count": 400,
   "metadata": {},
   "outputs": [
    {
     "name": "stdout",
     "output_type": "stream",
     "text": [
      "interval columns not set, guessing: ['f0', 'f1', 'f2', 'product']\n"
     ]
    },
    {
     "data": {
      "image/png": "[encoded data removed]",
      "text/plain": [
       "<Figure size 576x432 with 2 Axes>"
      ]
     },
     "metadata": {
      "needs_background": "light"
     },
     "output_type": "display_data"
    }
   ],
   "source": [
    "phik_overview_1 = geo_data_1.phik_matrix()\n",
    "\n",
    "plot_correlation_matrix(\n",
    "    phik_overview_1.values,\n",
    "    x_labels=phik_overview_1.columns,\n",
    "    y_labels=phik_overview_1.index,\n",
    "    vmin=0, vmax=1, color_map='Blues',\n",
    "    title='Матрица корреляции для датафрейма geo_data_1',\n",
    "    figsize=(8, 6)\n",
    ")\n",
    "plt.show()"
   ]
  },
  {
   "cell_type": "markdown",
   "metadata": {},
   "source": [
    "Сильная корреляция между признаками: 'product' / 'f2' = 0.98  \n",
    "Средняя корреляция между признаками: 'product' / 'f0' = 0.63 \n",
    "    \n",
    "Остальные признаки коррелируют между собой слабо."
   ]
  },
  {
   "cell_type": "markdown",
   "metadata": {},
   "source": [
    "* **Датафрейм geo_data_2**"
   ]
  },
  {
   "cell_type": "code",
   "execution_count": 401,
   "metadata": {},
   "outputs": [
    {
     "name": "stdout",
     "output_type": "stream",
     "text": [
      "interval columns not set, guessing: ['f0', 'f1', 'f2', 'product']\n"
     ]
    },
    {
     "data": {
      "image/png": "[encoded data removed]",
      "text/plain": [
       "<Figure size 576x432 with 2 Axes>"
      ]
     },
     "metadata": {
      "needs_background": "light"
     },
     "output_type": "display_data"
    }
   ],
   "source": [
    "phik_overview_2 = geo_data_2.phik_matrix()\n",
    "\n",
    "plot_correlation_matrix(\n",
    "    phik_overview_2.values,\n",
    "    x_labels=phik_overview_2.columns,\n",
    "    y_labels=phik_overview_2.index,\n",
    "    vmin=0, vmax=1, color_map='Blues',\n",
    "    title='Матрица корреляции для датафрейма geo_data_2',\n",
    "    figsize=(8, 6)\n",
    ")\n",
    "plt.show()"
   ]
  },
  {
   "cell_type": "markdown",
   "metadata": {},
   "source": [
    "Умеренная корреляция между признаками: 'product' / 'f2' = 0.44  \n",
    "Остальные признаки коррелируют между собой слабо."
   ]
  },
  {
   "cell_type": "markdown",
   "metadata": {},
   "source": [
    "---\n",
    "Признак 'product' - целевой, удалить признаки, которые коррелируют с целевым мы не можем.  \n",
    "Сильная корреляция есть между нецелевыми признаками 'f1' / 'f0' (0.76) в датафрейме geo_data_0\n",
    "\n",
    "На текущий момент оставим датафреймы без изменений. Далее будем отталкиваться от результата, который получим на моделях."
   ]
  },
  {
   "cell_type": "markdown",
   "metadata": {},
   "source": [
    "**Вывод**\n",
    "\n",
    "На данном этапе был проведен корреляционный анализ с использованием модуля phik (т.к. не все признаки имеют нормальное распределение).  \n",
    "Были пострены матрицы корреляции для всех трех рассматриваемых датафреймов.\n",
    "\n",
    "* geo_data_0\n",
    "\n",
    "Сильную корреляцию мы видим между признаками: 'f1' / 'f0' = 0.76  \n",
    "Умеренная корреляция между признаками: 'product' / 'f2' = 0.48\n",
    "\n",
    "* geo_data_1\n",
    "\n",
    "Сильная корреляция между признаками: 'product' / 'f2' = 0.98  \n",
    "Средняя корреляция между признаками: 'product' / 'f0' = 0.63\n",
    "\n",
    "* *geo_data_2\n",
    "\n",
    "Умеренная корреляция между признаками: 'product' / 'f2' = 0.44  \n",
    "\n",
    "---\n",
    "Признак 'product' - целевой, удалить признаки, которые коррелируют с целевым мы не можем.  \n",
    "Отметим, что сильная корреляция есть между нецелевыми признаками 'f1' / 'f0' (0.76) в датафрейме geo_data_0\n",
    "\n",
    "На текущий момент оставим датафреймы без изменений. Далее будем отталкиваться от результата, который получим на моделях."
   ]
  },
  {
   "cell_type": "markdown",
   "metadata": {},
   "source": [
    "---\n",
    "**ПРОМЕЖУТОЧНЫЙ ВЫВОД ПО ШАГУ \"ЗАГРУЗКА И ПОДГОТОВКА ДАННЫХ\"**"
   ]
  },
  {
   "cell_type": "markdown",
   "metadata": {},
   "source": [
    "CSV-файлы с данными мы считали с помощью библиотеки pandas и сохранили в датафреймы *geo_data_0*, *geo_data_1*, *geo_data_2* - данные по нулевому, первому и второму региону соответственно (назвали таким образом для удобства).\n",
    "\n",
    "---\n",
    "В каждом из трех рассматриваемых датафреймах содержится: 100 000 строк / 5 столбцов.\n",
    "    \n",
    "Каждый датафрейм = регион, каждая строка = месторождение, каждый столбец = параметр с информацией о месторождении.  \n",
    "Описание каждой скважины включает в себя следующие параметры:\n",
    "    \n",
    "* *id* — уникальный идентификатор скважины\n",
    "* *f0, f1, f2* — три признака точек\n",
    "* *product* — объём запасов в скважине (тыс. баррелей)\n",
    "\n",
    "Во всех трех рассматриваемых датафреймах:\n",
    "\n",
    "* пропущенных значений в данных нет \n",
    "* с типами данных все в порядке  \n",
    "* названия столбцов указаны в корректном формате\n",
    "\n",
    "При изучении общей информации было выявлено, что во всех трех рассматриваемых датафреймах значения в столбце 'id' не уникальны, т.к. эти данные не информативны, на этом этапе мы удалили столбец 'id' в каждом из датафреймов, после чего провели повторную проверку на наличие дубликатов.\n",
    "\n",
    "---\n",
    "Для каждого из датафреймов мы рассмотрели основные статистические характеристики признаков, построили графики распределения и диаграммы размаха (все признаки - количественные), определили выбросы с помощью двух методов: метода межквартильного размаха и диаграммы размаха.\n",
    "\n",
    "Отметим, что метод межквартильного размаха был выбран, поскольку, согласно условиям задачи, все данные синтетические: детали контрактов и характеристики месторождений не разглашаются, следовательно, мы не можем говорить о реалистичности значений показателей и не можем определить, будут ли являться значения \"выбросами\" в реальной жизни.\n",
    "\n",
    "Во всех трех рассматриваемых датафреймах в данных есть выбросы.  \n",
    "Используя *метод межквартильного размаха*, мы выявили следующее:\n",
    "\n",
    "* в датафрейме geo_data_0 есть выбросы в столбце 'f2' / количество cтрок с выбросами: 506 (0.51 %)\n",
    "* в датафрейме geo_data_1 есть выбросы в столбце 'f1' / количество cтрок с выбросами: 636 (0.64 %)\n",
    "* в датафрейме geo_data_2 есть выбросы в столбцах 'f0', 'f1','f2' / количество cтрок с выбросами: до 2001 (2 %)\n",
    "\n",
    "Количество строк с выбросами незначительное, следовательно в результате удаления выбросов данные не пострадают.\n",
    "\n",
    "---\n",
    "Перед обучением модели оптимально избавиться от выбросов, поскольку они искажают данные, приводят к неверным результатам о тенденциях и связях, что в конечном итоге может привести к снижению качества модели обучения.\n",
    "\n",
    "Во всех трех рассматриваемых датафреймах мы *избавились от выбросов* (которые были определены с помощью метода межквартильного размаха).\n",
    "\n",
    "---\n",
    "Был проведен *корреляционный анализ с использованием модуля phik* (т.к. не все признаки имеют нормальное распределение).  \n",
    "Были пострены матрицы корреляции для всех трех рассматриваемых датафреймов.\n",
    "\n",
    "* geo_data_0\n",
    "\n",
    "Сильную корреляцию мы видим между признаками: 'f1' / 'f0' = 0.76  \n",
    "Умеренная корреляция между признаками: 'product' / 'f2' = 0.48\n",
    "\n",
    "* geo_data_1\n",
    "\n",
    "Сильная корреляция между признаками: 'product' / 'f2' = 0.98  \n",
    "Средняя корреляция между признаками: 'product' / 'f0' = 0.63\n",
    "\n",
    "* *geo_data_2\n",
    "\n",
    "Умеренная корреляция между признаками: 'product' / 'f2' = 0.44  \n",
    "\n",
    "Признак 'product' - целевой, удалить признаки, которые коррелируют с целевым мы не можем.  \n",
    "Отметим, что сильная корреляция есть между нецелевыми признаками 'f1' / 'f0' (0.76) в датафрейме geo_data_0\n",
    "\n",
    "На этом этапе все датафреймы оставили без изменений. Далее будем отталкиваться от результата, который получим на моделях."
   ]
  },
  {
   "cell_type": "markdown",
   "metadata": {},
   "source": [
    "## Обучение и проверка модели"
   ]
  },
  {
   "cell_type": "markdown",
   "metadata": {},
   "source": [
    "На этом этапе проведем обучение и проверку модели для каждого региона:\n",
    "* разобъем данные на обучающую и валидационную выборки в соотношении 75:25\n",
    "* обучим модель и сделаем предсказания на валидационной выборке (результаты сохраним)\n",
    "* выведем на экран средний запас предсказанного сырья и RMSE модели для каждого региона\n",
    "* проведем анализ результатов"
   ]
  },
  {
   "cell_type": "markdown",
   "metadata": {},
   "source": [
    ">Для обучения модели и прогнозирования создадим функцию **model**  \n",
    "\n",
    "* на входе функция принимает принимает датасет (df)\n",
    "* результат работы функции - предсказания (predicted_valid) и правильные ответы (target_valid) на валидационной выборке, средний запас предсказанного сырья (predicted_valid_mean) и RMSE модели (rmse)"
   ]
  },
  {
   "cell_type": "code",
   "execution_count": 402,
   "metadata": {},
   "outputs": [],
   "source": [
    "def line_model(df):\n",
    "    # зададим целевой признак и подготовим данные\n",
    "    target = df['product']\n",
    "    features = df.drop(['product'], axis=1)\n",
    "    \n",
    "    # разбьём данные на обучающую и валидационную выборки в соотношении 75:25\n",
    "    features_train, features_valid, target_train,target_valid = \\\n",
    "    train_test_split(features, target, test_size=0.25, random_state=RANDOM_STATE)\n",
    "    \n",
    "    # инициируем модели линейной регрессии\n",
    "    model = LinearRegression()\n",
    "    # обучим модель\n",
    "    model.fit(features_train, target_train)\n",
    "    # сделаем прогнозы\n",
    "    predicted_valid = model.predict(features_valid)\n",
    "    \n",
    "    # расчет метрики rmse\n",
    "    rmse = np.sqrt(mean_squared_error(target_valid, predicted_valid))\n",
    "    \n",
    "    # расчет среднего запаса сырья\n",
    "    predicted_valid_mean = predicted_valid.sum()/len(predicted_valid)\n",
    "    \n",
    "    return target_valid, predicted_valid, rmse, predicted_valid_mean"
   ]
  },
  {
   "cell_type": "markdown",
   "metadata": {},
   "source": [
    "С помощью функции line_model для каждого региона получим средний объем запасов и RMSE модели."
   ]
  },
  {
   "cell_type": "code",
   "execution_count": 403,
   "metadata": {},
   "outputs": [],
   "source": [
    "target_valid_0, predicted_valid_0, rmse_0, predicted_valid_mean_0 = line_model(geo_data_0)\n",
    "target_valid_1, predicted_valid_1, rmse_1, predicted_valid_mean_1 = line_model(geo_data_1)\n",
    "target_valid_2, predicted_valid_2, rmse_2, predicted_valid_mean_2 = line_model(geo_data_2)"
   ]
  },
  {
   "cell_type": "code",
   "execution_count": 404,
   "metadata": {},
   "outputs": [
    {
     "name": "stdout",
     "output_type": "stream",
     "text": [
      "Нулевой регион / данные датасета geo_data_0\n",
      "средний объем запасов: 92.35\n",
      "RMSE модели: 37.82\n",
      "------------------------------------------------------------\n",
      "Первый регион / данные датасета geo_data_1\n",
      "средний объем запасов: 68.55\n",
      "RMSE модели: 0.89\n",
      "------------------------------------------------------------\n",
      "Второй регион / данные датасета geo_data_2\n",
      "средний объем запасов: 94.95\n",
      "RMSE модели: 40.13\n"
     ]
    }
   ],
   "source": [
    "print('Нулевой регион / данные датасета geo_data_0')\n",
    "print(f'средний объем запасов: {round(predicted_valid_mean_0,2)}')\n",
    "print(f'RMSE модели: {round(rmse_0,2)}')\n",
    "print('------------------------------------------------------------')\n",
    "print('Первый регион / данные датасета geo_data_1')\n",
    "print(f'средний объем запасов: {round(predicted_valid_mean_1,2)}')\n",
    "print(f'RMSE модели: {round(rmse_1,2)}')\n",
    "print('------------------------------------------------------------')\n",
    "print('Второй регион / данные датасета geo_data_2')\n",
    "print(f'средний объем запасов: {round(predicted_valid_mean_2,2)}')\n",
    "print(f'RMSE модели: {round(rmse_2,2)}')"
   ]
  },
  {
   "cell_type": "markdown",
   "metadata": {},
   "source": [
    "---\n",
    "**ПРОМЕЖУТОЧНЫЙ ВЫВОД ПО ШАГУ \"ОБУЧЕНИЕ И ПРОВЕРКА МОДЕЛИ\"**"
   ]
  },
  {
   "cell_type": "markdown",
   "metadata": {},
   "source": [
    "На этом этапе для каждого региона обучили и проверили модель (с помощью метрики RMSE), рассчитали средний запас предсказанного сырья. \n",
    "\n",
    "Было выявлено следующее:  \n",
    "* *самая маленькая среднеквадратическая ошибка (RMSE) - в первом регионе*  \n",
    "* *самый большой средний объем запасов - во втором регионе*"
   ]
  },
  {
   "cell_type": "code",
   "execution_count": 405,
   "metadata": {},
   "outputs": [
    {
     "name": "stdout",
     "output_type": "stream",
     "text": [
      "Нулевой регион / данные датасета geo_data_0\n",
      "на втором месте по среднему объему запасов (средний объем запасов = 92.35)\n",
      "на втором месте по значению среднеквадратической ошибки (RMSE модели = 37.82)\n",
      "------------------------------------------------------------\n",
      "Первый регион / данные датасета geo_data_1\n",
      "на последнем месте по среднему объему запасов (средний объем запасов = 68.55)\n",
      "cамая низкая среднеквадратическая ошибка (RMSE модели = 0.89)\n",
      "------------------------------------------------------------\n",
      "Второй регион / данные датасета geo_data_2\n",
      "на первом месте по среднему объему запасов (средний объем запасов = 94.95)\n",
      "самая высокая среднеквадратическая ошибка (RMSE модели = 40.13)\n"
     ]
    }
   ],
   "source": [
    "print('Нулевой регион / данные датасета geo_data_0')\n",
    "print(f'на втором месте по среднему объему запасов (средний объем запасов = {round(predicted_valid_mean_0,2)})')\n",
    "print(f'на втором месте по значению среднеквадратической ошибки (RMSE модели = {round(rmse_0,2)})')\n",
    "print('------------------------------------------------------------')\n",
    "print('Первый регион / данные датасета geo_data_1')\n",
    "print(f'на последнем месте по среднему объему запасов (средний объем запасов = {round(predicted_valid_mean_1,2)})')\n",
    "print(f'cамая низкая среднеквадратическая ошибка (RMSE модели = {round(rmse_1,2)})')\n",
    "print('------------------------------------------------------------')\n",
    "print('Второй регион / данные датасета geo_data_2')\n",
    "print(f'на первом месте по среднему объему запасов (средний объем запасов = {round(predicted_valid_mean_2,2)})')\n",
    "print(f'самая высокая среднеквадратическая ошибка (RMSE модели = {round(rmse_2,2)})')"
   ]
  },
  {
   "cell_type": "markdown",
   "metadata": {},
   "source": [
    "## Подготовка к расчёту прибыли"
   ]
  },
  {
   "cell_type": "markdown",
   "metadata": {},
   "source": [
    "### Ключевые значения для расчётов"
   ]
  },
  {
   "cell_type": "markdown",
   "metadata": {},
   "source": [
    "Cохраним в отдельных переменных ключевые значения для расчётов.  \n",
    "\n",
    "---\n",
    "Из условий задачи нам известно следующее:\n",
    "\n",
    "* при разведке региона исследуют 500 точек"
   ]
  },
  {
   "cell_type": "code",
   "execution_count": 406,
   "metadata": {},
   "outputs": [],
   "source": [
    "POINTS = 500"
   ]
  },
  {
   "cell_type": "markdown",
   "metadata": {},
   "source": [
    "* из всех исследуемых точек с помощью машинного обучения выбирают 200 лучших для разработки"
   ]
  },
  {
   "cell_type": "code",
   "execution_count": 407,
   "metadata": {},
   "outputs": [],
   "source": [
    "BEST_POINTS = 200"
   ]
  },
  {
   "cell_type": "markdown",
   "metadata": {},
   "source": [
    "* бюджет на разработку скважин в регионе — 10 млрд руб"
   ]
  },
  {
   "cell_type": "code",
   "execution_count": 408,
   "metadata": {},
   "outputs": [],
   "source": [
    "BUDGET = 10*(10**9)"
   ]
  },
  {
   "cell_type": "markdown",
   "metadata": {},
   "source": [
    "* при нынешних ценах один баррель сырья приносит 450 руб дохода\n",
    "* доход с каждой единицы продукта составляет 450 тыс. руб, поскольку объём указан в тысячах баррелей"
   ]
  },
  {
   "cell_type": "code",
   "execution_count": 409,
   "metadata": {},
   "outputs": [],
   "source": [
    "BARREL_INCOME = 450\n",
    "PRODUCT_INCOME = 450000    "
   ]
  },
  {
   "cell_type": "markdown",
   "metadata": {},
   "source": [
    "* после оценки рисков нужно оставить лишь те регионы, в которых вероятность убытков меньше 2.5%  \n",
    "(cреди них выбирают регион с наибольшей средней прибылью)"
   ]
  },
  {
   "cell_type": "code",
   "execution_count": 410,
   "metadata": {},
   "outputs": [],
   "source": [
    "LOSS_THRESHOLD = 2.5"
   ]
  },
  {
   "cell_type": "markdown",
   "metadata": {},
   "source": [
    "### Расчет 'точки безубыточности'\n",
    "\n",
    "* **Рассчитаем достаточный объем добычи сырья для безубыточной разработки новой скважины ('точку безубыточности')**"
   ]
  },
  {
   "cell_type": "code",
   "execution_count": 411,
   "metadata": {},
   "outputs": [
    {
     "name": "stdout",
     "output_type": "stream",
     "text": [
      "Достаточный объем добычи сырья для безубыточной разработки новой скважины = 111111.11 барр. или 111.11 ед.продукта (тыс.барр.)\n"
     ]
    }
   ],
   "source": [
    "non_loss_point_barr = BUDGET / BEST_POINTS / BARREL_INCOME\n",
    "non_loss_point_prod = BUDGET / BEST_POINTS / PRODUCT_INCOME\n",
    "\n",
    "print(f'Достаточный объем добычи сырья для безубыточной разработки новой скважины = {round(non_loss_point_barr,2)} барр. \\\n",
    "или {round(non_loss_point_prod,2)} ед.продукта (тыс.барр.)')"
   ]
  },
  {
   "cell_type": "markdown",
   "metadata": {},
   "source": [
    "* **Сравниим достаточный объем добычи сырья для безубыточной разработки новой скважины со средним запасом в каждом регионе.**\n",
    "\n",
    "Рассчитаем по каждому региону отклонение среднего объема добычи сырья от 'точки безубыточности'."
   ]
  },
  {
   "cell_type": "code",
   "execution_count": 412,
   "metadata": {},
   "outputs": [
    {
     "name": "stdout",
     "output_type": "stream",
     "text": [
      "Отклонение среднего объема добычи сырья от точки безубыточности в нулевом регионе:\n",
      "в баррелях -18760.56\n",
      "в единицах продукта -18.76\n",
      "------------------------------------------------------------\n",
      "Отклонение среднего объема добычи сырья от точки безубыточности в первом регионе:\n",
      "в баррелях -42561.63\n",
      "в единицах продукта -42.56\n",
      "------------------------------------------------------------\n",
      "Отклонение среднего объема добычи сырья от точки безубыточности во втором регионе:\n",
      "в баррелях -16159.33\n",
      "в единицах продукта -16.16\n"
     ]
    }
   ],
   "source": [
    "print('Отклонение среднего объема добычи сырья от точки безубыточности в нулевом регионе:')\n",
    "print(f'в баррелях {round(predicted_valid_mean_0*1000 - non_loss_point_barr,2)}')\n",
    "print(f'в единицах продукта {round(predicted_valid_mean_0 - non_loss_point_prod,2)}')\n",
    "print('------------------------------------------------------------')\n",
    "print('Отклонение среднего объема добычи сырья от точки безубыточности в первом регионе:')\n",
    "print(f'в баррелях {round(predicted_valid_mean_1*1000 - non_loss_point_barr,2)}')\n",
    "print(f'в единицах продукта {round(predicted_valid_mean_1 - non_loss_point_prod,2)}')\n",
    "print('------------------------------------------------------------')\n",
    "print('Отклонение среднего объема добычи сырья от точки безубыточности во втором регионе:')\n",
    "print(f'в баррелях {round(predicted_valid_mean_2*1000 - non_loss_point_barr,2)}')\n",
    "print(f'в единицах продукта {round(predicted_valid_mean_2 - non_loss_point_prod,2)}')"
   ]
  },
  {
   "cell_type": "markdown",
   "metadata": {},
   "source": [
    "---\n",
    "Итак, в каждом из трёх рассматриваемых регионов средний запас сырья скважины меньше достаточного объема добычи сырья для безубыточной разработки новой скважины: "
   ]
  },
  {
   "cell_type": "code",
   "execution_count": 413,
   "metadata": {},
   "outputs": [
    {
     "name": "stdout",
     "output_type": "stream",
     "text": [
      "В нулевом регионе средний объема добычи сырья меньше точки безубыточности на 18.76 ед. продукта (тыс. баррелей)\n",
      "В первом регионе средний объема добычи сырья меньше точки безубыточности на 42.56 ед. продукта (тыс. баррелей)\n",
      "Во втором регионе средний объема добычи сырья меньше точки безубыточности на 16.16 ед. продукта (тыс. баррелей)\n"
     ]
    }
   ],
   "source": [
    "print(f'В нулевом регионе средний объема добычи сырья меньше точки безубыточности на \\\n",
    "{abs(round(predicted_valid_mean_0 - non_loss_point_prod,2))} ед. продукта (тыс. баррелей)')\n",
    "\n",
    "print(f'В первом регионе средний объема добычи сырья меньше точки безубыточности на \\\n",
    "{abs(round(predicted_valid_mean_1 - non_loss_point_prod,2))} ед. продукта (тыс. баррелей)')\n",
    "\n",
    "print(f'Во втором регионе средний объема добычи сырья меньше точки безубыточности на \\\n",
    "{abs(round(predicted_valid_mean_2 - non_loss_point_prod,2))} ед. продукта (тыс. баррелей)')"
   ]
  },
  {
   "cell_type": "markdown",
   "metadata": {},
   "source": [
    "Таким образом, можно отметить особенно высокий риск разработок в первом регионе (самое большое отклонение от 'точки безубыточности')."
   ]
  },
  {
   "cell_type": "markdown",
   "metadata": {},
   "source": [
    "---\n",
    "**ПРОМЕЖУТОЧНЫЙ ВЫВОД ПО ШАГУ \"ПОДГОТОВКА К РАСЧЕТУ ПРИБЫЛИ\"**"
   ]
  },
  {
   "cell_type": "markdown",
   "metadata": {},
   "source": [
    "Все ключевые значения для расчётов, известные из условий задачи, мы сохранили в отдельных переменных.\n",
    "\n",
    "---\n",
    "На этом этапе мы рассчитали 'точку безубыточности' - достаточный объем добычи сырья для безубыточной разработки новой скважины, который составляет 111111.11 барр. или 111.11 ед.продукта (тыс.барр.)."
   ]
  },
  {
   "cell_type": "code",
   "execution_count": 414,
   "metadata": {},
   "outputs": [
    {
     "name": "stdout",
     "output_type": "stream",
     "text": [
      "В нулевом регионе средний объема добычи сырья меньше точки безубыточности на 18.76 ед. продукта (тыс. баррелей)\n",
      "В первом регионе средний объема добычи сырья меньше точки безубыточности на 42.56 ед. продукта (тыс. баррелей)\n",
      "Во втором регионе средний объема добычи сырья меньше точки безубыточности на 16.16 ед. продукта (тыс. баррелей)\n"
     ]
    }
   ],
   "source": [
    "print(f'В нулевом регионе средний объема добычи сырья меньше точки безубыточности на \\\n",
    "{abs(round(predicted_valid_mean_0 - non_loss_point_prod,2))} ед. продукта (тыс. баррелей)')\n",
    "\n",
    "print(f'В первом регионе средний объема добычи сырья меньше точки безубыточности на \\\n",
    "{abs(round(predicted_valid_mean_1 - non_loss_point_prod,2))} ед. продукта (тыс. баррелей)')\n",
    "\n",
    "print(f'Во втором регионе средний объема добычи сырья меньше точки безубыточности на \\\n",
    "{abs(round(predicted_valid_mean_2 - non_loss_point_prod,2))} ед. продукта (тыс. баррелей)')"
   ]
  },
  {
   "cell_type": "markdown",
   "metadata": {},
   "source": [
    "Таким образом, можно отметить *особенно высокий риск разработок в первом регионе* (самое большое отклонение от 'точки безубыточности'). "
   ]
  },
  {
   "cell_type": "markdown",
   "metadata": {},
   "source": [
    "## Расчёт прибыли и рисков "
   ]
  },
  {
   "cell_type": "markdown",
   "metadata": {},
   "source": [
    "Приведем целевые и прогнозные значения по всем регионам к одному типу:"
   ]
  },
  {
   "cell_type": "code",
   "execution_count": 415,
   "metadata": {},
   "outputs": [],
   "source": [
    "target_valid_0 = target_valid_0.reset_index(drop=True)\n",
    "target_valid_1 = target_valid_1.reset_index(drop=True)\n",
    "target_valid_2 = target_valid_2.reset_index(drop=True)"
   ]
  },
  {
   "cell_type": "code",
   "execution_count": 416,
   "metadata": {},
   "outputs": [],
   "source": [
    "predicted_valid_0 = pd.Series(predicted_valid_0)\n",
    "predicted_valid_1 = pd.Series(predicted_valid_1)\n",
    "predicted_valid_2 = pd.Series(predicted_valid_2)"
   ]
  },
  {
   "cell_type": "markdown",
   "metadata": {},
   "source": [
    ">Для расчёта прибыли создадим функцию **total_income**  \n",
    "(фактическая выручка с 200 лучших по прогнозу скважин минус инвестиции)\n",
    "\n",
    "* на входе функция принимает отобранные скважины (target) и предсказания (predicted)\n",
    "* результат работы функции - прибыль (income)"
   ]
  },
  {
   "cell_type": "code",
   "execution_count": 417,
   "metadata": {},
   "outputs": [],
   "source": [
    "def total_income(target, predicted):\n",
    "    \n",
    "    prob_sort = predicted.sort_values(ascending=False)\n",
    "    selected = target[prob_sort.index][:BEST_POINTS]\n",
    "    income = PRODUCT_INCOME * selected.sum() - BUDGET\n",
    "    \n",
    "    return income"
   ]
  },
  {
   "cell_type": "markdown",
   "metadata": {},
   "source": [
    ">Для получения основных расчётных параметров с помощью техники Bootstrap создадим функцию **calculate_profit_bootstrap**  \n",
    "\n",
    "* на входе функция принимает правильные ответы (target) и предсказания (predicted) \n",
    "* результат работы функции - средняя прибыль 200 лучших месторождений региона (values_mean), границы 95% доверительного интервала для средней прибыли 200 лучших месторождений (lower, upper) и вероятность убытков (loss_probability)"
   ]
  },
  {
   "cell_type": "code",
   "execution_count": 418,
   "metadata": {},
   "outputs": [],
   "source": [
    "def calculate_profit_bootstrap(target, predicted):\n",
    "    \n",
    "    state = np.random.RandomState(12345)\n",
    "    values = []\n",
    "    \n",
    "    for i in range(1000):\n",
    "        target_subsample = target.sample(n=POINTS, replace=True, random_state=state)\n",
    "        pred_subsumple = predicted[target_subsample.index]\n",
    "\n",
    "        values.append(total_income(target_subsample, pred_subsumple))\n",
    "    \n",
    "    values = pd.Series(values)\n",
    "    values_mean = values.mean()\n",
    "    lower = values.quantile((1 - 0.95) / 2)\n",
    "    upper = values.quantile((1 + 0.95) / 2)\n",
    "    loss_probability = round((values < 0).mean() * 100, 2)\n",
    "    \n",
    "    values_mean = round(values_mean,2)\n",
    "    lower = round(lower,2)\n",
    "    upper = round(upper,2)\n",
    "    \n",
    "    return values_mean, lower, upper, loss_probability"
   ]
  },
  {
   "cell_type": "markdown",
   "metadata": {},
   "source": [
    "Для трёх рассматривемых регионов с помощью функций *calculate_profit_bootstrap* и *total_income* рассчитаем следующие показатели: среднюю прибыль 200 лучших месторождений, 95% доверительный интервал для средней прибыли 200 лучших месторождений, вероятность убытков. "
   ]
  },
  {
   "cell_type": "code",
   "execution_count": 419,
   "metadata": {},
   "outputs": [],
   "source": [
    "values_mean_0, lower_0, upper_0, loss_probability_0  = calculate_profit_bootstrap(target_valid_0, predicted_valid_0)\n",
    "values_mean_1, lower_1, upper_1, loss_probability_1  = calculate_profit_bootstrap(target_valid_1, predicted_valid_1)\n",
    "values_mean_2, lower_2, upper_2, loss_probability_2  = calculate_profit_bootstrap(target_valid_2, predicted_valid_2)"
   ]
  },
  {
   "cell_type": "code",
   "execution_count": 420,
   "metadata": {},
   "outputs": [
    {
     "name": "stdout",
     "output_type": "stream",
     "text": [
      "Средняя прибыль 200 лучших месторождений нулевого региона: 419948760.19 руб.\n",
      "Средняя прибыль 200 лучших месторождений первого региона: 492264068.63 руб.\n",
      "Средняя прибыль 200 лучших месторождений второго региона: 398714921.73 руб.\n",
      "-----------------------------------------------------------------------------\n",
      "95% доверительный интервал для средней прибыли 200 лучших месторождений нулевого региона: (-153249526.57, 983471596.04)\n",
      "95% доверительный интервал для средней прибыли 200 лучших месторождений первого региона: (45246618.75, 914845381.06)\n",
      "95% доверительный интервал для средней прибыли 200 лучших месторождений второго региона: (-160268257.57, 925470493.65)\n",
      "-----------------------------------------------------------------------------\n",
      "Вероятность убытков в нулевом регионе = 5.9%, что > максимальной допустимой вероятности 2.5%\n",
      "Вероятность убытков в первом регионе = 1.5%, что < максимальной допустимой вероятности 2.5%\n",
      "Вероятность убытков во втором регионе = 7.6%, что > максимальной допустимой вероятности 2.5%\n"
     ]
    }
   ],
   "source": [
    "print(f'Средняя прибыль 200 лучших месторождений нулевого региона: {values_mean_0} руб.')\n",
    "print(f'Средняя прибыль 200 лучших месторождений первого региона: {values_mean_1} руб.')\n",
    "print(f'Средняя прибыль 200 лучших месторождений второго региона: {values_mean_2} руб.')\n",
    "print('-----------------------------------------------------------------------------')\n",
    "print(f'95% доверительный интервал для средней прибыли 200 лучших месторождений нулевого региона: ({lower_0}, {upper_0})')\n",
    "print(f'95% доверительный интервал для средней прибыли 200 лучших месторождений первого региона: ({lower_1}, {upper_1})')\n",
    "print(f'95% доверительный интервал для средней прибыли 200 лучших месторождений второго региона: ({lower_2}, {upper_2})')\n",
    "print('-----------------------------------------------------------------------------')\n",
    "if loss_probability_0 < LOSS_THRESHOLD:\n",
    "    print(f'Вероятность убытков в нулевом регионе = {loss_probability_0}%, что < максимальной допустимой вероятности {LOSS_THRESHOLD}%')\n",
    "else:\n",
    "    print(f'Вероятность убытков в нулевом регионе = {loss_probability_0}%, что > максимальной допустимой вероятности {LOSS_THRESHOLD}%')\n",
    "\n",
    "if loss_probability_1 < LOSS_THRESHOLD:\n",
    "    print(f'Вероятность убытков в первом регионе = {loss_probability_1}%, что < максимальной допустимой вероятности {LOSS_THRESHOLD}%')\n",
    "else:\n",
    "    print(f'Вероятность убытков в первом регионе = {loss_probability_1}%, что > максимальной допустимой вероятности {LOSS_THRESHOLD}%')\n",
    "\n",
    "if loss_probability_2 < LOSS_THRESHOLD:\n",
    "    print(f'Вероятность убытков во втором регионе = {loss_probability_2}%, что < максимальной допустимой вероятности {LOSS_THRESHOLD}%')\n",
    "else:\n",
    "    print(f'Вероятность убытков во втором регионе = {loss_probability_2}%, что > максимальной допустимой вероятности {LOSS_THRESHOLD}%')"
   ]
  },
  {
   "cell_type": "code",
   "execution_count": 421,
   "metadata": {},
   "outputs": [
    {
     "data": {
      "text/html": [
       "<div>\n",
       "<style scoped>\n",
       "    .dataframe tbody tr th:only-of-type {\n",
       "        vertical-align: middle;\n",
       "    }\n",
       "\n",
       "    .dataframe tbody tr th {\n",
       "        vertical-align: top;\n",
       "    }\n",
       "\n",
       "    .dataframe thead th {\n",
       "        text-align: right;\n",
       "    }\n",
       "</style>\n",
       "<table border=\"1\" class=\"dataframe\">\n",
       "  <thead>\n",
       "    <tr style=\"text-align: right;\">\n",
       "      <th></th>\n",
       "      <th>Регион</th>\n",
       "      <th>Ср. прибыль 200 лучших месторождений</th>\n",
       "      <th>Нижняя граница 95% дов.интервала</th>\n",
       "      <th>Верхняя граница 95% дов.интервала</th>\n",
       "      <th>Вероятность убытков</th>\n",
       "    </tr>\n",
       "  </thead>\n",
       "  <tbody>\n",
       "    <tr>\n",
       "      <th>0</th>\n",
       "      <td>Нулевой</td>\n",
       "      <td>419948760.19</td>\n",
       "      <td>-153249526.57</td>\n",
       "      <td>983471596.04</td>\n",
       "      <td>5.9</td>\n",
       "    </tr>\n",
       "    <tr>\n",
       "      <th>1</th>\n",
       "      <td>Первый</td>\n",
       "      <td>492264068.63</td>\n",
       "      <td>45246618.75</td>\n",
       "      <td>914845381.06</td>\n",
       "      <td>1.5</td>\n",
       "    </tr>\n",
       "    <tr>\n",
       "      <th>2</th>\n",
       "      <td>Второй</td>\n",
       "      <td>398714921.73</td>\n",
       "      <td>-160268257.57</td>\n",
       "      <td>925470493.65</td>\n",
       "      <td>7.6</td>\n",
       "    </tr>\n",
       "  </tbody>\n",
       "</table>\n",
       "</div>"
      ],
      "text/plain": [
       "    Регион Ср. прибыль 200 лучших месторождений  \\\n",
       "0  Нулевой                         419948760.19   \n",
       "1   Первый                         492264068.63   \n",
       "2   Второй                         398714921.73   \n",
       "\n",
       "  Нижняя граница 95% дов.интервала Верхняя граница 95% дов.интервала  \\\n",
       "0                    -153249526.57                      983471596.04   \n",
       "1                      45246618.75                      914845381.06   \n",
       "2                    -160268257.57                      925470493.65   \n",
       "\n",
       "  Вероятность убытков  \n",
       "0                 5.9  \n",
       "1                 1.5  \n",
       "2                 7.6  "
      ]
     },
     "execution_count": 421,
     "metadata": {},
     "output_type": "execute_result"
    }
   ],
   "source": [
    "# для удобства восприятия представим результаты в виде таблицы\n",
    "results = np.array([['Нулевой', values_mean_0, lower_0, upper_0, loss_probability_0],\n",
    "                    ['Первый', values_mean_1, lower_1, upper_1, loss_probability_1],\n",
    "                    ['Второй', values_mean_2, lower_2, upper_2, loss_probability_2]])\n",
    "column_names = ['Регион', 'Ср. прибыль 200 лучших месторождений', 'Нижняя граница 95% дов.интервала', \\\n",
    "                'Верхняя граница 95% дов.интервала', 'Вероятность убытков']\n",
    "\n",
    "results = pd.DataFrame(results, columns=column_names)\n",
    "results"
   ]
  },
  {
   "cell_type": "markdown",
   "metadata": {},
   "source": [
    "---\n",
    "Таким образом, можно сделать вывод, что *первый регион - самый привлекательный для разработки*.\n",
    "\n",
    "Данный выбор обусловлен тем, что в первом регионе:\n",
    "\n",
    "* самая высокая средняя прибыль 200 лучших месторождений\n",
    "* более узкие границы 95% доверительного интервала\n",
    "* самая низкая вероятность убытков (ниже максимальной допустимой вероятности 2.5%)\n",
    "\n",
    "Отметим, что в нулевом и втором регионах вероятность убытков превышает максимальную допустимую вероятность (2.5%)."
   ]
  },
  {
   "cell_type": "markdown",
   "metadata": {},
   "source": [
    "**ПРОМЕЖУТОЧНЫЙ ВЫВОД ПО ШАГУ \"РАСЧЕТ ПРИБЫЛИ И РИСКОВ\"**"
   ]
  },
  {
   "cell_type": "markdown",
   "metadata": {},
   "source": [
    "Для нахождения распределения прибыли применили технику *Bootstrap* с 1000 выборок.  \n",
    "Для каждого региона была рассчитана средняя прибыль, 95%-й доверительный интервал и вероятность убытков.\n",
    "\n",
    "---\n",
    "Были получены следующие результаты:"
   ]
  },
  {
   "cell_type": "code",
   "execution_count": 422,
   "metadata": {},
   "outputs": [
    {
     "data": {
      "text/html": [
       "<div>\n",
       "<style scoped>\n",
       "    .dataframe tbody tr th:only-of-type {\n",
       "        vertical-align: middle;\n",
       "    }\n",
       "\n",
       "    .dataframe tbody tr th {\n",
       "        vertical-align: top;\n",
       "    }\n",
       "\n",
       "    .dataframe thead th {\n",
       "        text-align: right;\n",
       "    }\n",
       "</style>\n",
       "<table border=\"1\" class=\"dataframe\">\n",
       "  <thead>\n",
       "    <tr style=\"text-align: right;\">\n",
       "      <th></th>\n",
       "      <th>Регион</th>\n",
       "      <th>Ср. прибыль 200 лучших месторождений</th>\n",
       "      <th>Нижняя граница 95% дов.интервала</th>\n",
       "      <th>Верхняя граница 95% дов.интервала</th>\n",
       "      <th>Вероятность убытков</th>\n",
       "    </tr>\n",
       "  </thead>\n",
       "  <tbody>\n",
       "    <tr>\n",
       "      <th>0</th>\n",
       "      <td>Нулевой</td>\n",
       "      <td>419948760.19</td>\n",
       "      <td>-153249526.57</td>\n",
       "      <td>983471596.04</td>\n",
       "      <td>5.9</td>\n",
       "    </tr>\n",
       "    <tr>\n",
       "      <th>1</th>\n",
       "      <td>Первый</td>\n",
       "      <td>492264068.63</td>\n",
       "      <td>45246618.75</td>\n",
       "      <td>914845381.06</td>\n",
       "      <td>1.5</td>\n",
       "    </tr>\n",
       "    <tr>\n",
       "      <th>2</th>\n",
       "      <td>Второй</td>\n",
       "      <td>398714921.73</td>\n",
       "      <td>-160268257.57</td>\n",
       "      <td>925470493.65</td>\n",
       "      <td>7.6</td>\n",
       "    </tr>\n",
       "  </tbody>\n",
       "</table>\n",
       "</div>"
      ],
      "text/plain": [
       "    Регион Ср. прибыль 200 лучших месторождений  \\\n",
       "0  Нулевой                         419948760.19   \n",
       "1   Первый                         492264068.63   \n",
       "2   Второй                         398714921.73   \n",
       "\n",
       "  Нижняя граница 95% дов.интервала Верхняя граница 95% дов.интервала  \\\n",
       "0                    -153249526.57                      983471596.04   \n",
       "1                      45246618.75                      914845381.06   \n",
       "2                    -160268257.57                      925470493.65   \n",
       "\n",
       "  Вероятность убытков  \n",
       "0                 5.9  \n",
       "1                 1.5  \n",
       "2                 7.6  "
      ]
     },
     "execution_count": 422,
     "metadata": {},
     "output_type": "execute_result"
    }
   ],
   "source": [
    "results"
   ]
  },
  {
   "cell_type": "markdown",
   "metadata": {},
   "source": [
    "---\n",
    "*Первый регион - самый привлекательный для разработки.*  \n",
    "Данный выбор обусловлен тем, что в первом регионе:\n",
    "\n",
    "* самая высокая средняя прибыль 200 лучших месторождений\n",
    "* более узкие границы 95% доверительного интервала\n",
    "* самая низкая вероятность убытков (ниже максимальной допустимой вероятности 2.5%)\n",
    "\n",
    "Отметим, что в нулевом и втором регионах вероятность убытков превышает максимальную допустимую вероятность (2.5%)."
   ]
  },
  {
   "cell_type": "markdown",
   "metadata": {},
   "source": [
    "## Общий вывод"
   ]
  },
  {
   "cell_type": "markdown",
   "metadata": {},
   "source": [
    "**Задачи исследования**\n",
    "\n",
    "* провести предобработку и анализ данных\n",
    "* подготовить данные\n",
    "* обучить и проверить модель для каждого региона\n",
    "* провести подготовку к расчёту прибыли:\n",
    "\n",
    "рассчитать достаточный объём сырья для безубыточной разработки новой скважины  \n",
    "cравнить полученный объём сырья со средним запасом в каждом регионе\n",
    "\n",
    "* рассчитать риски и прибыль для каждого региона\n",
    "* сформулировать выводы, дать рекомендации\n",
    "\n",
    "---\n",
    "**Цель исследования** - построить модель для определения региона, где добыча принесёт наибольшую прибыль, проанализировать возможную прибыль и риски с применением техники Bootstrap\n",
    "\n",
    "---\n",
    "**Данные для анализа**\n",
    "\n",
    "*datasets/geo_data_0.csv*, *datasets/geo_data_1.csv*, *datasets/geo_data_2.csv* - данные геологоразведки по трем регионам\n",
    "\n",
    "---\n",
    "**ЗАГРУЗКА И ПОДГОТОВКА ДАННЫХ**\n",
    "\n",
    "CSV-файлы с данными мы считали с помощью библиотеки pandas и сохранили в датафреймы *geo_data_0*, *geo_data_1*, *geo_data_2* - данные по нулевому, первому и второму региону соответственно (назвали таким образом для удобства).\n",
    "\n",
    "---\n",
    "В каждом из трех рассматриваемых датафреймах содержится: 100 000 строк / 5 столбцов.\n",
    "    \n",
    "Каждый датафрейм = регион, каждая строка = месторождение, каждый столбец = параметр с информацией о месторождении.  \n",
    "Описание каждой скважины включает в себя следующие параметры:\n",
    "    \n",
    "* *id* — уникальный идентификатор скважины\n",
    "* *f0, f1, f2* — три признака точек\n",
    "* *product* — объём запасов в скважине (тыс. баррелей)\n",
    "\n",
    "Во всех трех рассматриваемых датафреймах:\n",
    "\n",
    "* пропущенных значений в данных нет \n",
    "* с типами данных все в порядке  \n",
    "* названия столбцов указаны в корректном формате\n",
    "\n",
    "При изучении общей информации было выявлено, что во всех трех рассматриваемых датафреймах значения в столбце 'id' не уникальны, т.к. эти данные не информативны, на этом этапе мы удалили столбец 'id' в каждом из датафреймов, после чего провели повторную проверку на наличие дубликатов.\n",
    "\n",
    "---\n",
    "Для каждого из датафреймов мы рассмотрели основные статистические характеристики признаков, построили графики распределения и диаграммы размаха (все признаки - количественные), определили выбросы с помощью двух методов: метода межквартильного размаха и диаграммы размаха.\n",
    "\n",
    "Отметим, что метод межквартильного размаха был выбран, поскольку, согласно условиям задачи, все данные синтетические: детали контрактов и характеристики месторождений не разглашаются, следовательно, мы не можем говорить о реалистичности значений показателей и не можем определить, будут ли являться значения \"выбросами\" в реальной жизни.\n",
    "\n",
    "Во всех трех рассматриваемых датафреймах в данных есть выбросы.  \n",
    "Используя *метод межквартильного размаха*, мы выявили следующее:\n",
    "\n",
    "* в датафрейме geo_data_0 есть выбросы в столбце 'f2' / количество cтрок с выбросами: 506 (0.51 %)\n",
    "* в датафрейме geo_data_1 есть выбросы в столбце 'f1' / количество cтрок с выбросами: 636 (0.64 %)\n",
    "* в датафрейме geo_data_2 есть выбросы в столбцах 'f0', 'f1','f2' / количество cтрок с выбросами: до 2001 (2 %)\n",
    "\n",
    "Количество строк с выбросами незначительное, следовательно в результате удаления выбросов данные не пострадают.\n",
    "\n",
    "---\n",
    "Перед обучением модели оптимально избавиться от выбросов, поскольку они искажают данные, приводят к неверным результатам о тенденциях и связях, что в конечном итоге может привести к снижению качества модели обучения.\n",
    "\n",
    "Во всех трех рассматриваемых датафреймах мы *избавились от выбросов* (которые были определены с помощью метода межквартильного размаха).\n",
    "\n",
    "---\n",
    "Был проведен *корреляционный анализ с использованием модуля phik* (т.к. не все признаки имеют нормальное распределение).  \n",
    "Были пострены матрицы корреляции для всех трех рассматриваемых датафреймов.\n",
    "\n",
    "* geo_data_0\n",
    "\n",
    "Сильную корреляцию мы видим между признаками: 'f1' / 'f0' = 0.76  \n",
    "Умеренная корреляция между признаками: 'product' / 'f2' = 0.48\n",
    "\n",
    "* geo_data_1\n",
    "\n",
    "Сильная корреляция между признаками: 'product' / 'f2' = 0.98  \n",
    "Средняя корреляция между признаками: 'product' / 'f0' = 0.63\n",
    "\n",
    "* *geo_data_2\n",
    "\n",
    "Умеренная корреляция между признаками: 'product' / 'f2' = 0.44  \n",
    "\n",
    "Признак 'product' - целевой, удалить признаки, которые коррелируют с целевым мы не можем.  \n",
    "Отметим, что сильная корреляция есть между нецелевыми признаками 'f1' / 'f0' (0.76) в датафрейме geo_data_0\n",
    "\n",
    "На этом этапе все датафреймы оставили без изменений. Далее будем отталкиваться от результата, который получим на моделях.\n",
    "\n",
    "---\n",
    "**ОБУЧЕНИЕ И ПРОВЕРКА МОДЕЛИ**\n",
    "\n",
    "На этом этапе для каждого региона обучили и проверили модель (с помощью метрики RMSE), рассчитали средний запас предсказанного сырья. \n",
    "\n",
    "Было выявлено следующее:  \n",
    "* *самая маленькая среднеквадратическая ошибка (RMSE) - в первом регионе*  \n",
    "* *самый большой средний объем запасов - во втором регионе*\n"
   ]
  },
  {
   "cell_type": "code",
   "execution_count": 423,
   "metadata": {},
   "outputs": [
    {
     "name": "stdout",
     "output_type": "stream",
     "text": [
      "Нулевой регион / данные датасета geo_data_0\n",
      "на втором месте по среднему объему запасов (средний объем запасов = 92.35)\n",
      "на втором месте по значению среднеквадратической ошибки (RMSE модели = 37.82)\n",
      "------------------------------------------------------------\n",
      "Первый регион / данные датасета geo_data_1\n",
      "на последнем месте по среднему объему запасов (средний объем запасов = 68.55)\n",
      "cамая низкая среднеквадратическая ошибка (RMSE модели = 0.89)\n",
      "------------------------------------------------------------\n",
      "Второй регион / данные датасета geo_data_2\n",
      "на первом месте по среднему объему запасов (средний объем запасов = 94.95)\n",
      "самая высокая среднеквадратическая ошибка (RMSE модели = 40.13)\n"
     ]
    }
   ],
   "source": [
    "print('Нулевой регион / данные датасета geo_data_0')\n",
    "print(f'на втором месте по среднему объему запасов (средний объем запасов = {round(predicted_valid_mean_0,2)})')\n",
    "print(f'на втором месте по значению среднеквадратической ошибки (RMSE модели = {round(rmse_0,2)})')\n",
    "print('------------------------------------------------------------')\n",
    "print('Первый регион / данные датасета geo_data_1')\n",
    "print(f'на последнем месте по среднему объему запасов (средний объем запасов = {round(predicted_valid_mean_1,2)})')\n",
    "print(f'cамая низкая среднеквадратическая ошибка (RMSE модели = {round(rmse_1,2)})')\n",
    "print('------------------------------------------------------------')\n",
    "print('Второй регион / данные датасета geo_data_2')\n",
    "print(f'на первом месте по среднему объему запасов (средний объем запасов = {round(predicted_valid_mean_2,2)})')\n",
    "print(f'самая высокая среднеквадратическая ошибка (RMSE модели = {round(rmse_2,2)})')"
   ]
  },
  {
   "cell_type": "markdown",
   "metadata": {},
   "source": [
    "---\n",
    "**ПОДГОТОВКА К РАСЧЕТУ ПРИБЫЛИ**\n",
    "\n",
    "Все ключевые значения для расчётов, известные из условий задачи, мы сохранили в отдельных переменных.\n",
    "\n",
    "---\n",
    "На этом этапе мы рассчитали 'точку безубыточности' - достаточный объем добычи сырья для безубыточной разработки новой скважины, который составляет 111111.11 барр. или 111.11 ед.продукта (тыс.барр.).\n",
    "\n",
    "---\n",
    "В каждом из трёх рассматриваемых регионов средний запас сырья скважины меньше достаточного объема добычи сырья для безубыточной разработки новой скважины:"
   ]
  },
  {
   "cell_type": "code",
   "execution_count": 424,
   "metadata": {},
   "outputs": [
    {
     "name": "stdout",
     "output_type": "stream",
     "text": [
      "В нулевом регионе средний объема добычи сырья меньше точки безубыточности на 18.76 ед. продукта (тыс. баррелей)\n",
      "В первом регионе средний объема добычи сырья меньше точки безубыточности на 42.56 ед. продукта (тыс. баррелей)\n",
      "Во втором регионе средний объема добычи сырья меньше точки безубыточности на 16.16 ед. продукта (тыс. баррелей)\n"
     ]
    }
   ],
   "source": [
    "print(f'В нулевом регионе средний объема добычи сырья меньше точки безубыточности на \\\n",
    "{abs(round(predicted_valid_mean_0 - non_loss_point_prod,2))} ед. продукта (тыс. баррелей)')\n",
    "\n",
    "print(f'В первом регионе средний объема добычи сырья меньше точки безубыточности на \\\n",
    "{abs(round(predicted_valid_mean_1 - non_loss_point_prod,2))} ед. продукта (тыс. баррелей)')\n",
    "\n",
    "print(f'Во втором регионе средний объема добычи сырья меньше точки безубыточности на \\\n",
    "{abs(round(predicted_valid_mean_2 - non_loss_point_prod,2))} ед. продукта (тыс. баррелей)')"
   ]
  },
  {
   "cell_type": "markdown",
   "metadata": {},
   "source": [
    "Таким образом можно отметить *особенно высокий риск разработок в первом регионе* (самое большое отклонение от 'точки безубыточности'). \n",
    "\n",
    "---\n",
    "**РАСЧЕТ ПРИБЫЛИ И РИСКОВ**\n",
    "\n",
    "Для нахождения распределения прибыли применили технику *Bootstrap* с 1000 выборок.  \n",
    "Для каждого региона была рассчитана средняя прибыль, 95%-й доверительный интервал и вероятность убытков.\n",
    "\n",
    "---\n",
    "Были получены следующие результаты:"
   ]
  },
  {
   "cell_type": "code",
   "execution_count": 425,
   "metadata": {},
   "outputs": [
    {
     "data": {
      "text/html": [
       "<div>\n",
       "<style scoped>\n",
       "    .dataframe tbody tr th:only-of-type {\n",
       "        vertical-align: middle;\n",
       "    }\n",
       "\n",
       "    .dataframe tbody tr th {\n",
       "        vertical-align: top;\n",
       "    }\n",
       "\n",
       "    .dataframe thead th {\n",
       "        text-align: right;\n",
       "    }\n",
       "</style>\n",
       "<table border=\"1\" class=\"dataframe\">\n",
       "  <thead>\n",
       "    <tr style=\"text-align: right;\">\n",
       "      <th></th>\n",
       "      <th>Регион</th>\n",
       "      <th>Ср. прибыль 200 лучших месторождений</th>\n",
       "      <th>Нижняя граница 95% дов.интервала</th>\n",
       "      <th>Верхняя граница 95% дов.интервала</th>\n",
       "      <th>Вероятность убытков</th>\n",
       "    </tr>\n",
       "  </thead>\n",
       "  <tbody>\n",
       "    <tr>\n",
       "      <th>0</th>\n",
       "      <td>Нулевой</td>\n",
       "      <td>419948760.19</td>\n",
       "      <td>-153249526.57</td>\n",
       "      <td>983471596.04</td>\n",
       "      <td>5.9</td>\n",
       "    </tr>\n",
       "    <tr>\n",
       "      <th>1</th>\n",
       "      <td>Первый</td>\n",
       "      <td>492264068.63</td>\n",
       "      <td>45246618.75</td>\n",
       "      <td>914845381.06</td>\n",
       "      <td>1.5</td>\n",
       "    </tr>\n",
       "    <tr>\n",
       "      <th>2</th>\n",
       "      <td>Второй</td>\n",
       "      <td>398714921.73</td>\n",
       "      <td>-160268257.57</td>\n",
       "      <td>925470493.65</td>\n",
       "      <td>7.6</td>\n",
       "    </tr>\n",
       "  </tbody>\n",
       "</table>\n",
       "</div>"
      ],
      "text/plain": [
       "    Регион Ср. прибыль 200 лучших месторождений  \\\n",
       "0  Нулевой                         419948760.19   \n",
       "1   Первый                         492264068.63   \n",
       "2   Второй                         398714921.73   \n",
       "\n",
       "  Нижняя граница 95% дов.интервала Верхняя граница 95% дов.интервала  \\\n",
       "0                    -153249526.57                      983471596.04   \n",
       "1                      45246618.75                      914845381.06   \n",
       "2                    -160268257.57                      925470493.65   \n",
       "\n",
       "  Вероятность убытков  \n",
       "0                 5.9  \n",
       "1                 1.5  \n",
       "2                 7.6  "
      ]
     },
     "execution_count": 425,
     "metadata": {},
     "output_type": "execute_result"
    }
   ],
   "source": [
    "results"
   ]
  },
  {
   "cell_type": "markdown",
   "metadata": {},
   "source": [
    "---\n",
    "Несмотря на то, что в первом регионе мы отметили особенно высокий риск разработок (самое большое отклонение от 'точки безубыточности'), **первый регион является самым привлекательным для разработки.**\n",
    "\n",
    "Данный выбор обусловлен тем, что в первом регионе:\n",
    "\n",
    "* самая высокая средняя прибыль 200 лучших месторождений\n",
    "* более узкие границы 95% доверительного интервала\n",
    "* самая низкая вероятность убытков (ниже максимальной допустимой вероятности 2.5%)"
   ]
  }
 ],
 "metadata": {
  "ExecuteTimeLog": [
   {
    "duration": 63031,
    "start_time": "2024-06-11T08:41:43.705Z"
   },
   {
    "duration": 2089,
    "start_time": "2024-06-11T08:42:46.740Z"
   },
   {
    "duration": 698,
    "start_time": "2024-06-11T08:42:48.831Z"
   },
   {
    "duration": 22,
    "start_time": "2024-06-11T08:42:49.531Z"
   },
   {
    "duration": 196,
    "start_time": "2024-06-11T08:46:45.346Z"
   },
   {
    "duration": 635,
    "start_time": "2024-06-11T08:46:45.772Z"
   },
   {
    "duration": 582,
    "start_time": "2024-06-11T08:46:46.409Z"
   },
   {
    "duration": 15,
    "start_time": "2024-06-11T08:46:56.930Z"
   },
   {
    "duration": 20,
    "start_time": "2024-06-11T08:46:57.385Z"
   },
   {
    "duration": 18,
    "start_time": "2024-06-11T08:46:57.840Z"
   },
   {
    "duration": 15,
    "start_time": "2024-06-11T08:47:16.703Z"
   },
   {
    "duration": 20,
    "start_time": "2024-06-11T08:47:17.040Z"
   },
   {
    "duration": 14,
    "start_time": "2024-06-11T08:47:17.572Z"
   },
   {
    "duration": 173,
    "start_time": "2024-06-11T08:49:49.613Z"
   },
   {
    "duration": 173,
    "start_time": "2024-06-11T08:49:49.878Z"
   },
   {
    "duration": 226,
    "start_time": "2024-06-11T08:49:50.273Z"
   },
   {
    "duration": 22,
    "start_time": "2024-06-11T08:49:50.501Z"
   },
   {
    "duration": 14,
    "start_time": "2024-06-11T08:49:50.822Z"
   },
   {
    "duration": 16,
    "start_time": "2024-06-11T08:49:50.980Z"
   },
   {
    "duration": 134,
    "start_time": "2024-06-11T08:49:52.562Z"
   },
   {
    "duration": 4,
    "start_time": "2024-06-11T08:50:29.734Z"
   },
   {
    "duration": 33,
    "start_time": "2024-06-11T08:50:54.134Z"
   },
   {
    "duration": 28,
    "start_time": "2024-06-11T08:51:18.711Z"
   },
   {
    "duration": 32,
    "start_time": "2024-06-11T08:51:20.661Z"
   },
   {
    "duration": 26355,
    "start_time": "2024-06-12T03:50:16.532Z"
   },
   {
    "duration": 5,
    "start_time": "2024-06-12T03:50:42.890Z"
   },
   {
    "duration": 128,
    "start_time": "2024-06-12T03:50:42.896Z"
   },
   {
    "duration": 102,
    "start_time": "2024-06-12T03:50:43.026Z"
   },
   {
    "duration": 111,
    "start_time": "2024-06-12T03:50:43.129Z"
   },
   {
    "duration": 15,
    "start_time": "2024-06-12T03:50:43.242Z"
   },
   {
    "duration": 13,
    "start_time": "2024-06-12T03:50:43.258Z"
   },
   {
    "duration": 31,
    "start_time": "2024-06-12T03:50:43.272Z"
   },
   {
    "duration": 2,
    "start_time": "2024-06-12T03:50:43.305Z"
   },
   {
    "duration": 33,
    "start_time": "2024-06-12T03:50:43.309Z"
   },
   {
    "duration": 25,
    "start_time": "2024-06-12T03:50:43.344Z"
   },
   {
    "duration": 17,
    "start_time": "2024-06-12T03:50:43.370Z"
   },
   {
    "duration": 3,
    "start_time": "2024-06-12T04:07:04.166Z"
   },
   {
    "duration": 23,
    "start_time": "2024-06-12T04:07:06.936Z"
   },
   {
    "duration": 33,
    "start_time": "2024-06-12T04:08:25.435Z"
   },
   {
    "duration": 5,
    "start_time": "2024-06-12T04:10:42.752Z"
   },
   {
    "duration": 156,
    "start_time": "2024-06-12T04:10:43.933Z"
   },
   {
    "duration": 4,
    "start_time": "2024-06-12T04:11:03.404Z"
   },
   {
    "duration": 68,
    "start_time": "2024-06-12T04:11:04.327Z"
   },
   {
    "duration": 86,
    "start_time": "2024-06-12T04:11:10.639Z"
   },
   {
    "duration": 68,
    "start_time": "2024-06-12T04:11:11.776Z"
   },
   {
    "duration": 82,
    "start_time": "2024-06-12T04:31:11.498Z"
   },
   {
    "duration": 65,
    "start_time": "2024-06-12T04:33:38.990Z"
   },
   {
    "duration": 72,
    "start_time": "2024-06-12T04:33:48.372Z"
   },
   {
    "duration": 343,
    "start_time": "2024-06-12T04:34:15.896Z"
   },
   {
    "duration": 970,
    "start_time": "2024-06-12T04:34:41.580Z"
   },
   {
    "duration": 1055,
    "start_time": "2024-06-12T04:36:15.870Z"
   },
   {
    "duration": 891,
    "start_time": "2024-06-12T04:36:30.424Z"
   },
   {
    "duration": 932,
    "start_time": "2024-06-12T04:36:44.483Z"
   },
   {
    "duration": 755,
    "start_time": "2024-06-12T04:37:53.104Z"
   },
   {
    "duration": 818,
    "start_time": "2024-06-12T04:38:15.831Z"
   },
   {
    "duration": 658,
    "start_time": "2024-06-12T04:38:23.831Z"
   },
   {
    "duration": 671,
    "start_time": "2024-06-12T04:38:52.345Z"
   },
   {
    "duration": 3,
    "start_time": "2024-06-12T04:40:13.138Z"
   },
   {
    "duration": 2,
    "start_time": "2024-06-12T04:40:35.723Z"
   },
   {
    "duration": 3,
    "start_time": "2024-06-12T04:40:42.541Z"
   },
   {
    "duration": 186,
    "start_time": "2024-06-12T04:42:21.467Z"
   },
   {
    "duration": 2,
    "start_time": "2024-06-12T04:43:43.194Z"
   },
   {
    "duration": 3,
    "start_time": "2024-06-12T04:43:43.837Z"
   },
   {
    "duration": 218,
    "start_time": "2024-06-12T04:43:44.828Z"
   },
   {
    "duration": 3,
    "start_time": "2024-06-12T04:44:58.405Z"
   },
   {
    "duration": 7,
    "start_time": "2024-06-12T04:44:59.093Z"
   },
   {
    "duration": 2,
    "start_time": "2024-06-12T04:45:09.415Z"
   },
   {
    "duration": 3,
    "start_time": "2024-06-12T04:45:11.815Z"
   },
   {
    "duration": 477,
    "start_time": "2024-06-12T04:45:55.380Z"
   },
   {
    "duration": 479,
    "start_time": "2024-06-12T04:46:48.946Z"
   },
   {
    "duration": 445,
    "start_time": "2024-06-12T04:47:05.519Z"
   },
   {
    "duration": 456,
    "start_time": "2024-06-12T04:47:54.394Z"
   },
   {
    "duration": 470,
    "start_time": "2024-06-12T04:48:01.739Z"
   },
   {
    "duration": 700,
    "start_time": "2024-06-12T04:48:44.742Z"
   },
   {
    "duration": 64,
    "start_time": "2024-06-12T04:51:12.512Z"
   },
   {
    "duration": 5,
    "start_time": "2024-06-12T04:51:24.199Z"
   },
   {
    "duration": 928,
    "start_time": "2024-06-12T04:51:50.264Z"
   },
   {
    "duration": 719,
    "start_time": "2024-06-12T04:52:00.869Z"
   },
   {
    "duration": 3,
    "start_time": "2024-06-12T04:56:50.897Z"
   },
   {
    "duration": 735,
    "start_time": "2024-06-12T04:56:57.328Z"
   },
   {
    "duration": 4,
    "start_time": "2024-06-12T04:57:22.123Z"
   },
   {
    "duration": 743,
    "start_time": "2024-06-12T04:57:25.823Z"
   },
   {
    "duration": 9,
    "start_time": "2024-06-12T04:58:59.504Z"
   },
   {
    "duration": 786,
    "start_time": "2024-06-12T04:59:02.162Z"
   },
   {
    "duration": 5,
    "start_time": "2024-06-12T04:59:33.572Z"
   },
   {
    "duration": 755,
    "start_time": "2024-06-12T04:59:35.113Z"
   },
   {
    "duration": 4,
    "start_time": "2024-06-12T05:00:12.770Z"
   },
   {
    "duration": 863,
    "start_time": "2024-06-12T05:00:14.519Z"
   },
   {
    "duration": 4,
    "start_time": "2024-06-12T05:00:26.047Z"
   },
   {
    "duration": 707,
    "start_time": "2024-06-12T05:00:27.460Z"
   },
   {
    "duration": 4,
    "start_time": "2024-06-12T05:00:37.688Z"
   },
   {
    "duration": 774,
    "start_time": "2024-06-12T05:00:38.858Z"
   },
   {
    "duration": 4,
    "start_time": "2024-06-12T05:01:31.345Z"
   },
   {
    "duration": 715,
    "start_time": "2024-06-12T05:01:32.732Z"
   },
   {
    "duration": 701,
    "start_time": "2024-06-12T05:01:47.742Z"
   },
   {
    "duration": 722,
    "start_time": "2024-06-12T05:01:53.794Z"
   },
   {
    "duration": 4,
    "start_time": "2024-06-12T05:02:53.110Z"
   },
   {
    "duration": 809,
    "start_time": "2024-06-12T05:02:54.618Z"
   },
   {
    "duration": 4,
    "start_time": "2024-06-12T05:03:10.624Z"
   },
   {
    "duration": 736,
    "start_time": "2024-06-12T05:05:58.745Z"
   },
   {
    "duration": 774,
    "start_time": "2024-06-12T05:05:59.844Z"
   },
   {
    "duration": 3,
    "start_time": "2024-06-12T05:12:44.338Z"
   },
   {
    "duration": 8,
    "start_time": "2024-06-12T05:13:29.959Z"
   },
   {
    "duration": 22,
    "start_time": "2024-06-12T05:13:39.438Z"
   },
   {
    "duration": 3,
    "start_time": "2024-06-12T05:13:54.159Z"
   },
   {
    "duration": 15,
    "start_time": "2024-06-12T05:13:55.148Z"
   },
   {
    "duration": 4,
    "start_time": "2024-06-12T05:14:12.775Z"
   },
   {
    "duration": 28,
    "start_time": "2024-06-12T05:14:13.889Z"
   },
   {
    "duration": 3,
    "start_time": "2024-06-12T05:20:12.113Z"
   },
   {
    "duration": 27,
    "start_time": "2024-06-12T05:20:16.470Z"
   },
   {
    "duration": 3,
    "start_time": "2024-06-12T05:30:03.668Z"
   },
   {
    "duration": 28,
    "start_time": "2024-06-12T05:30:14.547Z"
   },
   {
    "duration": 4,
    "start_time": "2024-06-12T05:30:17.885Z"
   },
   {
    "duration": 39,
    "start_time": "2024-06-12T05:30:18.891Z"
   },
   {
    "duration": 27,
    "start_time": "2024-06-12T05:30:31.844Z"
   },
   {
    "duration": 4,
    "start_time": "2024-06-12T05:30:39.124Z"
   },
   {
    "duration": 29,
    "start_time": "2024-06-12T05:30:41.087Z"
   },
   {
    "duration": 3,
    "start_time": "2024-06-12T05:31:09.033Z"
   },
   {
    "duration": 29,
    "start_time": "2024-06-12T05:31:10.244Z"
   },
   {
    "duration": 23,
    "start_time": "2024-06-12T05:37:53.218Z"
   },
   {
    "duration": 31,
    "start_time": "2024-06-12T06:13:13.226Z"
   },
   {
    "duration": 4,
    "start_time": "2024-06-12T06:13:42.609Z"
   },
   {
    "duration": 4,
    "start_time": "2024-06-12T06:13:43.899Z"
   },
   {
    "duration": 30,
    "start_time": "2024-06-12T06:13:49.756Z"
   },
   {
    "duration": 706,
    "start_time": "2024-06-12T06:13:51.159Z"
   },
   {
    "duration": 24,
    "start_time": "2024-06-12T06:21:24.160Z"
   },
   {
    "duration": 43,
    "start_time": "2024-06-12T06:24:58.841Z"
   },
   {
    "duration": 31,
    "start_time": "2024-06-12T06:27:33.852Z"
   },
   {
    "duration": 709,
    "start_time": "2024-06-12T06:27:34.640Z"
   },
   {
    "duration": 30,
    "start_time": "2024-06-12T06:27:49.812Z"
   },
   {
    "duration": 771,
    "start_time": "2024-06-12T06:27:50.201Z"
   },
   {
    "duration": 43,
    "start_time": "2024-06-12T06:29:07.152Z"
   },
   {
    "duration": 43,
    "start_time": "2024-06-12T06:30:05.141Z"
   },
   {
    "duration": 30,
    "start_time": "2024-06-12T06:30:45.950Z"
   },
   {
    "duration": 857,
    "start_time": "2024-06-12T06:30:52.022Z"
   },
   {
    "duration": 66,
    "start_time": "2024-06-12T06:34:14.424Z"
   },
   {
    "duration": 4,
    "start_time": "2024-06-12T06:34:14.618Z"
   },
   {
    "duration": 62,
    "start_time": "2024-06-12T06:35:37.762Z"
   },
   {
    "duration": 3,
    "start_time": "2024-06-12T06:36:09.111Z"
   },
   {
    "duration": 3,
    "start_time": "2024-06-12T06:37:41.922Z"
   },
   {
    "duration": 25,
    "start_time": "2024-06-12T06:38:16.232Z"
   },
   {
    "duration": 3,
    "start_time": "2024-06-12T06:38:48.751Z"
   },
   {
    "duration": 30,
    "start_time": "2024-06-12T07:57:42.546Z"
   },
   {
    "duration": 7,
    "start_time": "2024-06-12T08:00:26.914Z"
   },
   {
    "duration": 7,
    "start_time": "2024-06-12T08:01:28.806Z"
   },
   {
    "duration": 6,
    "start_time": "2024-06-12T08:01:35.516Z"
   },
   {
    "duration": 44,
    "start_time": "2024-06-12T08:09:09.578Z"
   },
   {
    "duration": 45,
    "start_time": "2024-06-12T08:09:36.005Z"
   },
   {
    "duration": 23,
    "start_time": "2024-06-12T08:09:51.437Z"
   },
   {
    "duration": 23,
    "start_time": "2024-06-12T08:10:05.107Z"
   },
   {
    "duration": 3,
    "start_time": "2024-06-12T08:10:39.487Z"
   },
   {
    "duration": 53,
    "start_time": "2024-06-12T08:11:08.285Z"
   },
   {
    "duration": 24,
    "start_time": "2024-06-12T08:12:05.307Z"
   },
   {
    "duration": 42,
    "start_time": "2024-06-12T08:12:27.728Z"
   },
   {
    "duration": 43,
    "start_time": "2024-06-12T08:12:36.968Z"
   },
   {
    "duration": 4,
    "start_time": "2024-06-12T08:13:13.337Z"
   },
   {
    "duration": 44,
    "start_time": "2024-06-12T08:14:29.289Z"
   },
   {
    "duration": 67,
    "start_time": "2024-06-12T08:16:49.328Z"
   },
   {
    "duration": 139,
    "start_time": "2024-06-12T08:17:26.198Z"
   },
   {
    "duration": 122,
    "start_time": "2024-06-12T08:18:26.646Z"
   },
   {
    "duration": 122,
    "start_time": "2024-06-12T08:18:37.563Z"
   },
   {
    "duration": 124,
    "start_time": "2024-06-12T08:18:55.679Z"
   },
   {
    "duration": 129,
    "start_time": "2024-06-12T08:19:20.558Z"
   },
   {
    "duration": 127,
    "start_time": "2024-06-12T08:19:29.748Z"
   },
   {
    "duration": 43,
    "start_time": "2024-06-12T08:23:14.187Z"
   },
   {
    "duration": 43,
    "start_time": "2024-06-12T08:23:27.608Z"
   },
   {
    "duration": 42,
    "start_time": "2024-06-12T08:23:37.116Z"
   },
   {
    "duration": 133,
    "start_time": "2024-06-12T08:45:15.782Z"
   },
   {
    "duration": 136,
    "start_time": "2024-06-12T08:46:16.111Z"
   },
   {
    "duration": 11,
    "start_time": "2024-06-12T08:46:16.793Z"
   },
   {
    "duration": 3,
    "start_time": "2024-06-12T08:46:19.344Z"
   },
   {
    "duration": 127,
    "start_time": "2024-06-12T08:46:19.576Z"
   },
   {
    "duration": 8,
    "start_time": "2024-06-12T08:46:19.956Z"
   },
   {
    "duration": 3,
    "start_time": "2024-06-12T08:47:08.612Z"
   },
   {
    "duration": 4,
    "start_time": "2024-06-12T08:47:51.165Z"
   },
   {
    "duration": 3,
    "start_time": "2024-06-12T08:48:18.483Z"
   },
   {
    "duration": 3,
    "start_time": "2024-06-12T08:48:48.020Z"
   },
   {
    "duration": 2,
    "start_time": "2024-06-12T08:48:48.660Z"
   },
   {
    "duration": 4,
    "start_time": "2024-06-12T08:48:49.305Z"
   },
   {
    "duration": 27354,
    "start_time": "2024-06-12T08:49:22.242Z"
   },
   {
    "duration": 4,
    "start_time": "2024-06-12T08:49:49.599Z"
   },
   {
    "duration": 135,
    "start_time": "2024-06-12T08:49:49.604Z"
   },
   {
    "duration": 101,
    "start_time": "2024-06-12T08:49:49.740Z"
   },
   {
    "duration": 105,
    "start_time": "2024-06-12T08:49:49.843Z"
   },
   {
    "duration": 3,
    "start_time": "2024-06-12T08:49:49.950Z"
   },
   {
    "duration": 83,
    "start_time": "2024-06-12T08:49:49.954Z"
   },
   {
    "duration": 67,
    "start_time": "2024-06-12T08:49:50.038Z"
   },
   {
    "duration": 55,
    "start_time": "2024-06-12T08:49:50.106Z"
   },
   {
    "duration": 4,
    "start_time": "2024-06-12T08:49:50.162Z"
   },
   {
    "duration": 7,
    "start_time": "2024-06-12T08:49:50.167Z"
   },
   {
    "duration": 52,
    "start_time": "2024-06-12T08:49:50.175Z"
   },
   {
    "duration": 763,
    "start_time": "2024-06-12T08:49:50.228Z"
   },
   {
    "duration": 46,
    "start_time": "2024-06-12T08:49:50.993Z"
   },
   {
    "duration": 29,
    "start_time": "2024-06-12T08:49:51.040Z"
   },
   {
    "duration": 712,
    "start_time": "2024-06-12T08:49:51.071Z"
   },
   {
    "duration": 51,
    "start_time": "2024-06-12T08:49:51.784Z"
   },
   {
    "duration": 29,
    "start_time": "2024-06-12T08:49:51.837Z"
   },
   {
    "duration": 731,
    "start_time": "2024-06-12T08:49:51.867Z"
   },
   {
    "duration": 128,
    "start_time": "2024-06-12T08:49:52.601Z"
   },
   {
    "duration": 4,
    "start_time": "2024-06-12T08:50:28.622Z"
   },
   {
    "duration": 130,
    "start_time": "2024-06-12T08:50:29.229Z"
   },
   {
    "duration": 9,
    "start_time": "2024-06-12T08:50:29.764Z"
   },
   {
    "duration": 3,
    "start_time": "2024-06-12T08:50:30.321Z"
   },
   {
    "duration": 120,
    "start_time": "2024-06-12T08:54:06.552Z"
   },
   {
    "duration": 26714,
    "start_time": "2024-06-12T08:54:35.379Z"
   },
   {
    "duration": 6,
    "start_time": "2024-06-12T08:55:02.095Z"
   },
   {
    "duration": 437,
    "start_time": "2024-06-12T08:55:02.103Z"
   },
   {
    "duration": 100,
    "start_time": "2024-06-12T08:55:02.542Z"
   },
   {
    "duration": 99,
    "start_time": "2024-06-12T08:55:02.644Z"
   },
   {
    "duration": 4,
    "start_time": "2024-06-12T08:55:02.745Z"
   },
   {
    "duration": 77,
    "start_time": "2024-06-12T08:55:02.750Z"
   },
   {
    "duration": 80,
    "start_time": "2024-06-12T08:55:02.828Z"
   },
   {
    "duration": 55,
    "start_time": "2024-06-12T08:55:02.909Z"
   },
   {
    "duration": 4,
    "start_time": "2024-06-12T08:55:02.966Z"
   },
   {
    "duration": 20,
    "start_time": "2024-06-12T08:55:02.971Z"
   },
   {
    "duration": 31,
    "start_time": "2024-06-12T08:55:03.001Z"
   },
   {
    "duration": 761,
    "start_time": "2024-06-12T08:55:03.033Z"
   },
   {
    "duration": 44,
    "start_time": "2024-06-12T08:55:03.801Z"
   },
   {
    "duration": 29,
    "start_time": "2024-06-12T08:55:03.846Z"
   },
   {
    "duration": 722,
    "start_time": "2024-06-12T08:55:03.876Z"
   },
   {
    "duration": 42,
    "start_time": "2024-06-12T08:55:04.601Z"
   },
   {
    "duration": 31,
    "start_time": "2024-06-12T08:55:04.644Z"
   },
   {
    "duration": 866,
    "start_time": "2024-06-12T08:55:04.676Z"
   },
   {
    "duration": 137,
    "start_time": "2024-06-12T08:55:10.611Z"
   },
   {
    "duration": 66,
    "start_time": "2024-06-12T08:56:03.082Z"
   },
   {
    "duration": 128,
    "start_time": "2024-06-12T08:56:47.991Z"
   },
   {
    "duration": 2,
    "start_time": "2024-06-12T08:58:28.580Z"
   },
   {
    "duration": 4,
    "start_time": "2024-06-12T08:58:39.873Z"
   },
   {
    "duration": 26298,
    "start_time": "2024-06-12T08:58:53.420Z"
   },
   {
    "duration": 5,
    "start_time": "2024-06-12T08:59:19.720Z"
   },
   {
    "duration": 167,
    "start_time": "2024-06-12T08:59:19.727Z"
   },
   {
    "duration": 114,
    "start_time": "2024-06-12T08:59:19.896Z"
   },
   {
    "duration": 108,
    "start_time": "2024-06-12T08:59:20.012Z"
   },
   {
    "duration": 4,
    "start_time": "2024-06-12T08:59:20.121Z"
   },
   {
    "duration": 78,
    "start_time": "2024-06-12T08:59:20.126Z"
   },
   {
    "duration": 60,
    "start_time": "2024-06-12T08:59:20.205Z"
   },
   {
    "duration": 91,
    "start_time": "2024-06-12T08:59:20.266Z"
   },
   {
    "duration": 4,
    "start_time": "2024-06-12T08:59:20.358Z"
   },
   {
    "duration": 6,
    "start_time": "2024-06-12T08:59:20.363Z"
   },
   {
    "duration": 55,
    "start_time": "2024-06-12T08:59:20.370Z"
   },
   {
    "duration": 769,
    "start_time": "2024-06-12T08:59:20.426Z"
   },
   {
    "duration": 55,
    "start_time": "2024-06-12T08:59:21.198Z"
   },
   {
    "duration": 47,
    "start_time": "2024-06-12T08:59:21.254Z"
   },
   {
    "duration": 773,
    "start_time": "2024-06-12T08:59:21.303Z"
   },
   {
    "duration": 49,
    "start_time": "2024-06-12T08:59:22.077Z"
   },
   {
    "duration": 32,
    "start_time": "2024-06-12T08:59:22.127Z"
   },
   {
    "duration": 723,
    "start_time": "2024-06-12T08:59:22.160Z"
   },
   {
    "duration": 157,
    "start_time": "2024-06-12T08:59:22.884Z"
   },
   {
    "duration": 11,
    "start_time": "2024-06-12T08:59:23.042Z"
   },
   {
    "duration": 151,
    "start_time": "2024-06-12T08:59:23.055Z"
   },
   {
    "duration": 6,
    "start_time": "2024-06-12T08:59:23.207Z"
   },
   {
    "duration": 4,
    "start_time": "2024-06-12T08:59:23.215Z"
   },
   {
    "duration": 8,
    "start_time": "2024-06-12T08:59:23.220Z"
   },
   {
    "duration": 5,
    "start_time": "2024-06-12T08:59:23.229Z"
   },
   {
    "duration": 7,
    "start_time": "2024-06-12T09:06:59.539Z"
   },
   {
    "duration": 220,
    "start_time": "2024-06-12T09:07:00.338Z"
   },
   {
    "duration": 344,
    "start_time": "2024-06-12T09:07:01.522Z"
   },
   {
    "duration": 226,
    "start_time": "2024-06-12T09:09:21.185Z"
   },
   {
    "duration": 26510,
    "start_time": "2024-06-12T09:10:15.923Z"
   },
   {
    "duration": 5,
    "start_time": "2024-06-12T09:10:42.435Z"
   },
   {
    "duration": 139,
    "start_time": "2024-06-12T09:10:42.441Z"
   },
   {
    "duration": 113,
    "start_time": "2024-06-12T09:10:42.582Z"
   },
   {
    "duration": 102,
    "start_time": "2024-06-12T09:10:42.696Z"
   },
   {
    "duration": 3,
    "start_time": "2024-06-12T09:10:42.799Z"
   },
   {
    "duration": 77,
    "start_time": "2024-06-12T09:10:42.804Z"
   },
   {
    "duration": 85,
    "start_time": "2024-06-12T09:10:42.882Z"
   },
   {
    "duration": 83,
    "start_time": "2024-06-12T09:10:42.968Z"
   },
   {
    "duration": 4,
    "start_time": "2024-06-12T09:10:43.053Z"
   },
   {
    "duration": 4,
    "start_time": "2024-06-12T09:10:43.058Z"
   },
   {
    "duration": 61,
    "start_time": "2024-06-12T09:10:43.064Z"
   },
   {
    "duration": 768,
    "start_time": "2024-06-12T09:10:43.126Z"
   },
   {
    "duration": 43,
    "start_time": "2024-06-12T09:10:43.901Z"
   },
   {
    "duration": 30,
    "start_time": "2024-06-12T09:10:43.945Z"
   },
   {
    "duration": 842,
    "start_time": "2024-06-12T09:10:43.976Z"
   },
   {
    "duration": 43,
    "start_time": "2024-06-12T09:10:44.819Z"
   },
   {
    "duration": 42,
    "start_time": "2024-06-12T09:10:44.864Z"
   },
   {
    "duration": 764,
    "start_time": "2024-06-12T09:10:44.907Z"
   },
   {
    "duration": 136,
    "start_time": "2024-06-12T09:10:45.673Z"
   },
   {
    "duration": 7,
    "start_time": "2024-06-12T09:10:45.811Z"
   },
   {
    "duration": 157,
    "start_time": "2024-06-12T09:10:45.819Z"
   },
   {
    "duration": 7,
    "start_time": "2024-06-12T09:10:45.977Z"
   },
   {
    "duration": 3,
    "start_time": "2024-06-12T09:10:45.985Z"
   },
   {
    "duration": 788,
    "start_time": "2024-06-12T09:11:34.380Z"
   },
   {
    "duration": 27451,
    "start_time": "2024-06-12T09:12:25.801Z"
   },
   {
    "duration": 5,
    "start_time": "2024-06-12T09:12:53.255Z"
   },
   {
    "duration": 142,
    "start_time": "2024-06-12T09:12:53.261Z"
   },
   {
    "duration": 105,
    "start_time": "2024-06-12T09:12:53.405Z"
   },
   {
    "duration": 103,
    "start_time": "2024-06-12T09:12:53.511Z"
   },
   {
    "duration": 4,
    "start_time": "2024-06-12T09:12:53.615Z"
   },
   {
    "duration": 94,
    "start_time": "2024-06-12T09:12:53.620Z"
   },
   {
    "duration": 55,
    "start_time": "2024-06-12T09:12:53.715Z"
   },
   {
    "duration": 80,
    "start_time": "2024-06-12T09:12:53.771Z"
   },
   {
    "duration": 4,
    "start_time": "2024-06-12T09:12:53.853Z"
   },
   {
    "duration": 11,
    "start_time": "2024-06-12T09:12:53.858Z"
   },
   {
    "duration": 48,
    "start_time": "2024-06-12T09:12:53.871Z"
   },
   {
    "duration": 756,
    "start_time": "2024-06-12T09:12:53.920Z"
   },
   {
    "duration": 50,
    "start_time": "2024-06-12T09:12:54.677Z"
   },
   {
    "duration": 30,
    "start_time": "2024-06-12T09:12:54.729Z"
   },
   {
    "duration": 751,
    "start_time": "2024-06-12T09:12:54.760Z"
   },
   {
    "duration": 43,
    "start_time": "2024-06-12T09:12:55.513Z"
   },
   {
    "duration": 45,
    "start_time": "2024-06-12T09:12:55.557Z"
   },
   {
    "duration": 725,
    "start_time": "2024-06-12T09:12:55.604Z"
   },
   {
    "duration": 130,
    "start_time": "2024-06-12T09:12:56.330Z"
   },
   {
    "duration": 6,
    "start_time": "2024-06-12T09:12:56.461Z"
   },
   {
    "duration": 137,
    "start_time": "2024-06-12T09:12:56.468Z"
   },
   {
    "duration": 7,
    "start_time": "2024-06-12T09:12:56.607Z"
   },
   {
    "duration": 7,
    "start_time": "2024-06-12T09:12:56.615Z"
   },
   {
    "duration": 2096,
    "start_time": "2024-06-12T09:13:00.278Z"
   },
   {
    "duration": 26541,
    "start_time": "2024-06-12T09:14:37.331Z"
   },
   {
    "duration": 5,
    "start_time": "2024-06-12T09:15:03.874Z"
   },
   {
    "duration": 148,
    "start_time": "2024-06-12T09:15:03.881Z"
   },
   {
    "duration": 105,
    "start_time": "2024-06-12T09:15:04.031Z"
   },
   {
    "duration": 103,
    "start_time": "2024-06-12T09:15:04.138Z"
   },
   {
    "duration": 4,
    "start_time": "2024-06-12T09:15:04.242Z"
   },
   {
    "duration": 107,
    "start_time": "2024-06-12T09:15:04.247Z"
   },
   {
    "duration": 69,
    "start_time": "2024-06-12T09:15:04.355Z"
   },
   {
    "duration": 77,
    "start_time": "2024-06-12T09:15:04.426Z"
   },
   {
    "duration": 4,
    "start_time": "2024-06-12T09:15:04.505Z"
   },
   {
    "duration": 8,
    "start_time": "2024-06-12T09:15:04.510Z"
   },
   {
    "duration": 32,
    "start_time": "2024-06-12T09:15:04.519Z"
   },
   {
    "duration": 754,
    "start_time": "2024-06-12T09:15:04.553Z"
   },
   {
    "duration": 44,
    "start_time": "2024-06-12T09:15:05.308Z"
   },
   {
    "duration": 31,
    "start_time": "2024-06-12T09:15:05.353Z"
   },
   {
    "duration": 751,
    "start_time": "2024-06-12T09:15:05.385Z"
   },
   {
    "duration": 44,
    "start_time": "2024-06-12T09:15:06.137Z"
   },
   {
    "duration": 41,
    "start_time": "2024-06-12T09:15:06.183Z"
   },
   {
    "duration": 758,
    "start_time": "2024-06-12T09:15:06.225Z"
   },
   {
    "duration": 130,
    "start_time": "2024-06-12T09:15:06.984Z"
   },
   {
    "duration": 5,
    "start_time": "2024-06-12T09:15:07.115Z"
   },
   {
    "duration": 171,
    "start_time": "2024-06-12T09:15:07.121Z"
   },
   {
    "duration": 14,
    "start_time": "2024-06-12T09:15:07.293Z"
   },
   {
    "duration": 14,
    "start_time": "2024-06-12T09:15:07.308Z"
   },
   {
    "duration": 670,
    "start_time": "2024-06-12T09:15:30.352Z"
   },
   {
    "duration": 1236,
    "start_time": "2024-06-12T09:15:32.837Z"
   },
   {
    "duration": 1110,
    "start_time": "2024-06-12T09:16:06.227Z"
   },
   {
    "duration": 1241,
    "start_time": "2024-06-12T09:16:28.606Z"
   },
   {
    "duration": 1244,
    "start_time": "2024-06-12T09:17:04.688Z"
   },
   {
    "duration": 1149,
    "start_time": "2024-06-12T09:17:32.461Z"
   },
   {
    "duration": 1166,
    "start_time": "2024-06-12T09:20:28.312Z"
   },
   {
    "duration": 1235,
    "start_time": "2024-06-12T09:21:01.987Z"
   },
   {
    "duration": 1128,
    "start_time": "2024-06-12T09:21:40.669Z"
   },
   {
    "duration": 4,
    "start_time": "2024-06-12T09:26:50.081Z"
   },
   {
    "duration": 12,
    "start_time": "2024-06-12T09:27:12.510Z"
   },
   {
    "duration": 4,
    "start_time": "2024-06-12T09:27:43.972Z"
   },
   {
    "duration": 202,
    "start_time": "2024-06-12T09:27:45.628Z"
   },
   {
    "duration": 4,
    "start_time": "2024-06-12T09:28:02.725Z"
   },
   {
    "duration": 671,
    "start_time": "2024-06-12T09:28:07.341Z"
   },
   {
    "duration": 637,
    "start_time": "2024-06-12T09:29:49.612Z"
   },
   {
    "duration": 689,
    "start_time": "2024-06-12T09:29:55.320Z"
   },
   {
    "duration": 4,
    "start_time": "2024-06-12T09:39:40.480Z"
   },
   {
    "duration": 4,
    "start_time": "2024-06-12T09:39:48.494Z"
   },
   {
    "duration": 604,
    "start_time": "2024-06-12T09:39:54.359Z"
   },
   {
    "duration": 4,
    "start_time": "2024-06-12T09:40:13.340Z"
   },
   {
    "duration": 598,
    "start_time": "2024-06-12T09:40:16.459Z"
   },
   {
    "duration": 4,
    "start_time": "2024-06-12T09:40:33.501Z"
   },
   {
    "duration": 557,
    "start_time": "2024-06-12T09:40:38.839Z"
   },
   {
    "duration": 3,
    "start_time": "2024-06-12T09:40:55.208Z"
   },
   {
    "duration": 551,
    "start_time": "2024-06-12T09:40:59.080Z"
   },
   {
    "duration": 3,
    "start_time": "2024-06-12T09:41:34.031Z"
   },
   {
    "duration": 647,
    "start_time": "2024-06-12T09:41:36.671Z"
   },
   {
    "duration": 3,
    "start_time": "2024-06-12T09:42:11.118Z"
   },
   {
    "duration": 533,
    "start_time": "2024-06-12T09:42:13.579Z"
   },
   {
    "duration": 4,
    "start_time": "2024-06-12T09:43:34.249Z"
   },
   {
    "duration": 10,
    "start_time": "2024-06-12T09:43:35.002Z"
   },
   {
    "duration": 4,
    "start_time": "2024-06-12T09:43:43.331Z"
   },
   {
    "duration": 3,
    "start_time": "2024-06-12T09:43:46.172Z"
   },
   {
    "duration": 764,
    "start_time": "2024-06-12T09:43:47.301Z"
   },
   {
    "duration": 3,
    "start_time": "2024-06-12T09:49:41.577Z"
   },
   {
    "duration": 4,
    "start_time": "2024-06-12T09:50:43.058Z"
   },
   {
    "duration": 3,
    "start_time": "2024-06-12T09:50:44.068Z"
   },
   {
    "duration": 3,
    "start_time": "2024-06-12T09:50:45.388Z"
   },
   {
    "duration": 26623,
    "start_time": "2024-06-12T10:10:35.207Z"
   },
   {
    "duration": 5,
    "start_time": "2024-06-12T10:11:01.833Z"
   },
   {
    "duration": 241,
    "start_time": "2024-06-12T10:11:01.839Z"
   },
   {
    "duration": 98,
    "start_time": "2024-06-12T10:11:02.082Z"
   },
   {
    "duration": 100,
    "start_time": "2024-06-12T10:11:02.182Z"
   },
   {
    "duration": 4,
    "start_time": "2024-06-12T10:11:02.283Z"
   },
   {
    "duration": 82,
    "start_time": "2024-06-12T10:11:02.288Z"
   },
   {
    "duration": 72,
    "start_time": "2024-06-12T10:11:02.372Z"
   },
   {
    "duration": 86,
    "start_time": "2024-06-12T10:11:02.446Z"
   },
   {
    "duration": 4,
    "start_time": "2024-06-12T10:11:06.673Z"
   },
   {
    "duration": 4,
    "start_time": "2024-06-12T10:11:07.835Z"
   },
   {
    "duration": 3,
    "start_time": "2024-06-12T10:11:09.085Z"
   },
   {
    "duration": 31,
    "start_time": "2024-06-12T10:11:10.175Z"
   },
   {
    "duration": 650,
    "start_time": "2024-06-12T10:11:10.876Z"
   },
   {
    "duration": 718,
    "start_time": "2024-06-12T10:11:11.527Z"
   },
   {
    "duration": 45,
    "start_time": "2024-06-12T10:11:12.554Z"
   },
   {
    "duration": 4,
    "start_time": "2024-06-12T10:11:56.509Z"
   },
   {
    "duration": 614,
    "start_time": "2024-06-12T10:12:03.040Z"
   },
   {
    "duration": 31,
    "start_time": "2024-06-12T10:13:20.204Z"
   },
   {
    "duration": 792,
    "start_time": "2024-06-12T10:13:20.897Z"
   },
   {
    "duration": 757,
    "start_time": "2024-06-12T10:13:21.690Z"
   },
   {
    "duration": 43,
    "start_time": "2024-06-12T10:13:22.986Z"
   },
   {
    "duration": 30,
    "start_time": "2024-06-12T10:13:24.470Z"
   },
   {
    "duration": 623,
    "start_time": "2024-06-12T10:13:24.670Z"
   },
   {
    "duration": 762,
    "start_time": "2024-06-12T10:13:25.294Z"
   },
   {
    "duration": 137,
    "start_time": "2024-06-12T10:13:26.058Z"
   },
   {
    "duration": 650,
    "start_time": "2024-06-12T10:13:48.217Z"
   },
   {
    "duration": 754,
    "start_time": "2024-06-12T10:13:54.927Z"
   },
   {
    "duration": 629,
    "start_time": "2024-06-12T10:14:27.836Z"
   },
   {
    "duration": 1068,
    "start_time": "2024-06-12T10:14:28.765Z"
   },
   {
    "duration": 1066,
    "start_time": "2024-06-12T10:15:06.701Z"
   },
   {
    "duration": 331,
    "start_time": "2024-06-12T10:33:59.754Z"
   },
   {
    "duration": 319,
    "start_time": "2024-06-12T10:34:08.163Z"
   },
   {
    "duration": 312,
    "start_time": "2024-06-12T10:34:13.018Z"
   },
   {
    "duration": 69,
    "start_time": "2024-06-12T10:35:37.384Z"
   },
   {
    "duration": 248,
    "start_time": "2024-06-12T10:35:51.428Z"
   },
   {
    "duration": 63,
    "start_time": "2024-06-12T10:35:58.534Z"
   },
   {
    "duration": 10,
    "start_time": "2024-06-12T10:36:06.595Z"
   },
   {
    "duration": 405,
    "start_time": "2024-06-12T10:36:17.013Z"
   },
   {
    "duration": 331,
    "start_time": "2024-06-12T10:36:31.626Z"
   },
   {
    "duration": 321,
    "start_time": "2024-06-12T10:36:36.956Z"
   },
   {
    "duration": 328,
    "start_time": "2024-06-12T10:36:42.227Z"
   },
   {
    "duration": 321,
    "start_time": "2024-06-12T10:37:06.346Z"
   },
   {
    "duration": 315,
    "start_time": "2024-06-12T10:37:13.659Z"
   },
   {
    "duration": 304,
    "start_time": "2024-06-12T10:37:22.603Z"
   },
   {
    "duration": 12,
    "start_time": "2024-06-12T10:39:53.798Z"
   },
   {
    "duration": 26669,
    "start_time": "2024-06-12T10:40:04.248Z"
   },
   {
    "duration": 5,
    "start_time": "2024-06-12T10:40:30.920Z"
   },
   {
    "duration": 292,
    "start_time": "2024-06-12T10:40:30.926Z"
   },
   {
    "duration": 98,
    "start_time": "2024-06-12T10:40:31.220Z"
   },
   {
    "duration": 127,
    "start_time": "2024-06-12T10:40:31.320Z"
   },
   {
    "duration": 3,
    "start_time": "2024-06-12T10:40:31.449Z"
   },
   {
    "duration": 118,
    "start_time": "2024-06-12T10:40:31.453Z"
   },
   {
    "duration": 66,
    "start_time": "2024-06-12T10:40:31.572Z"
   },
   {
    "duration": 74,
    "start_time": "2024-06-12T10:40:31.639Z"
   },
   {
    "duration": 4,
    "start_time": "2024-06-12T10:40:31.714Z"
   },
   {
    "duration": 143,
    "start_time": "2024-06-12T10:40:31.719Z"
   },
   {
    "duration": 34,
    "start_time": "2024-06-12T10:40:31.863Z"
   },
   {
    "duration": 41,
    "start_time": "2024-06-12T10:40:31.899Z"
   },
   {
    "duration": 689,
    "start_time": "2024-06-12T10:40:31.942Z"
   },
   {
    "duration": 713,
    "start_time": "2024-06-12T10:40:32.632Z"
   },
   {
    "duration": 43,
    "start_time": "2024-06-12T10:40:33.347Z"
   },
   {
    "duration": 37,
    "start_time": "2024-06-12T10:40:33.391Z"
   },
   {
    "duration": 781,
    "start_time": "2024-06-12T10:40:33.429Z"
   },
   {
    "duration": 741,
    "start_time": "2024-06-12T10:40:34.211Z"
   },
   {
    "duration": 49,
    "start_time": "2024-06-12T10:40:34.953Z"
   },
   {
    "duration": 58,
    "start_time": "2024-06-12T10:40:35.004Z"
   },
   {
    "duration": 642,
    "start_time": "2024-06-12T10:40:35.063Z"
   },
   {
    "duration": 747,
    "start_time": "2024-06-12T10:40:35.706Z"
   },
   {
    "duration": 131,
    "start_time": "2024-06-12T10:40:36.454Z"
   },
   {
    "duration": 21,
    "start_time": "2024-06-12T10:40:36.587Z"
   },
   {
    "duration": 170,
    "start_time": "2024-06-12T10:40:36.610Z"
   },
   {
    "duration": 9,
    "start_time": "2024-06-12T10:40:36.781Z"
   },
   {
    "duration": 10,
    "start_time": "2024-06-12T10:40:36.791Z"
   },
   {
    "duration": 1480,
    "start_time": "2024-06-12T10:40:43.176Z"
   },
   {
    "duration": 10,
    "start_time": "2024-06-12T10:42:41.782Z"
   },
   {
    "duration": 10,
    "start_time": "2024-06-12T10:43:42.236Z"
   },
   {
    "duration": 27274,
    "start_time": "2024-06-12T10:43:46.420Z"
   },
   {
    "duration": 5,
    "start_time": "2024-06-12T10:44:13.697Z"
   },
   {
    "duration": 154,
    "start_time": "2024-06-12T10:44:13.704Z"
   },
   {
    "duration": 110,
    "start_time": "2024-06-12T10:44:13.860Z"
   },
   {
    "duration": 104,
    "start_time": "2024-06-12T10:44:13.972Z"
   },
   {
    "duration": 4,
    "start_time": "2024-06-12T10:44:14.077Z"
   },
   {
    "duration": 70,
    "start_time": "2024-06-12T10:44:14.082Z"
   },
   {
    "duration": 84,
    "start_time": "2024-06-12T10:44:14.153Z"
   },
   {
    "duration": 85,
    "start_time": "2024-06-12T10:44:14.238Z"
   },
   {
    "duration": 4,
    "start_time": "2024-06-12T10:44:14.325Z"
   },
   {
    "duration": 8,
    "start_time": "2024-06-12T10:44:14.330Z"
   },
   {
    "duration": 6,
    "start_time": "2024-06-12T10:44:14.340Z"
   },
   {
    "duration": 32,
    "start_time": "2024-06-12T10:44:14.348Z"
   },
   {
    "duration": 793,
    "start_time": "2024-06-12T10:44:14.402Z"
   },
   {
    "duration": 756,
    "start_time": "2024-06-12T10:44:15.196Z"
   },
   {
    "duration": 51,
    "start_time": "2024-06-12T10:44:15.954Z"
   },
   {
    "duration": 31,
    "start_time": "2024-06-12T10:44:16.006Z"
   },
   {
    "duration": 700,
    "start_time": "2024-06-12T10:44:16.038Z"
   },
   {
    "duration": 764,
    "start_time": "2024-06-12T10:44:16.739Z"
   },
   {
    "duration": 44,
    "start_time": "2024-06-12T10:44:17.504Z"
   },
   {
    "duration": 31,
    "start_time": "2024-06-12T10:44:17.549Z"
   },
   {
    "duration": 641,
    "start_time": "2024-06-12T10:44:17.581Z"
   },
   {
    "duration": 764,
    "start_time": "2024-06-12T10:44:18.224Z"
   },
   {
    "duration": 129,
    "start_time": "2024-06-12T10:44:18.989Z"
   },
   {
    "duration": 6,
    "start_time": "2024-06-12T10:44:19.119Z"
   },
   {
    "duration": 149,
    "start_time": "2024-06-12T10:44:19.127Z"
   },
   {
    "duration": 9,
    "start_time": "2024-06-12T10:44:19.277Z"
   },
   {
    "duration": 3,
    "start_time": "2024-06-12T10:44:19.287Z"
   },
   {
    "duration": 619,
    "start_time": "2024-06-12T10:44:53.118Z"
   },
   {
    "duration": 535,
    "start_time": "2024-06-12T10:44:53.739Z"
   },
   {
    "duration": 483,
    "start_time": "2024-06-12T10:44:54.276Z"
   },
   {
    "duration": 61,
    "start_time": "2024-06-12T10:53:47.948Z"
   },
   {
    "duration": 70,
    "start_time": "2024-06-12T10:55:23.688Z"
   },
   {
    "duration": 3,
    "start_time": "2024-06-12T11:13:47.351Z"
   },
   {
    "duration": 2,
    "start_time": "2024-06-12T11:14:08.287Z"
   },
   {
    "duration": 15,
    "start_time": "2024-06-12T11:20:43.229Z"
   },
   {
    "duration": 14,
    "start_time": "2024-06-12T11:21:04.010Z"
   },
   {
    "duration": 12,
    "start_time": "2024-06-12T11:21:36.244Z"
   },
   {
    "duration": 510,
    "start_time": "2024-06-12T11:27:03.344Z"
   },
   {
    "duration": 480,
    "start_time": "2024-06-12T11:27:10.473Z"
   },
   {
    "duration": 26324,
    "start_time": "2024-06-12T11:27:15.697Z"
   },
   {
    "duration": 5,
    "start_time": "2024-06-12T11:27:42.024Z"
   },
   {
    "duration": 173,
    "start_time": "2024-06-12T11:27:42.030Z"
   },
   {
    "duration": 97,
    "start_time": "2024-06-12T11:27:42.205Z"
   },
   {
    "duration": 106,
    "start_time": "2024-06-12T11:27:42.303Z"
   },
   {
    "duration": 4,
    "start_time": "2024-06-12T11:27:42.410Z"
   },
   {
    "duration": 77,
    "start_time": "2024-06-12T11:27:42.415Z"
   },
   {
    "duration": 60,
    "start_time": "2024-06-12T11:27:42.502Z"
   },
   {
    "duration": 89,
    "start_time": "2024-06-12T11:27:42.563Z"
   },
   {
    "duration": 4,
    "start_time": "2024-06-12T11:27:42.655Z"
   },
   {
    "duration": 19,
    "start_time": "2024-06-12T11:27:42.661Z"
   },
   {
    "duration": 22,
    "start_time": "2024-06-12T11:27:42.681Z"
   },
   {
    "duration": 34,
    "start_time": "2024-06-12T11:27:42.704Z"
   },
   {
    "duration": 685,
    "start_time": "2024-06-12T11:27:42.739Z"
   },
   {
    "duration": 747,
    "start_time": "2024-06-12T11:27:43.425Z"
   },
   {
    "duration": 65,
    "start_time": "2024-06-12T11:27:44.173Z"
   },
   {
    "duration": 31,
    "start_time": "2024-06-12T11:27:44.239Z"
   },
   {
    "duration": 713,
    "start_time": "2024-06-12T11:27:44.271Z"
   },
   {
    "duration": 920,
    "start_time": "2024-06-12T11:27:44.986Z"
   },
   {
    "duration": 44,
    "start_time": "2024-06-12T11:27:45.908Z"
   },
   {
    "duration": 30,
    "start_time": "2024-06-12T11:27:45.954Z"
   },
   {
    "duration": 601,
    "start_time": "2024-06-12T11:27:45.985Z"
   },
   {
    "duration": 724,
    "start_time": "2024-06-12T11:27:46.587Z"
   },
   {
    "duration": 130,
    "start_time": "2024-06-12T11:27:47.312Z"
   },
   {
    "duration": 10,
    "start_time": "2024-06-12T11:27:47.444Z"
   },
   {
    "duration": 137,
    "start_time": "2024-06-12T11:27:47.455Z"
   },
   {
    "duration": 13,
    "start_time": "2024-06-12T11:27:47.593Z"
   },
   {
    "duration": 41,
    "start_time": "2024-06-12T11:27:47.609Z"
   },
   {
    "duration": 26676,
    "start_time": "2024-06-12T11:29:53.288Z"
   },
   {
    "duration": 1585,
    "start_time": "2024-06-12T11:30:19.966Z"
   },
   {
    "duration": 123,
    "start_time": "2024-06-12T11:30:21.552Z"
   },
   {
    "duration": 105,
    "start_time": "2024-06-12T11:30:21.677Z"
   },
   {
    "duration": 104,
    "start_time": "2024-06-12T11:30:21.784Z"
   },
   {
    "duration": 3,
    "start_time": "2024-06-12T11:30:21.889Z"
   },
   {
    "duration": 89,
    "start_time": "2024-06-12T11:30:21.893Z"
   },
   {
    "duration": 70,
    "start_time": "2024-06-12T11:30:21.983Z"
   },
   {
    "duration": 91,
    "start_time": "2024-06-12T11:30:22.054Z"
   },
   {
    "duration": 4,
    "start_time": "2024-06-12T11:30:22.147Z"
   },
   {
    "duration": 10,
    "start_time": "2024-06-12T11:30:22.152Z"
   },
   {
    "duration": 24,
    "start_time": "2024-06-12T11:30:22.164Z"
   },
   {
    "duration": 68,
    "start_time": "2024-06-12T11:30:22.190Z"
   },
   {
    "duration": 721,
    "start_time": "2024-06-12T11:30:22.259Z"
   },
   {
    "duration": 717,
    "start_time": "2024-06-12T11:30:22.981Z"
   },
   {
    "duration": 44,
    "start_time": "2024-06-12T11:30:23.699Z"
   },
   {
    "duration": 33,
    "start_time": "2024-06-12T11:30:23.744Z"
   },
   {
    "duration": 632,
    "start_time": "2024-06-12T11:30:23.778Z"
   },
   {
    "duration": 760,
    "start_time": "2024-06-12T11:30:24.411Z"
   },
   {
    "duration": 51,
    "start_time": "2024-06-12T11:30:25.173Z"
   },
   {
    "duration": 31,
    "start_time": "2024-06-12T11:30:25.225Z"
   },
   {
    "duration": 635,
    "start_time": "2024-06-12T11:30:25.258Z"
   },
   {
    "duration": 815,
    "start_time": "2024-06-12T11:30:25.894Z"
   },
   {
    "duration": 142,
    "start_time": "2024-06-12T11:30:26.711Z"
   },
   {
    "duration": 3,
    "start_time": "2024-06-12T11:30:26.854Z"
   },
   {
    "duration": 175,
    "start_time": "2024-06-12T11:30:26.858Z"
   },
   {
    "duration": 10,
    "start_time": "2024-06-12T11:30:27.035Z"
   },
   {
    "duration": 29,
    "start_time": "2024-06-12T11:30:27.048Z"
   },
   {
    "duration": 515,
    "start_time": "2024-06-12T11:31:28.855Z"
   },
   {
    "duration": 133,
    "start_time": "2024-06-12T11:33:48.676Z"
   },
   {
    "duration": 0,
    "start_time": "2024-06-12T11:33:48.810Z"
   },
   {
    "duration": 26375,
    "start_time": "2024-06-12T11:36:48.408Z"
   },
   {
    "duration": 5,
    "start_time": "2024-06-12T11:37:14.785Z"
   },
   {
    "duration": 140,
    "start_time": "2024-06-12T11:37:14.791Z"
   },
   {
    "duration": 107,
    "start_time": "2024-06-12T11:37:14.933Z"
   },
   {
    "duration": 109,
    "start_time": "2024-06-12T11:37:15.041Z"
   },
   {
    "duration": 3,
    "start_time": "2024-06-12T11:37:15.152Z"
   },
   {
    "duration": 129,
    "start_time": "2024-06-12T11:37:15.157Z"
   },
   {
    "duration": 53,
    "start_time": "2024-06-12T11:37:15.301Z"
   },
   {
    "duration": 81,
    "start_time": "2024-06-12T11:37:15.355Z"
   },
   {
    "duration": 4,
    "start_time": "2024-06-12T11:37:15.439Z"
   },
   {
    "duration": 27,
    "start_time": "2024-06-12T11:37:15.444Z"
   },
   {
    "duration": 9,
    "start_time": "2024-06-12T11:37:15.472Z"
   },
   {
    "duration": 33,
    "start_time": "2024-06-12T11:37:15.482Z"
   },
   {
    "duration": 666,
    "start_time": "2024-06-12T11:37:15.516Z"
   },
   {
    "duration": 682,
    "start_time": "2024-06-12T11:37:16.183Z"
   },
   {
    "duration": 55,
    "start_time": "2024-06-12T11:37:16.866Z"
   },
   {
    "duration": 30,
    "start_time": "2024-06-12T11:37:16.923Z"
   },
   {
    "duration": 645,
    "start_time": "2024-06-12T11:37:16.954Z"
   },
   {
    "duration": 723,
    "start_time": "2024-06-12T11:37:17.601Z"
   },
   {
    "duration": 43,
    "start_time": "2024-06-12T11:37:18.325Z"
   },
   {
    "duration": 42,
    "start_time": "2024-06-12T11:37:18.369Z"
   },
   {
    "duration": 598,
    "start_time": "2024-06-12T11:37:18.412Z"
   },
   {
    "duration": 763,
    "start_time": "2024-06-12T11:37:19.012Z"
   },
   {
    "duration": 132,
    "start_time": "2024-06-12T11:37:19.777Z"
   },
   {
    "duration": 7,
    "start_time": "2024-06-12T11:37:19.910Z"
   },
   {
    "duration": 148,
    "start_time": "2024-06-12T11:37:19.918Z"
   },
   {
    "duration": 7,
    "start_time": "2024-06-12T11:37:20.067Z"
   },
   {
    "duration": 14,
    "start_time": "2024-06-12T11:37:20.076Z"
   },
   {
    "duration": 599,
    "start_time": "2024-06-12T11:37:20.091Z"
   },
   {
    "duration": 546,
    "start_time": "2024-06-12T11:37:20.701Z"
   },
   {
    "duration": 530,
    "start_time": "2024-06-12T11:37:21.248Z"
   },
   {
    "duration": 357,
    "start_time": "2024-06-12T11:37:21.780Z"
   },
   {
    "duration": 64,
    "start_time": "2024-06-12T11:37:22.138Z"
   },
   {
    "duration": 2,
    "start_time": "2024-06-12T11:37:35.728Z"
   },
   {
    "duration": 3,
    "start_time": "2024-06-12T11:37:36.303Z"
   },
   {
    "duration": 3,
    "start_time": "2024-06-12T11:37:36.899Z"
   },
   {
    "duration": 2,
    "start_time": "2024-06-12T11:37:37.836Z"
   },
   {
    "duration": 15,
    "start_time": "2024-06-12T11:37:38.447Z"
   },
   {
    "duration": 11,
    "start_time": "2024-06-12T11:38:10.568Z"
   },
   {
    "duration": 431,
    "start_time": "2024-06-12T11:38:16.196Z"
   },
   {
    "duration": 3,
    "start_time": "2024-06-12T11:38:19.715Z"
   },
   {
    "duration": 9,
    "start_time": "2024-06-12T11:39:51.698Z"
   },
   {
    "duration": 16,
    "start_time": "2024-06-12T11:41:32.912Z"
   },
   {
    "duration": 8,
    "start_time": "2024-06-12T11:44:51.584Z"
   },
   {
    "duration": 6,
    "start_time": "2024-06-12T11:44:59.907Z"
   },
   {
    "duration": 5,
    "start_time": "2024-06-12T11:45:15.415Z"
   },
   {
    "duration": 3,
    "start_time": "2024-06-12T11:45:23.065Z"
   },
   {
    "duration": 5,
    "start_time": "2024-06-12T11:46:22.054Z"
   },
   {
    "duration": 4,
    "start_time": "2024-06-12T11:58:40.605Z"
   },
   {
    "duration": 7,
    "start_time": "2024-06-12T11:58:41.393Z"
   },
   {
    "duration": 3,
    "start_time": "2024-06-12T12:01:22.323Z"
   },
   {
    "duration": 2,
    "start_time": "2024-06-12T12:01:22.878Z"
   },
   {
    "duration": 2,
    "start_time": "2024-06-12T12:01:39.736Z"
   },
   {
    "duration": 2,
    "start_time": "2024-06-12T12:01:40.475Z"
   },
   {
    "duration": 4,
    "start_time": "2024-06-12T12:01:41.216Z"
   },
   {
    "duration": 431,
    "start_time": "2024-06-12T12:01:44.086Z"
   },
   {
    "duration": 3,
    "start_time": "2024-06-12T12:01:45.128Z"
   },
   {
    "duration": 10,
    "start_time": "2024-06-12T12:01:50.637Z"
   },
   {
    "duration": 12,
    "start_time": "2024-06-12T12:02:11.992Z"
   },
   {
    "duration": 5,
    "start_time": "2024-06-12T12:02:12.757Z"
   },
   {
    "duration": 5,
    "start_time": "2024-06-12T12:02:25.716Z"
   },
   {
    "duration": 30,
    "start_time": "2024-06-12T12:19:19.862Z"
   },
   {
    "duration": 24,
    "start_time": "2024-06-12T12:19:21.451Z"
   },
   {
    "duration": 24,
    "start_time": "2024-06-12T12:19:22.651Z"
   },
   {
    "duration": 29,
    "start_time": "2024-06-12T12:19:41.869Z"
   },
   {
    "duration": 29,
    "start_time": "2024-06-12T12:23:44.513Z"
   },
   {
    "duration": 28,
    "start_time": "2024-06-12T12:23:51.901Z"
   },
   {
    "duration": 80,
    "start_time": "2024-06-12T12:25:14.391Z"
   },
   {
    "duration": 75,
    "start_time": "2024-06-12T12:25:32.291Z"
   },
   {
    "duration": 2,
    "start_time": "2024-06-12T12:34:25.822Z"
   },
   {
    "duration": 9,
    "start_time": "2024-06-12T12:34:27.130Z"
   },
   {
    "duration": 7,
    "start_time": "2024-06-12T12:34:28.110Z"
   },
   {
    "duration": 2,
    "start_time": "2024-06-12T12:37:01.682Z"
   },
   {
    "duration": 3,
    "start_time": "2024-06-12T12:37:07.037Z"
   },
   {
    "duration": 2,
    "start_time": "2024-06-12T12:37:59.990Z"
   },
   {
    "duration": 3,
    "start_time": "2024-06-12T12:38:07.209Z"
   },
   {
    "duration": 3,
    "start_time": "2024-06-12T12:39:36.388Z"
   },
   {
    "duration": 3,
    "start_time": "2024-06-12T12:39:46.578Z"
   },
   {
    "duration": 8,
    "start_time": "2024-06-12T12:49:45.766Z"
   },
   {
    "duration": 2,
    "start_time": "2024-06-12T12:49:50.944Z"
   },
   {
    "duration": 4,
    "start_time": "2024-06-12T12:49:52.838Z"
   },
   {
    "duration": 4,
    "start_time": "2024-06-12T12:55:09.926Z"
   },
   {
    "duration": 52,
    "start_time": "2024-06-12T12:56:16.903Z"
   },
   {
    "duration": 56,
    "start_time": "2024-06-12T12:56:36.765Z"
   },
   {
    "duration": 52,
    "start_time": "2024-06-12T12:56:51.569Z"
   },
   {
    "duration": 6,
    "start_time": "2024-06-12T12:57:52.182Z"
   },
   {
    "duration": 5,
    "start_time": "2024-06-12T12:58:50.082Z"
   },
   {
    "duration": 76,
    "start_time": "2024-06-12T13:01:24.578Z"
   },
   {
    "duration": 65,
    "start_time": "2024-06-12T13:02:49.349Z"
   },
   {
    "duration": 3,
    "start_time": "2024-06-12T13:05:49.662Z"
   },
   {
    "duration": 9,
    "start_time": "2024-06-12T13:06:23.450Z"
   },
   {
    "duration": 8,
    "start_time": "2024-06-12T13:07:17.316Z"
   },
   {
    "duration": 11,
    "start_time": "2024-06-12T13:07:34.910Z"
   },
   {
    "duration": 4,
    "start_time": "2024-06-12T13:08:47.593Z"
   },
   {
    "duration": 14,
    "start_time": "2024-06-12T13:09:48.271Z"
   },
   {
    "duration": 3,
    "start_time": "2024-06-12T13:10:14.184Z"
   },
   {
    "duration": 2634,
    "start_time": "2024-06-12T13:10:14.722Z"
   },
   {
    "duration": 2621,
    "start_time": "2024-06-12T13:10:48.086Z"
   },
   {
    "duration": 4,
    "start_time": "2024-06-12T13:20:24.176Z"
   },
   {
    "duration": 3,
    "start_time": "2024-06-12T13:21:23.409Z"
   },
   {
    "duration": 4,
    "start_time": "2024-06-12T13:21:28.009Z"
   },
   {
    "duration": 3,
    "start_time": "2024-06-12T13:23:26.822Z"
   },
   {
    "duration": 26934,
    "start_time": "2024-06-13T05:50:34.230Z"
   },
   {
    "duration": 4,
    "start_time": "2024-06-13T05:51:01.167Z"
   },
   {
    "duration": 26371,
    "start_time": "2024-06-13T05:52:54.816Z"
   },
   {
    "duration": 4,
    "start_time": "2024-06-13T05:53:21.189Z"
   },
   {
    "duration": 266,
    "start_time": "2024-06-13T05:53:21.195Z"
   },
   {
    "duration": 215,
    "start_time": "2024-06-13T05:53:21.462Z"
   },
   {
    "duration": 241,
    "start_time": "2024-06-13T05:53:21.679Z"
   },
   {
    "duration": 5,
    "start_time": "2024-06-13T05:53:21.922Z"
   },
   {
    "duration": 114,
    "start_time": "2024-06-13T05:53:21.929Z"
   },
   {
    "duration": 94,
    "start_time": "2024-06-13T05:53:22.045Z"
   },
   {
    "duration": 106,
    "start_time": "2024-06-13T05:53:22.141Z"
   },
   {
    "duration": 5,
    "start_time": "2024-06-13T05:53:22.249Z"
   },
   {
    "duration": 5,
    "start_time": "2024-06-13T05:53:22.282Z"
   },
   {
    "duration": 8,
    "start_time": "2024-06-13T05:53:22.289Z"
   },
   {
    "duration": 44,
    "start_time": "2024-06-13T05:53:22.299Z"
   },
   {
    "duration": 840,
    "start_time": "2024-06-13T05:53:22.346Z"
   },
   {
    "duration": 1033,
    "start_time": "2024-06-13T05:53:23.188Z"
   },
   {
    "duration": 64,
    "start_time": "2024-06-13T05:53:24.222Z"
   },
   {
    "duration": 39,
    "start_time": "2024-06-13T05:53:24.287Z"
   },
   {
    "duration": 801,
    "start_time": "2024-06-13T05:53:24.328Z"
   },
   {
    "duration": 957,
    "start_time": "2024-06-13T05:53:25.130Z"
   },
   {
    "duration": 57,
    "start_time": "2024-06-13T05:53:26.088Z"
   },
   {
    "duration": 54,
    "start_time": "2024-06-13T05:53:26.147Z"
   },
   {
    "duration": 802,
    "start_time": "2024-06-13T05:53:26.202Z"
   },
   {
    "duration": 986,
    "start_time": "2024-06-13T05:53:27.006Z"
   },
   {
    "duration": 170,
    "start_time": "2024-06-13T05:53:27.993Z"
   },
   {
    "duration": 3,
    "start_time": "2024-06-13T05:53:28.165Z"
   },
   {
    "duration": 219,
    "start_time": "2024-06-13T05:53:28.170Z"
   },
   {
    "duration": 11,
    "start_time": "2024-06-13T05:53:28.391Z"
   },
   {
    "duration": 4,
    "start_time": "2024-06-13T05:53:28.403Z"
   },
   {
    "duration": 468,
    "start_time": "2024-06-13T05:53:28.408Z"
   },
   {
    "duration": 0,
    "start_time": "2024-06-13T05:53:28.878Z"
   },
   {
    "duration": 0,
    "start_time": "2024-06-13T05:53:28.882Z"
   },
   {
    "duration": 0,
    "start_time": "2024-06-13T05:53:28.883Z"
   },
   {
    "duration": 0,
    "start_time": "2024-06-13T05:53:28.884Z"
   },
   {
    "duration": 0,
    "start_time": "2024-06-13T05:53:28.886Z"
   },
   {
    "duration": 0,
    "start_time": "2024-06-13T05:53:28.887Z"
   },
   {
    "duration": 0,
    "start_time": "2024-06-13T05:53:28.888Z"
   },
   {
    "duration": 0,
    "start_time": "2024-06-13T05:53:28.889Z"
   },
   {
    "duration": 0,
    "start_time": "2024-06-13T05:53:28.890Z"
   },
   {
    "duration": 0,
    "start_time": "2024-06-13T05:53:28.891Z"
   },
   {
    "duration": 0,
    "start_time": "2024-06-13T05:53:28.893Z"
   },
   {
    "duration": 0,
    "start_time": "2024-06-13T05:53:28.894Z"
   },
   {
    "duration": 0,
    "start_time": "2024-06-13T05:53:28.895Z"
   },
   {
    "duration": 0,
    "start_time": "2024-06-13T05:53:28.896Z"
   },
   {
    "duration": 0,
    "start_time": "2024-06-13T05:53:28.897Z"
   },
   {
    "duration": 0,
    "start_time": "2024-06-13T05:53:28.898Z"
   },
   {
    "duration": 1,
    "start_time": "2024-06-13T05:53:28.899Z"
   },
   {
    "duration": 1,
    "start_time": "2024-06-13T05:53:28.900Z"
   },
   {
    "duration": 0,
    "start_time": "2024-06-13T05:53:28.902Z"
   },
   {
    "duration": 0,
    "start_time": "2024-06-13T05:53:28.903Z"
   },
   {
    "duration": 0,
    "start_time": "2024-06-13T05:53:28.904Z"
   },
   {
    "duration": 0,
    "start_time": "2024-06-13T05:53:28.905Z"
   },
   {
    "duration": 0,
    "start_time": "2024-06-13T05:53:28.906Z"
   },
   {
    "duration": 0,
    "start_time": "2024-06-13T05:53:28.907Z"
   },
   {
    "duration": 0,
    "start_time": "2024-06-13T05:53:28.908Z"
   },
   {
    "duration": 0,
    "start_time": "2024-06-13T05:53:28.910Z"
   },
   {
    "duration": 0,
    "start_time": "2024-06-13T05:53:28.911Z"
   },
   {
    "duration": 0,
    "start_time": "2024-06-13T05:53:28.912Z"
   },
   {
    "duration": 5,
    "start_time": "2024-06-13T06:02:32.321Z"
   },
   {
    "duration": 936,
    "start_time": "2024-06-13T07:20:19.964Z"
   },
   {
    "duration": 793,
    "start_time": "2024-06-13T07:20:26.051Z"
   },
   {
    "duration": 781,
    "start_time": "2024-06-13T07:20:32.568Z"
   },
   {
    "duration": 70,
    "start_time": "2024-06-13T07:22:18.332Z"
   },
   {
    "duration": 26613,
    "start_time": "2024-06-13T07:22:39.272Z"
   },
   {
    "duration": 5,
    "start_time": "2024-06-13T07:23:05.888Z"
   },
   {
    "duration": 172,
    "start_time": "2024-06-13T07:23:05.895Z"
   },
   {
    "duration": 147,
    "start_time": "2024-06-13T07:23:06.070Z"
   },
   {
    "duration": 148,
    "start_time": "2024-06-13T07:23:06.219Z"
   },
   {
    "duration": 4,
    "start_time": "2024-06-13T07:23:06.368Z"
   },
   {
    "duration": 113,
    "start_time": "2024-06-13T07:23:06.374Z"
   },
   {
    "duration": 72,
    "start_time": "2024-06-13T07:23:06.489Z"
   },
   {
    "duration": 88,
    "start_time": "2024-06-13T07:23:06.563Z"
   },
   {
    "duration": 32,
    "start_time": "2024-06-13T07:23:06.653Z"
   },
   {
    "duration": 5,
    "start_time": "2024-06-13T07:23:06.687Z"
   },
   {
    "duration": 4,
    "start_time": "2024-06-13T07:23:06.694Z"
   },
   {
    "duration": 58,
    "start_time": "2024-06-13T07:23:06.700Z"
   },
   {
    "duration": 840,
    "start_time": "2024-06-13T07:23:11.997Z"
   },
   {
    "duration": 910,
    "start_time": "2024-06-13T07:23:12.993Z"
   },
   {
    "duration": 885,
    "start_time": "2024-06-13T07:23:17.851Z"
   },
   {
    "duration": 60,
    "start_time": "2024-06-13T07:23:23.948Z"
   },
   {
    "duration": 45,
    "start_time": "2024-06-13T07:24:15.186Z"
   },
   {
    "duration": 959,
    "start_time": "2024-06-13T07:24:15.893Z"
   },
   {
    "duration": 925,
    "start_time": "2024-06-13T07:24:16.854Z"
   },
   {
    "duration": 24341,
    "start_time": "2024-06-13T13:06:51.904Z"
   },
   {
    "duration": 4,
    "start_time": "2024-06-13T13:07:16.247Z"
   },
   {
    "duration": 155,
    "start_time": "2024-06-13T13:07:16.252Z"
   },
   {
    "duration": 105,
    "start_time": "2024-06-13T13:07:16.409Z"
   },
   {
    "duration": 110,
    "start_time": "2024-06-13T13:07:16.516Z"
   },
   {
    "duration": 3,
    "start_time": "2024-06-13T13:07:16.627Z"
   },
   {
    "duration": 80,
    "start_time": "2024-06-13T13:07:16.631Z"
   },
   {
    "duration": 84,
    "start_time": "2024-06-13T13:07:16.712Z"
   },
   {
    "duration": 61,
    "start_time": "2024-06-13T13:07:16.797Z"
   },
   {
    "duration": 24,
    "start_time": "2024-06-13T13:07:16.861Z"
   },
   {
    "duration": 7,
    "start_time": "2024-06-13T13:07:16.887Z"
   },
   {
    "duration": 5,
    "start_time": "2024-06-13T13:07:16.895Z"
   },
   {
    "duration": 44,
    "start_time": "2024-06-13T13:07:16.901Z"
   },
   {
    "duration": 781,
    "start_time": "2024-06-13T13:07:16.947Z"
   },
   {
    "duration": 717,
    "start_time": "2024-06-13T13:07:17.730Z"
   },
   {
    "duration": 51,
    "start_time": "2024-06-13T13:07:18.449Z"
   },
   {
    "duration": 32,
    "start_time": "2024-06-13T13:07:18.501Z"
   },
   {
    "duration": 641,
    "start_time": "2024-06-13T13:07:18.534Z"
   },
   {
    "duration": 737,
    "start_time": "2024-06-13T13:07:19.176Z"
   },
   {
    "duration": 49,
    "start_time": "2024-06-13T13:07:19.915Z"
   },
   {
    "duration": 45,
    "start_time": "2024-06-13T13:07:19.965Z"
   },
   {
    "duration": 619,
    "start_time": "2024-06-13T13:07:20.011Z"
   },
   {
    "duration": 779,
    "start_time": "2024-06-13T13:07:20.631Z"
   },
   {
    "duration": 139,
    "start_time": "2024-06-13T13:07:21.411Z"
   },
   {
    "duration": 5,
    "start_time": "2024-06-13T13:07:21.552Z"
   },
   {
    "duration": 162,
    "start_time": "2024-06-13T13:07:21.558Z"
   },
   {
    "duration": 7,
    "start_time": "2024-06-13T13:07:21.721Z"
   },
   {
    "duration": 5,
    "start_time": "2024-06-13T13:07:21.731Z"
   },
   {
    "duration": 256,
    "start_time": "2024-06-13T13:07:21.737Z"
   },
   {
    "duration": 0,
    "start_time": "2024-06-13T13:07:21.995Z"
   },
   {
    "duration": 0,
    "start_time": "2024-06-13T13:07:21.996Z"
   },
   {
    "duration": 0,
    "start_time": "2024-06-13T13:07:21.997Z"
   },
   {
    "duration": 0,
    "start_time": "2024-06-13T13:07:21.998Z"
   },
   {
    "duration": 0,
    "start_time": "2024-06-13T13:07:22.000Z"
   },
   {
    "duration": 0,
    "start_time": "2024-06-13T13:07:22.001Z"
   },
   {
    "duration": 0,
    "start_time": "2024-06-13T13:07:22.002Z"
   },
   {
    "duration": 0,
    "start_time": "2024-06-13T13:07:22.003Z"
   },
   {
    "duration": 0,
    "start_time": "2024-06-13T13:07:22.004Z"
   },
   {
    "duration": 0,
    "start_time": "2024-06-13T13:07:22.005Z"
   },
   {
    "duration": 0,
    "start_time": "2024-06-13T13:07:22.007Z"
   },
   {
    "duration": 0,
    "start_time": "2024-06-13T13:07:22.008Z"
   },
   {
    "duration": 0,
    "start_time": "2024-06-13T13:07:22.009Z"
   },
   {
    "duration": 0,
    "start_time": "2024-06-13T13:07:22.010Z"
   },
   {
    "duration": 0,
    "start_time": "2024-06-13T13:07:22.011Z"
   },
   {
    "duration": 0,
    "start_time": "2024-06-13T13:07:22.013Z"
   },
   {
    "duration": 0,
    "start_time": "2024-06-13T13:07:22.014Z"
   },
   {
    "duration": 0,
    "start_time": "2024-06-13T13:07:22.016Z"
   },
   {
    "duration": 0,
    "start_time": "2024-06-13T13:07:22.017Z"
   },
   {
    "duration": 0,
    "start_time": "2024-06-13T13:07:22.018Z"
   },
   {
    "duration": 0,
    "start_time": "2024-06-13T13:07:22.019Z"
   },
   {
    "duration": 0,
    "start_time": "2024-06-13T13:07:22.021Z"
   },
   {
    "duration": 0,
    "start_time": "2024-06-13T13:07:22.022Z"
   },
   {
    "duration": 0,
    "start_time": "2024-06-13T13:07:22.024Z"
   },
   {
    "duration": 0,
    "start_time": "2024-06-13T13:07:22.025Z"
   },
   {
    "duration": 0,
    "start_time": "2024-06-13T13:07:22.025Z"
   },
   {
    "duration": 0,
    "start_time": "2024-06-13T13:07:22.026Z"
   },
   {
    "duration": 0,
    "start_time": "2024-06-13T13:07:22.027Z"
   },
   {
    "duration": 155,
    "start_time": "2024-06-13T13:15:28.832Z"
   },
   {
    "duration": 18,
    "start_time": "2024-06-13T13:15:41.803Z"
   },
   {
    "duration": 24865,
    "start_time": "2024-06-13T13:15:45.660Z"
   },
   {
    "duration": 4,
    "start_time": "2024-06-13T13:16:10.527Z"
   },
   {
    "duration": 136,
    "start_time": "2024-06-13T13:16:10.532Z"
   },
   {
    "duration": 124,
    "start_time": "2024-06-13T13:16:10.669Z"
   },
   {
    "duration": 101,
    "start_time": "2024-06-13T13:16:10.795Z"
   },
   {
    "duration": 4,
    "start_time": "2024-06-13T13:16:10.897Z"
   },
   {
    "duration": 82,
    "start_time": "2024-06-13T13:16:10.902Z"
   },
   {
    "duration": 58,
    "start_time": "2024-06-13T13:16:10.986Z"
   },
   {
    "duration": 82,
    "start_time": "2024-06-13T13:16:11.045Z"
   },
   {
    "duration": 4,
    "start_time": "2024-06-13T13:16:11.128Z"
   },
   {
    "duration": 16,
    "start_time": "2024-06-13T13:16:11.134Z"
   },
   {
    "duration": 9,
    "start_time": "2024-06-13T13:16:11.151Z"
   },
   {
    "duration": 42,
    "start_time": "2024-06-13T13:16:11.162Z"
   },
   {
    "duration": 696,
    "start_time": "2024-06-13T13:16:11.207Z"
   },
   {
    "duration": 730,
    "start_time": "2024-06-13T13:16:11.904Z"
   },
   {
    "duration": 59,
    "start_time": "2024-06-13T13:16:12.636Z"
   },
   {
    "duration": 34,
    "start_time": "2024-06-13T13:16:12.697Z"
   },
   {
    "duration": 624,
    "start_time": "2024-06-13T13:16:12.732Z"
   },
   {
    "duration": 820,
    "start_time": "2024-06-13T13:16:13.357Z"
   },
   {
    "duration": 48,
    "start_time": "2024-06-13T13:16:14.179Z"
   },
   {
    "duration": 56,
    "start_time": "2024-06-13T13:16:14.229Z"
   },
   {
    "duration": 608,
    "start_time": "2024-06-13T13:16:14.286Z"
   },
   {
    "duration": 776,
    "start_time": "2024-06-13T13:16:14.895Z"
   },
   {
    "duration": 135,
    "start_time": "2024-06-13T13:16:15.672Z"
   },
   {
    "duration": 7,
    "start_time": "2024-06-13T13:16:15.808Z"
   },
   {
    "duration": 136,
    "start_time": "2024-06-13T13:16:15.816Z"
   },
   {
    "duration": 7,
    "start_time": "2024-06-13T13:16:15.953Z"
   },
   {
    "duration": 3,
    "start_time": "2024-06-13T13:16:15.961Z"
   },
   {
    "duration": 580,
    "start_time": "2024-06-13T13:16:15.965Z"
   },
   {
    "duration": 500,
    "start_time": "2024-06-13T13:16:16.546Z"
   },
   {
    "duration": 496,
    "start_time": "2024-06-13T13:16:17.048Z"
   },
   {
    "duration": 3,
    "start_time": "2024-06-13T13:16:17.546Z"
   },
   {
    "duration": 12,
    "start_time": "2024-06-13T13:16:17.551Z"
   },
   {
    "duration": 7,
    "start_time": "2024-06-13T13:16:17.565Z"
   },
   {
    "duration": 16,
    "start_time": "2024-06-13T13:16:17.573Z"
   },
   {
    "duration": 5,
    "start_time": "2024-06-13T13:16:17.590Z"
   },
   {
    "duration": 4,
    "start_time": "2024-06-13T13:16:17.596Z"
   },
   {
    "duration": 414,
    "start_time": "2024-06-13T13:16:17.601Z"
   },
   {
    "duration": 73,
    "start_time": "2024-06-13T13:16:18.016Z"
   },
   {
    "duration": 106,
    "start_time": "2024-06-13T13:16:18.091Z"
   },
   {
    "duration": 88,
    "start_time": "2024-06-13T13:16:18.201Z"
   },
   {
    "duration": 93,
    "start_time": "2024-06-13T13:16:18.293Z"
   },
   {
    "duration": 4,
    "start_time": "2024-06-13T13:16:18.387Z"
   },
   {
    "duration": 0,
    "start_time": "2024-06-13T13:16:18.392Z"
   },
   {
    "duration": 0,
    "start_time": "2024-06-13T13:16:18.393Z"
   },
   {
    "duration": 0,
    "start_time": "2024-06-13T13:16:18.394Z"
   },
   {
    "duration": 0,
    "start_time": "2024-06-13T13:16:18.395Z"
   },
   {
    "duration": 0,
    "start_time": "2024-06-13T13:16:18.396Z"
   },
   {
    "duration": 0,
    "start_time": "2024-06-13T13:16:18.397Z"
   },
   {
    "duration": 0,
    "start_time": "2024-06-13T13:16:18.397Z"
   },
   {
    "duration": 0,
    "start_time": "2024-06-13T13:16:18.398Z"
   },
   {
    "duration": 0,
    "start_time": "2024-06-13T13:16:18.399Z"
   },
   {
    "duration": 0,
    "start_time": "2024-06-13T13:16:18.400Z"
   },
   {
    "duration": 0,
    "start_time": "2024-06-13T13:16:18.401Z"
   },
   {
    "duration": 0,
    "start_time": "2024-06-13T13:16:18.402Z"
   },
   {
    "duration": 0,
    "start_time": "2024-06-13T13:16:18.403Z"
   },
   {
    "duration": 0,
    "start_time": "2024-06-13T13:16:18.404Z"
   },
   {
    "duration": 367,
    "start_time": "2024-06-13T13:22:37.536Z"
   },
   {
    "duration": 4,
    "start_time": "2024-06-13T13:22:37.985Z"
   },
   {
    "duration": 24939,
    "start_time": "2024-06-13T13:54:30.753Z"
   },
   {
    "duration": 8,
    "start_time": "2024-06-13T13:54:55.694Z"
   },
   {
    "duration": 151,
    "start_time": "2024-06-13T13:54:55.704Z"
   },
   {
    "duration": 104,
    "start_time": "2024-06-13T13:54:55.857Z"
   },
   {
    "duration": 110,
    "start_time": "2024-06-13T13:54:55.962Z"
   },
   {
    "duration": 4,
    "start_time": "2024-06-13T13:54:56.073Z"
   },
   {
    "duration": 73,
    "start_time": "2024-06-13T13:54:56.084Z"
   },
   {
    "duration": 77,
    "start_time": "2024-06-13T13:54:56.158Z"
   },
   {
    "duration": 81,
    "start_time": "2024-06-13T13:54:56.236Z"
   },
   {
    "duration": 4,
    "start_time": "2024-06-13T13:54:56.320Z"
   },
   {
    "duration": 20,
    "start_time": "2024-06-13T13:54:56.325Z"
   },
   {
    "duration": 4,
    "start_time": "2024-06-13T13:54:56.347Z"
   },
   {
    "duration": 44,
    "start_time": "2024-06-13T13:54:56.352Z"
   },
   {
    "duration": 648,
    "start_time": "2024-06-13T13:54:56.398Z"
   },
   {
    "duration": 799,
    "start_time": "2024-06-13T13:54:57.047Z"
   },
   {
    "duration": 48,
    "start_time": "2024-06-13T13:54:57.847Z"
   },
   {
    "duration": 29,
    "start_time": "2024-06-13T13:54:57.896Z"
   },
   {
    "duration": 641,
    "start_time": "2024-06-13T13:54:57.927Z"
   },
   {
    "duration": 795,
    "start_time": "2024-06-13T13:54:58.569Z"
   },
   {
    "duration": 49,
    "start_time": "2024-06-13T13:54:59.366Z"
   },
   {
    "duration": 33,
    "start_time": "2024-06-13T13:54:59.417Z"
   },
   {
    "duration": 651,
    "start_time": "2024-06-13T13:54:59.452Z"
   },
   {
    "duration": 774,
    "start_time": "2024-06-13T13:55:00.105Z"
   },
   {
    "duration": 141,
    "start_time": "2024-06-13T13:55:00.883Z"
   },
   {
    "duration": 11,
    "start_time": "2024-06-13T13:55:01.025Z"
   },
   {
    "duration": 187,
    "start_time": "2024-06-13T13:55:01.037Z"
   },
   {
    "duration": 7,
    "start_time": "2024-06-13T13:55:01.225Z"
   },
   {
    "duration": 125,
    "start_time": "2024-06-13T13:55:01.235Z"
   },
   {
    "duration": 586,
    "start_time": "2024-06-13T13:55:01.361Z"
   },
   {
    "duration": 588,
    "start_time": "2024-06-13T13:55:01.949Z"
   },
   {
    "duration": 519,
    "start_time": "2024-06-13T13:55:02.538Z"
   },
   {
    "duration": 3,
    "start_time": "2024-06-13T13:55:03.059Z"
   },
   {
    "duration": 14,
    "start_time": "2024-06-13T13:55:03.064Z"
   },
   {
    "duration": 3,
    "start_time": "2024-06-13T13:55:34.057Z"
   },
   {
    "duration": 3,
    "start_time": "2024-06-13T13:55:34.509Z"
   },
   {
    "duration": 4,
    "start_time": "2024-06-13T13:55:34.969Z"
   },
   {
    "duration": 4,
    "start_time": "2024-06-13T13:55:35.404Z"
   },
   {
    "duration": 597,
    "start_time": "2024-06-13T13:55:38.187Z"
   },
   {
    "duration": 3,
    "start_time": "2024-06-13T13:55:48.337Z"
   },
   {
    "duration": 26,
    "start_time": "2024-06-13T13:56:16.044Z"
   },
   {
    "duration": 26,
    "start_time": "2024-06-13T13:56:31.494Z"
   },
   {
    "duration": 25,
    "start_time": "2024-06-13T13:56:49.659Z"
   },
   {
    "duration": 392,
    "start_time": "2024-06-13T13:57:03.405Z"
   },
   {
    "duration": 25915,
    "start_time": "2024-06-13T13:57:57.329Z"
   },
   {
    "duration": 4,
    "start_time": "2024-06-13T13:58:23.247Z"
   },
   {
    "duration": 135,
    "start_time": "2024-06-13T13:58:23.252Z"
   },
   {
    "duration": 99,
    "start_time": "2024-06-13T13:58:23.388Z"
   },
   {
    "duration": 111,
    "start_time": "2024-06-13T13:58:23.490Z"
   },
   {
    "duration": 7,
    "start_time": "2024-06-13T13:58:23.603Z"
   },
   {
    "duration": 77,
    "start_time": "2024-06-13T13:58:23.611Z"
   },
   {
    "duration": 59,
    "start_time": "2024-06-13T13:58:23.689Z"
   },
   {
    "duration": 76,
    "start_time": "2024-06-13T13:58:23.749Z"
   },
   {
    "duration": 4,
    "start_time": "2024-06-13T13:58:23.826Z"
   },
   {
    "duration": 10,
    "start_time": "2024-06-13T13:58:23.831Z"
   },
   {
    "duration": 24,
    "start_time": "2024-06-13T13:58:23.842Z"
   },
   {
    "duration": 155,
    "start_time": "2024-06-13T13:58:23.867Z"
   },
   {
    "duration": 726,
    "start_time": "2024-06-13T13:58:24.025Z"
   },
   {
    "duration": 788,
    "start_time": "2024-06-13T13:58:24.752Z"
   },
   {
    "duration": 55,
    "start_time": "2024-06-13T13:58:25.542Z"
   },
   {
    "duration": 35,
    "start_time": "2024-06-13T13:58:25.598Z"
   },
   {
    "duration": 682,
    "start_time": "2024-06-13T13:58:25.635Z"
   },
   {
    "duration": 767,
    "start_time": "2024-06-13T13:58:26.318Z"
   },
   {
    "duration": 47,
    "start_time": "2024-06-13T13:58:27.087Z"
   },
   {
    "duration": 33,
    "start_time": "2024-06-13T13:58:27.135Z"
   },
   {
    "duration": 677,
    "start_time": "2024-06-13T13:58:27.169Z"
   },
   {
    "duration": 890,
    "start_time": "2024-06-13T13:58:27.848Z"
   },
   {
    "duration": 146,
    "start_time": "2024-06-13T13:58:28.739Z"
   },
   {
    "duration": 10,
    "start_time": "2024-06-13T13:58:28.886Z"
   },
   {
    "duration": 166,
    "start_time": "2024-06-13T13:58:28.898Z"
   },
   {
    "duration": 8,
    "start_time": "2024-06-13T13:58:29.065Z"
   },
   {
    "duration": 5,
    "start_time": "2024-06-13T13:58:29.074Z"
   },
   {
    "duration": 560,
    "start_time": "2024-06-13T13:58:29.084Z"
   },
   {
    "duration": 601,
    "start_time": "2024-06-13T13:58:29.645Z"
   },
   {
    "duration": 528,
    "start_time": "2024-06-13T13:58:30.247Z"
   },
   {
    "duration": 7,
    "start_time": "2024-06-13T13:58:30.776Z"
   },
   {
    "duration": 44,
    "start_time": "2024-06-13T13:58:30.785Z"
   },
   {
    "duration": 2,
    "start_time": "2024-06-13T13:58:37.149Z"
   },
   {
    "duration": 2,
    "start_time": "2024-06-13T13:58:37.773Z"
   },
   {
    "duration": 3,
    "start_time": "2024-06-13T13:58:38.473Z"
   },
   {
    "duration": 3,
    "start_time": "2024-06-13T13:58:40.812Z"
   },
   {
    "duration": 550,
    "start_time": "2024-06-13T13:58:43.963Z"
   },
   {
    "duration": 4,
    "start_time": "2024-06-13T13:58:44.814Z"
   },
   {
    "duration": 26061,
    "start_time": "2024-06-13T14:00:11.366Z"
   },
   {
    "duration": 4,
    "start_time": "2024-06-13T14:00:37.430Z"
   },
   {
    "duration": 140,
    "start_time": "2024-06-13T14:00:37.436Z"
   },
   {
    "duration": 126,
    "start_time": "2024-06-13T14:00:37.577Z"
   },
   {
    "duration": 116,
    "start_time": "2024-06-13T14:00:37.705Z"
   },
   {
    "duration": 5,
    "start_time": "2024-06-13T14:00:37.822Z"
   },
   {
    "duration": 94,
    "start_time": "2024-06-13T14:00:37.829Z"
   },
   {
    "duration": 84,
    "start_time": "2024-06-13T14:00:37.925Z"
   },
   {
    "duration": 83,
    "start_time": "2024-06-13T14:00:38.010Z"
   },
   {
    "duration": 4,
    "start_time": "2024-06-13T14:00:38.096Z"
   },
   {
    "duration": 6,
    "start_time": "2024-06-13T14:00:38.101Z"
   },
   {
    "duration": 5,
    "start_time": "2024-06-13T14:00:38.109Z"
   },
   {
    "duration": 39,
    "start_time": "2024-06-13T14:00:38.116Z"
   },
   {
    "duration": 683,
    "start_time": "2024-06-13T14:00:38.156Z"
   },
   {
    "duration": 726,
    "start_time": "2024-06-13T14:00:38.841Z"
   },
   {
    "duration": 53,
    "start_time": "2024-06-13T14:00:39.568Z"
   },
   {
    "duration": 32,
    "start_time": "2024-06-13T14:00:39.622Z"
   },
   {
    "duration": 629,
    "start_time": "2024-06-13T14:00:39.655Z"
   },
   {
    "duration": 908,
    "start_time": "2024-06-13T14:00:40.286Z"
   },
   {
    "duration": 46,
    "start_time": "2024-06-13T14:00:41.196Z"
   },
   {
    "duration": 44,
    "start_time": "2024-06-13T14:00:41.244Z"
   },
   {
    "duration": 650,
    "start_time": "2024-06-13T14:00:41.289Z"
   },
   {
    "duration": 832,
    "start_time": "2024-06-13T14:00:41.940Z"
   },
   {
    "duration": 167,
    "start_time": "2024-06-13T14:00:42.774Z"
   },
   {
    "duration": 9,
    "start_time": "2024-06-13T14:00:42.943Z"
   },
   {
    "duration": 163,
    "start_time": "2024-06-13T14:00:42.954Z"
   },
   {
    "duration": 6,
    "start_time": "2024-06-13T14:00:43.119Z"
   },
   {
    "duration": 11,
    "start_time": "2024-06-13T14:00:43.128Z"
   },
   {
    "duration": 521,
    "start_time": "2024-06-13T14:00:43.141Z"
   },
   {
    "duration": 551,
    "start_time": "2024-06-13T14:00:43.663Z"
   },
   {
    "duration": 531,
    "start_time": "2024-06-13T14:00:44.215Z"
   },
   {
    "duration": 3,
    "start_time": "2024-06-13T14:00:44.748Z"
   },
   {
    "duration": 10,
    "start_time": "2024-06-13T14:00:44.752Z"
   },
   {
    "duration": 3,
    "start_time": "2024-06-13T14:00:49.753Z"
   },
   {
    "duration": 2,
    "start_time": "2024-06-13T14:00:50.400Z"
   },
   {
    "duration": 4,
    "start_time": "2024-06-13T14:00:50.906Z"
   },
   {
    "duration": 4,
    "start_time": "2024-06-13T14:00:55.810Z"
   },
   {
    "duration": 562,
    "start_time": "2024-06-13T14:00:58.049Z"
   },
   {
    "duration": 3,
    "start_time": "2024-06-13T14:01:02.089Z"
   },
   {
    "duration": 3,
    "start_time": "2024-06-13T14:26:12.245Z"
   },
   {
    "duration": 9,
    "start_time": "2024-06-13T14:26:12.937Z"
   },
   {
    "duration": 26541,
    "start_time": "2024-06-13T14:28:35.463Z"
   },
   {
    "duration": 5,
    "start_time": "2024-06-13T14:29:02.006Z"
   },
   {
    "duration": 192,
    "start_time": "2024-06-13T14:29:02.013Z"
   },
   {
    "duration": 113,
    "start_time": "2024-06-13T14:29:02.207Z"
   },
   {
    "duration": 141,
    "start_time": "2024-06-13T14:29:02.322Z"
   },
   {
    "duration": 5,
    "start_time": "2024-06-13T14:29:02.465Z"
   },
   {
    "duration": 111,
    "start_time": "2024-06-13T14:29:02.471Z"
   },
   {
    "duration": 70,
    "start_time": "2024-06-13T14:29:02.583Z"
   },
   {
    "duration": 107,
    "start_time": "2024-06-13T14:29:02.655Z"
   },
   {
    "duration": 4,
    "start_time": "2024-06-13T14:29:02.784Z"
   },
   {
    "duration": 28,
    "start_time": "2024-06-13T14:29:02.790Z"
   },
   {
    "duration": 38,
    "start_time": "2024-06-13T14:29:02.820Z"
   },
   {
    "duration": 56,
    "start_time": "2024-06-13T14:29:02.859Z"
   },
   {
    "duration": 738,
    "start_time": "2024-06-13T14:29:02.916Z"
   },
   {
    "duration": 876,
    "start_time": "2024-06-13T14:29:03.656Z"
   },
   {
    "duration": 56,
    "start_time": "2024-06-13T14:29:04.533Z"
   },
   {
    "duration": 32,
    "start_time": "2024-06-13T14:29:04.590Z"
   },
   {
    "duration": 696,
    "start_time": "2024-06-13T14:29:04.623Z"
   },
   {
    "duration": 789,
    "start_time": "2024-06-13T14:29:05.321Z"
   },
   {
    "duration": 50,
    "start_time": "2024-06-13T14:29:06.111Z"
   },
   {
    "duration": 46,
    "start_time": "2024-06-13T14:29:06.162Z"
   },
   {
    "duration": 649,
    "start_time": "2024-06-13T14:29:06.209Z"
   },
   {
    "duration": 820,
    "start_time": "2024-06-13T14:29:06.859Z"
   },
   {
    "duration": 147,
    "start_time": "2024-06-13T14:29:07.680Z"
   },
   {
    "duration": 13,
    "start_time": "2024-06-13T14:29:07.829Z"
   },
   {
    "duration": 174,
    "start_time": "2024-06-13T14:29:07.843Z"
   },
   {
    "duration": 6,
    "start_time": "2024-06-13T14:29:08.019Z"
   },
   {
    "duration": 21,
    "start_time": "2024-06-13T14:29:08.028Z"
   },
   {
    "duration": 576,
    "start_time": "2024-06-13T14:29:08.050Z"
   },
   {
    "duration": 530,
    "start_time": "2024-06-13T14:29:08.628Z"
   },
   {
    "duration": 649,
    "start_time": "2024-06-13T14:29:09.159Z"
   },
   {
    "duration": 4,
    "start_time": "2024-06-13T14:29:09.810Z"
   },
   {
    "duration": 26,
    "start_time": "2024-06-13T14:29:09.816Z"
   },
   {
    "duration": 3,
    "start_time": "2024-06-13T14:30:26.209Z"
   },
   {
    "duration": 2,
    "start_time": "2024-06-13T14:30:26.700Z"
   },
   {
    "duration": 5,
    "start_time": "2024-06-13T14:30:27.684Z"
   },
   {
    "duration": 5,
    "start_time": "2024-06-13T14:30:28.724Z"
   },
   {
    "duration": 543,
    "start_time": "2024-06-13T14:30:31.874Z"
   },
   {
    "duration": 3,
    "start_time": "2024-06-13T14:30:35.819Z"
   },
   {
    "duration": 3,
    "start_time": "2024-06-13T14:30:37.120Z"
   },
   {
    "duration": 10,
    "start_time": "2024-06-13T14:30:38.437Z"
   },
   {
    "duration": 5,
    "start_time": "2024-06-13T14:30:39.606Z"
   },
   {
    "duration": 5,
    "start_time": "2024-06-13T14:30:45.105Z"
   },
   {
    "duration": 6,
    "start_time": "2024-06-13T14:50:25.413Z"
   },
   {
    "duration": 5,
    "start_time": "2024-06-13T15:04:21.388Z"
   },
   {
    "duration": 4,
    "start_time": "2024-06-13T15:04:31.708Z"
   },
   {
    "duration": 6,
    "start_time": "2024-06-13T15:04:51.278Z"
   },
   {
    "duration": 4,
    "start_time": "2024-06-13T15:05:04.860Z"
   },
   {
    "duration": 2,
    "start_time": "2024-06-13T15:17:28.224Z"
   },
   {
    "duration": 11,
    "start_time": "2024-06-13T16:03:54.615Z"
   },
   {
    "duration": 2,
    "start_time": "2024-06-13T16:03:58.611Z"
   },
   {
    "duration": 2,
    "start_time": "2024-06-13T16:03:59.449Z"
   },
   {
    "duration": 2,
    "start_time": "2024-06-13T16:03:59.880Z"
   },
   {
    "duration": 2,
    "start_time": "2024-06-13T16:04:00.301Z"
   },
   {
    "duration": 2,
    "start_time": "2024-06-13T16:04:01.010Z"
   },
   {
    "duration": 3,
    "start_time": "2024-06-13T16:04:07.414Z"
   },
   {
    "duration": 48,
    "start_time": "2024-06-13T16:19:29.601Z"
   },
   {
    "duration": 3,
    "start_time": "2024-06-13T16:19:39.420Z"
   },
   {
    "duration": 11,
    "start_time": "2024-06-13T16:19:41.152Z"
   },
   {
    "duration": 4,
    "start_time": "2024-06-13T16:21:03.122Z"
   },
   {
    "duration": 10,
    "start_time": "2024-06-13T16:21:04.499Z"
   },
   {
    "duration": 4,
    "start_time": "2024-06-13T16:24:46.581Z"
   },
   {
    "duration": 11,
    "start_time": "2024-06-13T16:25:16.419Z"
   },
   {
    "duration": 4,
    "start_time": "2024-06-13T16:26:12.467Z"
   },
   {
    "duration": 10,
    "start_time": "2024-06-13T16:26:59.339Z"
   },
   {
    "duration": 3,
    "start_time": "2024-06-13T16:27:01.654Z"
   },
   {
    "duration": 3,
    "start_time": "2024-06-13T16:27:11.702Z"
   },
   {
    "duration": 5,
    "start_time": "2024-06-13T16:27:25.684Z"
   },
   {
    "duration": 11,
    "start_time": "2024-06-13T16:27:30.429Z"
   },
   {
    "duration": 4,
    "start_time": "2024-06-13T16:27:40.170Z"
   },
   {
    "duration": 10,
    "start_time": "2024-06-13T16:27:45.481Z"
   },
   {
    "duration": 3,
    "start_time": "2024-06-13T16:27:56.806Z"
   },
   {
    "duration": 6,
    "start_time": "2024-06-13T16:27:59.896Z"
   },
   {
    "duration": 4,
    "start_time": "2024-06-13T16:41:15.179Z"
   },
   {
    "duration": 11,
    "start_time": "2024-06-13T16:41:23.441Z"
   },
   {
    "duration": 3,
    "start_time": "2024-06-13T16:41:35.809Z"
   },
   {
    "duration": 4,
    "start_time": "2024-06-13T16:41:36.653Z"
   },
   {
    "duration": 3,
    "start_time": "2024-06-13T16:41:37.473Z"
   },
   {
    "duration": 3,
    "start_time": "2024-06-13T16:41:37.676Z"
   },
   {
    "duration": 4,
    "start_time": "2024-06-13T16:41:37.848Z"
   },
   {
    "duration": 5,
    "start_time": "2024-06-13T16:41:38.993Z"
   },
   {
    "duration": 3,
    "start_time": "2024-06-13T16:41:56.279Z"
   },
   {
    "duration": 4,
    "start_time": "2024-06-13T16:41:56.841Z"
   },
   {
    "duration": 4,
    "start_time": "2024-06-13T16:41:57.421Z"
   },
   {
    "duration": 2,
    "start_time": "2024-06-13T16:41:57.652Z"
   },
   {
    "duration": 4,
    "start_time": "2024-06-13T16:41:57.907Z"
   },
   {
    "duration": 4,
    "start_time": "2024-06-13T16:41:58.859Z"
   },
   {
    "duration": 6,
    "start_time": "2024-06-13T16:42:45.133Z"
   },
   {
    "duration": 3,
    "start_time": "2024-06-13T16:42:50.105Z"
   },
   {
    "duration": 5,
    "start_time": "2024-06-13T16:42:53.809Z"
   },
   {
    "duration": 5,
    "start_time": "2024-06-13T16:43:13.592Z"
   },
   {
    "duration": 5,
    "start_time": "2024-06-13T16:43:19.263Z"
   },
   {
    "duration": 4,
    "start_time": "2024-06-13T16:43:56.079Z"
   },
   {
    "duration": 4,
    "start_time": "2024-06-13T16:44:33.348Z"
   },
   {
    "duration": 6,
    "start_time": "2024-06-13T16:45:17.413Z"
   },
   {
    "duration": 6,
    "start_time": "2024-06-13T16:47:44.553Z"
   },
   {
    "duration": 78,
    "start_time": "2024-06-13T16:47:45.249Z"
   },
   {
    "duration": 2,
    "start_time": "2024-06-13T16:52:45.113Z"
   },
   {
    "duration": 24,
    "start_time": "2024-06-13T16:54:18.868Z"
   },
   {
    "duration": 24,
    "start_time": "2024-06-13T16:54:30.516Z"
   },
   {
    "duration": 10,
    "start_time": "2024-06-13T16:54:44.871Z"
   },
   {
    "duration": 10,
    "start_time": "2024-06-13T16:54:53.124Z"
   },
   {
    "duration": 10,
    "start_time": "2024-06-13T16:55:28.479Z"
   },
   {
    "duration": 10,
    "start_time": "2024-06-13T16:55:33.959Z"
   },
   {
    "duration": 5,
    "start_time": "2024-06-13T16:55:40.058Z"
   },
   {
    "duration": 9,
    "start_time": "2024-06-13T16:56:01.176Z"
   },
   {
    "duration": 9,
    "start_time": "2024-06-13T16:56:08.248Z"
   },
   {
    "duration": 24,
    "start_time": "2024-06-13T17:03:17.208Z"
   },
   {
    "duration": 24,
    "start_time": "2024-06-13T17:03:42.360Z"
   },
   {
    "duration": 23,
    "start_time": "2024-06-13T17:03:52.369Z"
   },
   {
    "duration": 60,
    "start_time": "2024-06-13T17:05:30.454Z"
   },
   {
    "duration": 21,
    "start_time": "2024-06-13T17:05:40.883Z"
   },
   {
    "duration": 21,
    "start_time": "2024-06-13T17:07:57.037Z"
   },
   {
    "duration": 24,
    "start_time": "2024-06-13T17:08:53.242Z"
   },
   {
    "duration": 3,
    "start_time": "2024-06-13T17:14:30.618Z"
   },
   {
    "duration": 4,
    "start_time": "2024-06-13T17:14:46.498Z"
   },
   {
    "duration": 5,
    "start_time": "2024-06-13T17:15:02.427Z"
   },
   {
    "duration": 10,
    "start_time": "2024-06-13T17:17:21.214Z"
   },
   {
    "duration": 21,
    "start_time": "2024-06-13T17:18:04.797Z"
   },
   {
    "duration": 16,
    "start_time": "2024-06-13T17:18:31.819Z"
   },
   {
    "duration": 22,
    "start_time": "2024-06-13T17:18:42.003Z"
   },
   {
    "duration": 11,
    "start_time": "2024-06-13T17:18:58.509Z"
   },
   {
    "duration": 13,
    "start_time": "2024-06-13T17:18:59.243Z"
   },
   {
    "duration": 17,
    "start_time": "2024-06-13T17:19:50.422Z"
   },
   {
    "duration": 11,
    "start_time": "2024-06-13T17:20:03.626Z"
   },
   {
    "duration": 11,
    "start_time": "2024-06-13T17:20:39.854Z"
   },
   {
    "duration": 13,
    "start_time": "2024-06-13T17:20:51.662Z"
   },
   {
    "duration": 78,
    "start_time": "2024-06-13T17:22:50.507Z"
   },
   {
    "duration": 52,
    "start_time": "2024-06-13T17:23:03.966Z"
   },
   {
    "duration": 3,
    "start_time": "2024-06-13T17:23:25.308Z"
   },
   {
    "duration": 11,
    "start_time": "2024-06-13T17:23:59.186Z"
   },
   {
    "duration": 16,
    "start_time": "2024-06-13T17:30:46.344Z"
   },
   {
    "duration": 13,
    "start_time": "2024-06-13T17:31:36.653Z"
   },
   {
    "duration": 12,
    "start_time": "2024-06-13T17:32:01.923Z"
   },
   {
    "duration": 2,
    "start_time": "2024-06-13T17:32:26.678Z"
   },
   {
    "duration": 24,
    "start_time": "2024-06-13T17:35:00.739Z"
   },
   {
    "duration": 3,
    "start_time": "2024-06-13T17:35:01.855Z"
   },
   {
    "duration": 27,
    "start_time": "2024-06-13T17:35:29.930Z"
   },
   {
    "duration": 3,
    "start_time": "2024-06-13T17:35:30.173Z"
   },
   {
    "duration": 4,
    "start_time": "2024-06-13T17:35:44.613Z"
   },
   {
    "duration": 3,
    "start_time": "2024-06-13T17:36:01.730Z"
   },
   {
    "duration": 3,
    "start_time": "2024-06-13T17:36:27.571Z"
   },
   {
    "duration": 44,
    "start_time": "2024-06-13T18:01:06.229Z"
   },
   {
    "duration": 3,
    "start_time": "2024-06-13T18:01:23.546Z"
   },
   {
    "duration": 46828,
    "start_time": "2024-06-14T02:58:05.235Z"
   },
   {
    "duration": 1664,
    "start_time": "2024-06-14T02:58:52.065Z"
   },
   {
    "duration": 545,
    "start_time": "2024-06-14T02:58:53.730Z"
   },
   {
    "duration": 479,
    "start_time": "2024-06-14T02:58:54.277Z"
   },
   {
    "duration": 496,
    "start_time": "2024-06-14T02:58:54.758Z"
   },
   {
    "duration": 4,
    "start_time": "2024-06-14T02:58:55.255Z"
   },
   {
    "duration": 2157,
    "start_time": "2024-06-14T02:58:55.261Z"
   },
   {
    "duration": 429,
    "start_time": "2024-06-14T02:58:57.420Z"
   },
   {
    "duration": 621,
    "start_time": "2024-06-14T02:58:57.850Z"
   },
   {
    "duration": 889,
    "start_time": "2024-06-14T02:58:58.472Z"
   },
   {
    "duration": 0,
    "start_time": "2024-06-14T02:58:59.364Z"
   },
   {
    "duration": 0,
    "start_time": "2024-06-14T02:58:59.365Z"
   },
   {
    "duration": 0,
    "start_time": "2024-06-14T02:58:59.366Z"
   },
   {
    "duration": 0,
    "start_time": "2024-06-14T02:58:59.368Z"
   },
   {
    "duration": 0,
    "start_time": "2024-06-14T02:58:59.369Z"
   },
   {
    "duration": 0,
    "start_time": "2024-06-14T02:58:59.370Z"
   },
   {
    "duration": 0,
    "start_time": "2024-06-14T02:58:59.371Z"
   },
   {
    "duration": 0,
    "start_time": "2024-06-14T02:58:59.372Z"
   },
   {
    "duration": 0,
    "start_time": "2024-06-14T02:58:59.373Z"
   },
   {
    "duration": 0,
    "start_time": "2024-06-14T02:58:59.374Z"
   },
   {
    "duration": 0,
    "start_time": "2024-06-14T02:58:59.375Z"
   },
   {
    "duration": 0,
    "start_time": "2024-06-14T02:58:59.376Z"
   },
   {
    "duration": 0,
    "start_time": "2024-06-14T02:58:59.377Z"
   },
   {
    "duration": 0,
    "start_time": "2024-06-14T02:58:59.378Z"
   },
   {
    "duration": 0,
    "start_time": "2024-06-14T02:58:59.379Z"
   },
   {
    "duration": 0,
    "start_time": "2024-06-14T02:58:59.380Z"
   },
   {
    "duration": 0,
    "start_time": "2024-06-14T02:58:59.380Z"
   },
   {
    "duration": 0,
    "start_time": "2024-06-14T02:58:59.381Z"
   },
   {
    "duration": 0,
    "start_time": "2024-06-14T02:58:59.382Z"
   },
   {
    "duration": 0,
    "start_time": "2024-06-14T02:58:59.383Z"
   },
   {
    "duration": 0,
    "start_time": "2024-06-14T02:58:59.384Z"
   },
   {
    "duration": 0,
    "start_time": "2024-06-14T02:58:59.385Z"
   },
   {
    "duration": 0,
    "start_time": "2024-06-14T02:58:59.386Z"
   },
   {
    "duration": 1,
    "start_time": "2024-06-14T02:58:59.386Z"
   },
   {
    "duration": 0,
    "start_time": "2024-06-14T02:58:59.387Z"
   },
   {
    "duration": 0,
    "start_time": "2024-06-14T02:58:59.388Z"
   },
   {
    "duration": 0,
    "start_time": "2024-06-14T02:58:59.389Z"
   },
   {
    "duration": 0,
    "start_time": "2024-06-14T02:58:59.390Z"
   },
   {
    "duration": 0,
    "start_time": "2024-06-14T02:58:59.391Z"
   },
   {
    "duration": 0,
    "start_time": "2024-06-14T02:58:59.392Z"
   },
   {
    "duration": 0,
    "start_time": "2024-06-14T02:58:59.393Z"
   },
   {
    "duration": 0,
    "start_time": "2024-06-14T02:58:59.394Z"
   },
   {
    "duration": 0,
    "start_time": "2024-06-14T02:58:59.395Z"
   },
   {
    "duration": 0,
    "start_time": "2024-06-14T02:58:59.396Z"
   },
   {
    "duration": 0,
    "start_time": "2024-06-14T02:58:59.397Z"
   },
   {
    "duration": 0,
    "start_time": "2024-06-14T02:58:59.398Z"
   },
   {
    "duration": 0,
    "start_time": "2024-06-14T02:58:59.399Z"
   },
   {
    "duration": 0,
    "start_time": "2024-06-14T02:58:59.400Z"
   },
   {
    "duration": 0,
    "start_time": "2024-06-14T02:58:59.401Z"
   },
   {
    "duration": 0,
    "start_time": "2024-06-14T02:58:59.409Z"
   },
   {
    "duration": 0,
    "start_time": "2024-06-14T02:58:59.409Z"
   },
   {
    "duration": 0,
    "start_time": "2024-06-14T02:58:59.410Z"
   },
   {
    "duration": 0,
    "start_time": "2024-06-14T02:58:59.411Z"
   },
   {
    "duration": 0,
    "start_time": "2024-06-14T02:58:59.412Z"
   },
   {
    "duration": 0,
    "start_time": "2024-06-14T02:58:59.413Z"
   },
   {
    "duration": 0,
    "start_time": "2024-06-14T02:58:59.414Z"
   },
   {
    "duration": 0,
    "start_time": "2024-06-14T02:58:59.415Z"
   },
   {
    "duration": 0,
    "start_time": "2024-06-14T02:58:59.416Z"
   },
   {
    "duration": 0,
    "start_time": "2024-06-14T02:58:59.417Z"
   },
   {
    "duration": 0,
    "start_time": "2024-06-14T02:58:59.418Z"
   },
   {
    "duration": 0,
    "start_time": "2024-06-14T02:58:59.419Z"
   },
   {
    "duration": 0,
    "start_time": "2024-06-14T02:58:59.419Z"
   },
   {
    "duration": 0,
    "start_time": "2024-06-14T02:58:59.420Z"
   },
   {
    "duration": 0,
    "start_time": "2024-06-14T02:58:59.421Z"
   },
   {
    "duration": 0,
    "start_time": "2024-06-14T02:58:59.422Z"
   },
   {
    "duration": 118,
    "start_time": "2024-06-14T03:01:16.547Z"
   },
   {
    "duration": 19,
    "start_time": "2024-06-14T03:01:19.280Z"
   },
   {
    "duration": 25712,
    "start_time": "2024-06-14T03:01:23.590Z"
   },
   {
    "duration": 4,
    "start_time": "2024-06-14T03:01:49.304Z"
   },
   {
    "duration": 146,
    "start_time": "2024-06-14T03:01:49.309Z"
   },
   {
    "duration": 114,
    "start_time": "2024-06-14T03:01:49.457Z"
   },
   {
    "duration": 114,
    "start_time": "2024-06-14T03:01:49.572Z"
   },
   {
    "duration": 4,
    "start_time": "2024-06-14T03:01:49.688Z"
   },
   {
    "duration": 84,
    "start_time": "2024-06-14T03:01:49.693Z"
   },
   {
    "duration": 73,
    "start_time": "2024-06-14T03:01:49.778Z"
   },
   {
    "duration": 84,
    "start_time": "2024-06-14T03:01:49.852Z"
   },
   {
    "duration": 43,
    "start_time": "2024-06-14T03:01:49.939Z"
   },
   {
    "duration": 0,
    "start_time": "2024-06-14T03:01:49.985Z"
   },
   {
    "duration": 0,
    "start_time": "2024-06-14T03:01:49.986Z"
   },
   {
    "duration": 0,
    "start_time": "2024-06-14T03:01:49.986Z"
   },
   {
    "duration": 0,
    "start_time": "2024-06-14T03:01:49.987Z"
   },
   {
    "duration": 0,
    "start_time": "2024-06-14T03:01:49.988Z"
   },
   {
    "duration": 0,
    "start_time": "2024-06-14T03:01:49.989Z"
   },
   {
    "duration": 0,
    "start_time": "2024-06-14T03:01:49.990Z"
   },
   {
    "duration": 0,
    "start_time": "2024-06-14T03:01:49.990Z"
   },
   {
    "duration": 0,
    "start_time": "2024-06-14T03:01:49.991Z"
   },
   {
    "duration": 0,
    "start_time": "2024-06-14T03:01:49.992Z"
   },
   {
    "duration": 0,
    "start_time": "2024-06-14T03:01:49.993Z"
   },
   {
    "duration": 0,
    "start_time": "2024-06-14T03:01:49.993Z"
   },
   {
    "duration": 0,
    "start_time": "2024-06-14T03:01:49.994Z"
   },
   {
    "duration": 0,
    "start_time": "2024-06-14T03:01:49.995Z"
   },
   {
    "duration": 0,
    "start_time": "2024-06-14T03:01:49.996Z"
   },
   {
    "duration": 0,
    "start_time": "2024-06-14T03:01:49.997Z"
   },
   {
    "duration": 0,
    "start_time": "2024-06-14T03:01:49.998Z"
   },
   {
    "duration": 0,
    "start_time": "2024-06-14T03:01:49.999Z"
   },
   {
    "duration": 0,
    "start_time": "2024-06-14T03:01:49.999Z"
   },
   {
    "duration": 0,
    "start_time": "2024-06-14T03:01:50.000Z"
   },
   {
    "duration": 0,
    "start_time": "2024-06-14T03:01:50.001Z"
   },
   {
    "duration": 0,
    "start_time": "2024-06-14T03:01:50.001Z"
   },
   {
    "duration": 0,
    "start_time": "2024-06-14T03:01:50.002Z"
   },
   {
    "duration": 0,
    "start_time": "2024-06-14T03:01:50.003Z"
   },
   {
    "duration": 0,
    "start_time": "2024-06-14T03:01:50.004Z"
   },
   {
    "duration": 0,
    "start_time": "2024-06-14T03:01:50.005Z"
   },
   {
    "duration": 0,
    "start_time": "2024-06-14T03:01:50.009Z"
   },
   {
    "duration": 0,
    "start_time": "2024-06-14T03:01:50.010Z"
   },
   {
    "duration": 0,
    "start_time": "2024-06-14T03:01:50.010Z"
   },
   {
    "duration": 0,
    "start_time": "2024-06-14T03:01:50.011Z"
   },
   {
    "duration": 0,
    "start_time": "2024-06-14T03:01:50.012Z"
   },
   {
    "duration": 0,
    "start_time": "2024-06-14T03:01:50.013Z"
   },
   {
    "duration": 0,
    "start_time": "2024-06-14T03:01:50.014Z"
   },
   {
    "duration": 0,
    "start_time": "2024-06-14T03:01:50.015Z"
   },
   {
    "duration": 0,
    "start_time": "2024-06-14T03:01:50.016Z"
   },
   {
    "duration": 0,
    "start_time": "2024-06-14T03:01:50.017Z"
   },
   {
    "duration": 0,
    "start_time": "2024-06-14T03:01:50.017Z"
   },
   {
    "duration": 0,
    "start_time": "2024-06-14T03:01:50.018Z"
   },
   {
    "duration": 0,
    "start_time": "2024-06-14T03:01:50.020Z"
   },
   {
    "duration": 0,
    "start_time": "2024-06-14T03:01:50.020Z"
   },
   {
    "duration": 0,
    "start_time": "2024-06-14T03:01:50.021Z"
   },
   {
    "duration": 0,
    "start_time": "2024-06-14T03:01:50.022Z"
   },
   {
    "duration": 0,
    "start_time": "2024-06-14T03:01:50.023Z"
   },
   {
    "duration": 0,
    "start_time": "2024-06-14T03:01:50.024Z"
   },
   {
    "duration": 0,
    "start_time": "2024-06-14T03:01:50.024Z"
   },
   {
    "duration": 0,
    "start_time": "2024-06-14T03:01:50.025Z"
   },
   {
    "duration": 0,
    "start_time": "2024-06-14T03:01:50.026Z"
   },
   {
    "duration": 0,
    "start_time": "2024-06-14T03:01:50.027Z"
   },
   {
    "duration": 0,
    "start_time": "2024-06-14T03:01:50.027Z"
   },
   {
    "duration": 0,
    "start_time": "2024-06-14T03:01:50.028Z"
   },
   {
    "duration": 0,
    "start_time": "2024-06-14T03:01:50.029Z"
   },
   {
    "duration": 0,
    "start_time": "2024-06-14T03:01:50.030Z"
   },
   {
    "duration": 0,
    "start_time": "2024-06-14T03:01:50.031Z"
   },
   {
    "duration": 0,
    "start_time": "2024-06-14T03:01:50.031Z"
   },
   {
    "duration": 0,
    "start_time": "2024-06-14T03:01:50.032Z"
   },
   {
    "duration": 17,
    "start_time": "2024-06-14T03:02:19.476Z"
   },
   {
    "duration": 26015,
    "start_time": "2024-06-14T03:02:30.846Z"
   },
   {
    "duration": 6,
    "start_time": "2024-06-14T03:02:56.863Z"
   },
   {
    "duration": 156,
    "start_time": "2024-06-14T03:02:56.870Z"
   },
   {
    "duration": 108,
    "start_time": "2024-06-14T03:02:57.028Z"
   },
   {
    "duration": 112,
    "start_time": "2024-06-14T03:02:57.138Z"
   },
   {
    "duration": 3,
    "start_time": "2024-06-14T03:02:57.252Z"
   },
   {
    "duration": 94,
    "start_time": "2024-06-14T03:02:57.256Z"
   },
   {
    "duration": 85,
    "start_time": "2024-06-14T03:02:57.351Z"
   },
   {
    "duration": 85,
    "start_time": "2024-06-14T03:02:57.439Z"
   },
   {
    "duration": 133,
    "start_time": "2024-06-14T03:02:57.527Z"
   },
   {
    "duration": 0,
    "start_time": "2024-06-14T03:02:57.662Z"
   },
   {
    "duration": 0,
    "start_time": "2024-06-14T03:02:57.663Z"
   },
   {
    "duration": 0,
    "start_time": "2024-06-14T03:02:57.664Z"
   },
   {
    "duration": 0,
    "start_time": "2024-06-14T03:02:57.664Z"
   },
   {
    "duration": 0,
    "start_time": "2024-06-14T03:02:57.666Z"
   },
   {
    "duration": 0,
    "start_time": "2024-06-14T03:02:57.666Z"
   },
   {
    "duration": 0,
    "start_time": "2024-06-14T03:02:57.667Z"
   },
   {
    "duration": 0,
    "start_time": "2024-06-14T03:02:57.668Z"
   },
   {
    "duration": 0,
    "start_time": "2024-06-14T03:02:57.669Z"
   },
   {
    "duration": 0,
    "start_time": "2024-06-14T03:02:57.670Z"
   },
   {
    "duration": 0,
    "start_time": "2024-06-14T03:02:57.671Z"
   },
   {
    "duration": 0,
    "start_time": "2024-06-14T03:02:57.671Z"
   },
   {
    "duration": 0,
    "start_time": "2024-06-14T03:02:57.672Z"
   },
   {
    "duration": 0,
    "start_time": "2024-06-14T03:02:57.674Z"
   },
   {
    "duration": 0,
    "start_time": "2024-06-14T03:02:57.674Z"
   },
   {
    "duration": 0,
    "start_time": "2024-06-14T03:02:57.675Z"
   },
   {
    "duration": 0,
    "start_time": "2024-06-14T03:02:57.676Z"
   },
   {
    "duration": 0,
    "start_time": "2024-06-14T03:02:57.677Z"
   },
   {
    "duration": 0,
    "start_time": "2024-06-14T03:02:57.678Z"
   },
   {
    "duration": 0,
    "start_time": "2024-06-14T03:02:57.678Z"
   },
   {
    "duration": 0,
    "start_time": "2024-06-14T03:02:57.679Z"
   },
   {
    "duration": 0,
    "start_time": "2024-06-14T03:02:57.680Z"
   },
   {
    "duration": 0,
    "start_time": "2024-06-14T03:02:57.681Z"
   },
   {
    "duration": 0,
    "start_time": "2024-06-14T03:02:57.682Z"
   },
   {
    "duration": 0,
    "start_time": "2024-06-14T03:02:57.683Z"
   },
   {
    "duration": 0,
    "start_time": "2024-06-14T03:02:57.684Z"
   },
   {
    "duration": 0,
    "start_time": "2024-06-14T03:02:57.684Z"
   },
   {
    "duration": 0,
    "start_time": "2024-06-14T03:02:57.685Z"
   },
   {
    "duration": 0,
    "start_time": "2024-06-14T03:02:57.686Z"
   },
   {
    "duration": 0,
    "start_time": "2024-06-14T03:02:57.687Z"
   },
   {
    "duration": 0,
    "start_time": "2024-06-14T03:02:57.688Z"
   },
   {
    "duration": 0,
    "start_time": "2024-06-14T03:02:57.689Z"
   },
   {
    "duration": 0,
    "start_time": "2024-06-14T03:02:57.691Z"
   },
   {
    "duration": 0,
    "start_time": "2024-06-14T03:02:57.691Z"
   },
   {
    "duration": 0,
    "start_time": "2024-06-14T03:02:57.692Z"
   },
   {
    "duration": 0,
    "start_time": "2024-06-14T03:02:57.694Z"
   },
   {
    "duration": 0,
    "start_time": "2024-06-14T03:02:57.694Z"
   },
   {
    "duration": 0,
    "start_time": "2024-06-14T03:02:57.696Z"
   },
   {
    "duration": 0,
    "start_time": "2024-06-14T03:02:57.708Z"
   },
   {
    "duration": 0,
    "start_time": "2024-06-14T03:02:57.710Z"
   },
   {
    "duration": 0,
    "start_time": "2024-06-14T03:02:57.711Z"
   },
   {
    "duration": 0,
    "start_time": "2024-06-14T03:02:57.711Z"
   },
   {
    "duration": 0,
    "start_time": "2024-06-14T03:02:57.712Z"
   },
   {
    "duration": 0,
    "start_time": "2024-06-14T03:02:57.713Z"
   },
   {
    "duration": 0,
    "start_time": "2024-06-14T03:02:57.714Z"
   },
   {
    "duration": 0,
    "start_time": "2024-06-14T03:02:57.715Z"
   },
   {
    "duration": 0,
    "start_time": "2024-06-14T03:02:57.716Z"
   },
   {
    "duration": 0,
    "start_time": "2024-06-14T03:02:57.717Z"
   },
   {
    "duration": 0,
    "start_time": "2024-06-14T03:02:57.718Z"
   },
   {
    "duration": 0,
    "start_time": "2024-06-14T03:02:57.719Z"
   },
   {
    "duration": 0,
    "start_time": "2024-06-14T03:02:57.720Z"
   },
   {
    "duration": 0,
    "start_time": "2024-06-14T03:02:57.721Z"
   },
   {
    "duration": 0,
    "start_time": "2024-06-14T03:02:57.722Z"
   },
   {
    "duration": 0,
    "start_time": "2024-06-14T03:02:57.723Z"
   },
   {
    "duration": 0,
    "start_time": "2024-06-14T03:02:57.724Z"
   },
   {
    "duration": 26451,
    "start_time": "2024-06-14T03:03:07.523Z"
   },
   {
    "duration": 5,
    "start_time": "2024-06-14T03:03:33.976Z"
   },
   {
    "duration": 138,
    "start_time": "2024-06-14T03:03:33.982Z"
   },
   {
    "duration": 112,
    "start_time": "2024-06-14T03:03:34.122Z"
   },
   {
    "duration": 112,
    "start_time": "2024-06-14T03:03:34.236Z"
   },
   {
    "duration": 3,
    "start_time": "2024-06-14T03:03:34.349Z"
   },
   {
    "duration": 80,
    "start_time": "2024-06-14T03:03:34.353Z"
   },
   {
    "duration": 74,
    "start_time": "2024-06-14T03:03:34.435Z"
   },
   {
    "duration": 60,
    "start_time": "2024-06-14T03:03:34.510Z"
   },
   {
    "duration": 56,
    "start_time": "2024-06-14T03:03:34.572Z"
   },
   {
    "duration": 0,
    "start_time": "2024-06-14T03:03:34.629Z"
   },
   {
    "duration": 0,
    "start_time": "2024-06-14T03:03:34.630Z"
   },
   {
    "duration": 0,
    "start_time": "2024-06-14T03:03:34.631Z"
   },
   {
    "duration": 0,
    "start_time": "2024-06-14T03:03:34.632Z"
   },
   {
    "duration": 0,
    "start_time": "2024-06-14T03:03:34.632Z"
   },
   {
    "duration": 0,
    "start_time": "2024-06-14T03:03:34.633Z"
   },
   {
    "duration": 4,
    "start_time": "2024-06-14T03:03:50.824Z"
   },
   {
    "duration": 4,
    "start_time": "2024-06-14T03:03:51.192Z"
   },
   {
    "duration": 5,
    "start_time": "2024-06-14T03:03:52.390Z"
   },
   {
    "duration": 34,
    "start_time": "2024-06-14T03:03:53.425Z"
   },
   {
    "duration": 702,
    "start_time": "2024-06-14T03:03:53.585Z"
   },
   {
    "duration": 757,
    "start_time": "2024-06-14T03:03:55.790Z"
   },
   {
    "duration": 50,
    "start_time": "2024-06-14T03:03:56.936Z"
   },
   {
    "duration": 26281,
    "start_time": "2024-06-14T03:03:59.403Z"
   },
   {
    "duration": 6,
    "start_time": "2024-06-14T03:04:25.686Z"
   },
   {
    "duration": 135,
    "start_time": "2024-06-14T03:04:25.693Z"
   },
   {
    "duration": 106,
    "start_time": "2024-06-14T03:04:25.830Z"
   },
   {
    "duration": 115,
    "start_time": "2024-06-14T03:04:25.938Z"
   },
   {
    "duration": 3,
    "start_time": "2024-06-14T03:04:26.054Z"
   },
   {
    "duration": 81,
    "start_time": "2024-06-14T03:04:26.059Z"
   },
   {
    "duration": 73,
    "start_time": "2024-06-14T03:04:26.142Z"
   },
   {
    "duration": 59,
    "start_time": "2024-06-14T03:04:26.217Z"
   },
   {
    "duration": 4,
    "start_time": "2024-06-14T03:04:26.279Z"
   },
   {
    "duration": 26,
    "start_time": "2024-06-14T03:04:26.284Z"
   },
   {
    "duration": 7,
    "start_time": "2024-06-14T03:04:26.312Z"
   },
   {
    "duration": 38,
    "start_time": "2024-06-14T03:04:26.321Z"
   },
   {
    "duration": 688,
    "start_time": "2024-06-14T03:04:26.360Z"
   },
   {
    "duration": 752,
    "start_time": "2024-06-14T03:04:27.049Z"
   },
   {
    "duration": 48,
    "start_time": "2024-06-14T03:04:27.802Z"
   },
   {
    "duration": 31,
    "start_time": "2024-06-14T03:04:27.851Z"
   },
   {
    "duration": 734,
    "start_time": "2024-06-14T03:04:27.883Z"
   },
   {
    "duration": 830,
    "start_time": "2024-06-14T03:04:28.618Z"
   },
   {
    "duration": 48,
    "start_time": "2024-06-14T03:04:29.449Z"
   },
   {
    "duration": 33,
    "start_time": "2024-06-14T03:04:29.509Z"
   },
   {
    "duration": 675,
    "start_time": "2024-06-14T03:04:29.543Z"
   },
   {
    "duration": 796,
    "start_time": "2024-06-14T03:04:30.219Z"
   },
   {
    "duration": 154,
    "start_time": "2024-06-14T03:04:31.017Z"
   },
   {
    "duration": 2,
    "start_time": "2024-06-14T03:04:31.173Z"
   },
   {
    "duration": 202,
    "start_time": "2024-06-14T03:04:31.177Z"
   },
   {
    "duration": 10,
    "start_time": "2024-06-14T03:04:31.381Z"
   },
   {
    "duration": 42,
    "start_time": "2024-06-14T03:04:31.394Z"
   },
   {
    "duration": 648,
    "start_time": "2024-06-14T03:04:31.438Z"
   },
   {
    "duration": 496,
    "start_time": "2024-06-14T03:04:32.088Z"
   },
   {
    "duration": 480,
    "start_time": "2024-06-14T03:04:32.608Z"
   },
   {
    "duration": 4,
    "start_time": "2024-06-14T03:04:33.108Z"
   },
   {
    "duration": 11,
    "start_time": "2024-06-14T03:04:33.113Z"
   },
   {
    "duration": 17,
    "start_time": "2024-06-14T03:04:33.126Z"
   },
   {
    "duration": 21,
    "start_time": "2024-06-14T03:04:33.144Z"
   },
   {
    "duration": 5,
    "start_time": "2024-06-14T03:04:33.166Z"
   },
   {
    "duration": 8,
    "start_time": "2024-06-14T03:04:33.172Z"
   },
   {
    "duration": 568,
    "start_time": "2024-06-14T03:04:33.181Z"
   },
   {
    "duration": 4,
    "start_time": "2024-06-14T03:04:33.811Z"
   },
   {
    "duration": 94,
    "start_time": "2024-06-14T03:04:33.816Z"
   },
   {
    "duration": 11,
    "start_time": "2024-06-14T03:04:33.911Z"
   },
   {
    "duration": 84,
    "start_time": "2024-06-14T03:04:33.925Z"
   },
   {
    "duration": 5,
    "start_time": "2024-06-14T03:04:34.011Z"
   },
   {
    "duration": 115,
    "start_time": "2024-06-14T03:04:34.018Z"
   },
   {
    "duration": 8,
    "start_time": "2024-06-14T03:04:34.134Z"
   },
   {
    "duration": 11,
    "start_time": "2024-06-14T03:04:34.144Z"
   },
   {
    "duration": 7,
    "start_time": "2024-06-14T03:04:34.156Z"
   },
   {
    "duration": 2,
    "start_time": "2024-06-14T03:04:34.164Z"
   },
   {
    "duration": 6,
    "start_time": "2024-06-14T03:04:34.167Z"
   },
   {
    "duration": 5,
    "start_time": "2024-06-14T03:04:34.174Z"
   },
   {
    "duration": 4,
    "start_time": "2024-06-14T03:04:34.180Z"
   },
   {
    "duration": 6,
    "start_time": "2024-06-14T03:04:34.185Z"
   },
   {
    "duration": 43,
    "start_time": "2024-06-14T03:04:34.193Z"
   },
   {
    "duration": 4,
    "start_time": "2024-06-14T03:04:34.237Z"
   },
   {
    "duration": 52,
    "start_time": "2024-06-14T03:04:34.242Z"
   },
   {
    "duration": 0,
    "start_time": "2024-06-14T03:04:34.295Z"
   },
   {
    "duration": 0,
    "start_time": "2024-06-14T03:04:34.296Z"
   },
   {
    "duration": 0,
    "start_time": "2024-06-14T03:04:34.297Z"
   },
   {
    "duration": 0,
    "start_time": "2024-06-14T03:04:34.298Z"
   },
   {
    "duration": 0,
    "start_time": "2024-06-14T03:04:34.299Z"
   },
   {
    "duration": 0,
    "start_time": "2024-06-14T03:04:34.300Z"
   },
   {
    "duration": 0,
    "start_time": "2024-06-14T03:04:34.301Z"
   },
   {
    "duration": 0,
    "start_time": "2024-06-14T03:04:34.302Z"
   },
   {
    "duration": 0,
    "start_time": "2024-06-14T03:04:34.303Z"
   },
   {
    "duration": 979,
    "start_time": "2024-06-14T03:09:54.638Z"
   },
   {
    "duration": 25727,
    "start_time": "2024-06-14T03:10:03.990Z"
   },
   {
    "duration": 4,
    "start_time": "2024-06-14T03:10:29.719Z"
   },
   {
    "duration": 151,
    "start_time": "2024-06-14T03:10:29.725Z"
   },
   {
    "duration": 114,
    "start_time": "2024-06-14T03:10:29.879Z"
   },
   {
    "duration": 110,
    "start_time": "2024-06-14T03:10:29.994Z"
   },
   {
    "duration": 3,
    "start_time": "2024-06-14T03:10:30.106Z"
   },
   {
    "duration": 111,
    "start_time": "2024-06-14T03:10:30.111Z"
   },
   {
    "duration": 58,
    "start_time": "2024-06-14T03:10:30.224Z"
   },
   {
    "duration": 119,
    "start_time": "2024-06-14T03:10:30.283Z"
   },
   {
    "duration": 14,
    "start_time": "2024-06-14T03:11:04.295Z"
   },
   {
    "duration": 14,
    "start_time": "2024-06-14T03:11:14.795Z"
   },
   {
    "duration": 4,
    "start_time": "2024-06-14T03:11:29.674Z"
   },
   {
    "duration": 13,
    "start_time": "2024-06-14T03:16:29.178Z"
   },
   {
    "duration": 14,
    "start_time": "2024-06-14T03:16:47.257Z"
   },
   {
    "duration": 13,
    "start_time": "2024-06-14T03:18:37.926Z"
   },
   {
    "duration": 3,
    "start_time": "2024-06-14T03:18:38.507Z"
   },
   {
    "duration": 13,
    "start_time": "2024-06-14T03:18:53.934Z"
   },
   {
    "duration": 4,
    "start_time": "2024-06-14T03:19:58.168Z"
   },
   {
    "duration": 79,
    "start_time": "2024-06-14T03:19:59.442Z"
   },
   {
    "duration": 75,
    "start_time": "2024-06-14T03:20:00.020Z"
   },
   {
    "duration": 55,
    "start_time": "2024-06-14T03:24:37.766Z"
   },
   {
    "duration": 7,
    "start_time": "2024-06-14T03:25:16.634Z"
   },
   {
    "duration": 111,
    "start_time": "2024-06-14T03:25:18.014Z"
   },
   {
    "duration": 83,
    "start_time": "2024-06-14T03:25:18.305Z"
   },
   {
    "duration": 84,
    "start_time": "2024-06-14T03:25:18.647Z"
   },
   {
    "duration": 6,
    "start_time": "2024-06-14T03:26:10.777Z"
   },
   {
    "duration": 81,
    "start_time": "2024-06-14T03:26:11.641Z"
   },
   {
    "duration": 77,
    "start_time": "2024-06-14T03:26:12.002Z"
   },
   {
    "duration": 85,
    "start_time": "2024-06-14T03:26:12.361Z"
   },
   {
    "duration": 4,
    "start_time": "2024-06-14T03:27:49.451Z"
   },
   {
    "duration": 81,
    "start_time": "2024-06-14T03:27:50.104Z"
   },
   {
    "duration": 100,
    "start_time": "2024-06-14T03:27:50.414Z"
   },
   {
    "duration": 82,
    "start_time": "2024-06-14T03:27:50.789Z"
   },
   {
    "duration": 4,
    "start_time": "2024-06-14T03:30:05.841Z"
   },
   {
    "duration": 70,
    "start_time": "2024-06-14T03:30:06.882Z"
   },
   {
    "duration": 68,
    "start_time": "2024-06-14T03:30:07.342Z"
   },
   {
    "duration": 70,
    "start_time": "2024-06-14T03:30:07.697Z"
   },
   {
    "duration": 51,
    "start_time": "2024-06-14T03:30:08.209Z"
   },
   {
    "duration": 81,
    "start_time": "2024-06-14T03:31:19.659Z"
   },
   {
    "duration": 4,
    "start_time": "2024-06-14T03:31:34.051Z"
   },
   {
    "duration": 67,
    "start_time": "2024-06-14T03:31:35.346Z"
   },
   {
    "duration": 68,
    "start_time": "2024-06-14T03:31:35.694Z"
   },
   {
    "duration": 74,
    "start_time": "2024-06-14T03:31:36.018Z"
   },
   {
    "duration": 49,
    "start_time": "2024-06-14T03:32:56.500Z"
   },
   {
    "duration": 83,
    "start_time": "2024-06-14T03:32:57.168Z"
   },
   {
    "duration": 6,
    "start_time": "2024-06-14T03:33:15.451Z"
   },
   {
    "duration": 70,
    "start_time": "2024-06-14T03:33:16.482Z"
   },
   {
    "duration": 77,
    "start_time": "2024-06-14T03:33:16.815Z"
   },
   {
    "duration": 72,
    "start_time": "2024-06-14T03:33:17.174Z"
   },
   {
    "duration": 4,
    "start_time": "2024-06-14T03:33:54.697Z"
   },
   {
    "duration": 41,
    "start_time": "2024-06-14T03:33:55.707Z"
   },
   {
    "duration": 48,
    "start_time": "2024-06-14T03:33:56.040Z"
   },
   {
    "duration": 33,
    "start_time": "2024-06-14T03:33:56.344Z"
   },
   {
    "duration": 51,
    "start_time": "2024-06-14T03:33:56.830Z"
   },
   {
    "duration": 6,
    "start_time": "2024-06-14T03:33:57.587Z"
   },
   {
    "duration": 4,
    "start_time": "2024-06-14T03:34:22.242Z"
   },
   {
    "duration": 75,
    "start_time": "2024-06-14T03:34:22.929Z"
   },
   {
    "duration": 66,
    "start_time": "2024-06-14T03:34:23.266Z"
   },
   {
    "duration": 76,
    "start_time": "2024-06-14T03:34:23.766Z"
   },
   {
    "duration": 59,
    "start_time": "2024-06-14T03:34:24.282Z"
   },
   {
    "duration": 2,
    "start_time": "2024-06-14T03:34:24.454Z"
   },
   {
    "duration": 4,
    "start_time": "2024-06-14T03:35:34.049Z"
   },
   {
    "duration": 72,
    "start_time": "2024-06-14T03:35:34.644Z"
   },
   {
    "duration": 72,
    "start_time": "2024-06-14T03:35:34.968Z"
   },
   {
    "duration": 90,
    "start_time": "2024-06-14T03:35:35.320Z"
   },
   {
    "duration": 4,
    "start_time": "2024-06-14T03:36:15.694Z"
   },
   {
    "duration": 72,
    "start_time": "2024-06-14T03:36:16.760Z"
   },
   {
    "duration": 72,
    "start_time": "2024-06-14T03:36:17.262Z"
   },
   {
    "duration": 71,
    "start_time": "2024-06-14T03:36:17.600Z"
   },
   {
    "duration": 19,
    "start_time": "2024-06-14T03:48:38.888Z"
   },
   {
    "duration": 26139,
    "start_time": "2024-06-14T03:48:55.815Z"
   },
   {
    "duration": 5,
    "start_time": "2024-06-14T03:49:21.957Z"
   },
   {
    "duration": 131,
    "start_time": "2024-06-14T03:49:21.963Z"
   },
   {
    "duration": 112,
    "start_time": "2024-06-14T03:49:22.095Z"
   },
   {
    "duration": 109,
    "start_time": "2024-06-14T03:49:22.209Z"
   },
   {
    "duration": 5,
    "start_time": "2024-06-14T03:49:22.319Z"
   },
   {
    "duration": 92,
    "start_time": "2024-06-14T03:49:22.325Z"
   },
   {
    "duration": 69,
    "start_time": "2024-06-14T03:49:22.418Z"
   },
   {
    "duration": 93,
    "start_time": "2024-06-14T03:49:22.488Z"
   },
   {
    "duration": 26,
    "start_time": "2024-06-14T03:54:54.275Z"
   },
   {
    "duration": 11,
    "start_time": "2024-06-14T03:57:28.049Z"
   },
   {
    "duration": 26326,
    "start_time": "2024-06-14T03:57:38.969Z"
   },
   {
    "duration": 8,
    "start_time": "2024-06-14T03:58:05.298Z"
   },
   {
    "duration": 157,
    "start_time": "2024-06-14T03:58:05.308Z"
   },
   {
    "duration": 140,
    "start_time": "2024-06-14T03:58:05.468Z"
   },
   {
    "duration": 127,
    "start_time": "2024-06-14T03:58:05.610Z"
   },
   {
    "duration": 4,
    "start_time": "2024-06-14T03:58:05.738Z"
   },
   {
    "duration": 97,
    "start_time": "2024-06-14T03:58:05.744Z"
   },
   {
    "duration": 90,
    "start_time": "2024-06-14T03:58:05.842Z"
   },
   {
    "duration": 103,
    "start_time": "2024-06-14T03:58:05.934Z"
   },
   {
    "duration": 9,
    "start_time": "2024-06-14T03:58:50.327Z"
   },
   {
    "duration": 18,
    "start_time": "2024-06-14T03:58:56.877Z"
   },
   {
    "duration": 26138,
    "start_time": "2024-06-14T03:59:20.580Z"
   },
   {
    "duration": 4,
    "start_time": "2024-06-14T03:59:46.720Z"
   },
   {
    "duration": 139,
    "start_time": "2024-06-14T03:59:46.725Z"
   },
   {
    "duration": 107,
    "start_time": "2024-06-14T03:59:46.866Z"
   },
   {
    "duration": 111,
    "start_time": "2024-06-14T03:59:46.974Z"
   },
   {
    "duration": 4,
    "start_time": "2024-06-14T03:59:47.087Z"
   },
   {
    "duration": 78,
    "start_time": "2024-06-14T03:59:47.092Z"
   },
   {
    "duration": 89,
    "start_time": "2024-06-14T03:59:47.171Z"
   },
   {
    "duration": 14,
    "start_time": "2024-06-14T03:59:59.134Z"
   },
   {
    "duration": 7,
    "start_time": "2024-06-14T04:02:28.797Z"
   },
   {
    "duration": 9,
    "start_time": "2024-06-14T04:02:50.122Z"
   },
   {
    "duration": 17,
    "start_time": "2024-06-14T04:03:07.429Z"
   },
   {
    "duration": 50,
    "start_time": "2024-06-14T04:05:14.401Z"
   },
   {
    "duration": 5,
    "start_time": "2024-06-14T04:11:25.766Z"
   },
   {
    "duration": 3,
    "start_time": "2024-06-14T04:11:32.087Z"
   },
   {
    "duration": 4,
    "start_time": "2024-06-14T04:11:37.194Z"
   },
   {
    "duration": 33,
    "start_time": "2024-06-14T04:11:38.444Z"
   },
   {
    "duration": 853,
    "start_time": "2024-06-14T04:11:38.994Z"
   },
   {
    "duration": 749,
    "start_time": "2024-06-14T04:11:39.849Z"
   },
   {
    "duration": 48,
    "start_time": "2024-06-14T04:11:46.350Z"
   },
   {
    "duration": 48,
    "start_time": "2024-06-14T04:12:02.172Z"
   },
   {
    "duration": 38,
    "start_time": "2024-06-14T04:12:02.562Z"
   },
   {
    "duration": 634,
    "start_time": "2024-06-14T04:12:02.702Z"
   },
   {
    "duration": 788,
    "start_time": "2024-06-14T04:12:03.338Z"
   },
   {
    "duration": 56,
    "start_time": "2024-06-14T04:12:04.127Z"
   },
   {
    "duration": 33,
    "start_time": "2024-06-14T04:12:12.806Z"
   },
   {
    "duration": 680,
    "start_time": "2024-06-14T04:12:12.966Z"
   },
   {
    "duration": 799,
    "start_time": "2024-06-14T04:12:13.648Z"
   },
   {
    "duration": 145,
    "start_time": "2024-06-14T04:12:14.449Z"
   },
   {
    "duration": 11,
    "start_time": "2024-06-14T04:12:45.051Z"
   },
   {
    "duration": 133,
    "start_time": "2024-06-14T04:12:45.282Z"
   },
   {
    "duration": 5,
    "start_time": "2024-06-14T04:12:45.491Z"
   },
   {
    "duration": 3,
    "start_time": "2024-06-14T04:12:46.016Z"
   },
   {
    "duration": 3,
    "start_time": "2024-06-14T04:16:34.611Z"
   },
   {
    "duration": 633,
    "start_time": "2024-06-14T04:18:45.336Z"
   },
   {
    "duration": 543,
    "start_time": "2024-06-14T04:18:59.035Z"
   },
   {
    "duration": 526,
    "start_time": "2024-06-14T04:19:06.341Z"
   },
   {
    "duration": 7,
    "start_time": "2024-06-14T04:45:21.008Z"
   },
   {
    "duration": 4,
    "start_time": "2024-06-14T04:47:43.686Z"
   },
   {
    "duration": 5,
    "start_time": "2024-06-14T04:47:56.744Z"
   },
   {
    "duration": 10,
    "start_time": "2024-06-14T04:48:40.196Z"
   },
   {
    "duration": 5,
    "start_time": "2024-06-14T04:48:44.046Z"
   },
   {
    "duration": 3,
    "start_time": "2024-06-14T05:09:56.635Z"
   },
   {
    "duration": 7,
    "start_time": "2024-06-14T05:09:57.705Z"
   },
   {
    "duration": 6,
    "start_time": "2024-06-14T05:11:07.856Z"
   },
   {
    "duration": 6,
    "start_time": "2024-06-14T05:11:09.285Z"
   },
   {
    "duration": 4,
    "start_time": "2024-06-14T05:11:52.196Z"
   },
   {
    "duration": 5,
    "start_time": "2024-06-14T05:11:53.179Z"
   },
   {
    "duration": 6,
    "start_time": "2024-06-14T05:11:54.046Z"
   },
   {
    "duration": 6,
    "start_time": "2024-06-14T05:11:55.214Z"
   },
   {
    "duration": 4,
    "start_time": "2024-06-14T05:13:51.547Z"
   },
   {
    "duration": 5,
    "start_time": "2024-06-14T05:13:52.670Z"
   },
   {
    "duration": 6,
    "start_time": "2024-06-14T05:13:53.868Z"
   },
   {
    "duration": 6,
    "start_time": "2024-06-14T05:13:55.640Z"
   },
   {
    "duration": 4,
    "start_time": "2024-06-14T05:14:13.639Z"
   },
   {
    "duration": 5,
    "start_time": "2024-06-14T05:14:14.579Z"
   },
   {
    "duration": 6,
    "start_time": "2024-06-14T05:14:15.585Z"
   },
   {
    "duration": 4,
    "start_time": "2024-06-14T05:14:16.635Z"
   },
   {
    "duration": 4,
    "start_time": "2024-06-14T05:14:24.691Z"
   },
   {
    "duration": 6,
    "start_time": "2024-06-14T05:14:25.268Z"
   },
   {
    "duration": 6,
    "start_time": "2024-06-14T05:14:25.776Z"
   },
   {
    "duration": 4,
    "start_time": "2024-06-14T05:14:26.461Z"
   },
   {
    "duration": 8,
    "start_time": "2024-06-14T05:15:42.545Z"
   },
   {
    "duration": 4,
    "start_time": "2024-06-14T05:15:51.801Z"
   },
   {
    "duration": 4,
    "start_time": "2024-06-14T05:16:45.926Z"
   },
   {
    "duration": 5,
    "start_time": "2024-06-14T05:16:46.881Z"
   },
   {
    "duration": 5,
    "start_time": "2024-06-14T05:16:47.293Z"
   },
   {
    "duration": 5,
    "start_time": "2024-06-14T05:16:47.877Z"
   },
   {
    "duration": 4,
    "start_time": "2024-06-14T05:17:47.645Z"
   },
   {
    "duration": 5,
    "start_time": "2024-06-14T05:17:49.755Z"
   },
   {
    "duration": 5,
    "start_time": "2024-06-14T05:17:50.205Z"
   },
   {
    "duration": 5,
    "start_time": "2024-06-14T05:17:50.958Z"
   },
   {
    "duration": 4,
    "start_time": "2024-06-14T05:20:19.295Z"
   },
   {
    "duration": 6,
    "start_time": "2024-06-14T05:20:22.605Z"
   },
   {
    "duration": 9,
    "start_time": "2024-06-14T05:20:23.426Z"
   },
   {
    "duration": 5,
    "start_time": "2024-06-14T05:20:25.057Z"
   },
   {
    "duration": 5,
    "start_time": "2024-06-14T05:20:26.564Z"
   },
   {
    "duration": 9,
    "start_time": "2024-06-14T05:20:28.686Z"
   },
   {
    "duration": 6,
    "start_time": "2024-06-14T05:21:01.795Z"
   },
   {
    "duration": 7,
    "start_time": "2024-06-14T05:22:16.019Z"
   },
   {
    "duration": 7,
    "start_time": "2024-06-14T05:23:42.042Z"
   },
   {
    "duration": 32,
    "start_time": "2024-06-14T05:25:08.220Z"
   },
   {
    "duration": 12,
    "start_time": "2024-06-14T05:25:44.078Z"
   },
   {
    "duration": 13,
    "start_time": "2024-06-14T05:30:28.760Z"
   },
   {
    "duration": 15,
    "start_time": "2024-06-14T05:31:16.106Z"
   },
   {
    "duration": 45,
    "start_time": "2024-06-14T05:35:49.951Z"
   },
   {
    "duration": 4,
    "start_time": "2024-06-14T05:41:42.731Z"
   },
   {
    "duration": 3,
    "start_time": "2024-06-14T05:43:38.831Z"
   },
   {
    "duration": 964,
    "start_time": "2024-06-14T05:43:42.699Z"
   },
   {
    "duration": 5,
    "start_time": "2024-06-14T05:45:12.610Z"
   },
   {
    "duration": 3,
    "start_time": "2024-06-14T05:45:16.201Z"
   },
   {
    "duration": 853,
    "start_time": "2024-06-14T05:45:19.167Z"
   },
   {
    "duration": 858,
    "start_time": "2024-06-14T05:47:25.620Z"
   },
   {
    "duration": 5,
    "start_time": "2024-06-14T05:47:41.748Z"
   },
   {
    "duration": 4,
    "start_time": "2024-06-14T05:47:54.447Z"
   },
   {
    "duration": 934,
    "start_time": "2024-06-14T05:49:08.010Z"
   },
   {
    "duration": 3,
    "start_time": "2024-06-14T05:50:22.863Z"
   },
   {
    "duration": 55,
    "start_time": "2024-06-14T05:50:23.602Z"
   },
   {
    "duration": 5,
    "start_time": "2024-06-14T05:53:47.312Z"
   },
   {
    "duration": 13,
    "start_time": "2024-06-14T05:53:50.467Z"
   },
   {
    "duration": 6,
    "start_time": "2024-06-14T05:55:27.411Z"
   },
   {
    "duration": 6,
    "start_time": "2024-06-14T05:55:29.716Z"
   },
   {
    "duration": 722,
    "start_time": "2024-06-14T05:55:30.182Z"
   },
   {
    "duration": 5,
    "start_time": "2024-06-14T05:56:25.167Z"
   },
   {
    "duration": 19,
    "start_time": "2024-06-14T05:56:25.702Z"
   },
   {
    "duration": 4,
    "start_time": "2024-06-14T05:56:41.898Z"
   },
   {
    "duration": 13,
    "start_time": "2024-06-14T05:56:44.567Z"
   },
   {
    "duration": 50,
    "start_time": "2024-06-14T05:57:15.457Z"
   },
   {
    "duration": 3,
    "start_time": "2024-06-14T05:57:39.641Z"
   },
   {
    "duration": 4,
    "start_time": "2024-06-14T05:57:43.212Z"
   },
   {
    "duration": 15,
    "start_time": "2024-06-14T05:57:43.592Z"
   },
   {
    "duration": 5,
    "start_time": "2024-06-14T05:58:05.597Z"
   },
   {
    "duration": 980,
    "start_time": "2024-06-14T05:58:06.473Z"
   },
   {
    "duration": 4,
    "start_time": "2024-06-14T06:04:35.600Z"
   },
   {
    "duration": 4,
    "start_time": "2024-06-14T06:05:14.485Z"
   },
   {
    "duration": 14,
    "start_time": "2024-06-14T06:05:14.994Z"
   },
   {
    "duration": 4,
    "start_time": "2024-06-14T06:05:21.505Z"
   },
   {
    "duration": 13,
    "start_time": "2024-06-14T06:05:22.028Z"
   },
   {
    "duration": 4,
    "start_time": "2024-06-14T06:05:35.825Z"
   },
   {
    "duration": 880,
    "start_time": "2024-06-14T06:05:37.320Z"
   },
   {
    "duration": 4,
    "start_time": "2024-06-14T06:09:26.122Z"
   },
   {
    "duration": 1070,
    "start_time": "2024-06-14T06:09:26.710Z"
   },
   {
    "duration": 5,
    "start_time": "2024-06-14T06:10:23.592Z"
   },
   {
    "duration": 977,
    "start_time": "2024-06-14T06:10:24.224Z"
   },
   {
    "duration": 664,
    "start_time": "2024-06-14T06:11:37.271Z"
   },
   {
    "duration": 5,
    "start_time": "2024-06-14T06:11:54.126Z"
   },
   {
    "duration": 3,
    "start_time": "2024-06-14T06:12:14.920Z"
   },
   {
    "duration": 4,
    "start_time": "2024-06-14T06:12:20.658Z"
   },
   {
    "duration": 4,
    "start_time": "2024-06-14T06:12:46.169Z"
   },
   {
    "duration": 5,
    "start_time": "2024-06-14T06:12:52.411Z"
   },
   {
    "duration": 6,
    "start_time": "2024-06-14T06:12:58.986Z"
   },
   {
    "duration": 3,
    "start_time": "2024-06-14T06:13:12.191Z"
   },
   {
    "duration": 4,
    "start_time": "2024-06-14T06:13:16.791Z"
   },
   {
    "duration": 3,
    "start_time": "2024-06-14T06:14:23.166Z"
   },
   {
    "duration": 3,
    "start_time": "2024-06-14T06:16:10.052Z"
   },
   {
    "duration": 3,
    "start_time": "2024-06-14T06:16:16.547Z"
   },
   {
    "duration": 7,
    "start_time": "2024-06-14T06:18:49.057Z"
   },
   {
    "duration": 964,
    "start_time": "2024-06-14T06:18:49.969Z"
   },
   {
    "duration": 5,
    "start_time": "2024-06-14T06:19:03.670Z"
   },
   {
    "duration": 5,
    "start_time": "2024-06-14T06:19:11.800Z"
   },
   {
    "duration": 979,
    "start_time": "2024-06-14T06:19:12.919Z"
   },
   {
    "duration": 7,
    "start_time": "2024-06-14T06:40:00.090Z"
   },
   {
    "duration": 774,
    "start_time": "2024-06-14T06:40:03.240Z"
   },
   {
    "duration": 4,
    "start_time": "2024-06-14T06:56:46.435Z"
   },
   {
    "duration": 2,
    "start_time": "2024-06-14T07:01:20.692Z"
   },
   {
    "duration": 3,
    "start_time": "2024-06-14T07:04:24.329Z"
   },
   {
    "duration": 4,
    "start_time": "2024-06-14T07:06:54.181Z"
   },
   {
    "duration": 790,
    "start_time": "2024-06-14T07:06:59.197Z"
   },
   {
    "duration": 4,
    "start_time": "2024-06-14T07:10:09.598Z"
   },
   {
    "duration": 5,
    "start_time": "2024-06-14T07:10:21.335Z"
   },
   {
    "duration": 771,
    "start_time": "2024-06-14T07:10:27.281Z"
   },
   {
    "duration": 5,
    "start_time": "2024-06-14T07:13:45.284Z"
   },
   {
    "duration": 5,
    "start_time": "2024-06-14T07:13:54.798Z"
   },
   {
    "duration": 756,
    "start_time": "2024-06-14T07:13:58.381Z"
   },
   {
    "duration": 809,
    "start_time": "2024-06-14T07:17:41.366Z"
   },
   {
    "duration": 2326,
    "start_time": "2024-06-14T07:18:49.261Z"
   },
   {
    "duration": 2257,
    "start_time": "2024-06-14T07:19:22.600Z"
   },
   {
    "duration": 2307,
    "start_time": "2024-06-14T07:19:41.176Z"
   },
   {
    "duration": 2263,
    "start_time": "2024-06-14T07:19:47.811Z"
   },
   {
    "duration": 2253,
    "start_time": "2024-06-14T07:19:58.196Z"
   },
   {
    "duration": 49,
    "start_time": "2024-06-14T07:24:21.982Z"
   },
   {
    "duration": 4,
    "start_time": "2024-06-14T07:24:47.177Z"
   },
   {
    "duration": 17,
    "start_time": "2024-06-14T07:24:51.176Z"
   },
   {
    "duration": 3,
    "start_time": "2024-06-14T07:25:14.547Z"
   },
   {
    "duration": 10,
    "start_time": "2024-06-14T07:25:59.042Z"
   },
   {
    "duration": 5,
    "start_time": "2024-06-14T07:26:50.791Z"
   },
   {
    "duration": 4081,
    "start_time": "2024-06-14T07:26:51.741Z"
   },
   {
    "duration": 3797,
    "start_time": "2024-06-14T07:27:02.466Z"
   },
   {
    "duration": 3807,
    "start_time": "2024-06-14T07:27:11.669Z"
   },
   {
    "duration": 1242,
    "start_time": "2024-06-14T07:27:48.118Z"
   },
   {
    "duration": 26125,
    "start_time": "2024-06-14T07:27:54.132Z"
   },
   {
    "duration": 4,
    "start_time": "2024-06-14T07:28:20.260Z"
   },
   {
    "duration": 155,
    "start_time": "2024-06-14T07:28:20.265Z"
   },
   {
    "duration": 110,
    "start_time": "2024-06-14T07:28:20.422Z"
   },
   {
    "duration": 111,
    "start_time": "2024-06-14T07:28:20.533Z"
   },
   {
    "duration": 5,
    "start_time": "2024-06-14T07:28:20.645Z"
   },
   {
    "duration": 104,
    "start_time": "2024-06-14T07:28:20.651Z"
   },
   {
    "duration": 86,
    "start_time": "2024-06-14T07:28:20.757Z"
   },
   {
    "duration": 94,
    "start_time": "2024-06-14T07:28:20.844Z"
   },
   {
    "duration": 13,
    "start_time": "2024-06-14T07:28:20.941Z"
   },
   {
    "duration": 37,
    "start_time": "2024-06-14T07:28:20.955Z"
   },
   {
    "duration": 8,
    "start_time": "2024-06-14T07:28:20.993Z"
   },
   {
    "duration": 33,
    "start_time": "2024-06-14T07:28:21.003Z"
   },
   {
    "duration": 6,
    "start_time": "2024-06-14T07:28:21.038Z"
   },
   {
    "duration": 52,
    "start_time": "2024-06-14T07:28:21.045Z"
   },
   {
    "duration": 734,
    "start_time": "2024-06-14T07:28:21.099Z"
   },
   {
    "duration": 751,
    "start_time": "2024-06-14T07:28:21.835Z"
   },
   {
    "duration": 60,
    "start_time": "2024-06-14T07:28:22.587Z"
   },
   {
    "duration": 34,
    "start_time": "2024-06-14T07:28:22.649Z"
   },
   {
    "duration": 725,
    "start_time": "2024-06-14T07:28:22.685Z"
   },
   {
    "duration": 898,
    "start_time": "2024-06-14T07:28:23.411Z"
   },
   {
    "duration": 47,
    "start_time": "2024-06-14T07:28:24.311Z"
   },
   {
    "duration": 32,
    "start_time": "2024-06-14T07:28:24.360Z"
   },
   {
    "duration": 656,
    "start_time": "2024-06-14T07:28:24.394Z"
   },
   {
    "duration": 793,
    "start_time": "2024-06-14T07:28:25.051Z"
   },
   {
    "duration": 148,
    "start_time": "2024-06-14T07:28:25.846Z"
   },
   {
    "duration": 3,
    "start_time": "2024-06-14T07:28:25.996Z"
   },
   {
    "duration": 141,
    "start_time": "2024-06-14T07:28:26.011Z"
   },
   {
    "duration": 4,
    "start_time": "2024-06-14T07:28:26.154Z"
   },
   {
    "duration": 9,
    "start_time": "2024-06-14T07:28:26.159Z"
   },
   {
    "duration": 531,
    "start_time": "2024-06-14T07:28:26.169Z"
   },
   {
    "duration": 479,
    "start_time": "2024-06-14T07:28:26.708Z"
   },
   {
    "duration": 514,
    "start_time": "2024-06-14T07:28:27.188Z"
   },
   {
    "duration": 4,
    "start_time": "2024-06-14T07:28:27.708Z"
   },
   {
    "duration": 13,
    "start_time": "2024-06-14T07:28:27.713Z"
   },
   {
    "duration": 7,
    "start_time": "2024-06-14T07:28:27.728Z"
   },
   {
    "duration": 12,
    "start_time": "2024-06-14T07:28:27.736Z"
   },
   {
    "duration": 15,
    "start_time": "2024-06-14T07:28:27.749Z"
   },
   {
    "duration": 356,
    "start_time": "2024-06-14T07:28:27.766Z"
   },
   {
    "duration": 4,
    "start_time": "2024-06-14T07:28:28.124Z"
   },
   {
    "duration": 90,
    "start_time": "2024-06-14T07:28:28.129Z"
   },
   {
    "duration": 96,
    "start_time": "2024-06-14T07:28:28.220Z"
   },
   {
    "duration": 4,
    "start_time": "2024-06-14T07:28:28.318Z"
   },
   {
    "duration": 8,
    "start_time": "2024-06-14T07:28:28.409Z"
   },
   {
    "duration": 5,
    "start_time": "2024-06-14T07:28:28.509Z"
   },
   {
    "duration": 4,
    "start_time": "2024-06-14T07:28:28.515Z"
   },
   {
    "duration": 9,
    "start_time": "2024-06-14T07:28:28.520Z"
   },
   {
    "duration": 6,
    "start_time": "2024-06-14T07:28:28.530Z"
   },
   {
    "duration": 8,
    "start_time": "2024-06-14T07:28:28.539Z"
   },
   {
    "duration": 30,
    "start_time": "2024-06-14T07:28:28.548Z"
   },
   {
    "duration": 4,
    "start_time": "2024-06-14T07:28:28.579Z"
   },
   {
    "duration": 9,
    "start_time": "2024-06-14T07:28:28.585Z"
   },
   {
    "duration": 19,
    "start_time": "2024-06-14T07:28:28.595Z"
   },
   {
    "duration": 3,
    "start_time": "2024-06-14T07:28:28.615Z"
   },
   {
    "duration": 19,
    "start_time": "2024-06-14T07:28:28.619Z"
   },
   {
    "duration": 23,
    "start_time": "2024-06-14T07:28:28.639Z"
   },
   {
    "duration": 0,
    "start_time": "2024-06-14T07:28:28.663Z"
   },
   {
    "duration": 0,
    "start_time": "2024-06-14T07:28:28.664Z"
   },
   {
    "duration": 0,
    "start_time": "2024-06-14T07:28:28.665Z"
   },
   {
    "duration": 0,
    "start_time": "2024-06-14T07:28:28.666Z"
   },
   {
    "duration": 0,
    "start_time": "2024-06-14T07:28:28.667Z"
   },
   {
    "duration": 0,
    "start_time": "2024-06-14T07:28:28.668Z"
   },
   {
    "duration": 4,
    "start_time": "2024-06-14T07:29:20.437Z"
   },
   {
    "duration": 19,
    "start_time": "2024-06-14T07:29:22.300Z"
   },
   {
    "duration": 5,
    "start_time": "2024-06-14T07:30:44.026Z"
   },
   {
    "duration": 18,
    "start_time": "2024-06-14T07:30:45.169Z"
   },
   {
    "duration": 17,
    "start_time": "2024-06-14T07:31:07.997Z"
   },
   {
    "duration": 5,
    "start_time": "2024-06-14T07:32:26.117Z"
   },
   {
    "duration": 18,
    "start_time": "2024-06-14T07:32:28.087Z"
   },
   {
    "duration": 25974,
    "start_time": "2024-06-14T07:34:18.367Z"
   },
   {
    "duration": 4,
    "start_time": "2024-06-14T07:34:44.344Z"
   },
   {
    "duration": 145,
    "start_time": "2024-06-14T07:34:44.350Z"
   },
   {
    "duration": 106,
    "start_time": "2024-06-14T07:34:44.497Z"
   },
   {
    "duration": 108,
    "start_time": "2024-06-14T07:34:44.605Z"
   },
   {
    "duration": 5,
    "start_time": "2024-06-14T07:34:44.715Z"
   },
   {
    "duration": 97,
    "start_time": "2024-06-14T07:34:44.722Z"
   },
   {
    "duration": 95,
    "start_time": "2024-06-14T07:34:44.821Z"
   },
   {
    "duration": 98,
    "start_time": "2024-06-14T07:34:44.917Z"
   },
   {
    "duration": 2,
    "start_time": "2024-06-14T07:34:45.019Z"
   },
   {
    "duration": 73,
    "start_time": "2024-06-14T07:34:45.022Z"
   },
   {
    "duration": 11,
    "start_time": "2024-06-14T07:34:45.096Z"
   },
   {
    "duration": 43,
    "start_time": "2024-06-14T07:34:45.108Z"
   },
   {
    "duration": 126,
    "start_time": "2024-06-14T07:34:45.153Z"
   },
   {
    "duration": 95,
    "start_time": "2024-06-14T07:34:45.280Z"
   },
   {
    "duration": 26597,
    "start_time": "2024-06-14T07:37:28.885Z"
   },
   {
    "duration": 1556,
    "start_time": "2024-06-14T07:37:55.485Z"
   },
   {
    "duration": 130,
    "start_time": "2024-06-14T07:37:57.042Z"
   },
   {
    "duration": 119,
    "start_time": "2024-06-14T07:37:57.173Z"
   },
   {
    "duration": 115,
    "start_time": "2024-06-14T07:37:57.294Z"
   },
   {
    "duration": 11,
    "start_time": "2024-06-14T07:37:57.411Z"
   },
   {
    "duration": 125,
    "start_time": "2024-06-14T07:37:57.424Z"
   },
   {
    "duration": 120,
    "start_time": "2024-06-14T07:37:57.550Z"
   },
   {
    "duration": 95,
    "start_time": "2024-06-14T07:37:57.672Z"
   },
   {
    "duration": 2,
    "start_time": "2024-06-14T07:37:57.770Z"
   },
   {
    "duration": 42,
    "start_time": "2024-06-14T07:37:57.773Z"
   },
   {
    "duration": 8,
    "start_time": "2024-06-14T07:37:57.816Z"
   },
   {
    "duration": 25,
    "start_time": "2024-06-14T07:37:57.825Z"
   },
   {
    "duration": 32,
    "start_time": "2024-06-14T07:37:57.852Z"
   },
   {
    "duration": 46,
    "start_time": "2024-06-14T07:37:57.885Z"
   },
   {
    "duration": 529896,
    "start_time": "2024-06-14T07:37:57.932Z"
   },
   {
    "duration": 0,
    "start_time": "2024-06-14T07:46:47.831Z"
   },
   {
    "duration": 0,
    "start_time": "2024-06-14T07:46:47.833Z"
   },
   {
    "duration": 0,
    "start_time": "2024-06-14T07:46:47.834Z"
   },
   {
    "duration": 0,
    "start_time": "2024-06-14T07:46:47.836Z"
   },
   {
    "duration": 0,
    "start_time": "2024-06-14T07:46:47.837Z"
   },
   {
    "duration": 0,
    "start_time": "2024-06-14T07:46:47.838Z"
   },
   {
    "duration": 0,
    "start_time": "2024-06-14T07:46:47.839Z"
   },
   {
    "duration": 0,
    "start_time": "2024-06-14T07:46:47.841Z"
   },
   {
    "duration": 0,
    "start_time": "2024-06-14T07:46:47.842Z"
   },
   {
    "duration": 0,
    "start_time": "2024-06-14T07:46:47.843Z"
   },
   {
    "duration": 0,
    "start_time": "2024-06-14T07:46:47.845Z"
   },
   {
    "duration": 0,
    "start_time": "2024-06-14T07:46:47.846Z"
   },
   {
    "duration": 1,
    "start_time": "2024-06-14T07:46:47.847Z"
   },
   {
    "duration": 0,
    "start_time": "2024-06-14T07:46:47.849Z"
   },
   {
    "duration": 0,
    "start_time": "2024-06-14T07:46:47.850Z"
   },
   {
    "duration": 0,
    "start_time": "2024-06-14T07:46:47.852Z"
   },
   {
    "duration": 0,
    "start_time": "2024-06-14T07:46:47.853Z"
   },
   {
    "duration": 0,
    "start_time": "2024-06-14T07:46:47.854Z"
   },
   {
    "duration": 0,
    "start_time": "2024-06-14T07:46:47.855Z"
   },
   {
    "duration": 0,
    "start_time": "2024-06-14T07:46:47.856Z"
   },
   {
    "duration": 0,
    "start_time": "2024-06-14T07:46:47.858Z"
   },
   {
    "duration": 0,
    "start_time": "2024-06-14T07:46:47.859Z"
   },
   {
    "duration": 0,
    "start_time": "2024-06-14T07:46:47.860Z"
   },
   {
    "duration": 0,
    "start_time": "2024-06-14T07:46:47.909Z"
   },
   {
    "duration": 0,
    "start_time": "2024-06-14T07:46:47.911Z"
   },
   {
    "duration": 0,
    "start_time": "2024-06-14T07:46:47.912Z"
   },
   {
    "duration": 0,
    "start_time": "2024-06-14T07:46:47.914Z"
   },
   {
    "duration": 0,
    "start_time": "2024-06-14T07:46:47.915Z"
   },
   {
    "duration": 0,
    "start_time": "2024-06-14T07:46:47.916Z"
   },
   {
    "duration": 0,
    "start_time": "2024-06-14T07:46:47.917Z"
   },
   {
    "duration": 0,
    "start_time": "2024-06-14T07:46:47.919Z"
   },
   {
    "duration": 0,
    "start_time": "2024-06-14T07:46:47.923Z"
   },
   {
    "duration": 0,
    "start_time": "2024-06-14T07:46:47.924Z"
   },
   {
    "duration": 0,
    "start_time": "2024-06-14T07:46:47.925Z"
   },
   {
    "duration": 0,
    "start_time": "2024-06-14T07:46:47.926Z"
   },
   {
    "duration": 0,
    "start_time": "2024-06-14T07:46:47.928Z"
   },
   {
    "duration": 0,
    "start_time": "2024-06-14T07:46:47.929Z"
   },
   {
    "duration": 0,
    "start_time": "2024-06-14T07:46:47.930Z"
   },
   {
    "duration": 0,
    "start_time": "2024-06-14T07:46:47.931Z"
   },
   {
    "duration": 0,
    "start_time": "2024-06-14T07:46:47.932Z"
   },
   {
    "duration": 0,
    "start_time": "2024-06-14T07:46:47.932Z"
   },
   {
    "duration": 0,
    "start_time": "2024-06-14T07:46:47.933Z"
   },
   {
    "duration": 0,
    "start_time": "2024-06-14T07:46:47.934Z"
   },
   {
    "duration": 0,
    "start_time": "2024-06-14T07:46:47.935Z"
   },
   {
    "duration": 0,
    "start_time": "2024-06-14T07:46:47.936Z"
   },
   {
    "duration": 0,
    "start_time": "2024-06-14T07:46:47.937Z"
   },
   {
    "duration": 0,
    "start_time": "2024-06-14T07:46:47.938Z"
   },
   {
    "duration": 26759,
    "start_time": "2024-06-14T08:01:26.831Z"
   },
   {
    "duration": 4,
    "start_time": "2024-06-14T08:01:53.592Z"
   },
   {
    "duration": 218,
    "start_time": "2024-06-14T08:01:53.597Z"
   },
   {
    "duration": 175,
    "start_time": "2024-06-14T08:01:53.817Z"
   },
   {
    "duration": 109,
    "start_time": "2024-06-14T08:01:53.994Z"
   },
   {
    "duration": 4,
    "start_time": "2024-06-14T08:01:54.105Z"
   },
   {
    "duration": 154,
    "start_time": "2024-06-14T08:01:54.111Z"
   },
   {
    "duration": 152,
    "start_time": "2024-06-14T08:01:54.266Z"
   },
   {
    "duration": 100,
    "start_time": "2024-06-14T08:01:54.419Z"
   },
   {
    "duration": 2,
    "start_time": "2024-06-14T08:02:02.546Z"
   },
   {
    "duration": 17,
    "start_time": "2024-06-14T08:02:03.348Z"
   },
   {
    "duration": 17,
    "start_time": "2024-06-14T08:02:16.061Z"
   },
   {
    "duration": 15,
    "start_time": "2024-06-14T08:02:16.903Z"
   },
   {
    "duration": 4,
    "start_time": "2024-06-14T08:02:21.801Z"
   },
   {
    "duration": 4,
    "start_time": "2024-06-14T08:02:24.101Z"
   },
   {
    "duration": 4,
    "start_time": "2024-06-14T08:02:24.981Z"
   },
   {
    "duration": 36,
    "start_time": "2024-06-14T08:02:25.781Z"
   },
   {
    "duration": 696,
    "start_time": "2024-06-14T08:02:26.497Z"
   },
   {
    "duration": 761,
    "start_time": "2024-06-14T08:02:27.440Z"
   },
   {
    "duration": 49,
    "start_time": "2024-06-14T08:02:34.631Z"
   },
   {
    "duration": 35,
    "start_time": "2024-06-14T08:02:35.210Z"
   },
   {
    "duration": 665,
    "start_time": "2024-06-14T08:02:35.391Z"
   },
   {
    "duration": 776,
    "start_time": "2024-06-14T08:02:36.058Z"
   },
   {
    "duration": 49,
    "start_time": "2024-06-14T08:02:36.835Z"
   },
   {
    "duration": 34,
    "start_time": "2024-06-14T08:02:37.461Z"
   },
   {
    "duration": 63,
    "start_time": "2024-06-14T08:02:48.072Z"
   },
   {
    "duration": 33,
    "start_time": "2024-06-14T08:02:48.451Z"
   },
   {
    "duration": 690,
    "start_time": "2024-06-14T08:02:48.659Z"
   },
   {
    "duration": 5192,
    "start_time": "2024-06-14T08:02:49.350Z"
   },
   {
    "duration": 144,
    "start_time": "2024-06-14T08:02:54.543Z"
   },
   {
    "duration": 3,
    "start_time": "2024-06-14T08:03:00.436Z"
   },
   {
    "duration": 148,
    "start_time": "2024-06-14T08:03:00.760Z"
   },
   {
    "duration": 4,
    "start_time": "2024-06-14T08:03:01.100Z"
   },
   {
    "duration": 4,
    "start_time": "2024-06-14T08:03:01.896Z"
   },
   {
    "duration": 587,
    "start_time": "2024-06-14T08:03:05.391Z"
   },
   {
    "duration": 553,
    "start_time": "2024-06-14T08:03:09.425Z"
   },
   {
    "duration": 541,
    "start_time": "2024-06-14T08:03:10.942Z"
   },
   {
    "duration": 4,
    "start_time": "2024-06-14T08:03:19.966Z"
   },
   {
    "duration": 9,
    "start_time": "2024-06-14T08:03:20.536Z"
   },
   {
    "duration": 2,
    "start_time": "2024-06-14T08:03:30.603Z"
   },
   {
    "duration": 3,
    "start_time": "2024-06-14T08:03:31.489Z"
   },
   {
    "duration": 3,
    "start_time": "2024-06-14T08:03:32.528Z"
   },
   {
    "duration": 495,
    "start_time": "2024-06-14T08:03:39.718Z"
   },
   {
    "duration": 4,
    "start_time": "2024-06-14T08:03:40.410Z"
   },
   {
    "duration": 2,
    "start_time": "2024-06-14T08:03:41.284Z"
   },
   {
    "duration": 10,
    "start_time": "2024-06-14T08:03:42.057Z"
   },
   {
    "duration": 4,
    "start_time": "2024-06-14T08:03:42.528Z"
   },
   {
    "duration": 2,
    "start_time": "2024-06-14T08:03:48.729Z"
   },
   {
    "duration": 9,
    "start_time": "2024-06-14T08:03:49.269Z"
   },
   {
    "duration": 5,
    "start_time": "2024-06-14T08:03:49.806Z"
   },
   {
    "duration": 6,
    "start_time": "2024-06-14T08:03:51.881Z"
   },
   {
    "duration": 2,
    "start_time": "2024-06-14T08:03:57.046Z"
   },
   {
    "duration": 2,
    "start_time": "2024-06-14T08:03:57.567Z"
   },
   {
    "duration": 2,
    "start_time": "2024-06-14T08:03:58.096Z"
   },
   {
    "duration": 2,
    "start_time": "2024-06-14T08:03:59.166Z"
   },
   {
    "duration": 3,
    "start_time": "2024-06-14T08:04:00.136Z"
   },
   {
    "duration": 3,
    "start_time": "2024-06-14T08:04:04.226Z"
   },
   {
    "duration": 6,
    "start_time": "2024-06-14T08:04:05.575Z"
   },
   {
    "duration": 19,
    "start_time": "2024-06-14T08:04:09.326Z"
   },
   {
    "duration": 4,
    "start_time": "2024-06-14T08:04:14.821Z"
   },
   {
    "duration": 4,
    "start_time": "2024-06-14T08:04:21.712Z"
   },
   {
    "duration": 21,
    "start_time": "2024-06-14T08:04:23.271Z"
   },
   {
    "duration": 26261,
    "start_time": "2024-06-14T08:06:12.429Z"
   },
   {
    "duration": 1623,
    "start_time": "2024-06-14T08:06:38.692Z"
   },
   {
    "duration": 130,
    "start_time": "2024-06-14T08:06:40.317Z"
   },
   {
    "duration": 112,
    "start_time": "2024-06-14T08:06:40.448Z"
   },
   {
    "duration": 115,
    "start_time": "2024-06-14T08:06:40.561Z"
   },
   {
    "duration": 5,
    "start_time": "2024-06-14T08:06:40.678Z"
   },
   {
    "duration": 93,
    "start_time": "2024-06-14T08:06:40.684Z"
   },
   {
    "duration": 93,
    "start_time": "2024-06-14T08:06:40.779Z"
   },
   {
    "duration": 98,
    "start_time": "2024-06-14T08:06:40.873Z"
   },
   {
    "duration": 3,
    "start_time": "2024-06-14T08:07:01.371Z"
   },
   {
    "duration": 17,
    "start_time": "2024-06-14T08:07:02.057Z"
   },
   {
    "duration": 5,
    "start_time": "2024-06-14T08:07:04.955Z"
   },
   {
    "duration": 3,
    "start_time": "2024-06-14T08:07:05.562Z"
   },
   {
    "duration": 4,
    "start_time": "2024-06-14T08:07:06.198Z"
   },
   {
    "duration": 43,
    "start_time": "2024-06-14T08:07:06.897Z"
   },
   {
    "duration": 26220,
    "start_time": "2024-06-14T08:10:44.202Z"
   },
   {
    "duration": 1544,
    "start_time": "2024-06-14T08:11:10.424Z"
   },
   {
    "duration": 128,
    "start_time": "2024-06-14T08:11:11.970Z"
   },
   {
    "duration": 107,
    "start_time": "2024-06-14T08:11:12.100Z"
   },
   {
    "duration": 113,
    "start_time": "2024-06-14T08:11:12.209Z"
   },
   {
    "duration": 4,
    "start_time": "2024-06-14T08:11:12.323Z"
   },
   {
    "duration": 113,
    "start_time": "2024-06-14T08:11:12.329Z"
   },
   {
    "duration": 95,
    "start_time": "2024-06-14T08:11:12.444Z"
   },
   {
    "duration": 109,
    "start_time": "2024-06-14T08:11:12.540Z"
   },
   {
    "duration": 3,
    "start_time": "2024-06-14T08:11:44.095Z"
   },
   {
    "duration": 18,
    "start_time": "2024-06-14T08:11:44.973Z"
   },
   {
    "duration": 4,
    "start_time": "2024-06-14T08:11:48.464Z"
   },
   {
    "duration": 4,
    "start_time": "2024-06-14T08:11:51.842Z"
   },
   {
    "duration": 5,
    "start_time": "2024-06-14T08:11:52.998Z"
   },
   {
    "duration": 35,
    "start_time": "2024-06-14T08:11:54.382Z"
   },
   {
    "duration": 26709,
    "start_time": "2024-06-14T08:28:04.866Z"
   },
   {
    "duration": 5,
    "start_time": "2024-06-14T08:28:31.577Z"
   },
   {
    "duration": 316,
    "start_time": "2024-06-14T08:28:31.583Z"
   },
   {
    "duration": 179,
    "start_time": "2024-06-14T08:28:31.901Z"
   },
   {
    "duration": 478,
    "start_time": "2024-06-14T08:28:32.081Z"
   },
   {
    "duration": 4,
    "start_time": "2024-06-14T08:28:32.560Z"
   },
   {
    "duration": 380,
    "start_time": "2024-06-14T08:28:32.565Z"
   },
   {
    "duration": 207,
    "start_time": "2024-06-14T08:28:32.947Z"
   },
   {
    "duration": 92,
    "start_time": "2024-06-14T08:28:33.155Z"
   },
   {
    "duration": 17,
    "start_time": "2024-06-14T08:28:33.249Z"
   },
   {
    "duration": 17,
    "start_time": "2024-06-14T08:28:33.268Z"
   },
   {
    "duration": 3,
    "start_time": "2024-06-14T08:28:59.846Z"
   },
   {
    "duration": 4,
    "start_time": "2024-06-14T08:29:01.257Z"
   },
   {
    "duration": 5,
    "start_time": "2024-06-14T08:29:02.504Z"
   },
   {
    "duration": 35,
    "start_time": "2024-06-14T08:29:03.504Z"
   },
   {
    "duration": 732,
    "start_time": "2024-06-14T08:29:03.922Z"
   },
   {
    "duration": 823,
    "start_time": "2024-06-14T08:29:04.656Z"
   },
   {
    "duration": 649,
    "start_time": "2024-06-14T08:29:09.900Z"
   },
   {
    "duration": 796,
    "start_time": "2024-06-14T08:29:11.319Z"
   },
   {
    "duration": 50,
    "start_time": "2024-06-14T08:29:16.240Z"
   },
   {
    "duration": 34,
    "start_time": "2024-06-14T08:29:17.958Z"
   },
   {
    "duration": 656,
    "start_time": "2024-06-14T08:29:18.503Z"
   },
   {
    "duration": 5205,
    "start_time": "2024-06-14T08:29:19.162Z"
   },
   {
    "duration": 55,
    "start_time": "2024-06-14T08:29:24.368Z"
   },
   {
    "duration": 33,
    "start_time": "2024-06-14T08:29:25.702Z"
   },
   {
    "duration": 655,
    "start_time": "2024-06-14T08:29:26.034Z"
   },
   {
    "duration": 810,
    "start_time": "2024-06-14T08:29:26.691Z"
   },
   {
    "duration": 164,
    "start_time": "2024-06-14T08:29:27.503Z"
   },
   {
    "duration": 3,
    "start_time": "2024-06-14T08:29:37.850Z"
   },
   {
    "duration": 130,
    "start_time": "2024-06-14T08:29:38.180Z"
   },
   {
    "duration": 4,
    "start_time": "2024-06-14T08:29:38.501Z"
   },
   {
    "duration": 4,
    "start_time": "2024-06-14T08:29:38.829Z"
   },
   {
    "duration": 516,
    "start_time": "2024-06-14T08:29:47.663Z"
   },
   {
    "duration": 514,
    "start_time": "2024-06-14T08:29:53.564Z"
   },
   {
    "duration": 514,
    "start_time": "2024-06-14T08:29:55.172Z"
   },
   {
    "duration": 4,
    "start_time": "2024-06-14T08:29:59.920Z"
   },
   {
    "duration": 7,
    "start_time": "2024-06-14T08:30:00.279Z"
   },
   {
    "duration": 6,
    "start_time": "2024-06-14T08:30:25.382Z"
   },
   {
    "duration": 2,
    "start_time": "2024-06-14T08:30:36.174Z"
   },
   {
    "duration": 3,
    "start_time": "2024-06-14T08:30:36.982Z"
   },
   {
    "duration": 2,
    "start_time": "2024-06-14T08:30:37.529Z"
   },
   {
    "duration": 435,
    "start_time": "2024-06-14T08:30:38.182Z"
   },
   {
    "duration": 3,
    "start_time": "2024-06-14T08:30:38.902Z"
   },
   {
    "duration": 2,
    "start_time": "2024-06-14T08:30:39.552Z"
   },
   {
    "duration": 13,
    "start_time": "2024-06-14T08:30:40.171Z"
   },
   {
    "duration": 5,
    "start_time": "2024-06-14T08:30:40.719Z"
   },
   {
    "duration": 6,
    "start_time": "2024-06-14T08:30:41.223Z"
   },
   {
    "duration": 2,
    "start_time": "2024-06-14T08:30:47.810Z"
   },
   {
    "duration": 2,
    "start_time": "2024-06-14T08:30:48.431Z"
   },
   {
    "duration": 3,
    "start_time": "2024-06-14T08:30:49.302Z"
   },
   {
    "duration": 3,
    "start_time": "2024-06-14T08:30:50.351Z"
   },
   {
    "duration": 2,
    "start_time": "2024-06-14T08:30:51.482Z"
   },
   {
    "duration": 4,
    "start_time": "2024-06-14T08:30:55.641Z"
   },
   {
    "duration": 5,
    "start_time": "2024-06-14T08:30:56.994Z"
   },
   {
    "duration": 20,
    "start_time": "2024-06-14T08:31:00.685Z"
   },
   {
    "duration": 4,
    "start_time": "2024-06-14T08:31:01.469Z"
   },
   {
    "duration": 4,
    "start_time": "2024-06-14T08:31:26.170Z"
   },
   {
    "duration": 23,
    "start_time": "2024-06-14T08:31:28.440Z"
   },
   {
    "duration": 4,
    "start_time": "2024-06-14T08:33:07.544Z"
   },
   {
    "duration": 19,
    "start_time": "2024-06-14T08:33:08.851Z"
   },
   {
    "duration": 7,
    "start_time": "2024-06-14T08:37:15.795Z"
   },
   {
    "duration": 8,
    "start_time": "2024-06-14T08:37:32.284Z"
   },
   {
    "duration": 2,
    "start_time": "2024-06-14T08:38:00.733Z"
   },
   {
    "duration": 3,
    "start_time": "2024-06-14T08:38:05.306Z"
   },
   {
    "duration": 5,
    "start_time": "2024-06-14T08:38:14.678Z"
   },
   {
    "duration": 5,
    "start_time": "2024-06-14T08:38:27.538Z"
   },
   {
    "duration": 4,
    "start_time": "2024-06-14T08:38:28.320Z"
   },
   {
    "duration": 4,
    "start_time": "2024-06-14T08:38:45.348Z"
   },
   {
    "duration": 3,
    "start_time": "2024-06-14T08:39:19.707Z"
   },
   {
    "duration": 18,
    "start_time": "2024-06-14T08:39:24.196Z"
   },
   {
    "duration": 706,
    "start_time": "2024-06-14T08:40:35.550Z"
   },
   {
    "duration": 0,
    "start_time": "2024-06-14T08:40:36.258Z"
   },
   {
    "duration": 636,
    "start_time": "2024-06-14T08:41:55.081Z"
   },
   {
    "duration": 5,
    "start_time": "2024-06-14T09:06:09.964Z"
   },
   {
    "duration": 2,
    "start_time": "2024-06-14T09:07:33.996Z"
   },
   {
    "duration": 5,
    "start_time": "2024-06-14T09:07:58.223Z"
   },
   {
    "duration": 10,
    "start_time": "2024-06-14T09:08:59.714Z"
   },
   {
    "duration": 5,
    "start_time": "2024-06-14T09:09:42.132Z"
   },
   {
    "duration": 6,
    "start_time": "2024-06-14T09:09:56.692Z"
   },
   {
    "duration": 10,
    "start_time": "2024-06-14T09:10:03.845Z"
   },
   {
    "duration": 10,
    "start_time": "2024-06-14T09:10:16.511Z"
   },
   {
    "duration": 3,
    "start_time": "2024-06-14T09:10:17.023Z"
   },
   {
    "duration": 6,
    "start_time": "2024-06-14T09:10:18.131Z"
   },
   {
    "duration": 1438,
    "start_time": "2024-06-14T09:10:19.214Z"
   },
   {
    "duration": 4028,
    "start_time": "2024-06-14T09:10:20.654Z"
   },
   {
    "duration": 4049,
    "start_time": "2024-06-14T09:10:24.684Z"
   },
   {
    "duration": 4095,
    "start_time": "2024-06-14T09:10:55.270Z"
   },
   {
    "duration": 1277,
    "start_time": "2024-06-14T09:11:18.290Z"
   },
   {
    "duration": 4,
    "start_time": "2024-06-14T09:12:25.989Z"
   },
   {
    "duration": 1366,
    "start_time": "2024-06-14T09:12:27.449Z"
   },
   {
    "duration": 4072,
    "start_time": "2024-06-14T09:12:29.539Z"
   },
   {
    "duration": 4074,
    "start_time": "2024-06-14T09:12:33.614Z"
   },
   {
    "duration": 4,
    "start_time": "2024-06-14T09:13:02.547Z"
   },
   {
    "duration": 1385,
    "start_time": "2024-06-14T09:13:04.700Z"
   },
   {
    "duration": 26486,
    "start_time": "2024-06-14T09:13:30.861Z"
   },
   {
    "duration": 1559,
    "start_time": "2024-06-14T09:13:57.350Z"
   },
   {
    "duration": 127,
    "start_time": "2024-06-14T09:13:58.910Z"
   },
   {
    "duration": 108,
    "start_time": "2024-06-14T09:13:59.039Z"
   },
   {
    "duration": 110,
    "start_time": "2024-06-14T09:13:59.148Z"
   },
   {
    "duration": 4,
    "start_time": "2024-06-14T09:13:59.259Z"
   },
   {
    "duration": 109,
    "start_time": "2024-06-14T09:13:59.264Z"
   },
   {
    "duration": 91,
    "start_time": "2024-06-14T09:13:59.374Z"
   },
   {
    "duration": 99,
    "start_time": "2024-06-14T09:13:59.467Z"
   },
   {
    "duration": 17,
    "start_time": "2024-06-14T09:13:59.570Z"
   },
   {
    "duration": 46,
    "start_time": "2024-06-14T09:13:59.589Z"
   },
   {
    "duration": 5,
    "start_time": "2024-06-14T09:13:59.637Z"
   },
   {
    "duration": 23,
    "start_time": "2024-06-14T09:13:59.644Z"
   },
   {
    "duration": 28,
    "start_time": "2024-06-14T09:13:59.669Z"
   },
   {
    "duration": 40,
    "start_time": "2024-06-14T09:13:59.698Z"
   },
   {
    "duration": 790,
    "start_time": "2024-06-14T09:13:59.739Z"
   },
   {
    "duration": 773,
    "start_time": "2024-06-14T09:14:00.531Z"
   },
   {
    "duration": 51,
    "start_time": "2024-06-14T09:14:01.306Z"
   },
   {
    "duration": 54,
    "start_time": "2024-06-14T09:14:01.359Z"
   },
   {
    "duration": 811,
    "start_time": "2024-06-14T09:14:01.415Z"
   },
   {
    "duration": 834,
    "start_time": "2024-06-14T09:14:02.227Z"
   },
   {
    "duration": 64,
    "start_time": "2024-06-14T09:14:03.063Z"
   },
   {
    "duration": 220,
    "start_time": "2024-06-14T09:14:03.128Z"
   },
   {
    "duration": 720,
    "start_time": "2024-06-14T09:14:03.350Z"
   },
   {
    "duration": 894,
    "start_time": "2024-06-14T09:14:04.072Z"
   },
   {
    "duration": 152,
    "start_time": "2024-06-14T09:14:04.967Z"
   },
   {
    "duration": 3,
    "start_time": "2024-06-14T09:14:05.121Z"
   },
   {
    "duration": 147,
    "start_time": "2024-06-14T09:14:05.128Z"
   },
   {
    "duration": 5,
    "start_time": "2024-06-14T09:14:05.277Z"
   },
   {
    "duration": 7,
    "start_time": "2024-06-14T09:14:05.283Z"
   },
   {
    "duration": 588,
    "start_time": "2024-06-14T09:14:05.291Z"
   },
   {
    "duration": 503,
    "start_time": "2024-06-14T09:14:05.880Z"
   },
   {
    "duration": 570,
    "start_time": "2024-06-14T09:14:06.385Z"
   },
   {
    "duration": 6,
    "start_time": "2024-06-14T09:14:06.956Z"
   },
   {
    "duration": 25,
    "start_time": "2024-06-14T09:14:06.964Z"
   },
   {
    "duration": 18,
    "start_time": "2024-06-14T09:14:06.990Z"
   },
   {
    "duration": 3,
    "start_time": "2024-06-14T09:14:07.010Z"
   },
   {
    "duration": 11,
    "start_time": "2024-06-14T09:14:07.014Z"
   },
   {
    "duration": 389,
    "start_time": "2024-06-14T09:14:07.027Z"
   },
   {
    "duration": 87,
    "start_time": "2024-06-14T09:14:07.423Z"
   },
   {
    "duration": 6,
    "start_time": "2024-06-14T09:14:07.512Z"
   },
   {
    "duration": 101,
    "start_time": "2024-06-14T09:14:07.520Z"
   },
   {
    "duration": 92,
    "start_time": "2024-06-14T09:14:07.623Z"
   },
   {
    "duration": 96,
    "start_time": "2024-06-14T09:14:07.717Z"
   },
   {
    "duration": 3,
    "start_time": "2024-06-14T09:14:07.815Z"
   },
   {
    "duration": 11,
    "start_time": "2024-06-14T09:14:07.819Z"
   },
   {
    "duration": 13,
    "start_time": "2024-06-14T09:14:07.832Z"
   },
   {
    "duration": 3,
    "start_time": "2024-06-14T09:14:07.847Z"
   },
   {
    "duration": 8,
    "start_time": "2024-06-14T09:14:07.852Z"
   },
   {
    "duration": 5,
    "start_time": "2024-06-14T09:14:07.861Z"
   },
   {
    "duration": 13,
    "start_time": "2024-06-14T09:14:07.867Z"
   },
   {
    "duration": 33,
    "start_time": "2024-06-14T09:14:07.882Z"
   },
   {
    "duration": 4,
    "start_time": "2024-06-14T09:14:07.916Z"
   },
   {
    "duration": 4,
    "start_time": "2024-06-14T09:14:07.922Z"
   },
   {
    "duration": 9,
    "start_time": "2024-06-14T09:14:07.927Z"
   },
   {
    "duration": 3,
    "start_time": "2024-06-14T09:14:56.050Z"
   },
   {
    "duration": 3,
    "start_time": "2024-06-14T09:14:56.513Z"
   },
   {
    "duration": 6,
    "start_time": "2024-06-14T09:14:57.852Z"
   },
   {
    "duration": 1393,
    "start_time": "2024-06-14T09:15:04.237Z"
   },
   {
    "duration": 1421,
    "start_time": "2024-06-14T09:15:17.138Z"
   },
   {
    "duration": 1472,
    "start_time": "2024-06-14T09:15:23.954Z"
   },
   {
    "duration": 4,
    "start_time": "2024-06-14T09:15:34.546Z"
   },
   {
    "duration": 1329,
    "start_time": "2024-06-14T09:15:46.590Z"
   },
   {
    "duration": 121,
    "start_time": "2024-06-14T09:18:00.381Z"
   },
   {
    "duration": 1291,
    "start_time": "2024-06-14T09:18:13.141Z"
   },
   {
    "duration": 4,
    "start_time": "2024-06-14T09:20:38.438Z"
   },
   {
    "duration": 53,
    "start_time": "2024-06-14T09:20:39.847Z"
   },
   {
    "duration": 8,
    "start_time": "2024-06-14T09:20:50.336Z"
   },
   {
    "duration": 13,
    "start_time": "2024-06-14T09:21:58.401Z"
   },
   {
    "duration": 14,
    "start_time": "2024-06-14T09:23:11.515Z"
   },
   {
    "duration": 5,
    "start_time": "2024-06-14T09:25:19.005Z"
   },
   {
    "duration": 769,
    "start_time": "2024-06-14T09:25:20.377Z"
   },
   {
    "duration": 2217,
    "start_time": "2024-06-14T09:25:31.074Z"
   },
   {
    "duration": 5,
    "start_time": "2024-06-14T09:26:08.061Z"
   },
   {
    "duration": 2242,
    "start_time": "2024-06-14T09:26:22.402Z"
   },
   {
    "duration": 44810,
    "start_time": "2024-06-14T16:24:52.609Z"
   },
   {
    "duration": 1569,
    "start_time": "2024-06-14T16:25:37.421Z"
   },
   {
    "duration": 217,
    "start_time": "2024-06-14T16:25:38.991Z"
   },
   {
    "duration": 180,
    "start_time": "2024-06-14T16:25:39.210Z"
   },
   {
    "duration": 184,
    "start_time": "2024-06-14T16:25:39.391Z"
   },
   {
    "duration": 5,
    "start_time": "2024-06-14T16:25:39.576Z"
   },
   {
    "duration": 157,
    "start_time": "2024-06-14T16:25:39.582Z"
   },
   {
    "duration": 84,
    "start_time": "2024-06-14T16:25:39.741Z"
   },
   {
    "duration": 87,
    "start_time": "2024-06-14T16:25:39.826Z"
   },
   {
    "duration": 14,
    "start_time": "2024-06-14T16:25:39.915Z"
   },
   {
    "duration": 39,
    "start_time": "2024-06-14T16:25:39.930Z"
   },
   {
    "duration": 4,
    "start_time": "2024-06-14T16:25:39.971Z"
   },
   {
    "duration": 17,
    "start_time": "2024-06-14T16:25:39.977Z"
   },
   {
    "duration": 4,
    "start_time": "2024-06-14T16:25:39.995Z"
   },
   {
    "duration": 61,
    "start_time": "2024-06-14T16:25:40.001Z"
   },
   {
    "duration": 788,
    "start_time": "2024-06-14T16:25:40.063Z"
   },
   {
    "duration": 718,
    "start_time": "2024-06-14T16:25:40.853Z"
   },
   {
    "duration": 45,
    "start_time": "2024-06-14T16:25:41.572Z"
   },
   {
    "duration": 1740,
    "start_time": "2024-06-14T16:25:41.619Z"
   },
   {
    "duration": 1521,
    "start_time": "2024-06-14T16:25:43.360Z"
   },
   {
    "duration": 760,
    "start_time": "2024-06-14T16:25:44.883Z"
   },
   {
    "duration": 45,
    "start_time": "2024-06-14T16:25:45.644Z"
   },
   {
    "duration": 45,
    "start_time": "2024-06-14T16:25:45.690Z"
   },
   {
    "duration": 612,
    "start_time": "2024-06-14T16:25:45.736Z"
   },
   {
    "duration": 839,
    "start_time": "2024-06-14T16:25:46.349Z"
   },
   {
    "duration": 148,
    "start_time": "2024-06-14T16:25:47.189Z"
   },
   {
    "duration": 2,
    "start_time": "2024-06-14T16:25:47.339Z"
   },
   {
    "duration": 132,
    "start_time": "2024-06-14T16:25:47.344Z"
   },
   {
    "duration": 8,
    "start_time": "2024-06-14T16:25:47.477Z"
   },
   {
    "duration": 3,
    "start_time": "2024-06-14T16:25:47.486Z"
   },
   {
    "duration": 484,
    "start_time": "2024-06-14T16:25:47.490Z"
   },
   {
    "duration": 565,
    "start_time": "2024-06-14T16:25:47.976Z"
   },
   {
    "duration": 507,
    "start_time": "2024-06-14T16:25:48.542Z"
   },
   {
    "duration": 5,
    "start_time": "2024-06-14T16:25:49.050Z"
   },
   {
    "duration": 67,
    "start_time": "2024-06-14T16:25:49.056Z"
   },
   {
    "duration": 22,
    "start_time": "2024-06-14T16:25:49.125Z"
   },
   {
    "duration": 7,
    "start_time": "2024-06-14T16:25:49.149Z"
   },
   {
    "duration": 25,
    "start_time": "2024-06-14T16:25:49.158Z"
   },
   {
    "duration": 327,
    "start_time": "2024-06-14T16:25:49.184Z"
   },
   {
    "duration": 8,
    "start_time": "2024-06-14T16:25:49.515Z"
   },
   {
    "duration": 650,
    "start_time": "2024-06-14T16:25:49.602Z"
   },
   {
    "duration": 450,
    "start_time": "2024-06-14T16:25:50.253Z"
   },
   {
    "duration": 5,
    "start_time": "2024-06-14T16:25:50.705Z"
   },
   {
    "duration": 196,
    "start_time": "2024-06-14T16:25:50.711Z"
   },
   {
    "duration": 6,
    "start_time": "2024-06-14T16:25:50.909Z"
   },
   {
    "duration": 20,
    "start_time": "2024-06-14T16:25:50.916Z"
   },
   {
    "duration": 35,
    "start_time": "2024-06-14T16:25:50.937Z"
   },
   {
    "duration": 39,
    "start_time": "2024-06-14T16:25:50.973Z"
   },
   {
    "duration": 29,
    "start_time": "2024-06-14T16:25:51.014Z"
   },
   {
    "duration": 12,
    "start_time": "2024-06-14T16:25:51.045Z"
   },
   {
    "duration": 17,
    "start_time": "2024-06-14T16:25:51.058Z"
   },
   {
    "duration": 31,
    "start_time": "2024-06-14T16:25:51.077Z"
   },
   {
    "duration": 25,
    "start_time": "2024-06-14T16:25:51.110Z"
   },
   {
    "duration": 12,
    "start_time": "2024-06-14T16:25:51.136Z"
   },
   {
    "duration": 13,
    "start_time": "2024-06-14T16:25:51.149Z"
   },
   {
    "duration": 4,
    "start_time": "2024-06-14T16:25:51.164Z"
   },
   {
    "duration": 27,
    "start_time": "2024-06-14T16:25:51.170Z"
   },
   {
    "duration": 18,
    "start_time": "2024-06-14T16:25:51.198Z"
   },
   {
    "duration": 2040,
    "start_time": "2024-06-14T16:25:51.217Z"
   },
   {
    "duration": 23934,
    "start_time": "2024-06-14T17:37:12.090Z"
   },
   {
    "duration": 4,
    "start_time": "2024-06-14T17:37:36.026Z"
   },
   {
    "duration": 135,
    "start_time": "2024-06-14T17:37:36.031Z"
   },
   {
    "duration": 101,
    "start_time": "2024-06-14T17:37:36.167Z"
   },
   {
    "duration": 102,
    "start_time": "2024-06-14T17:37:36.269Z"
   },
   {
    "duration": 4,
    "start_time": "2024-06-14T17:37:36.373Z"
   },
   {
    "duration": 96,
    "start_time": "2024-06-14T17:37:36.378Z"
   },
   {
    "duration": 77,
    "start_time": "2024-06-14T17:37:36.475Z"
   },
   {
    "duration": 96,
    "start_time": "2024-06-14T17:37:36.554Z"
   },
   {
    "duration": 12,
    "start_time": "2024-06-14T17:37:55.387Z"
   },
   {
    "duration": 16,
    "start_time": "2024-06-14T17:37:56.445Z"
   },
   {
    "duration": 25,
    "start_time": "2024-06-14T17:37:59.619Z"
   },
   {
    "duration": 26,
    "start_time": "2024-06-14T17:38:15.531Z"
   },
   {
    "duration": 25,
    "start_time": "2024-06-14T17:38:17.258Z"
   },
   {
    "duration": 65,
    "start_time": "2024-06-14T17:39:54.796Z"
   },
   {
    "duration": 25,
    "start_time": "2024-06-14T17:44:31.325Z"
   },
   {
    "duration": 64,
    "start_time": "2024-06-14T17:44:42.831Z"
   },
   {
    "duration": 59,
    "start_time": "2024-06-14T17:44:58.876Z"
   },
   {
    "duration": 65,
    "start_time": "2024-06-14T17:47:32.868Z"
   },
   {
    "duration": 45549,
    "start_time": "2024-06-15T04:25:28.391Z"
   },
   {
    "duration": 1599,
    "start_time": "2024-06-15T04:26:13.942Z"
   },
   {
    "duration": 195,
    "start_time": "2024-06-15T04:26:15.542Z"
   },
   {
    "duration": 175,
    "start_time": "2024-06-15T04:26:15.738Z"
   },
   {
    "duration": 172,
    "start_time": "2024-06-15T04:26:15.915Z"
   },
   {
    "duration": 4,
    "start_time": "2024-06-15T04:26:16.088Z"
   },
   {
    "duration": 89,
    "start_time": "2024-06-15T04:26:16.094Z"
   },
   {
    "duration": 72,
    "start_time": "2024-06-15T04:26:16.184Z"
   },
   {
    "duration": 89,
    "start_time": "2024-06-15T04:26:16.257Z"
   },
   {
    "duration": 14,
    "start_time": "2024-06-15T04:26:16.348Z"
   },
   {
    "duration": 38,
    "start_time": "2024-06-15T04:26:16.364Z"
   },
   {
    "duration": 73,
    "start_time": "2024-06-15T04:26:16.403Z"
   },
   {
    "duration": 3,
    "start_time": "2024-06-15T04:26:16.477Z"
   },
   {
    "duration": 21,
    "start_time": "2024-06-15T04:26:16.482Z"
   },
   {
    "duration": 10,
    "start_time": "2024-06-15T04:26:16.504Z"
   },
   {
    "duration": 32,
    "start_time": "2024-06-15T04:26:16.515Z"
   },
   {
    "duration": 701,
    "start_time": "2024-06-15T04:26:16.549Z"
   },
   {
    "duration": 702,
    "start_time": "2024-06-15T04:26:17.252Z"
   },
   {
    "duration": 47,
    "start_time": "2024-06-15T04:26:17.955Z"
   },
   {
    "duration": 2518,
    "start_time": "2024-06-15T04:26:18.004Z"
   },
   {
    "duration": 624,
    "start_time": "2024-06-15T04:26:20.523Z"
   },
   {
    "duration": 730,
    "start_time": "2024-06-15T04:26:21.149Z"
   },
   {
    "duration": 48,
    "start_time": "2024-06-15T04:26:21.881Z"
   },
   {
    "duration": 30,
    "start_time": "2024-06-15T04:26:21.931Z"
   },
   {
    "duration": 614,
    "start_time": "2024-06-15T04:26:21.963Z"
   },
   {
    "duration": 805,
    "start_time": "2024-06-15T04:26:22.579Z"
   },
   {
    "duration": 128,
    "start_time": "2024-06-15T04:26:23.386Z"
   },
   {
    "duration": 3,
    "start_time": "2024-06-15T04:26:23.518Z"
   },
   {
    "duration": 127,
    "start_time": "2024-06-15T04:26:23.522Z"
   },
   {
    "duration": 7,
    "start_time": "2024-06-15T04:26:23.651Z"
   },
   {
    "duration": 3,
    "start_time": "2024-06-15T04:26:23.660Z"
   },
   {
    "duration": 499,
    "start_time": "2024-06-15T04:26:23.665Z"
   },
   {
    "duration": 484,
    "start_time": "2024-06-15T04:26:24.166Z"
   },
   {
    "duration": 491,
    "start_time": "2024-06-15T04:26:24.651Z"
   },
   {
    "duration": 4,
    "start_time": "2024-06-15T04:26:25.143Z"
   },
   {
    "duration": 31,
    "start_time": "2024-06-15T04:26:25.148Z"
   },
   {
    "duration": 62,
    "start_time": "2024-06-15T04:26:25.181Z"
   },
   {
    "duration": 639,
    "start_time": "2024-06-15T04:26:25.244Z"
   },
   {
    "duration": 571,
    "start_time": "2024-06-15T04:26:25.885Z"
   },
   {
    "duration": 452,
    "start_time": "2024-06-15T04:26:26.458Z"
   },
   {
    "duration": 3,
    "start_time": "2024-06-15T04:26:26.912Z"
   },
   {
    "duration": 87,
    "start_time": "2024-06-15T04:26:26.917Z"
   },
   {
    "duration": 98,
    "start_time": "2024-06-15T04:26:27.006Z"
   },
   {
    "duration": 93,
    "start_time": "2024-06-15T04:26:27.109Z"
   },
   {
    "duration": 100,
    "start_time": "2024-06-15T04:26:27.206Z"
   },
   {
    "duration": 5,
    "start_time": "2024-06-15T04:26:27.307Z"
   },
   {
    "duration": 8,
    "start_time": "2024-06-15T04:26:27.313Z"
   },
   {
    "duration": 11,
    "start_time": "2024-06-15T04:26:27.322Z"
   },
   {
    "duration": 18,
    "start_time": "2024-06-15T04:26:27.335Z"
   },
   {
    "duration": 16,
    "start_time": "2024-06-15T04:26:27.354Z"
   },
   {
    "duration": 11,
    "start_time": "2024-06-15T04:26:27.371Z"
   },
   {
    "duration": 13,
    "start_time": "2024-06-15T04:26:27.384Z"
   },
   {
    "duration": 19,
    "start_time": "2024-06-15T04:26:27.398Z"
   },
   {
    "duration": 5,
    "start_time": "2024-06-15T04:26:27.418Z"
   },
   {
    "duration": 75,
    "start_time": "2024-06-15T04:26:27.424Z"
   },
   {
    "duration": 0,
    "start_time": "2024-06-15T04:26:27.500Z"
   },
   {
    "duration": 0,
    "start_time": "2024-06-15T04:26:27.502Z"
   },
   {
    "duration": 0,
    "start_time": "2024-06-15T04:26:27.502Z"
   },
   {
    "duration": 0,
    "start_time": "2024-06-15T04:26:27.503Z"
   },
   {
    "duration": 0,
    "start_time": "2024-06-15T04:26:27.504Z"
   },
   {
    "duration": 0,
    "start_time": "2024-06-15T04:26:27.505Z"
   },
   {
    "duration": 23909,
    "start_time": "2024-06-15T04:30:07.340Z"
   },
   {
    "duration": 4,
    "start_time": "2024-06-15T04:30:31.251Z"
   },
   {
    "duration": 257,
    "start_time": "2024-06-15T04:30:31.256Z"
   },
   {
    "duration": 102,
    "start_time": "2024-06-15T04:30:31.514Z"
   },
   {
    "duration": 105,
    "start_time": "2024-06-15T04:30:31.618Z"
   },
   {
    "duration": 4,
    "start_time": "2024-06-15T04:30:31.724Z"
   },
   {
    "duration": 171,
    "start_time": "2024-06-15T04:30:31.729Z"
   },
   {
    "duration": 62,
    "start_time": "2024-06-15T04:30:31.901Z"
   },
   {
    "duration": 87,
    "start_time": "2024-06-15T04:30:31.964Z"
   },
   {
    "duration": 11,
    "start_time": "2024-06-15T04:30:32.052Z"
   },
   {
    "duration": 37,
    "start_time": "2024-06-15T04:30:32.064Z"
   },
   {
    "duration": 65,
    "start_time": "2024-06-15T04:30:32.103Z"
   },
   {
    "duration": 336,
    "start_time": "2024-06-15T04:34:13.728Z"
   },
   {
    "duration": 261,
    "start_time": "2024-06-15T04:34:26.787Z"
   },
   {
    "duration": 257,
    "start_time": "2024-06-15T04:34:33.604Z"
   },
   {
    "duration": 341,
    "start_time": "2024-06-15T04:34:40.298Z"
   },
   {
    "duration": 279,
    "start_time": "2024-06-15T04:35:49.559Z"
   },
   {
    "duration": 297,
    "start_time": "2024-06-15T04:36:36.733Z"
   },
   {
    "duration": 276,
    "start_time": "2024-06-15T04:36:42.174Z"
   },
   {
    "duration": 301,
    "start_time": "2024-06-15T04:36:47.928Z"
   },
   {
    "duration": 272,
    "start_time": "2024-06-15T04:36:52.882Z"
   },
   {
    "duration": 254,
    "start_time": "2024-06-15T04:37:01.405Z"
   },
   {
    "duration": 250,
    "start_time": "2024-06-15T04:37:05.605Z"
   },
   {
    "duration": 11,
    "start_time": "2024-06-15T04:38:39.098Z"
   },
   {
    "duration": 5,
    "start_time": "2024-06-15T04:38:57.797Z"
   },
   {
    "duration": 7,
    "start_time": "2024-06-15T04:41:34.527Z"
   },
   {
    "duration": 66,
    "start_time": "2024-06-15T04:41:57.343Z"
   },
   {
    "duration": 52,
    "start_time": "2024-06-15T04:43:14.827Z"
   },
   {
    "duration": 10,
    "start_time": "2024-06-15T04:43:46.619Z"
   },
   {
    "duration": 43,
    "start_time": "2024-06-15T04:43:59.347Z"
   },
   {
    "duration": 43,
    "start_time": "2024-06-15T04:44:13.545Z"
   },
   {
    "duration": 8,
    "start_time": "2024-06-15T04:44:25.888Z"
   },
   {
    "duration": 11,
    "start_time": "2024-06-15T04:44:31.193Z"
   },
   {
    "duration": 8,
    "start_time": "2024-06-15T04:46:40.324Z"
   },
   {
    "duration": 4,
    "start_time": "2024-06-15T04:46:47.999Z"
   },
   {
    "duration": 4,
    "start_time": "2024-06-15T04:46:52.235Z"
   },
   {
    "duration": 7,
    "start_time": "2024-06-15T04:47:28.409Z"
   },
   {
    "duration": 3,
    "start_time": "2024-06-15T04:47:30.081Z"
   },
   {
    "duration": 3,
    "start_time": "2024-06-15T04:47:32.046Z"
   },
   {
    "duration": 7,
    "start_time": "2024-06-15T04:47:54.710Z"
   },
   {
    "duration": 3,
    "start_time": "2024-06-15T04:47:56.772Z"
   },
   {
    "duration": 3,
    "start_time": "2024-06-15T04:48:24.088Z"
   },
   {
    "duration": 3,
    "start_time": "2024-06-15T04:48:24.828Z"
   },
   {
    "duration": 3,
    "start_time": "2024-06-15T04:48:36.959Z"
   },
   {
    "duration": 42,
    "start_time": "2024-06-15T04:50:18.985Z"
   },
   {
    "duration": 7,
    "start_time": "2024-06-15T04:50:23.335Z"
   },
   {
    "duration": 3,
    "start_time": "2024-06-15T04:51:07.712Z"
   },
   {
    "duration": 234,
    "start_time": "2024-06-15T04:53:51.900Z"
   },
   {
    "duration": 9,
    "start_time": "2024-06-15T04:54:37.740Z"
   },
   {
    "duration": 8,
    "start_time": "2024-06-15T04:55:10.345Z"
   },
   {
    "duration": 9,
    "start_time": "2024-06-15T04:55:12.284Z"
   },
   {
    "duration": 42,
    "start_time": "2024-06-15T04:55:52.291Z"
   },
   {
    "duration": 86,
    "start_time": "2024-06-15T04:57:29.560Z"
   },
   {
    "duration": 701,
    "start_time": "2024-06-15T05:00:52.277Z"
   },
   {
    "duration": 522,
    "start_time": "2024-06-15T05:01:07.861Z"
   },
   {
    "duration": 560,
    "start_time": "2024-06-15T05:01:28.995Z"
   },
   {
    "duration": 565,
    "start_time": "2024-06-15T05:01:39.985Z"
   },
   {
    "duration": 576,
    "start_time": "2024-06-15T05:02:23.548Z"
   },
   {
    "duration": 533,
    "start_time": "2024-06-15T05:02:31.829Z"
   },
   {
    "duration": 552,
    "start_time": "2024-06-15T05:02:37.473Z"
   },
   {
    "duration": 508,
    "start_time": "2024-06-15T05:02:53.540Z"
   },
   {
    "duration": 646,
    "start_time": "2024-06-15T05:03:09.896Z"
   },
   {
    "duration": 565,
    "start_time": "2024-06-15T05:03:14.692Z"
   },
   {
    "duration": 543,
    "start_time": "2024-06-15T05:03:26.094Z"
   },
   {
    "duration": 593,
    "start_time": "2024-06-15T05:03:30.675Z"
   },
   {
    "duration": 527,
    "start_time": "2024-06-15T05:03:40.034Z"
   },
   {
    "duration": 528,
    "start_time": "2024-06-15T05:03:54.275Z"
   },
   {
    "duration": 576,
    "start_time": "2024-06-15T05:03:59.859Z"
   },
   {
    "duration": 547,
    "start_time": "2024-06-15T05:05:55.256Z"
   },
   {
    "duration": 601,
    "start_time": "2024-06-15T05:06:03.563Z"
   },
   {
    "duration": 524,
    "start_time": "2024-06-15T05:06:47.328Z"
   },
   {
    "duration": 562,
    "start_time": "2024-06-15T05:06:53.683Z"
   },
   {
    "duration": 547,
    "start_time": "2024-06-15T05:07:02.759Z"
   },
   {
    "duration": 582,
    "start_time": "2024-06-15T05:07:10.214Z"
   },
   {
    "duration": 536,
    "start_time": "2024-06-15T05:07:36.856Z"
   },
   {
    "duration": 533,
    "start_time": "2024-06-15T05:07:42.152Z"
   },
   {
    "duration": 534,
    "start_time": "2024-06-15T05:07:46.156Z"
   },
   {
    "duration": 610,
    "start_time": "2024-06-15T05:07:53.042Z"
   },
   {
    "duration": 558,
    "start_time": "2024-06-15T05:08:05.474Z"
   },
   {
    "duration": 506,
    "start_time": "2024-06-15T05:08:24.240Z"
   },
   {
    "duration": 530,
    "start_time": "2024-06-15T05:08:30.311Z"
   },
   {
    "duration": 555,
    "start_time": "2024-06-15T05:08:35.296Z"
   },
   {
    "duration": 516,
    "start_time": "2024-06-15T05:08:39.623Z"
   },
   {
    "duration": 537,
    "start_time": "2024-06-15T05:08:44.527Z"
   },
   {
    "duration": 542,
    "start_time": "2024-06-15T05:08:53.162Z"
   },
   {
    "duration": 606,
    "start_time": "2024-06-15T05:09:06.219Z"
   },
   {
    "duration": 567,
    "start_time": "2024-06-15T05:09:15.148Z"
   },
   {
    "duration": 542,
    "start_time": "2024-06-15T05:09:21.483Z"
   },
   {
    "duration": 550,
    "start_time": "2024-06-15T05:09:27.182Z"
   },
   {
    "duration": 526,
    "start_time": "2024-06-15T05:09:35.124Z"
   },
   {
    "duration": 559,
    "start_time": "2024-06-15T05:09:39.481Z"
   },
   {
    "duration": 515,
    "start_time": "2024-06-15T05:09:44.137Z"
   },
   {
    "duration": 535,
    "start_time": "2024-06-15T05:09:51.495Z"
   },
   {
    "duration": 529,
    "start_time": "2024-06-15T05:09:58.441Z"
   },
   {
    "duration": 669,
    "start_time": "2024-06-15T05:10:02.850Z"
   },
   {
    "duration": 528,
    "start_time": "2024-06-15T05:10:08.108Z"
   },
   {
    "duration": 7,
    "start_time": "2024-06-15T05:12:01.764Z"
   },
   {
    "duration": 7,
    "start_time": "2024-06-15T05:12:04.870Z"
   },
   {
    "duration": 5,
    "start_time": "2024-06-15T05:12:16.530Z"
   },
   {
    "duration": 7,
    "start_time": "2024-06-15T05:12:21.561Z"
   },
   {
    "duration": 7,
    "start_time": "2024-06-15T05:12:41.789Z"
   },
   {
    "duration": 7,
    "start_time": "2024-06-15T05:13:06.505Z"
   },
   {
    "duration": 6,
    "start_time": "2024-06-15T05:13:19.780Z"
   },
   {
    "duration": 5,
    "start_time": "2024-06-15T05:13:53.738Z"
   },
   {
    "duration": 6,
    "start_time": "2024-06-15T05:13:59.857Z"
   },
   {
    "duration": 7,
    "start_time": "2024-06-15T05:14:01.367Z"
   },
   {
    "duration": 7,
    "start_time": "2024-06-15T05:15:05.172Z"
   },
   {
    "duration": 3,
    "start_time": "2024-06-15T05:22:46.513Z"
   },
   {
    "duration": 6,
    "start_time": "2024-06-15T05:23:02.280Z"
   },
   {
    "duration": 6,
    "start_time": "2024-06-15T05:23:04.622Z"
   },
   {
    "duration": 9,
    "start_time": "2024-06-15T05:23:56.969Z"
   },
   {
    "duration": 3,
    "start_time": "2024-06-15T05:23:58.361Z"
   },
   {
    "duration": 4,
    "start_time": "2024-06-15T05:25:01.575Z"
   },
   {
    "duration": 4,
    "start_time": "2024-06-15T05:25:21.163Z"
   },
   {
    "duration": 4,
    "start_time": "2024-06-15T05:26:35.682Z"
   },
   {
    "duration": 4,
    "start_time": "2024-06-15T05:27:02.506Z"
   },
   {
    "duration": 4,
    "start_time": "2024-06-15T05:27:48.615Z"
   },
   {
    "duration": 5,
    "start_time": "2024-06-15T05:29:44.375Z"
   },
   {
    "duration": 9,
    "start_time": "2024-06-15T05:32:15.105Z"
   },
   {
    "duration": 67,
    "start_time": "2024-06-15T05:32:18.070Z"
   },
   {
    "duration": 83,
    "start_time": "2024-06-15T05:32:47.815Z"
   },
   {
    "duration": 65,
    "start_time": "2024-06-15T05:32:48.295Z"
   },
   {
    "duration": 9,
    "start_time": "2024-06-15T05:33:59.346Z"
   },
   {
    "duration": 6,
    "start_time": "2024-06-15T05:34:00.328Z"
   },
   {
    "duration": 9,
    "start_time": "2024-06-15T05:34:14.099Z"
   },
   {
    "duration": 4,
    "start_time": "2024-06-15T05:34:14.632Z"
   },
   {
    "duration": 24131,
    "start_time": "2024-06-15T05:45:15.209Z"
   },
   {
    "duration": 4,
    "start_time": "2024-06-15T05:45:39.342Z"
   },
   {
    "duration": 121,
    "start_time": "2024-06-15T05:45:39.348Z"
   },
   {
    "duration": 101,
    "start_time": "2024-06-15T05:45:39.470Z"
   },
   {
    "duration": 101,
    "start_time": "2024-06-15T05:45:39.573Z"
   },
   {
    "duration": 4,
    "start_time": "2024-06-15T05:45:39.676Z"
   },
   {
    "duration": 84,
    "start_time": "2024-06-15T05:45:39.682Z"
   },
   {
    "duration": 86,
    "start_time": "2024-06-15T05:45:39.767Z"
   },
   {
    "duration": 92,
    "start_time": "2024-06-15T05:45:39.854Z"
   },
   {
    "duration": 13,
    "start_time": "2024-06-15T05:45:39.947Z"
   },
   {
    "duration": 88,
    "start_time": "2024-06-15T05:45:39.962Z"
   },
   {
    "duration": 91,
    "start_time": "2024-06-15T05:45:40.051Z"
   },
   {
    "duration": 4,
    "start_time": "2024-06-15T05:45:40.143Z"
   },
   {
    "duration": 12,
    "start_time": "2024-06-15T05:45:40.150Z"
   },
   {
    "duration": 10,
    "start_time": "2024-06-15T05:45:40.163Z"
   },
   {
    "duration": 35,
    "start_time": "2024-06-15T05:45:40.174Z"
   },
   {
    "duration": 633,
    "start_time": "2024-06-15T05:45:40.210Z"
   },
   {
    "duration": 707,
    "start_time": "2024-06-15T05:45:40.844Z"
   },
   {
    "duration": 50,
    "start_time": "2024-06-15T05:45:41.552Z"
   },
   {
    "duration": 256,
    "start_time": "2024-06-15T05:45:41.603Z"
   },
   {
    "duration": 47,
    "start_time": "2024-06-15T05:45:41.861Z"
   },
   {
    "duration": 38,
    "start_time": "2024-06-15T05:45:41.910Z"
   },
   {
    "duration": 649,
    "start_time": "2024-06-15T05:45:41.950Z"
   },
   {
    "duration": 841,
    "start_time": "2024-06-15T05:45:42.601Z"
   },
   {
    "duration": 44,
    "start_time": "2024-06-15T05:45:43.444Z"
   },
   {
    "duration": 329,
    "start_time": "2024-06-15T05:45:43.489Z"
   },
   {
    "duration": 8,
    "start_time": "2024-06-15T05:45:43.820Z"
   },
   {
    "duration": 30,
    "start_time": "2024-06-15T05:45:43.829Z"
   },
   {
    "duration": 623,
    "start_time": "2024-06-15T05:45:43.860Z"
   },
   {
    "duration": 762,
    "start_time": "2024-06-15T05:45:44.484Z"
   },
   {
    "duration": 75,
    "start_time": "2024-06-15T05:45:45.247Z"
   },
   {
    "duration": 69,
    "start_time": "2024-06-15T05:45:45.324Z"
   },
   {
    "duration": 544,
    "start_time": "2024-06-15T05:45:45.394Z"
   },
   {
    "duration": 9,
    "start_time": "2024-06-15T05:45:45.939Z"
   },
   {
    "duration": 12,
    "start_time": "2024-06-15T05:45:45.949Z"
   },
   {
    "duration": 28,
    "start_time": "2024-06-15T05:45:45.962Z"
   },
   {
    "duration": 132,
    "start_time": "2024-06-15T05:45:45.991Z"
   },
   {
    "duration": 6,
    "start_time": "2024-06-15T05:45:46.125Z"
   },
   {
    "duration": 4,
    "start_time": "2024-06-15T05:45:46.132Z"
   },
   {
    "duration": 507,
    "start_time": "2024-06-15T05:45:46.137Z"
   },
   {
    "duration": 501,
    "start_time": "2024-06-15T05:45:46.649Z"
   },
   {
    "duration": 503,
    "start_time": "2024-06-15T05:45:47.151Z"
   },
   {
    "duration": 2,
    "start_time": "2024-06-15T05:45:47.655Z"
   },
   {
    "duration": 8,
    "start_time": "2024-06-15T05:45:47.658Z"
   },
   {
    "duration": 8,
    "start_time": "2024-06-15T05:45:47.667Z"
   },
   {
    "duration": 16,
    "start_time": "2024-06-15T05:45:47.676Z"
   },
   {
    "duration": 15,
    "start_time": "2024-06-15T05:45:47.694Z"
   },
   {
    "duration": 12,
    "start_time": "2024-06-15T05:45:47.710Z"
   },
   {
    "duration": 396,
    "start_time": "2024-06-15T05:45:47.723Z"
   },
   {
    "duration": 7,
    "start_time": "2024-06-15T05:45:48.123Z"
   },
   {
    "duration": 3,
    "start_time": "2024-06-15T05:45:48.202Z"
   },
   {
    "duration": 104,
    "start_time": "2024-06-15T05:45:48.207Z"
   },
   {
    "duration": 89,
    "start_time": "2024-06-15T05:45:48.316Z"
   },
   {
    "duration": 94,
    "start_time": "2024-06-15T05:45:48.411Z"
   },
   {
    "duration": 4,
    "start_time": "2024-06-15T05:45:48.506Z"
   },
   {
    "duration": 12,
    "start_time": "2024-06-15T05:45:48.511Z"
   },
   {
    "duration": 5,
    "start_time": "2024-06-15T05:45:48.524Z"
   },
   {
    "duration": 6,
    "start_time": "2024-06-15T05:45:48.530Z"
   },
   {
    "duration": 7,
    "start_time": "2024-06-15T05:45:48.538Z"
   },
   {
    "duration": 13,
    "start_time": "2024-06-15T05:45:48.546Z"
   },
   {
    "duration": 7,
    "start_time": "2024-06-15T05:45:48.560Z"
   },
   {
    "duration": 29,
    "start_time": "2024-06-15T05:45:48.568Z"
   },
   {
    "duration": 9,
    "start_time": "2024-06-15T05:45:48.599Z"
   },
   {
    "duration": 64,
    "start_time": "2024-06-15T05:45:48.609Z"
   },
   {
    "duration": 0,
    "start_time": "2024-06-15T05:45:48.674Z"
   },
   {
    "duration": 0,
    "start_time": "2024-06-15T05:45:48.675Z"
   },
   {
    "duration": 0,
    "start_time": "2024-06-15T05:45:48.676Z"
   },
   {
    "duration": 0,
    "start_time": "2024-06-15T05:45:48.677Z"
   },
   {
    "duration": 0,
    "start_time": "2024-06-15T05:45:48.678Z"
   },
   {
    "duration": 0,
    "start_time": "2024-06-15T05:45:48.679Z"
   },
   {
    "duration": 23689,
    "start_time": "2024-06-15T05:46:53.845Z"
   },
   {
    "duration": 4,
    "start_time": "2024-06-15T05:47:17.536Z"
   },
   {
    "duration": 120,
    "start_time": "2024-06-15T05:47:17.542Z"
   },
   {
    "duration": 99,
    "start_time": "2024-06-15T05:47:17.664Z"
   },
   {
    "duration": 102,
    "start_time": "2024-06-15T05:47:17.765Z"
   },
   {
    "duration": 4,
    "start_time": "2024-06-15T05:47:17.868Z"
   },
   {
    "duration": 80,
    "start_time": "2024-06-15T05:47:17.873Z"
   },
   {
    "duration": 79,
    "start_time": "2024-06-15T05:47:17.954Z"
   },
   {
    "duration": 79,
    "start_time": "2024-06-15T05:47:18.035Z"
   },
   {
    "duration": 10,
    "start_time": "2024-06-15T05:47:18.116Z"
   },
   {
    "duration": 25,
    "start_time": "2024-06-15T05:47:18.128Z"
   },
   {
    "duration": 75,
    "start_time": "2024-06-15T05:47:18.154Z"
   },
   {
    "duration": 4,
    "start_time": "2024-06-15T05:47:18.230Z"
   },
   {
    "duration": 6,
    "start_time": "2024-06-15T05:47:18.236Z"
   },
   {
    "duration": 19,
    "start_time": "2024-06-15T05:47:18.243Z"
   },
   {
    "duration": 41,
    "start_time": "2024-06-15T05:47:18.263Z"
   },
   {
    "duration": 795,
    "start_time": "2024-06-15T05:47:18.306Z"
   },
   {
    "duration": 748,
    "start_time": "2024-06-15T05:47:19.102Z"
   },
   {
    "duration": 43,
    "start_time": "2024-06-15T05:47:19.851Z"
   },
   {
    "duration": 265,
    "start_time": "2024-06-15T05:47:19.902Z"
   },
   {
    "duration": 40,
    "start_time": "2024-06-15T05:47:20.168Z"
   },
   {
    "duration": 43,
    "start_time": "2024-06-15T05:47:20.209Z"
   },
   {
    "duration": 634,
    "start_time": "2024-06-15T05:47:20.254Z"
   },
   {
    "duration": 795,
    "start_time": "2024-06-15T05:47:20.889Z"
   },
   {
    "duration": 51,
    "start_time": "2024-06-15T05:47:21.685Z"
   },
   {
    "duration": 280,
    "start_time": "2024-06-15T05:47:21.737Z"
   },
   {
    "duration": 8,
    "start_time": "2024-06-15T05:47:22.018Z"
   },
   {
    "duration": 48,
    "start_time": "2024-06-15T05:47:22.029Z"
   },
   {
    "duration": 601,
    "start_time": "2024-06-15T05:47:22.078Z"
   },
   {
    "duration": 842,
    "start_time": "2024-06-15T05:47:22.681Z"
   },
   {
    "duration": 76,
    "start_time": "2024-06-15T05:47:23.525Z"
   },
   {
    "duration": 64,
    "start_time": "2024-06-15T05:47:23.603Z"
   },
   {
    "duration": 567,
    "start_time": "2024-06-15T05:47:23.669Z"
   },
   {
    "duration": 9,
    "start_time": "2024-06-15T05:47:24.238Z"
   },
   {
    "duration": 5,
    "start_time": "2024-06-15T05:47:24.248Z"
   },
   {
    "duration": 3,
    "start_time": "2024-06-15T05:47:24.254Z"
   },
   {
    "duration": 165,
    "start_time": "2024-06-15T05:47:24.259Z"
   },
   {
    "duration": 7,
    "start_time": "2024-06-15T05:47:24.425Z"
   },
   {
    "duration": 7,
    "start_time": "2024-06-15T05:47:24.433Z"
   },
   {
    "duration": 502,
    "start_time": "2024-06-15T05:47:24.441Z"
   },
   {
    "duration": 498,
    "start_time": "2024-06-15T05:47:24.944Z"
   },
   {
    "duration": 517,
    "start_time": "2024-06-15T05:47:25.444Z"
   },
   {
    "duration": 7,
    "start_time": "2024-06-15T05:47:32.105Z"
   },
   {
    "duration": 6,
    "start_time": "2024-06-15T05:47:32.515Z"
   },
   {
    "duration": 7,
    "start_time": "2024-06-15T05:47:33.006Z"
   },
   {
    "duration": 2,
    "start_time": "2024-06-15T05:47:49.239Z"
   },
   {
    "duration": 3,
    "start_time": "2024-06-15T05:47:49.613Z"
   },
   {
    "duration": 2,
    "start_time": "2024-06-15T05:47:50.023Z"
   },
   {
    "duration": 422,
    "start_time": "2024-06-15T05:47:50.381Z"
   },
   {
    "duration": 3,
    "start_time": "2024-06-15T05:47:51.033Z"
   },
   {
    "duration": 2,
    "start_time": "2024-06-15T05:47:52.073Z"
   },
   {
    "duration": 11,
    "start_time": "2024-06-15T05:47:52.532Z"
   },
   {
    "duration": 4,
    "start_time": "2024-06-15T05:47:52.909Z"
   },
   {
    "duration": 6,
    "start_time": "2024-06-15T05:47:53.393Z"
   },
   {
    "duration": 2,
    "start_time": "2024-06-15T05:48:50.875Z"
   },
   {
    "duration": 2,
    "start_time": "2024-06-15T05:48:51.740Z"
   },
   {
    "duration": 2,
    "start_time": "2024-06-15T05:48:52.533Z"
   },
   {
    "duration": 2,
    "start_time": "2024-06-15T05:48:53.515Z"
   },
   {
    "duration": 2,
    "start_time": "2024-06-15T05:48:54.451Z"
   },
   {
    "duration": 3,
    "start_time": "2024-06-15T05:48:58.174Z"
   },
   {
    "duration": 23859,
    "start_time": "2024-06-15T05:52:07.947Z"
   },
   {
    "duration": 5,
    "start_time": "2024-06-15T05:52:31.808Z"
   },
   {
    "duration": 168,
    "start_time": "2024-06-15T05:52:31.814Z"
   },
   {
    "duration": 98,
    "start_time": "2024-06-15T05:52:31.984Z"
   },
   {
    "duration": 101,
    "start_time": "2024-06-15T05:52:32.083Z"
   },
   {
    "duration": 5,
    "start_time": "2024-06-15T05:52:32.185Z"
   },
   {
    "duration": 83,
    "start_time": "2024-06-15T05:52:32.191Z"
   },
   {
    "duration": 83,
    "start_time": "2024-06-15T05:52:32.275Z"
   },
   {
    "duration": 84,
    "start_time": "2024-06-15T05:52:32.360Z"
   },
   {
    "duration": 12,
    "start_time": "2024-06-15T05:52:32.446Z"
   },
   {
    "duration": 26,
    "start_time": "2024-06-15T05:52:32.459Z"
   },
   {
    "duration": 67,
    "start_time": "2024-06-15T05:52:32.486Z"
   },
   {
    "duration": 4,
    "start_time": "2024-06-15T05:52:32.554Z"
   },
   {
    "duration": 4,
    "start_time": "2024-06-15T05:52:32.560Z"
   },
   {
    "duration": 12,
    "start_time": "2024-06-15T05:52:32.565Z"
   },
   {
    "duration": 38,
    "start_time": "2024-06-15T05:52:32.578Z"
   },
   {
    "duration": 686,
    "start_time": "2024-06-15T05:52:32.618Z"
   },
   {
    "duration": 744,
    "start_time": "2024-06-15T05:52:33.306Z"
   },
   {
    "duration": 50,
    "start_time": "2024-06-15T05:52:34.052Z"
   },
   {
    "duration": 261,
    "start_time": "2024-06-15T05:52:34.103Z"
   },
   {
    "duration": 46,
    "start_time": "2024-06-15T05:52:34.365Z"
   },
   {
    "duration": 32,
    "start_time": "2024-06-15T05:52:34.412Z"
   },
   {
    "duration": 630,
    "start_time": "2024-06-15T05:52:34.446Z"
   },
   {
    "duration": 822,
    "start_time": "2024-06-15T05:52:35.077Z"
   },
   {
    "duration": 51,
    "start_time": "2024-06-15T05:52:35.901Z"
   },
   {
    "duration": 279,
    "start_time": "2024-06-15T05:52:35.953Z"
   },
   {
    "duration": 9,
    "start_time": "2024-06-15T05:52:36.234Z"
   },
   {
    "duration": 30,
    "start_time": "2024-06-15T05:52:36.246Z"
   },
   {
    "duration": 618,
    "start_time": "2024-06-15T05:52:36.277Z"
   },
   {
    "duration": 765,
    "start_time": "2024-06-15T05:52:36.896Z"
   },
   {
    "duration": 67,
    "start_time": "2024-06-15T05:52:37.662Z"
   },
   {
    "duration": 64,
    "start_time": "2024-06-15T05:52:37.730Z"
   },
   {
    "duration": 529,
    "start_time": "2024-06-15T05:52:37.802Z"
   },
   {
    "duration": 9,
    "start_time": "2024-06-15T05:52:38.333Z"
   },
   {
    "duration": 7,
    "start_time": "2024-06-15T05:52:38.343Z"
   },
   {
    "duration": 13,
    "start_time": "2024-06-15T05:52:38.351Z"
   },
   {
    "duration": 130,
    "start_time": "2024-06-15T05:52:38.365Z"
   },
   {
    "duration": 9,
    "start_time": "2024-06-15T05:52:38.496Z"
   },
   {
    "duration": 7,
    "start_time": "2024-06-15T05:52:38.507Z"
   },
   {
    "duration": 515,
    "start_time": "2024-06-15T05:52:38.515Z"
   },
   {
    "duration": 515,
    "start_time": "2024-06-15T05:52:39.032Z"
   },
   {
    "duration": 498,
    "start_time": "2024-06-15T05:52:39.548Z"
   },
   {
    "duration": 2,
    "start_time": "2024-06-15T05:52:40.048Z"
   },
   {
    "duration": 31,
    "start_time": "2024-06-15T05:52:40.051Z"
   },
   {
    "duration": 21,
    "start_time": "2024-06-15T05:52:40.084Z"
   },
   {
    "duration": 15,
    "start_time": "2024-06-15T05:52:40.107Z"
   },
   {
    "duration": 17,
    "start_time": "2024-06-15T05:52:40.123Z"
   },
   {
    "duration": 24,
    "start_time": "2024-06-15T05:52:40.141Z"
   },
   {
    "duration": 4,
    "start_time": "2024-06-15T05:53:38.089Z"
   },
   {
    "duration": 68,
    "start_time": "2024-06-15T05:53:41.054Z"
   },
   {
    "duration": 105,
    "start_time": "2024-06-15T05:53:51.836Z"
   },
   {
    "duration": 515,
    "start_time": "2024-06-15T05:54:22.792Z"
   },
   {
    "duration": 68,
    "start_time": "2024-06-15T05:54:23.521Z"
   },
   {
    "duration": 2,
    "start_time": "2024-06-15T05:56:39.559Z"
   },
   {
    "duration": 3,
    "start_time": "2024-06-15T05:56:40.367Z"
   },
   {
    "duration": 2,
    "start_time": "2024-06-15T05:56:41.128Z"
   },
   {
    "duration": 2,
    "start_time": "2024-06-15T05:56:41.923Z"
   },
   {
    "duration": 2,
    "start_time": "2024-06-15T05:56:43.831Z"
   },
   {
    "duration": 3,
    "start_time": "2024-06-15T05:56:52.632Z"
   },
   {
    "duration": 3,
    "start_time": "2024-06-15T05:57:07.849Z"
   },
   {
    "duration": 3,
    "start_time": "2024-06-15T05:57:08.856Z"
   },
   {
    "duration": 3,
    "start_time": "2024-06-15T05:57:09.651Z"
   },
   {
    "duration": 3,
    "start_time": "2024-06-15T05:58:47.752Z"
   },
   {
    "duration": 3,
    "start_time": "2024-06-15T05:59:10.747Z"
   },
   {
    "duration": 5,
    "start_time": "2024-06-15T06:00:31.183Z"
   },
   {
    "duration": 3,
    "start_time": "2024-06-15T06:00:32.632Z"
   },
   {
    "duration": 2,
    "start_time": "2024-06-15T06:03:28.625Z"
   },
   {
    "duration": 4,
    "start_time": "2024-06-15T06:03:29.104Z"
   },
   {
    "duration": 3,
    "start_time": "2024-06-15T06:03:37.401Z"
   },
   {
    "duration": 3,
    "start_time": "2024-06-15T06:04:02.018Z"
   },
   {
    "duration": 3,
    "start_time": "2024-06-15T06:04:07.365Z"
   },
   {
    "duration": 3,
    "start_time": "2024-06-15T06:04:14.296Z"
   },
   {
    "duration": 4,
    "start_time": "2024-06-15T06:04:14.702Z"
   },
   {
    "duration": 3,
    "start_time": "2024-06-15T06:04:15.080Z"
   },
   {
    "duration": 4,
    "start_time": "2024-06-15T06:04:15.514Z"
   },
   {
    "duration": 2896,
    "start_time": "2024-06-15T06:04:36.244Z"
   },
   {
    "duration": 3,
    "start_time": "2024-06-15T06:04:50.150Z"
   },
   {
    "duration": 6,
    "start_time": "2024-06-15T06:05:02.478Z"
   },
   {
    "duration": 3,
    "start_time": "2024-06-15T06:15:17.016Z"
   },
   {
    "duration": 23801,
    "start_time": "2024-06-15T06:15:18.608Z"
   },
   {
    "duration": 4,
    "start_time": "2024-06-15T06:15:42.411Z"
   },
   {
    "duration": 23914,
    "start_time": "2024-06-15T06:17:07.697Z"
   },
   {
    "duration": 4,
    "start_time": "2024-06-15T06:17:31.613Z"
   },
   {
    "duration": 147,
    "start_time": "2024-06-15T06:17:31.619Z"
   },
   {
    "duration": 102,
    "start_time": "2024-06-15T06:17:31.767Z"
   },
   {
    "duration": 101,
    "start_time": "2024-06-15T06:17:31.871Z"
   },
   {
    "duration": 5,
    "start_time": "2024-06-15T06:17:31.973Z"
   },
   {
    "duration": 83,
    "start_time": "2024-06-15T06:17:31.979Z"
   },
   {
    "duration": 78,
    "start_time": "2024-06-15T06:17:32.063Z"
   },
   {
    "duration": 85,
    "start_time": "2024-06-15T06:17:32.142Z"
   },
   {
    "duration": 12,
    "start_time": "2024-06-15T06:17:32.229Z"
   },
   {
    "duration": 19,
    "start_time": "2024-06-15T06:17:32.242Z"
   },
   {
    "duration": 80,
    "start_time": "2024-06-15T06:17:32.262Z"
   },
   {
    "duration": 4,
    "start_time": "2024-06-15T06:17:32.343Z"
   },
   {
    "duration": 6,
    "start_time": "2024-06-15T06:17:32.348Z"
   },
   {
    "duration": 3,
    "start_time": "2024-06-15T06:17:32.356Z"
   },
   {
    "duration": 47,
    "start_time": "2024-06-15T06:17:32.360Z"
   },
   {
    "duration": 55,
    "start_time": "2024-06-15T06:18:08.145Z"
   },
   {
    "duration": 345,
    "start_time": "2024-06-15T06:18:22.331Z"
   },
   {
    "duration": 9,
    "start_time": "2024-06-15T06:18:30.937Z"
   },
   {
    "duration": 36,
    "start_time": "2024-06-15T06:18:41.319Z"
   },
   {
    "duration": 736,
    "start_time": "2024-06-15T06:18:41.612Z"
   },
   {
    "duration": 765,
    "start_time": "2024-06-15T06:18:42.349Z"
   },
   {
    "duration": 51,
    "start_time": "2024-06-15T06:19:59.173Z"
   },
   {
    "duration": 8,
    "start_time": "2024-06-15T06:20:16.367Z"
   },
   {
    "duration": 261,
    "start_time": "2024-06-15T06:20:59.394Z"
   },
   {
    "duration": 272,
    "start_time": "2024-06-15T06:21:10.970Z"
   },
   {
    "duration": 543,
    "start_time": "2024-06-15T06:21:20.106Z"
   },
   {
    "duration": 24095,
    "start_time": "2024-06-15T06:24:16.359Z"
   },
   {
    "duration": 4,
    "start_time": "2024-06-15T06:24:40.456Z"
   },
   {
    "duration": 131,
    "start_time": "2024-06-15T06:24:40.461Z"
   },
   {
    "duration": 100,
    "start_time": "2024-06-15T06:24:40.593Z"
   },
   {
    "duration": 103,
    "start_time": "2024-06-15T06:24:40.694Z"
   },
   {
    "duration": 4,
    "start_time": "2024-06-15T06:24:40.799Z"
   },
   {
    "duration": 99,
    "start_time": "2024-06-15T06:24:40.804Z"
   },
   {
    "duration": 59,
    "start_time": "2024-06-15T06:24:40.905Z"
   },
   {
    "duration": 87,
    "start_time": "2024-06-15T06:24:40.965Z"
   },
   {
    "duration": 13,
    "start_time": "2024-06-15T06:24:41.054Z"
   },
   {
    "duration": 44,
    "start_time": "2024-06-15T06:24:41.068Z"
   },
   {
    "duration": 67,
    "start_time": "2024-06-15T06:24:41.114Z"
   },
   {
    "duration": 20,
    "start_time": "2024-06-15T06:24:41.183Z"
   },
   {
    "duration": 13,
    "start_time": "2024-06-15T06:24:41.205Z"
   },
   {
    "duration": 5,
    "start_time": "2024-06-15T06:24:41.219Z"
   },
   {
    "duration": 33,
    "start_time": "2024-06-15T06:24:41.226Z"
   },
   {
    "duration": 659,
    "start_time": "2024-06-15T06:24:41.260Z"
   },
   {
    "duration": 717,
    "start_time": "2024-06-15T06:24:41.921Z"
   },
   {
    "duration": 45,
    "start_time": "2024-06-15T06:24:42.639Z"
   },
   {
    "duration": 272,
    "start_time": "2024-06-15T06:24:42.685Z"
   },
   {
    "duration": 9,
    "start_time": "2024-06-15T06:24:42.959Z"
   },
   {
    "duration": 45,
    "start_time": "2024-06-15T06:24:42.969Z"
   },
   {
    "duration": 706,
    "start_time": "2024-06-15T06:24:43.015Z"
   },
   {
    "duration": 763,
    "start_time": "2024-06-15T06:24:43.722Z"
   },
   {
    "duration": 49,
    "start_time": "2024-06-15T06:24:44.487Z"
   },
   {
    "duration": 294,
    "start_time": "2024-06-15T06:24:44.538Z"
   },
   {
    "duration": 8,
    "start_time": "2024-06-15T06:24:44.834Z"
   },
   {
    "duration": 37,
    "start_time": "2024-06-15T06:24:44.845Z"
   },
   {
    "duration": 617,
    "start_time": "2024-06-15T06:24:44.884Z"
   },
   {
    "duration": 783,
    "start_time": "2024-06-15T06:24:45.503Z"
   },
   {
    "duration": 65,
    "start_time": "2024-06-15T06:24:46.287Z"
   },
   {
    "duration": 76,
    "start_time": "2024-06-15T06:24:46.353Z"
   },
   {
    "duration": 512,
    "start_time": "2024-06-15T06:24:46.430Z"
   },
   {
    "duration": 9,
    "start_time": "2024-06-15T06:24:46.943Z"
   },
   {
    "duration": 5,
    "start_time": "2024-06-15T06:24:46.953Z"
   },
   {
    "duration": 66,
    "start_time": "2024-06-15T06:30:03.419Z"
   },
   {
    "duration": 3,
    "start_time": "2024-06-15T06:48:37.882Z"
   },
   {
    "duration": 120,
    "start_time": "2024-06-15T06:48:38.310Z"
   },
   {
    "duration": 5,
    "start_time": "2024-06-15T06:48:38.626Z"
   },
   {
    "duration": 4,
    "start_time": "2024-06-15T06:48:38.952Z"
   },
   {
    "duration": 3,
    "start_time": "2024-06-15T06:52:27.682Z"
   },
   {
    "duration": 3,
    "start_time": "2024-06-15T06:53:14.864Z"
   },
   {
    "duration": 4,
    "start_time": "2024-06-15T06:54:06.920Z"
   },
   {
    "duration": 4,
    "start_time": "2024-06-15T06:54:37.788Z"
   },
   {
    "duration": 4,
    "start_time": "2024-06-15T06:55:00.688Z"
   },
   {
    "duration": 4,
    "start_time": "2024-06-15T06:55:20.667Z"
   },
   {
    "duration": 2,
    "start_time": "2024-06-15T06:57:56.746Z"
   },
   {
    "duration": 3,
    "start_time": "2024-06-15T06:58:03.679Z"
   },
   {
    "duration": 3,
    "start_time": "2024-06-15T06:58:31.664Z"
   },
   {
    "duration": 5,
    "start_time": "2024-06-15T07:00:41.595Z"
   },
   {
    "duration": 468,
    "start_time": "2024-06-15T07:02:30.908Z"
   },
   {
    "duration": 610,
    "start_time": "2024-06-15T07:03:08.936Z"
   },
   {
    "duration": 456,
    "start_time": "2024-06-15T07:03:28.410Z"
   },
   {
    "duration": 2,
    "start_time": "2024-06-15T07:32:40.857Z"
   },
   {
    "duration": 4,
    "start_time": "2024-06-15T07:33:23.433Z"
   },
   {
    "duration": 360,
    "start_time": "2024-06-15T07:34:53.044Z"
   },
   {
    "duration": 5,
    "start_time": "2024-06-15T07:34:53.881Z"
   },
   {
    "duration": 2,
    "start_time": "2024-06-15T07:37:15.799Z"
   },
   {
    "duration": 5,
    "start_time": "2024-06-15T07:37:39.905Z"
   },
   {
    "duration": 4,
    "start_time": "2024-06-15T07:38:21.993Z"
   },
   {
    "duration": 5,
    "start_time": "2024-06-15T07:39:01.172Z"
   },
   {
    "duration": 4,
    "start_time": "2024-06-15T07:49:21.601Z"
   },
   {
    "duration": 2,
    "start_time": "2024-06-15T07:51:49.068Z"
   },
   {
    "duration": 9,
    "start_time": "2024-06-15T07:57:25.171Z"
   },
   {
    "duration": 2,
    "start_time": "2024-06-15T07:57:30.217Z"
   },
   {
    "duration": 2,
    "start_time": "2024-06-15T07:57:31.038Z"
   },
   {
    "duration": 2,
    "start_time": "2024-06-15T07:57:31.842Z"
   },
   {
    "duration": 3,
    "start_time": "2024-06-15T07:57:32.626Z"
   },
   {
    "duration": 3,
    "start_time": "2024-06-15T07:57:34.323Z"
   },
   {
    "duration": 3,
    "start_time": "2024-06-15T07:57:37.649Z"
   },
   {
    "duration": 2,
    "start_time": "2024-06-15T07:57:41.793Z"
   },
   {
    "duration": 2,
    "start_time": "2024-06-15T07:57:59.536Z"
   },
   {
    "duration": 3,
    "start_time": "2024-06-15T07:58:37.853Z"
   },
   {
    "duration": 3,
    "start_time": "2024-06-15T07:58:51.962Z"
   },
   {
    "duration": 3,
    "start_time": "2024-06-15T07:59:41.075Z"
   },
   {
    "duration": 2,
    "start_time": "2024-06-15T07:59:41.792Z"
   },
   {
    "duration": 2,
    "start_time": "2024-06-15T07:59:42.215Z"
   },
   {
    "duration": 3,
    "start_time": "2024-06-15T07:59:42.564Z"
   },
   {
    "duration": 2,
    "start_time": "2024-06-15T07:59:43.631Z"
   },
   {
    "duration": 3,
    "start_time": "2024-06-15T08:00:00.639Z"
   },
   {
    "duration": 3,
    "start_time": "2024-06-15T08:00:53.326Z"
   },
   {
    "duration": 2,
    "start_time": "2024-06-15T08:01:07.970Z"
   },
   {
    "duration": 3,
    "start_time": "2024-06-15T08:01:15.870Z"
   },
   {
    "duration": 3,
    "start_time": "2024-06-15T08:01:53.520Z"
   },
   {
    "duration": 3,
    "start_time": "2024-06-15T08:02:57.611Z"
   },
   {
    "duration": 4,
    "start_time": "2024-06-15T08:02:58.305Z"
   },
   {
    "duration": 4,
    "start_time": "2024-06-15T08:02:58.765Z"
   },
   {
    "duration": 68,
    "start_time": "2024-06-15T08:06:52.450Z"
   },
   {
    "duration": 3,
    "start_time": "2024-06-15T08:06:58.560Z"
   },
   {
    "duration": 3,
    "start_time": "2024-06-15T08:07:14.530Z"
   },
   {
    "duration": 3,
    "start_time": "2024-06-15T08:08:54.220Z"
   },
   {
    "duration": 9,
    "start_time": "2024-06-15T08:10:43.494Z"
   },
   {
    "duration": 3,
    "start_time": "2024-06-15T08:10:57.249Z"
   },
   {
    "duration": 3,
    "start_time": "2024-06-15T08:11:36.125Z"
   },
   {
    "duration": 4,
    "start_time": "2024-06-15T08:11:48.602Z"
   },
   {
    "duration": 3,
    "start_time": "2024-06-15T08:12:37.597Z"
   },
   {
    "duration": 4,
    "start_time": "2024-06-15T08:13:02.162Z"
   },
   {
    "duration": 3,
    "start_time": "2024-06-15T08:13:20.119Z"
   },
   {
    "duration": 5,
    "start_time": "2024-06-15T08:14:08.204Z"
   },
   {
    "duration": 77,
    "start_time": "2024-06-15T08:16:02.343Z"
   },
   {
    "duration": 5,
    "start_time": "2024-06-15T08:30:58.882Z"
   },
   {
    "duration": 4,
    "start_time": "2024-06-15T08:31:07.715Z"
   },
   {
    "duration": 4,
    "start_time": "2024-06-15T08:32:49.593Z"
   },
   {
    "duration": 5,
    "start_time": "2024-06-15T08:34:30.136Z"
   },
   {
    "duration": 3,
    "start_time": "2024-06-15T08:34:49.644Z"
   },
   {
    "duration": 3,
    "start_time": "2024-06-15T08:37:10.282Z"
   },
   {
    "duration": 3,
    "start_time": "2024-06-15T08:40:56.871Z"
   },
   {
    "duration": 4,
    "start_time": "2024-06-15T08:40:59.489Z"
   },
   {
    "duration": 6,
    "start_time": "2024-06-15T08:41:02.748Z"
   },
   {
    "duration": 10,
    "start_time": "2024-06-15T08:41:22.306Z"
   },
   {
    "duration": 25,
    "start_time": "2024-06-15T08:41:40.327Z"
   },
   {
    "duration": 3,
    "start_time": "2024-06-15T08:43:59.537Z"
   },
   {
    "duration": 5,
    "start_time": "2024-06-15T08:44:05.596Z"
   },
   {
    "duration": 17,
    "start_time": "2024-06-15T08:44:06.239Z"
   },
   {
    "duration": 4,
    "start_time": "2024-06-15T08:44:07.293Z"
   },
   {
    "duration": 5,
    "start_time": "2024-06-15T08:44:42.961Z"
   },
   {
    "duration": 16,
    "start_time": "2024-06-15T08:44:43.609Z"
   },
   {
    "duration": 4,
    "start_time": "2024-06-15T08:44:43.963Z"
   },
   {
    "duration": 5,
    "start_time": "2024-06-15T08:45:50.981Z"
   },
   {
    "duration": 1067,
    "start_time": "2024-06-15T08:45:51.507Z"
   },
   {
    "duration": 3,
    "start_time": "2024-06-15T08:48:21.728Z"
   },
   {
    "duration": 3,
    "start_time": "2024-06-15T08:48:22.300Z"
   },
   {
    "duration": 2,
    "start_time": "2024-06-15T08:48:27.265Z"
   },
   {
    "duration": 3,
    "start_time": "2024-06-15T08:48:28.459Z"
   },
   {
    "duration": 3,
    "start_time": "2024-06-15T08:48:28.623Z"
   },
   {
    "duration": 6,
    "start_time": "2024-06-15T08:48:29.158Z"
   },
   {
    "duration": 17,
    "start_time": "2024-06-15T08:48:29.338Z"
   },
   {
    "duration": 4,
    "start_time": "2024-06-15T08:48:29.708Z"
   },
   {
    "duration": 4,
    "start_time": "2024-06-15T08:48:31.429Z"
   },
   {
    "duration": 3,
    "start_time": "2024-06-15T08:48:33.772Z"
   },
   {
    "duration": 3,
    "start_time": "2024-06-15T08:49:11.867Z"
   },
   {
    "duration": 3,
    "start_time": "2024-06-15T08:49:12.637Z"
   },
   {
    "duration": 3,
    "start_time": "2024-06-15T08:49:17.139Z"
   },
   {
    "duration": 4,
    "start_time": "2024-06-15T08:49:19.948Z"
   },
   {
    "duration": 5,
    "start_time": "2024-06-15T08:49:21.478Z"
   },
   {
    "duration": 3003,
    "start_time": "2024-06-15T08:49:22.227Z"
   },
   {
    "duration": 3,
    "start_time": "2024-06-15T08:49:25.232Z"
   },
   {
    "duration": 7,
    "start_time": "2024-06-15T08:49:25.236Z"
   },
   {
    "duration": 5,
    "start_time": "2024-06-15T08:49:28.168Z"
   },
   {
    "duration": 24269,
    "start_time": "2024-06-15T09:02:23.454Z"
   },
   {
    "duration": 5,
    "start_time": "2024-06-15T09:02:47.726Z"
   },
   {
    "duration": 19,
    "start_time": "2024-06-15T09:02:47.732Z"
   },
   {
    "duration": 128,
    "start_time": "2024-06-15T09:02:47.752Z"
   },
   {
    "duration": 98,
    "start_time": "2024-06-15T09:02:47.881Z"
   },
   {
    "duration": 103,
    "start_time": "2024-06-15T09:02:47.980Z"
   },
   {
    "duration": 4,
    "start_time": "2024-06-15T09:02:48.084Z"
   },
   {
    "duration": 143,
    "start_time": "2024-06-15T09:02:48.090Z"
   },
   {
    "duration": 74,
    "start_time": "2024-06-15T09:02:48.234Z"
   },
   {
    "duration": 63,
    "start_time": "2024-06-15T09:02:48.310Z"
   },
   {
    "duration": 37,
    "start_time": "2024-06-15T09:02:48.374Z"
   },
   {
    "duration": 16,
    "start_time": "2024-06-15T09:02:48.413Z"
   },
   {
    "duration": 81,
    "start_time": "2024-06-15T09:02:48.431Z"
   },
   {
    "duration": 4,
    "start_time": "2024-06-15T09:02:48.513Z"
   },
   {
    "duration": 60,
    "start_time": "2024-06-15T09:02:48.519Z"
   },
   {
    "duration": 6,
    "start_time": "2024-06-15T09:02:48.580Z"
   },
   {
    "duration": 34,
    "start_time": "2024-06-15T09:02:48.587Z"
   },
   {
    "duration": 729,
    "start_time": "2024-06-15T09:02:48.623Z"
   },
   {
    "duration": 724,
    "start_time": "2024-06-15T09:02:49.353Z"
   },
   {
    "duration": 51,
    "start_time": "2024-06-15T09:02:50.079Z"
   },
   {
    "duration": 321,
    "start_time": "2024-06-15T09:02:50.132Z"
   },
   {
    "duration": 10,
    "start_time": "2024-06-15T09:02:50.455Z"
   },
   {
    "duration": 47,
    "start_time": "2024-06-15T09:02:50.467Z"
   },
   {
    "duration": 625,
    "start_time": "2024-06-15T09:02:50.516Z"
   },
   {
    "duration": 762,
    "start_time": "2024-06-15T09:02:51.142Z"
   },
   {
    "duration": 54,
    "start_time": "2024-06-15T09:02:51.905Z"
   },
   {
    "duration": 279,
    "start_time": "2024-06-15T09:02:51.961Z"
   },
   {
    "duration": 9,
    "start_time": "2024-06-15T09:02:52.243Z"
   },
   {
    "duration": 53,
    "start_time": "2024-06-15T09:02:52.254Z"
   },
   {
    "duration": 767,
    "start_time": "2024-06-15T09:02:52.308Z"
   },
   {
    "duration": 779,
    "start_time": "2024-06-15T09:02:53.076Z"
   },
   {
    "duration": 70,
    "start_time": "2024-06-15T09:02:53.857Z"
   },
   {
    "duration": 63,
    "start_time": "2024-06-15T09:02:53.928Z"
   },
   {
    "duration": 546,
    "start_time": "2024-06-15T09:02:53.992Z"
   },
   {
    "duration": 9,
    "start_time": "2024-06-15T09:02:54.539Z"
   },
   {
    "duration": 34,
    "start_time": "2024-06-15T09:02:54.550Z"
   },
   {
    "duration": 4,
    "start_time": "2024-06-15T09:02:54.585Z"
   },
   {
    "duration": 131,
    "start_time": "2024-06-15T09:02:54.590Z"
   },
   {
    "duration": 3,
    "start_time": "2024-06-15T09:02:54.723Z"
   },
   {
    "duration": 9,
    "start_time": "2024-06-15T09:02:54.728Z"
   },
   {
    "duration": 511,
    "start_time": "2024-06-15T09:02:54.738Z"
   },
   {
    "duration": 499,
    "start_time": "2024-06-15T09:02:55.251Z"
   },
   {
    "duration": 489,
    "start_time": "2024-06-15T09:02:55.751Z"
   },
   {
    "duration": 3,
    "start_time": "2024-06-15T09:02:56.242Z"
   },
   {
    "duration": 264,
    "start_time": "2024-06-15T09:02:56.246Z"
   },
   {
    "duration": 93,
    "start_time": "2024-06-15T09:02:56.511Z"
   },
   {
    "duration": 8,
    "start_time": "2024-06-15T09:02:56.605Z"
   },
   {
    "duration": 104,
    "start_time": "2024-06-15T09:02:56.617Z"
   },
   {
    "duration": 11,
    "start_time": "2024-06-15T09:02:56.722Z"
   },
   {
    "duration": 18,
    "start_time": "2024-06-15T09:02:56.734Z"
   },
   {
    "duration": 9,
    "start_time": "2024-06-15T09:02:56.753Z"
   },
   {
    "duration": 38,
    "start_time": "2024-06-15T09:02:56.763Z"
   },
   {
    "duration": 18,
    "start_time": "2024-06-15T09:02:56.802Z"
   },
   {
    "duration": 4,
    "start_time": "2024-06-15T09:03:14.686Z"
   },
   {
    "duration": 5,
    "start_time": "2024-06-15T09:03:14.877Z"
   },
   {
    "duration": 4,
    "start_time": "2024-06-15T09:03:21.048Z"
   },
   {
    "duration": 6,
    "start_time": "2024-06-15T09:03:21.204Z"
   },
   {
    "duration": 6,
    "start_time": "2024-06-15T09:03:21.801Z"
   },
   {
    "duration": 3028,
    "start_time": "2024-06-15T09:03:21.938Z"
   },
   {
    "duration": 3,
    "start_time": "2024-06-15T09:03:24.968Z"
   },
   {
    "duration": 14,
    "start_time": "2024-06-15T09:03:24.973Z"
   },
   {
    "duration": 20,
    "start_time": "2024-06-15T09:03:24.988Z"
   },
   {
    "duration": 24431,
    "start_time": "2024-06-15T09:05:04.621Z"
   },
   {
    "duration": 4,
    "start_time": "2024-06-15T09:05:29.055Z"
   },
   {
    "duration": 13,
    "start_time": "2024-06-15T09:05:29.061Z"
   },
   {
    "duration": 156,
    "start_time": "2024-06-15T09:05:29.076Z"
   },
   {
    "duration": 110,
    "start_time": "2024-06-15T09:05:29.234Z"
   },
   {
    "duration": 103,
    "start_time": "2024-06-15T09:05:29.345Z"
   },
   {
    "duration": 4,
    "start_time": "2024-06-15T09:05:29.450Z"
   },
   {
    "duration": 98,
    "start_time": "2024-06-15T09:05:29.456Z"
   },
   {
    "duration": 82,
    "start_time": "2024-06-15T09:05:29.555Z"
   },
   {
    "duration": 84,
    "start_time": "2024-06-15T09:05:29.639Z"
   },
   {
    "duration": 12,
    "start_time": "2024-06-15T09:05:29.724Z"
   },
   {
    "duration": 18,
    "start_time": "2024-06-15T09:05:29.737Z"
   },
   {
    "duration": 70,
    "start_time": "2024-06-15T09:05:29.756Z"
   },
   {
    "duration": 3,
    "start_time": "2024-06-15T09:05:29.828Z"
   },
   {
    "duration": 8,
    "start_time": "2024-06-15T09:05:29.833Z"
   },
   {
    "duration": 6,
    "start_time": "2024-06-15T09:05:29.842Z"
   },
   {
    "duration": 32,
    "start_time": "2024-06-15T09:05:29.849Z"
   },
   {
    "duration": 679,
    "start_time": "2024-06-15T09:05:29.882Z"
   },
   {
    "duration": 883,
    "start_time": "2024-06-15T09:05:30.562Z"
   },
   {
    "duration": 55,
    "start_time": "2024-06-15T09:05:31.447Z"
   },
   {
    "duration": 318,
    "start_time": "2024-06-15T09:05:31.503Z"
   },
   {
    "duration": 9,
    "start_time": "2024-06-15T09:05:31.822Z"
   },
   {
    "duration": 82,
    "start_time": "2024-06-15T09:05:31.832Z"
   },
   {
    "duration": 679,
    "start_time": "2024-06-15T09:05:31.915Z"
   },
   {
    "duration": 819,
    "start_time": "2024-06-15T09:05:32.596Z"
   },
   {
    "duration": 55,
    "start_time": "2024-06-15T09:05:33.417Z"
   },
   {
    "duration": 280,
    "start_time": "2024-06-15T09:05:33.474Z"
   },
   {
    "duration": 9,
    "start_time": "2024-06-15T09:05:33.758Z"
   },
   {
    "duration": 47,
    "start_time": "2024-06-15T09:05:33.768Z"
   },
   {
    "duration": 616,
    "start_time": "2024-06-15T09:05:33.817Z"
   },
   {
    "duration": 774,
    "start_time": "2024-06-15T09:05:34.434Z"
   },
   {
    "duration": 93,
    "start_time": "2024-06-15T09:05:35.209Z"
   },
   {
    "duration": 84,
    "start_time": "2024-06-15T09:05:35.304Z"
   },
   {
    "duration": 653,
    "start_time": "2024-06-15T09:05:35.389Z"
   },
   {
    "duration": 10,
    "start_time": "2024-06-15T09:05:36.043Z"
   },
   {
    "duration": 29,
    "start_time": "2024-06-15T09:05:36.055Z"
   },
   {
    "duration": 43,
    "start_time": "2024-06-15T09:05:36.085Z"
   },
   {
    "duration": 124,
    "start_time": "2024-06-15T09:05:36.129Z"
   },
   {
    "duration": 3,
    "start_time": "2024-06-15T09:05:36.255Z"
   },
   {
    "duration": 5,
    "start_time": "2024-06-15T09:05:36.260Z"
   },
   {
    "duration": 512,
    "start_time": "2024-06-15T09:05:36.266Z"
   },
   {
    "duration": 481,
    "start_time": "2024-06-15T09:05:36.780Z"
   },
   {
    "duration": 486,
    "start_time": "2024-06-15T09:05:37.262Z"
   },
   {
    "duration": 4,
    "start_time": "2024-06-15T09:05:37.749Z"
   },
   {
    "duration": 259,
    "start_time": "2024-06-15T09:05:37.754Z"
   },
   {
    "duration": 10,
    "start_time": "2024-06-15T09:05:38.014Z"
   },
   {
    "duration": 76,
    "start_time": "2024-06-15T09:05:38.026Z"
   },
   {
    "duration": 10,
    "start_time": "2024-06-15T09:05:38.104Z"
   },
   {
    "duration": 86,
    "start_time": "2024-06-15T09:05:38.116Z"
   },
   {
    "duration": 3,
    "start_time": "2024-06-15T09:05:38.203Z"
   },
   {
    "duration": 11,
    "start_time": "2024-06-15T09:05:38.207Z"
   },
   {
    "duration": 13,
    "start_time": "2024-06-15T09:05:38.220Z"
   },
   {
    "duration": 6,
    "start_time": "2024-06-15T09:05:38.235Z"
   },
   {
    "duration": 3,
    "start_time": "2024-06-15T09:05:45.715Z"
   },
   {
    "duration": 3,
    "start_time": "2024-06-15T09:05:48.151Z"
   },
   {
    "duration": 3,
    "start_time": "2024-06-15T09:05:48.316Z"
   },
   {
    "duration": 4,
    "start_time": "2024-06-15T09:05:48.739Z"
   },
   {
    "duration": 26,
    "start_time": "2024-06-15T09:05:48.941Z"
   },
   {
    "duration": 4,
    "start_time": "2024-06-15T09:05:49.213Z"
   },
   {
    "duration": 3,
    "start_time": "2024-06-15T09:05:49.552Z"
   },
   {
    "duration": 4,
    "start_time": "2024-06-15T09:05:50.014Z"
   },
   {
    "duration": 4,
    "start_time": "2024-06-15T09:08:04.012Z"
   },
   {
    "duration": 4,
    "start_time": "2024-06-15T09:08:09.932Z"
   },
   {
    "duration": 24622,
    "start_time": "2024-06-15T09:11:04.616Z"
   },
   {
    "duration": 4,
    "start_time": "2024-06-15T09:11:29.240Z"
   },
   {
    "duration": 71,
    "start_time": "2024-06-15T09:11:29.245Z"
   },
   {
    "duration": 184,
    "start_time": "2024-06-15T09:11:29.317Z"
   },
   {
    "duration": 99,
    "start_time": "2024-06-15T09:11:29.503Z"
   },
   {
    "duration": 105,
    "start_time": "2024-06-15T09:11:29.604Z"
   },
   {
    "duration": 5,
    "start_time": "2024-06-15T09:11:29.710Z"
   },
   {
    "duration": 89,
    "start_time": "2024-06-15T09:11:29.716Z"
   },
   {
    "duration": 65,
    "start_time": "2024-06-15T09:11:29.806Z"
   },
   {
    "duration": 90,
    "start_time": "2024-06-15T09:11:29.873Z"
   },
   {
    "duration": 14,
    "start_time": "2024-06-15T09:11:29.965Z"
   },
   {
    "duration": 19,
    "start_time": "2024-06-15T09:11:30.001Z"
   },
   {
    "duration": 117,
    "start_time": "2024-06-15T09:11:30.022Z"
   },
   {
    "duration": 4,
    "start_time": "2024-06-15T09:11:30.140Z"
   },
   {
    "duration": 95,
    "start_time": "2024-06-15T09:11:30.146Z"
   },
   {
    "duration": 31,
    "start_time": "2024-06-15T09:11:30.242Z"
   },
   {
    "duration": 58,
    "start_time": "2024-06-15T09:11:30.274Z"
   },
   {
    "duration": 686,
    "start_time": "2024-06-15T09:11:30.334Z"
   },
   {
    "duration": 752,
    "start_time": "2024-06-15T09:11:31.021Z"
   },
   {
    "duration": 57,
    "start_time": "2024-06-15T09:11:31.774Z"
   },
   {
    "duration": 323,
    "start_time": "2024-06-15T09:11:31.833Z"
   },
   {
    "duration": 9,
    "start_time": "2024-06-15T09:11:32.157Z"
   },
   {
    "duration": 44,
    "start_time": "2024-06-15T09:11:32.168Z"
   },
   {
    "duration": 590,
    "start_time": "2024-06-15T09:11:32.213Z"
   },
   {
    "duration": 861,
    "start_time": "2024-06-15T09:11:32.804Z"
   },
   {
    "duration": 49,
    "start_time": "2024-06-15T09:11:33.666Z"
   },
   {
    "duration": 294,
    "start_time": "2024-06-15T09:11:33.717Z"
   },
   {
    "duration": 8,
    "start_time": "2024-06-15T09:11:34.014Z"
   },
   {
    "duration": 39,
    "start_time": "2024-06-15T09:11:34.023Z"
   },
   {
    "duration": 629,
    "start_time": "2024-06-15T09:11:34.063Z"
   },
   {
    "duration": 770,
    "start_time": "2024-06-15T09:11:34.693Z"
   },
   {
    "duration": 66,
    "start_time": "2024-06-15T09:11:35.465Z"
   },
   {
    "duration": 75,
    "start_time": "2024-06-15T09:11:35.533Z"
   },
   {
    "duration": 536,
    "start_time": "2024-06-15T09:11:35.609Z"
   },
   {
    "duration": 9,
    "start_time": "2024-06-15T09:11:36.146Z"
   },
   {
    "duration": 29,
    "start_time": "2024-06-15T09:11:36.157Z"
   },
   {
    "duration": 14,
    "start_time": "2024-06-15T09:11:36.187Z"
   },
   {
    "duration": 148,
    "start_time": "2024-06-15T09:11:36.202Z"
   },
   {
    "duration": 6,
    "start_time": "2024-06-15T09:11:36.352Z"
   },
   {
    "duration": 4,
    "start_time": "2024-06-15T09:11:36.359Z"
   },
   {
    "duration": 499,
    "start_time": "2024-06-15T09:11:36.364Z"
   },
   {
    "duration": 493,
    "start_time": "2024-06-15T09:11:36.864Z"
   },
   {
    "duration": 503,
    "start_time": "2024-06-15T09:11:37.359Z"
   },
   {
    "duration": 4,
    "start_time": "2024-06-15T09:11:37.863Z"
   },
   {
    "duration": 340,
    "start_time": "2024-06-15T09:11:37.868Z"
   },
   {
    "duration": 5,
    "start_time": "2024-06-15T09:11:38.210Z"
   },
   {
    "duration": 90,
    "start_time": "2024-06-15T09:11:38.217Z"
   },
   {
    "duration": 94,
    "start_time": "2024-06-15T09:11:38.308Z"
   },
   {
    "duration": 7,
    "start_time": "2024-06-15T09:11:38.403Z"
   },
   {
    "duration": 40,
    "start_time": "2024-06-15T09:11:38.411Z"
   },
   {
    "duration": 4,
    "start_time": "2024-06-15T09:11:38.452Z"
   },
   {
    "duration": 12,
    "start_time": "2024-06-15T09:11:38.457Z"
   },
   {
    "duration": 12,
    "start_time": "2024-06-15T09:11:38.470Z"
   },
   {
    "duration": 3,
    "start_time": "2024-06-15T09:11:47.382Z"
   },
   {
    "duration": 3,
    "start_time": "2024-06-15T09:11:47.936Z"
   },
   {
    "duration": 3,
    "start_time": "2024-06-15T09:11:50.739Z"
   },
   {
    "duration": 4,
    "start_time": "2024-06-15T09:11:50.902Z"
   },
   {
    "duration": 4,
    "start_time": "2024-06-15T09:11:51.372Z"
   },
   {
    "duration": 2947,
    "start_time": "2024-06-15T09:11:51.577Z"
   },
   {
    "duration": 3,
    "start_time": "2024-06-15T09:11:54.525Z"
   },
   {
    "duration": 11,
    "start_time": "2024-06-15T09:11:54.529Z"
   },
   {
    "duration": 46,
    "start_time": "2024-06-15T09:11:54.542Z"
   },
   {
    "duration": 23947,
    "start_time": "2024-06-15T09:18:21.048Z"
   },
   {
    "duration": 4,
    "start_time": "2024-06-15T09:18:44.997Z"
   },
   {
    "duration": 42,
    "start_time": "2024-06-15T09:18:45.003Z"
   },
   {
    "duration": 124,
    "start_time": "2024-06-15T09:18:45.047Z"
   },
   {
    "duration": 110,
    "start_time": "2024-06-15T09:18:45.173Z"
   },
   {
    "duration": 106,
    "start_time": "2024-06-15T09:18:45.284Z"
   },
   {
    "duration": 5,
    "start_time": "2024-06-15T09:18:45.391Z"
   },
   {
    "duration": 99,
    "start_time": "2024-06-15T09:18:45.397Z"
   },
   {
    "duration": 60,
    "start_time": "2024-06-15T09:18:45.498Z"
   },
   {
    "duration": 85,
    "start_time": "2024-06-15T09:18:45.561Z"
   },
   {
    "duration": 12,
    "start_time": "2024-06-15T09:18:45.647Z"
   },
   {
    "duration": 19,
    "start_time": "2024-06-15T09:18:45.660Z"
   },
   {
    "duration": 74,
    "start_time": "2024-06-15T09:18:45.681Z"
   },
   {
    "duration": 4,
    "start_time": "2024-06-15T09:18:45.756Z"
   },
   {
    "duration": 34,
    "start_time": "2024-06-15T09:18:45.761Z"
   },
   {
    "duration": 5,
    "start_time": "2024-06-15T09:18:45.797Z"
   },
   {
    "duration": 33,
    "start_time": "2024-06-15T09:18:45.803Z"
   },
   {
    "duration": 682,
    "start_time": "2024-06-15T09:18:45.838Z"
   },
   {
    "duration": 836,
    "start_time": "2024-06-15T09:18:46.521Z"
   },
   {
    "duration": 64,
    "start_time": "2024-06-15T09:18:47.358Z"
   },
   {
    "duration": 321,
    "start_time": "2024-06-15T09:18:47.424Z"
   },
   {
    "duration": 9,
    "start_time": "2024-06-15T09:18:47.746Z"
   },
   {
    "duration": 46,
    "start_time": "2024-06-15T09:18:47.756Z"
   },
   {
    "duration": 587,
    "start_time": "2024-06-15T09:18:47.804Z"
   },
   {
    "duration": 731,
    "start_time": "2024-06-15T09:18:48.393Z"
   },
   {
    "duration": 44,
    "start_time": "2024-06-15T09:18:49.125Z"
   },
   {
    "duration": 269,
    "start_time": "2024-06-15T09:18:49.171Z"
   },
   {
    "duration": 64,
    "start_time": "2024-06-15T09:18:49.443Z"
   },
   {
    "duration": 33,
    "start_time": "2024-06-15T09:18:49.509Z"
   },
   {
    "duration": 639,
    "start_time": "2024-06-15T09:18:49.543Z"
   },
   {
    "duration": 801,
    "start_time": "2024-06-15T09:18:50.183Z"
   },
   {
    "duration": 67,
    "start_time": "2024-06-15T09:18:50.986Z"
   },
   {
    "duration": 71,
    "start_time": "2024-06-15T09:18:51.054Z"
   },
   {
    "duration": 643,
    "start_time": "2024-06-15T09:18:51.126Z"
   },
   {
    "duration": 9,
    "start_time": "2024-06-15T09:18:51.770Z"
   },
   {
    "duration": 26,
    "start_time": "2024-06-15T09:18:51.780Z"
   },
   {
    "duration": 25,
    "start_time": "2024-06-15T09:18:51.807Z"
   },
   {
    "duration": 147,
    "start_time": "2024-06-15T09:18:51.834Z"
   },
   {
    "duration": 4,
    "start_time": "2024-06-15T09:18:51.982Z"
   },
   {
    "duration": 7,
    "start_time": "2024-06-15T09:18:51.987Z"
   },
   {
    "duration": 551,
    "start_time": "2024-06-15T09:18:52.001Z"
   },
   {
    "duration": 491,
    "start_time": "2024-06-15T09:18:52.554Z"
   },
   {
    "duration": 518,
    "start_time": "2024-06-15T09:18:53.047Z"
   },
   {
    "duration": 3,
    "start_time": "2024-06-15T09:18:53.567Z"
   },
   {
    "duration": 440,
    "start_time": "2024-06-15T09:18:53.572Z"
   },
   {
    "duration": 6,
    "start_time": "2024-06-15T09:18:54.102Z"
   },
   {
    "duration": 99,
    "start_time": "2024-06-15T09:18:54.112Z"
   },
   {
    "duration": 6,
    "start_time": "2024-06-15T09:18:54.213Z"
   },
   {
    "duration": 8,
    "start_time": "2024-06-15T09:18:54.220Z"
   },
   {
    "duration": 5,
    "start_time": "2024-06-15T09:18:54.229Z"
   },
   {
    "duration": 9,
    "start_time": "2024-06-15T09:18:54.235Z"
   },
   {
    "duration": 27,
    "start_time": "2024-06-15T09:18:54.246Z"
   },
   {
    "duration": 13,
    "start_time": "2024-06-15T09:18:54.275Z"
   },
   {
    "duration": 4,
    "start_time": "2024-06-15T09:19:00.977Z"
   },
   {
    "duration": 3,
    "start_time": "2024-06-15T09:19:01.396Z"
   },
   {
    "duration": 4,
    "start_time": "2024-06-15T09:19:05.449Z"
   },
   {
    "duration": 4,
    "start_time": "2024-06-15T09:19:06.708Z"
   },
   {
    "duration": 2888,
    "start_time": "2024-06-15T09:19:06.895Z"
   },
   {
    "duration": 4,
    "start_time": "2024-06-15T09:19:09.785Z"
   },
   {
    "duration": 19,
    "start_time": "2024-06-15T09:19:09.790Z"
   },
   {
    "duration": 31,
    "start_time": "2024-06-15T09:19:09.810Z"
   },
   {
    "duration": 3,
    "start_time": "2024-06-15T09:20:32.566Z"
   },
   {
    "duration": 63,
    "start_time": "2024-06-15T09:22:37.432Z"
   },
   {
    "duration": 59,
    "start_time": "2024-06-15T09:22:55.148Z"
   },
   {
    "duration": 4,
    "start_time": "2024-06-15T09:23:05.099Z"
   },
   {
    "duration": 3,
    "start_time": "2024-06-15T09:24:43.217Z"
   },
   {
    "duration": 4,
    "start_time": "2024-06-15T09:25:37.275Z"
   },
   {
    "duration": 3,
    "start_time": "2024-06-15T09:26:06.181Z"
   },
   {
    "duration": 4,
    "start_time": "2024-06-15T09:26:33.575Z"
   },
   {
    "duration": 3,
    "start_time": "2024-06-15T09:28:15.623Z"
   },
   {
    "duration": 4,
    "start_time": "2024-06-15T09:28:34.905Z"
   },
   {
    "duration": 6,
    "start_time": "2024-06-15T09:29:18.547Z"
   },
   {
    "duration": 5,
    "start_time": "2024-06-15T09:29:32.214Z"
   },
   {
    "duration": 2933,
    "start_time": "2024-06-15T09:34:07.112Z"
   },
   {
    "duration": 5,
    "start_time": "2024-06-15T09:34:10.046Z"
   },
   {
    "duration": 3,
    "start_time": "2024-06-15T09:38:24.230Z"
   },
   {
    "duration": 2923,
    "start_time": "2024-06-15T09:38:24.952Z"
   },
   {
    "duration": 12,
    "start_time": "2024-06-15T09:38:27.876Z"
   },
   {
    "duration": 0,
    "start_time": "2024-06-15T09:38:27.890Z"
   },
   {
    "duration": 6,
    "start_time": "2024-06-15T09:47:26.099Z"
   },
   {
    "duration": 6,
    "start_time": "2024-06-15T09:47:59.153Z"
   },
   {
    "duration": 2,
    "start_time": "2024-06-15T09:48:17.555Z"
   },
   {
    "duration": 6,
    "start_time": "2024-06-15T09:48:23.382Z"
   },
   {
    "duration": 6,
    "start_time": "2024-06-15T09:48:47.253Z"
   },
   {
    "duration": 7,
    "start_time": "2024-06-15T09:49:41.486Z"
   },
   {
    "duration": 7,
    "start_time": "2024-06-15T09:50:02.391Z"
   },
   {
    "duration": 6,
    "start_time": "2024-06-15T09:51:14.595Z"
   },
   {
    "duration": 8,
    "start_time": "2024-06-15T09:51:32.343Z"
   },
   {
    "duration": 7,
    "start_time": "2024-06-15T09:51:44.783Z"
   },
   {
    "duration": 5,
    "start_time": "2024-06-15T09:52:26.552Z"
   },
   {
    "duration": 9,
    "start_time": "2024-06-15T09:52:38.205Z"
   },
   {
    "duration": 7,
    "start_time": "2024-06-15T09:52:49.702Z"
   },
   {
    "duration": 6,
    "start_time": "2024-06-15T09:52:59.552Z"
   },
   {
    "duration": 7,
    "start_time": "2024-06-15T09:53:17.022Z"
   },
   {
    "duration": 6,
    "start_time": "2024-06-15T09:53:47.169Z"
   },
   {
    "duration": 6,
    "start_time": "2024-06-15T09:55:18.717Z"
   },
   {
    "duration": 6,
    "start_time": "2024-06-15T09:55:33.975Z"
   },
   {
    "duration": 8,
    "start_time": "2024-06-15T09:55:42.786Z"
   },
   {
    "duration": 7,
    "start_time": "2024-06-15T09:56:08.104Z"
   },
   {
    "duration": 6,
    "start_time": "2024-06-15T10:01:21.472Z"
   },
   {
    "duration": 5,
    "start_time": "2024-06-15T10:01:46.490Z"
   },
   {
    "duration": 24559,
    "start_time": "2024-06-15T10:06:34.116Z"
   },
   {
    "duration": 4,
    "start_time": "2024-06-15T10:06:58.678Z"
   },
   {
    "duration": 96,
    "start_time": "2024-06-15T10:06:58.683Z"
   },
   {
    "duration": 254,
    "start_time": "2024-06-15T10:06:58.781Z"
   },
   {
    "duration": 106,
    "start_time": "2024-06-15T10:06:59.037Z"
   },
   {
    "duration": 100,
    "start_time": "2024-06-15T10:06:59.145Z"
   },
   {
    "duration": 4,
    "start_time": "2024-06-15T10:06:59.247Z"
   },
   {
    "duration": 89,
    "start_time": "2024-06-15T10:06:59.252Z"
   },
   {
    "duration": 76,
    "start_time": "2024-06-15T10:06:59.342Z"
   },
   {
    "duration": 84,
    "start_time": "2024-06-15T10:06:59.420Z"
   },
   {
    "duration": 15,
    "start_time": "2024-06-15T10:06:59.505Z"
   },
   {
    "duration": 43,
    "start_time": "2024-06-15T10:06:59.521Z"
   },
   {
    "duration": 68,
    "start_time": "2024-06-15T10:06:59.565Z"
   },
   {
    "duration": 6,
    "start_time": "2024-06-15T10:06:59.634Z"
   },
   {
    "duration": 24,
    "start_time": "2024-06-15T10:06:59.642Z"
   },
   {
    "duration": 13,
    "start_time": "2024-06-15T10:06:59.667Z"
   },
   {
    "duration": 64,
    "start_time": "2024-06-15T10:06:59.682Z"
   },
   {
    "duration": 727,
    "start_time": "2024-06-15T10:06:59.747Z"
   },
   {
    "duration": 697,
    "start_time": "2024-06-15T10:07:00.475Z"
   },
   {
    "duration": 62,
    "start_time": "2024-06-15T10:07:01.174Z"
   },
   {
    "duration": 389,
    "start_time": "2024-06-15T10:07:01.238Z"
   },
   {
    "duration": 10,
    "start_time": "2024-06-15T10:07:01.629Z"
   },
   {
    "duration": 67,
    "start_time": "2024-06-15T10:07:01.640Z"
   },
   {
    "duration": 598,
    "start_time": "2024-06-15T10:07:01.708Z"
   },
   {
    "duration": 886,
    "start_time": "2024-06-15T10:07:02.307Z"
   },
   {
    "duration": 49,
    "start_time": "2024-06-15T10:07:03.194Z"
   },
   {
    "duration": 277,
    "start_time": "2024-06-15T10:07:03.244Z"
   },
   {
    "duration": 9,
    "start_time": "2024-06-15T10:07:03.524Z"
   },
   {
    "duration": 45,
    "start_time": "2024-06-15T10:07:03.534Z"
   },
   {
    "duration": 609,
    "start_time": "2024-06-15T10:07:03.581Z"
   },
   {
    "duration": 748,
    "start_time": "2024-06-15T10:07:04.191Z"
   },
   {
    "duration": 68,
    "start_time": "2024-06-15T10:07:04.940Z"
   },
   {
    "duration": 81,
    "start_time": "2024-06-15T10:07:05.009Z"
   },
   {
    "duration": 548,
    "start_time": "2024-06-15T10:07:05.091Z"
   },
   {
    "duration": 9,
    "start_time": "2024-06-15T10:07:05.640Z"
   },
   {
    "duration": 16,
    "start_time": "2024-06-15T10:07:05.650Z"
   },
   {
    "duration": 16,
    "start_time": "2024-06-15T10:07:05.667Z"
   },
   {
    "duration": 129,
    "start_time": "2024-06-15T10:07:05.685Z"
   },
   {
    "duration": 4,
    "start_time": "2024-06-15T10:07:05.816Z"
   },
   {
    "duration": 16,
    "start_time": "2024-06-15T10:07:05.821Z"
   },
   {
    "duration": 526,
    "start_time": "2024-06-15T10:07:05.838Z"
   },
   {
    "duration": 496,
    "start_time": "2024-06-15T10:07:06.365Z"
   },
   {
    "duration": 499,
    "start_time": "2024-06-15T10:07:06.862Z"
   },
   {
    "duration": 5,
    "start_time": "2024-06-15T10:07:07.362Z"
   },
   {
    "duration": 343,
    "start_time": "2024-06-15T10:07:07.369Z"
   },
   {
    "duration": 91,
    "start_time": "2024-06-15T10:07:07.714Z"
   },
   {
    "duration": 96,
    "start_time": "2024-06-15T10:07:07.806Z"
   },
   {
    "duration": 2,
    "start_time": "2024-06-15T10:07:07.903Z"
   },
   {
    "duration": 4,
    "start_time": "2024-06-15T10:07:07.906Z"
   },
   {
    "duration": 3,
    "start_time": "2024-06-15T10:07:07.911Z"
   },
   {
    "duration": 4,
    "start_time": "2024-06-15T10:07:07.915Z"
   },
   {
    "duration": 5,
    "start_time": "2024-06-15T10:07:07.920Z"
   },
   {
    "duration": 11,
    "start_time": "2024-06-15T10:07:07.926Z"
   },
   {
    "duration": 4,
    "start_time": "2024-06-15T10:07:15.272Z"
   },
   {
    "duration": 3,
    "start_time": "2024-06-15T10:07:15.620Z"
   },
   {
    "duration": 3,
    "start_time": "2024-06-15T10:07:16.855Z"
   },
   {
    "duration": 4,
    "start_time": "2024-06-15T10:07:17.311Z"
   },
   {
    "duration": 2960,
    "start_time": "2024-06-15T10:07:17.607Z"
   },
   {
    "duration": 6,
    "start_time": "2024-06-15T10:07:20.568Z"
   },
   {
    "duration": 23609,
    "start_time": "2024-06-15T10:07:48.006Z"
   },
   {
    "duration": 5,
    "start_time": "2024-06-15T10:08:11.617Z"
   },
   {
    "duration": 17,
    "start_time": "2024-06-15T10:08:11.623Z"
   },
   {
    "duration": 122,
    "start_time": "2024-06-15T10:08:11.641Z"
   },
   {
    "duration": 105,
    "start_time": "2024-06-15T10:08:11.765Z"
   },
   {
    "duration": 110,
    "start_time": "2024-06-15T10:08:11.871Z"
   },
   {
    "duration": 4,
    "start_time": "2024-06-15T10:08:11.983Z"
   },
   {
    "duration": 103,
    "start_time": "2024-06-15T10:08:11.989Z"
   },
   {
    "duration": 67,
    "start_time": "2024-06-15T10:08:12.094Z"
   },
   {
    "duration": 91,
    "start_time": "2024-06-15T10:08:12.162Z"
   },
   {
    "duration": 13,
    "start_time": "2024-06-15T10:08:12.254Z"
   },
   {
    "duration": 33,
    "start_time": "2024-06-15T10:08:12.268Z"
   },
   {
    "duration": 62,
    "start_time": "2024-06-15T10:08:12.303Z"
   },
   {
    "duration": 4,
    "start_time": "2024-06-15T10:08:12.368Z"
   },
   {
    "duration": 48,
    "start_time": "2024-06-15T10:08:12.373Z"
   },
   {
    "duration": 12,
    "start_time": "2024-06-15T10:08:12.422Z"
   },
   {
    "duration": 42,
    "start_time": "2024-06-15T10:08:12.436Z"
   },
   {
    "duration": 794,
    "start_time": "2024-06-15T10:08:12.480Z"
   },
   {
    "duration": 738,
    "start_time": "2024-06-15T10:08:13.276Z"
   },
   {
    "duration": 44,
    "start_time": "2024-06-15T10:08:14.016Z"
   },
   {
    "duration": 285,
    "start_time": "2024-06-15T10:08:14.062Z"
   },
   {
    "duration": 10,
    "start_time": "2024-06-15T10:08:14.348Z"
   },
   {
    "duration": 50,
    "start_time": "2024-06-15T10:08:14.359Z"
   },
   {
    "duration": 590,
    "start_time": "2024-06-15T10:08:14.411Z"
   },
   {
    "duration": 780,
    "start_time": "2024-06-15T10:08:15.003Z"
   },
   {
    "duration": 50,
    "start_time": "2024-06-15T10:08:15.784Z"
   },
   {
    "duration": 290,
    "start_time": "2024-06-15T10:08:15.836Z"
   },
   {
    "duration": 8,
    "start_time": "2024-06-15T10:08:16.127Z"
   },
   {
    "duration": 30,
    "start_time": "2024-06-15T10:08:16.136Z"
   },
   {
    "duration": 630,
    "start_time": "2024-06-15T10:08:16.167Z"
   },
   {
    "duration": 892,
    "start_time": "2024-06-15T10:08:16.799Z"
   },
   {
    "duration": 65,
    "start_time": "2024-06-15T10:08:17.692Z"
   },
   {
    "duration": 71,
    "start_time": "2024-06-15T10:08:17.759Z"
   },
   {
    "duration": 539,
    "start_time": "2024-06-15T10:08:17.832Z"
   },
   {
    "duration": 10,
    "start_time": "2024-06-15T10:08:18.372Z"
   },
   {
    "duration": 18,
    "start_time": "2024-06-15T10:08:18.383Z"
   },
   {
    "duration": 2,
    "start_time": "2024-06-15T10:08:18.403Z"
   },
   {
    "duration": 156,
    "start_time": "2024-06-15T10:08:18.407Z"
   },
   {
    "duration": 5,
    "start_time": "2024-06-15T10:08:18.564Z"
   },
   {
    "duration": 8,
    "start_time": "2024-06-15T10:08:18.570Z"
   },
   {
    "duration": 476,
    "start_time": "2024-06-15T10:08:18.581Z"
   },
   {
    "duration": 493,
    "start_time": "2024-06-15T10:08:19.058Z"
   },
   {
    "duration": 514,
    "start_time": "2024-06-15T10:08:19.552Z"
   },
   {
    "duration": 4,
    "start_time": "2024-06-15T10:08:20.068Z"
   },
   {
    "duration": 430,
    "start_time": "2024-06-15T10:08:20.073Z"
   },
   {
    "duration": 6,
    "start_time": "2024-06-15T10:08:20.504Z"
   },
   {
    "duration": 20,
    "start_time": "2024-06-15T10:08:20.602Z"
   },
   {
    "duration": 79,
    "start_time": "2024-06-15T10:08:20.623Z"
   },
   {
    "duration": 84,
    "start_time": "2024-06-15T10:08:20.704Z"
   },
   {
    "duration": 24,
    "start_time": "2024-06-15T10:08:20.789Z"
   },
   {
    "duration": 19,
    "start_time": "2024-06-15T10:08:20.814Z"
   },
   {
    "duration": 16,
    "start_time": "2024-06-15T10:08:20.835Z"
   },
   {
    "duration": 15,
    "start_time": "2024-06-15T10:08:20.852Z"
   },
   {
    "duration": 3,
    "start_time": "2024-06-15T10:09:54.625Z"
   },
   {
    "duration": 3,
    "start_time": "2024-06-15T10:09:54.962Z"
   },
   {
    "duration": 3,
    "start_time": "2024-06-15T10:09:55.575Z"
   },
   {
    "duration": 4,
    "start_time": "2024-06-15T10:09:56.056Z"
   },
   {
    "duration": 3141,
    "start_time": "2024-06-15T10:09:56.407Z"
   },
   {
    "duration": 6,
    "start_time": "2024-06-15T10:09:59.550Z"
   },
   {
    "duration": 24050,
    "start_time": "2024-06-15T10:11:47.107Z"
   },
   {
    "duration": 4,
    "start_time": "2024-06-15T10:12:11.159Z"
   },
   {
    "duration": 15,
    "start_time": "2024-06-15T10:12:11.165Z"
   },
   {
    "duration": 128,
    "start_time": "2024-06-15T10:12:11.181Z"
   },
   {
    "duration": 106,
    "start_time": "2024-06-15T10:12:11.311Z"
   },
   {
    "duration": 105,
    "start_time": "2024-06-15T10:12:11.418Z"
   },
   {
    "duration": 4,
    "start_time": "2024-06-15T10:12:11.525Z"
   },
   {
    "duration": 85,
    "start_time": "2024-06-15T10:12:11.530Z"
   },
   {
    "duration": 62,
    "start_time": "2024-06-15T10:12:11.616Z"
   },
   {
    "duration": 69,
    "start_time": "2024-06-15T10:12:11.703Z"
   },
   {
    "duration": 34,
    "start_time": "2024-06-15T10:12:11.773Z"
   },
   {
    "duration": 15,
    "start_time": "2024-06-15T10:12:11.809Z"
   },
   {
    "duration": 83,
    "start_time": "2024-06-15T10:12:11.826Z"
   },
   {
    "duration": 4,
    "start_time": "2024-06-15T10:12:11.910Z"
   },
   {
    "duration": 7,
    "start_time": "2024-06-15T10:12:11.916Z"
   },
   {
    "duration": 6,
    "start_time": "2024-06-15T10:12:11.925Z"
   },
   {
    "duration": 37,
    "start_time": "2024-06-15T10:12:11.932Z"
   },
   {
    "duration": 650,
    "start_time": "2024-06-15T10:12:11.970Z"
   },
   {
    "duration": 782,
    "start_time": "2024-06-15T10:12:12.621Z"
   },
   {
    "duration": 55,
    "start_time": "2024-06-15T10:12:13.404Z"
   },
   {
    "duration": 294,
    "start_time": "2024-06-15T10:12:13.460Z"
   },
   {
    "duration": 9,
    "start_time": "2024-06-15T10:12:13.755Z"
   },
   {
    "duration": 45,
    "start_time": "2024-06-15T10:12:13.766Z"
   },
   {
    "duration": 697,
    "start_time": "2024-06-15T10:12:13.813Z"
   },
   {
    "duration": 784,
    "start_time": "2024-06-15T10:12:14.512Z"
   },
   {
    "duration": 46,
    "start_time": "2024-06-15T10:12:15.297Z"
   },
   {
    "duration": 283,
    "start_time": "2024-06-15T10:12:15.344Z"
   },
   {
    "duration": 8,
    "start_time": "2024-06-15T10:12:15.630Z"
   },
   {
    "duration": 36,
    "start_time": "2024-06-15T10:12:15.640Z"
   },
   {
    "duration": 620,
    "start_time": "2024-06-15T10:12:15.677Z"
   },
   {
    "duration": 785,
    "start_time": "2024-06-15T10:12:16.301Z"
   },
   {
    "duration": 72,
    "start_time": "2024-06-15T10:12:17.088Z"
   },
   {
    "duration": 72,
    "start_time": "2024-06-15T10:12:17.162Z"
   },
   {
    "duration": 528,
    "start_time": "2024-06-15T10:12:17.236Z"
   },
   {
    "duration": 9,
    "start_time": "2024-06-15T10:12:17.765Z"
   },
   {
    "duration": 10,
    "start_time": "2024-06-15T10:12:17.776Z"
   },
   {
    "duration": 27,
    "start_time": "2024-06-15T10:12:17.787Z"
   },
   {
    "duration": 141,
    "start_time": "2024-06-15T10:12:17.815Z"
   },
   {
    "duration": 3,
    "start_time": "2024-06-15T10:12:17.958Z"
   },
   {
    "duration": 21,
    "start_time": "2024-06-15T10:12:17.962Z"
   },
   {
    "duration": 562,
    "start_time": "2024-06-15T10:12:17.984Z"
   },
   {
    "duration": 504,
    "start_time": "2024-06-15T10:12:18.547Z"
   },
   {
    "duration": 513,
    "start_time": "2024-06-15T10:12:19.052Z"
   },
   {
    "duration": 4,
    "start_time": "2024-06-15T10:12:19.566Z"
   },
   {
    "duration": 433,
    "start_time": "2024-06-15T10:12:19.571Z"
   },
   {
    "duration": 6,
    "start_time": "2024-06-15T10:12:20.005Z"
   },
   {
    "duration": 3,
    "start_time": "2024-06-15T10:12:20.102Z"
   },
   {
    "duration": 102,
    "start_time": "2024-06-15T10:12:20.106Z"
   },
   {
    "duration": 6,
    "start_time": "2024-06-15T10:12:20.210Z"
   },
   {
    "duration": 11,
    "start_time": "2024-06-15T10:12:20.217Z"
   },
   {
    "duration": 5,
    "start_time": "2024-06-15T10:12:20.229Z"
   },
   {
    "duration": 5,
    "start_time": "2024-06-15T10:12:20.235Z"
   },
   {
    "duration": 5,
    "start_time": "2024-06-15T10:12:20.242Z"
   },
   {
    "duration": 3,
    "start_time": "2024-06-15T10:13:53.213Z"
   },
   {
    "duration": 3,
    "start_time": "2024-06-15T10:13:53.385Z"
   },
   {
    "duration": 3,
    "start_time": "2024-06-15T10:13:53.705Z"
   },
   {
    "duration": 4,
    "start_time": "2024-06-15T10:13:54.187Z"
   },
   {
    "duration": 2927,
    "start_time": "2024-06-15T10:13:54.456Z"
   },
   {
    "duration": 6,
    "start_time": "2024-06-15T10:13:57.384Z"
   },
   {
    "duration": 24606,
    "start_time": "2024-06-15T10:16:36.164Z"
   },
   {
    "duration": 4,
    "start_time": "2024-06-15T10:17:00.772Z"
   },
   {
    "duration": 61,
    "start_time": "2024-06-15T10:17:00.778Z"
   },
   {
    "duration": 195,
    "start_time": "2024-06-15T10:17:00.842Z"
   },
   {
    "duration": 102,
    "start_time": "2024-06-15T10:17:01.038Z"
   },
   {
    "duration": 130,
    "start_time": "2024-06-15T10:17:01.141Z"
   },
   {
    "duration": 5,
    "start_time": "2024-06-15T10:17:01.272Z"
   },
   {
    "duration": 150,
    "start_time": "2024-06-15T10:17:01.278Z"
   },
   {
    "duration": 80,
    "start_time": "2024-06-15T10:17:01.430Z"
   },
   {
    "duration": 103,
    "start_time": "2024-06-15T10:17:01.513Z"
   },
   {
    "duration": 12,
    "start_time": "2024-06-15T10:17:01.617Z"
   },
   {
    "duration": 52,
    "start_time": "2024-06-15T10:17:01.631Z"
   },
   {
    "duration": 88,
    "start_time": "2024-06-15T10:17:01.685Z"
   },
   {
    "duration": 4,
    "start_time": "2024-06-15T10:17:01.774Z"
   },
   {
    "duration": 126,
    "start_time": "2024-06-15T10:17:01.779Z"
   },
   {
    "duration": 32,
    "start_time": "2024-06-15T10:17:01.907Z"
   },
   {
    "duration": 51,
    "start_time": "2024-06-15T10:17:01.940Z"
   },
   {
    "duration": 804,
    "start_time": "2024-06-15T10:17:01.993Z"
   },
   {
    "duration": 765,
    "start_time": "2024-06-15T10:17:02.801Z"
   },
   {
    "duration": 58,
    "start_time": "2024-06-15T10:17:03.568Z"
   },
   {
    "duration": 322,
    "start_time": "2024-06-15T10:17:03.627Z"
   },
   {
    "duration": 10,
    "start_time": "2024-06-15T10:17:03.950Z"
   },
   {
    "duration": 46,
    "start_time": "2024-06-15T10:17:03.961Z"
   },
   {
    "duration": 628,
    "start_time": "2024-06-15T10:17:04.008Z"
   },
   {
    "duration": 780,
    "start_time": "2024-06-15T10:17:04.637Z"
   },
   {
    "duration": 43,
    "start_time": "2024-06-15T10:17:05.419Z"
   },
   {
    "duration": 283,
    "start_time": "2024-06-15T10:17:05.464Z"
   },
   {
    "duration": 8,
    "start_time": "2024-06-15T10:17:05.750Z"
   },
   {
    "duration": 52,
    "start_time": "2024-06-15T10:17:05.759Z"
   },
   {
    "duration": 649,
    "start_time": "2024-06-15T10:17:05.814Z"
   },
   {
    "duration": 877,
    "start_time": "2024-06-15T10:17:06.464Z"
   },
   {
    "duration": 79,
    "start_time": "2024-06-15T10:17:07.343Z"
   },
   {
    "duration": 77,
    "start_time": "2024-06-15T10:17:07.424Z"
   },
   {
    "duration": 597,
    "start_time": "2024-06-15T10:17:07.504Z"
   },
   {
    "duration": 16,
    "start_time": "2024-06-15T10:17:08.103Z"
   },
   {
    "duration": 9,
    "start_time": "2024-06-15T10:17:08.121Z"
   },
   {
    "duration": 18,
    "start_time": "2024-06-15T10:17:08.131Z"
   },
   {
    "duration": 203,
    "start_time": "2024-06-15T10:17:08.151Z"
   },
   {
    "duration": 5,
    "start_time": "2024-06-15T10:17:08.356Z"
   },
   {
    "duration": 25,
    "start_time": "2024-06-15T10:17:08.363Z"
   },
   {
    "duration": 516,
    "start_time": "2024-06-15T10:17:08.389Z"
   },
   {
    "duration": 553,
    "start_time": "2024-06-15T10:17:08.907Z"
   },
   {
    "duration": 508,
    "start_time": "2024-06-15T10:17:09.462Z"
   },
   {
    "duration": 4,
    "start_time": "2024-06-15T10:17:09.972Z"
   },
   {
    "duration": 538,
    "start_time": "2024-06-15T10:17:09.977Z"
   },
   {
    "duration": 9,
    "start_time": "2024-06-15T10:17:10.516Z"
   },
   {
    "duration": 76,
    "start_time": "2024-06-15T10:17:10.526Z"
   },
   {
    "duration": 2,
    "start_time": "2024-06-15T10:17:10.603Z"
   },
   {
    "duration": 2,
    "start_time": "2024-06-15T10:17:10.606Z"
   },
   {
    "duration": 2,
    "start_time": "2024-06-15T10:17:10.609Z"
   },
   {
    "duration": 92,
    "start_time": "2024-06-15T10:17:10.615Z"
   },
   {
    "duration": 10,
    "start_time": "2024-06-15T10:17:10.708Z"
   },
   {
    "duration": 19,
    "start_time": "2024-06-15T10:17:10.720Z"
   },
   {
    "duration": 3,
    "start_time": "2024-06-15T10:18:37.267Z"
   },
   {
    "duration": 3,
    "start_time": "2024-06-15T10:18:37.478Z"
   },
   {
    "duration": 3,
    "start_time": "2024-06-15T10:18:37.789Z"
   },
   {
    "duration": 65,
    "start_time": "2024-06-15T10:18:38.127Z"
   },
   {
    "duration": 4,
    "start_time": "2024-06-15T10:18:38.327Z"
   },
   {
    "duration": 2951,
    "start_time": "2024-06-15T10:18:38.655Z"
   },
   {
    "duration": 5,
    "start_time": "2024-06-15T10:18:41.608Z"
   },
   {
    "duration": 4,
    "start_time": "2024-06-15T10:24:44.630Z"
   },
   {
    "duration": 25158,
    "start_time": "2024-06-15T10:24:49.641Z"
   },
   {
    "duration": 5,
    "start_time": "2024-06-15T10:25:14.802Z"
   },
   {
    "duration": 21,
    "start_time": "2024-06-15T10:25:14.808Z"
   },
   {
    "duration": 156,
    "start_time": "2024-06-15T10:25:14.831Z"
   },
   {
    "duration": 102,
    "start_time": "2024-06-15T10:25:14.989Z"
   },
   {
    "duration": 106,
    "start_time": "2024-06-15T10:25:15.093Z"
   },
   {
    "duration": 13,
    "start_time": "2024-06-15T10:25:15.200Z"
   },
   {
    "duration": 113,
    "start_time": "2024-06-15T10:25:15.215Z"
   },
   {
    "duration": 82,
    "start_time": "2024-06-15T10:25:15.330Z"
   },
   {
    "duration": 87,
    "start_time": "2024-06-15T10:25:15.415Z"
   },
   {
    "duration": 15,
    "start_time": "2024-06-15T10:25:15.503Z"
   },
   {
    "duration": 39,
    "start_time": "2024-06-15T10:25:15.520Z"
   },
   {
    "duration": 80,
    "start_time": "2024-06-15T10:25:15.561Z"
   },
   {
    "duration": 4,
    "start_time": "2024-06-15T10:25:15.642Z"
   },
   {
    "duration": 20,
    "start_time": "2024-06-15T10:25:15.648Z"
   },
   {
    "duration": 24,
    "start_time": "2024-06-15T10:25:15.670Z"
   },
   {
    "duration": 48,
    "start_time": "2024-06-15T10:25:15.695Z"
   },
   {
    "duration": 718,
    "start_time": "2024-06-15T10:25:15.745Z"
   },
   {
    "duration": 830,
    "start_time": "2024-06-15T10:25:16.464Z"
   },
   {
    "duration": 58,
    "start_time": "2024-06-15T10:25:17.301Z"
   },
   {
    "duration": 296,
    "start_time": "2024-06-15T10:25:17.360Z"
   },
   {
    "duration": 12,
    "start_time": "2024-06-15T10:25:17.657Z"
   },
   {
    "duration": 71,
    "start_time": "2024-06-15T10:25:17.670Z"
   },
   {
    "duration": 751,
    "start_time": "2024-06-15T10:25:17.742Z"
   },
   {
    "duration": 802,
    "start_time": "2024-06-15T10:25:18.495Z"
   },
   {
    "duration": 52,
    "start_time": "2024-06-15T10:25:19.301Z"
   },
   {
    "duration": 273,
    "start_time": "2024-06-15T10:25:19.354Z"
   },
   {
    "duration": 8,
    "start_time": "2024-06-15T10:25:19.632Z"
   },
   {
    "duration": 61,
    "start_time": "2024-06-15T10:25:19.641Z"
   },
   {
    "duration": 716,
    "start_time": "2024-06-15T10:25:19.703Z"
   },
   {
    "duration": 793,
    "start_time": "2024-06-15T10:25:20.420Z"
   },
   {
    "duration": 66,
    "start_time": "2024-06-15T10:25:21.215Z"
   },
   {
    "duration": 93,
    "start_time": "2024-06-15T10:25:21.283Z"
   },
   {
    "duration": 594,
    "start_time": "2024-06-15T10:25:21.377Z"
   },
   {
    "duration": 10,
    "start_time": "2024-06-15T10:25:21.973Z"
   },
   {
    "duration": 5,
    "start_time": "2024-06-15T10:25:21.984Z"
   },
   {
    "duration": 2,
    "start_time": "2024-06-15T10:25:22.002Z"
   },
   {
    "duration": 143,
    "start_time": "2024-06-15T10:25:22.006Z"
   },
   {
    "duration": 6,
    "start_time": "2024-06-15T10:25:22.151Z"
   },
   {
    "duration": 6,
    "start_time": "2024-06-15T10:25:22.158Z"
   },
   {
    "duration": 496,
    "start_time": "2024-06-15T10:25:22.166Z"
   },
   {
    "duration": 495,
    "start_time": "2024-06-15T10:25:22.663Z"
   },
   {
    "duration": 596,
    "start_time": "2024-06-15T10:25:23.160Z"
   },
   {
    "duration": 3,
    "start_time": "2024-06-15T10:25:23.758Z"
   },
   {
    "duration": 341,
    "start_time": "2024-06-15T10:25:23.762Z"
   },
   {
    "duration": 8,
    "start_time": "2024-06-15T10:25:24.104Z"
   },
   {
    "duration": 89,
    "start_time": "2024-06-15T10:25:24.113Z"
   },
   {
    "duration": 11,
    "start_time": "2024-06-15T10:25:24.203Z"
   },
   {
    "duration": 13,
    "start_time": "2024-06-15T10:25:24.215Z"
   },
   {
    "duration": 5,
    "start_time": "2024-06-15T10:25:24.229Z"
   },
   {
    "duration": 3,
    "start_time": "2024-06-15T10:25:24.235Z"
   },
   {
    "duration": 4,
    "start_time": "2024-06-15T10:25:24.239Z"
   },
   {
    "duration": 7,
    "start_time": "2024-06-15T10:25:24.302Z"
   },
   {
    "duration": 4,
    "start_time": "2024-06-15T10:25:49.078Z"
   },
   {
    "duration": 3,
    "start_time": "2024-06-15T10:25:49.848Z"
   },
   {
    "duration": 3,
    "start_time": "2024-06-15T10:25:50.170Z"
   },
   {
    "duration": 11,
    "start_time": "2024-06-15T10:25:50.358Z"
   },
   {
    "duration": 5,
    "start_time": "2024-06-15T10:25:50.911Z"
   },
   {
    "duration": 3029,
    "start_time": "2024-06-15T10:25:54.651Z"
   },
   {
    "duration": 7,
    "start_time": "2024-06-15T10:25:57.681Z"
   },
   {
    "duration": 24310,
    "start_time": "2024-06-15T10:27:47.555Z"
   },
   {
    "duration": 3,
    "start_time": "2024-06-15T10:28:11.868Z"
   },
   {
    "duration": 13,
    "start_time": "2024-06-15T10:28:11.872Z"
   },
   {
    "duration": 122,
    "start_time": "2024-06-15T10:28:11.887Z"
   },
   {
    "duration": 100,
    "start_time": "2024-06-15T10:28:12.010Z"
   },
   {
    "duration": 103,
    "start_time": "2024-06-15T10:28:12.111Z"
   },
   {
    "duration": 4,
    "start_time": "2024-06-15T10:28:12.216Z"
   },
   {
    "duration": 104,
    "start_time": "2024-06-15T10:28:12.221Z"
   },
   {
    "duration": 62,
    "start_time": "2024-06-15T10:28:12.326Z"
   },
   {
    "duration": 67,
    "start_time": "2024-06-15T10:28:12.403Z"
   },
   {
    "duration": 32,
    "start_time": "2024-06-15T10:28:12.471Z"
   },
   {
    "duration": 35,
    "start_time": "2024-06-15T10:28:12.505Z"
   },
   {
    "duration": 63,
    "start_time": "2024-06-15T10:28:12.541Z"
   },
   {
    "duration": 4,
    "start_time": "2024-06-15T10:28:12.606Z"
   },
   {
    "duration": 5,
    "start_time": "2024-06-15T10:28:12.612Z"
   },
   {
    "duration": 5,
    "start_time": "2024-06-15T10:28:12.618Z"
   },
   {
    "duration": 42,
    "start_time": "2024-06-15T10:28:12.625Z"
   },
   {
    "duration": 682,
    "start_time": "2024-06-15T10:28:12.669Z"
   },
   {
    "duration": 693,
    "start_time": "2024-06-15T10:28:13.353Z"
   },
   {
    "duration": 54,
    "start_time": "2024-06-15T10:28:14.048Z"
   },
   {
    "duration": 310,
    "start_time": "2024-06-15T10:28:14.103Z"
   },
   {
    "duration": 11,
    "start_time": "2024-06-15T10:28:14.415Z"
   },
   {
    "duration": 39,
    "start_time": "2024-06-15T10:28:14.427Z"
   },
   {
    "duration": 616,
    "start_time": "2024-06-15T10:28:14.467Z"
   },
   {
    "duration": 737,
    "start_time": "2024-06-15T10:28:15.084Z"
   },
   {
    "duration": 43,
    "start_time": "2024-06-15T10:28:15.822Z"
   },
   {
    "duration": 274,
    "start_time": "2024-06-15T10:28:15.866Z"
   },
   {
    "duration": 9,
    "start_time": "2024-06-15T10:28:16.144Z"
   },
   {
    "duration": 37,
    "start_time": "2024-06-15T10:28:16.154Z"
   },
   {
    "duration": 702,
    "start_time": "2024-06-15T10:28:16.202Z"
   },
   {
    "duration": 774,
    "start_time": "2024-06-15T10:28:16.905Z"
   },
   {
    "duration": 68,
    "start_time": "2024-06-15T10:28:17.680Z"
   },
   {
    "duration": 70,
    "start_time": "2024-06-15T10:28:17.749Z"
   },
   {
    "duration": 529,
    "start_time": "2024-06-15T10:28:17.820Z"
   },
   {
    "duration": 9,
    "start_time": "2024-06-15T10:28:18.350Z"
   },
   {
    "duration": 19,
    "start_time": "2024-06-15T10:28:18.360Z"
   },
   {
    "duration": 6,
    "start_time": "2024-06-15T10:28:18.380Z"
   },
   {
    "duration": 133,
    "start_time": "2024-06-15T10:28:18.387Z"
   },
   {
    "duration": 4,
    "start_time": "2024-06-15T10:28:18.522Z"
   },
   {
    "duration": 15,
    "start_time": "2024-06-15T10:28:18.527Z"
   },
   {
    "duration": 527,
    "start_time": "2024-06-15T10:28:18.544Z"
   },
   {
    "duration": 500,
    "start_time": "2024-06-15T10:28:19.072Z"
   },
   {
    "duration": 488,
    "start_time": "2024-06-15T10:28:19.573Z"
   },
   {
    "duration": 4,
    "start_time": "2024-06-15T10:28:20.063Z"
   },
   {
    "duration": 343,
    "start_time": "2024-06-15T10:28:20.068Z"
   },
   {
    "duration": 93,
    "start_time": "2024-06-15T10:28:20.412Z"
   },
   {
    "duration": 118,
    "start_time": "2024-06-15T10:28:20.506Z"
   },
   {
    "duration": 6,
    "start_time": "2024-06-15T10:28:20.625Z"
   },
   {
    "duration": 27,
    "start_time": "2024-06-15T10:28:20.632Z"
   },
   {
    "duration": 20,
    "start_time": "2024-06-15T10:28:20.660Z"
   },
   {
    "duration": 5,
    "start_time": "2024-06-15T10:28:20.682Z"
   },
   {
    "duration": 27,
    "start_time": "2024-06-15T10:28:20.688Z"
   },
   {
    "duration": 33,
    "start_time": "2024-06-15T10:28:20.717Z"
   },
   {
    "duration": 4,
    "start_time": "2024-06-15T10:28:31.211Z"
   },
   {
    "duration": 3,
    "start_time": "2024-06-15T10:28:31.378Z"
   },
   {
    "duration": 2,
    "start_time": "2024-06-15T10:28:32.084Z"
   },
   {
    "duration": 6,
    "start_time": "2024-06-15T10:28:32.317Z"
   },
   {
    "duration": 5,
    "start_time": "2024-06-15T10:28:32.502Z"
   },
   {
    "duration": 3047,
    "start_time": "2024-06-15T10:28:32.820Z"
   },
   {
    "duration": 5,
    "start_time": "2024-06-15T10:28:35.869Z"
   },
   {
    "duration": 2,
    "start_time": "2024-06-15T10:31:57.501Z"
   },
   {
    "duration": 23760,
    "start_time": "2024-06-15T10:33:15.554Z"
   },
   {
    "duration": 4,
    "start_time": "2024-06-15T10:33:39.316Z"
   },
   {
    "duration": 56,
    "start_time": "2024-06-15T10:33:39.321Z"
   },
   {
    "duration": 194,
    "start_time": "2024-06-15T10:33:39.378Z"
   },
   {
    "duration": 109,
    "start_time": "2024-06-15T10:33:39.574Z"
   },
   {
    "duration": 115,
    "start_time": "2024-06-15T10:33:39.684Z"
   },
   {
    "duration": 4,
    "start_time": "2024-06-15T10:33:39.801Z"
   },
   {
    "duration": 108,
    "start_time": "2024-06-15T10:33:39.806Z"
   },
   {
    "duration": 93,
    "start_time": "2024-06-15T10:33:39.916Z"
   },
   {
    "duration": 68,
    "start_time": "2024-06-15T10:33:40.011Z"
   },
   {
    "duration": 13,
    "start_time": "2024-06-15T10:33:40.101Z"
   },
   {
    "duration": 58,
    "start_time": "2024-06-15T10:33:40.116Z"
   },
   {
    "duration": 79,
    "start_time": "2024-06-15T10:33:40.175Z"
   },
   {
    "duration": 4,
    "start_time": "2024-06-15T10:33:40.258Z"
   },
   {
    "duration": 13,
    "start_time": "2024-06-15T10:33:40.263Z"
   },
   {
    "duration": 11,
    "start_time": "2024-06-15T10:33:40.277Z"
   },
   {
    "duration": 89,
    "start_time": "2024-06-15T10:33:40.290Z"
   },
   {
    "duration": 643,
    "start_time": "2024-06-15T10:33:40.380Z"
   },
   {
    "duration": 732,
    "start_time": "2024-06-15T10:33:41.024Z"
   },
   {
    "duration": 59,
    "start_time": "2024-06-15T10:33:41.758Z"
   },
   {
    "duration": 433,
    "start_time": "2024-06-15T10:33:41.818Z"
   },
   {
    "duration": 10,
    "start_time": "2024-06-15T10:33:42.252Z"
   },
   {
    "duration": 113,
    "start_time": "2024-06-15T10:33:42.263Z"
   },
   {
    "duration": 620,
    "start_time": "2024-06-15T10:33:42.377Z"
   },
   {
    "duration": 814,
    "start_time": "2024-06-15T10:33:42.998Z"
   },
   {
    "duration": 56,
    "start_time": "2024-06-15T10:33:43.814Z"
   },
   {
    "duration": 266,
    "start_time": "2024-06-15T10:33:43.871Z"
   },
   {
    "duration": 9,
    "start_time": "2024-06-15T10:33:44.138Z"
   },
   {
    "duration": 34,
    "start_time": "2024-06-15T10:33:44.149Z"
   },
   {
    "duration": 649,
    "start_time": "2024-06-15T10:33:44.184Z"
   },
   {
    "duration": 768,
    "start_time": "2024-06-15T10:33:44.834Z"
   },
   {
    "duration": 62,
    "start_time": "2024-06-15T10:33:45.604Z"
   },
   {
    "duration": 76,
    "start_time": "2024-06-15T10:33:45.668Z"
   },
   {
    "duration": 539,
    "start_time": "2024-06-15T10:33:45.745Z"
   },
   {
    "duration": 17,
    "start_time": "2024-06-15T10:33:46.285Z"
   },
   {
    "duration": 18,
    "start_time": "2024-06-15T10:33:46.304Z"
   },
   {
    "duration": 11,
    "start_time": "2024-06-15T10:33:46.323Z"
   },
   {
    "duration": 160,
    "start_time": "2024-06-15T10:33:46.335Z"
   },
   {
    "duration": 6,
    "start_time": "2024-06-15T10:33:46.496Z"
   },
   {
    "duration": 50,
    "start_time": "2024-06-15T10:33:46.503Z"
   },
   {
    "duration": 514,
    "start_time": "2024-06-15T10:33:46.556Z"
   },
   {
    "duration": 607,
    "start_time": "2024-06-15T10:33:47.071Z"
   },
   {
    "duration": 487,
    "start_time": "2024-06-15T10:33:47.680Z"
   },
   {
    "duration": 3,
    "start_time": "2024-06-15T10:33:48.168Z"
   },
   {
    "duration": 336,
    "start_time": "2024-06-15T10:33:48.173Z"
   },
   {
    "duration": 91,
    "start_time": "2024-06-15T10:33:48.511Z"
   },
   {
    "duration": 99,
    "start_time": "2024-06-15T10:33:48.604Z"
   },
   {
    "duration": 11,
    "start_time": "2024-06-15T10:33:48.704Z"
   },
   {
    "duration": 12,
    "start_time": "2024-06-15T10:33:48.716Z"
   },
   {
    "duration": 41,
    "start_time": "2024-06-15T10:33:48.729Z"
   },
   {
    "duration": 77,
    "start_time": "2024-06-15T10:33:48.771Z"
   },
   {
    "duration": 14,
    "start_time": "2024-06-15T10:33:48.849Z"
   },
   {
    "duration": 13,
    "start_time": "2024-06-15T10:33:48.864Z"
   },
   {
    "duration": 2,
    "start_time": "2024-06-15T10:34:09.895Z"
   },
   {
    "duration": 3,
    "start_time": "2024-06-15T10:34:10.770Z"
   },
   {
    "duration": 3,
    "start_time": "2024-06-15T10:34:10.965Z"
   },
   {
    "duration": 3,
    "start_time": "2024-06-15T10:34:11.292Z"
   },
   {
    "duration": 3,
    "start_time": "2024-06-15T10:34:11.613Z"
   },
   {
    "duration": 4,
    "start_time": "2024-06-15T10:34:11.771Z"
   },
   {
    "duration": 3020,
    "start_time": "2024-06-15T10:34:12.103Z"
   },
   {
    "duration": 7,
    "start_time": "2024-06-15T10:34:15.124Z"
   },
   {
    "duration": 4,
    "start_time": "2024-06-15T10:36:28.783Z"
   },
   {
    "duration": 23941,
    "start_time": "2024-06-15T10:36:36.967Z"
   },
   {
    "duration": 4,
    "start_time": "2024-06-15T10:37:00.911Z"
   },
   {
    "duration": 113,
    "start_time": "2024-06-15T10:37:00.916Z"
   },
   {
    "duration": 171,
    "start_time": "2024-06-15T10:37:01.030Z"
   },
   {
    "duration": 108,
    "start_time": "2024-06-15T10:37:01.203Z"
   },
   {
    "duration": 102,
    "start_time": "2024-06-15T10:37:01.313Z"
   },
   {
    "duration": 4,
    "start_time": "2024-06-15T10:37:01.417Z"
   },
   {
    "duration": 152,
    "start_time": "2024-06-15T10:37:01.423Z"
   },
   {
    "duration": 100,
    "start_time": "2024-06-15T10:37:01.577Z"
   },
   {
    "duration": 79,
    "start_time": "2024-06-15T10:37:01.679Z"
   },
   {
    "duration": 12,
    "start_time": "2024-06-15T10:37:01.760Z"
   },
   {
    "duration": 125,
    "start_time": "2024-06-15T10:37:01.773Z"
   },
   {
    "duration": 128,
    "start_time": "2024-06-15T10:37:01.899Z"
   },
   {
    "duration": 4,
    "start_time": "2024-06-15T10:37:02.029Z"
   },
   {
    "duration": 12,
    "start_time": "2024-06-15T10:37:02.035Z"
   },
   {
    "duration": 13,
    "start_time": "2024-06-15T10:37:02.049Z"
   },
   {
    "duration": 60,
    "start_time": "2024-06-15T10:37:02.063Z"
   },
   {
    "duration": 727,
    "start_time": "2024-06-15T10:37:02.124Z"
   },
   {
    "duration": 725,
    "start_time": "2024-06-15T10:37:02.852Z"
   },
   {
    "duration": 71,
    "start_time": "2024-06-15T10:37:03.579Z"
   },
   {
    "duration": 307,
    "start_time": "2024-06-15T10:37:03.652Z"
   },
   {
    "duration": 11,
    "start_time": "2024-06-15T10:37:03.960Z"
   },
   {
    "duration": 53,
    "start_time": "2024-06-15T10:37:03.972Z"
   },
   {
    "duration": 626,
    "start_time": "2024-06-15T10:37:04.027Z"
   },
   {
    "duration": 753,
    "start_time": "2024-06-15T10:37:04.655Z"
   },
   {
    "duration": 44,
    "start_time": "2024-06-15T10:37:05.410Z"
   },
   {
    "duration": 293,
    "start_time": "2024-06-15T10:37:05.456Z"
   },
   {
    "duration": 10,
    "start_time": "2024-06-15T10:37:05.753Z"
   },
   {
    "duration": 111,
    "start_time": "2024-06-15T10:37:05.764Z"
   },
   {
    "duration": 764,
    "start_time": "2024-06-15T10:37:05.877Z"
   },
   {
    "duration": 760,
    "start_time": "2024-06-15T10:37:06.643Z"
   },
   {
    "duration": 64,
    "start_time": "2024-06-15T10:37:07.404Z"
   },
   {
    "duration": 77,
    "start_time": "2024-06-15T10:37:07.469Z"
   },
   {
    "duration": 538,
    "start_time": "2024-06-15T10:37:07.548Z"
   },
   {
    "duration": 14,
    "start_time": "2024-06-15T10:37:08.087Z"
   },
   {
    "duration": 6,
    "start_time": "2024-06-15T10:37:08.103Z"
   },
   {
    "duration": 7,
    "start_time": "2024-06-15T10:37:08.110Z"
   },
   {
    "duration": 136,
    "start_time": "2024-06-15T10:37:08.118Z"
   },
   {
    "duration": 4,
    "start_time": "2024-06-15T10:37:08.255Z"
   },
   {
    "duration": 49,
    "start_time": "2024-06-15T10:37:08.260Z"
   },
   {
    "duration": 469,
    "start_time": "2024-06-15T10:37:08.310Z"
   },
   {
    "duration": 479,
    "start_time": "2024-06-15T10:37:08.780Z"
   },
   {
    "duration": 482,
    "start_time": "2024-06-15T10:37:09.260Z"
   },
   {
    "duration": 4,
    "start_time": "2024-06-15T10:37:09.744Z"
   },
   {
    "duration": 453,
    "start_time": "2024-06-15T10:37:09.749Z"
   },
   {
    "duration": 6,
    "start_time": "2024-06-15T10:37:10.203Z"
   },
   {
    "duration": 102,
    "start_time": "2024-06-15T10:37:10.211Z"
   },
   {
    "duration": 17,
    "start_time": "2024-06-15T10:37:10.315Z"
   },
   {
    "duration": 9,
    "start_time": "2024-06-15T10:37:10.334Z"
   },
   {
    "duration": 5,
    "start_time": "2024-06-15T10:37:10.344Z"
   },
   {
    "duration": 9,
    "start_time": "2024-06-15T10:37:10.350Z"
   },
   {
    "duration": 9,
    "start_time": "2024-06-15T10:37:10.361Z"
   },
   {
    "duration": 13,
    "start_time": "2024-06-15T10:37:10.371Z"
   },
   {
    "duration": 3,
    "start_time": "2024-06-15T10:38:05.601Z"
   },
   {
    "duration": 4,
    "start_time": "2024-06-15T10:38:06.204Z"
   },
   {
    "duration": 3,
    "start_time": "2024-06-15T10:38:06.352Z"
   },
   {
    "duration": 3,
    "start_time": "2024-06-15T10:38:06.682Z"
   },
   {
    "duration": 3,
    "start_time": "2024-06-15T10:38:07.018Z"
   },
   {
    "duration": 6,
    "start_time": "2024-06-15T10:38:07.176Z"
   },
   {
    "duration": 2975,
    "start_time": "2024-06-15T10:38:07.516Z"
   },
   {
    "duration": 11,
    "start_time": "2024-06-15T10:38:10.493Z"
   },
   {
    "duration": 24177,
    "start_time": "2024-06-15T10:39:23.372Z"
   },
   {
    "duration": 4,
    "start_time": "2024-06-15T10:39:47.551Z"
   },
   {
    "duration": 7,
    "start_time": "2024-06-15T10:39:47.556Z"
   },
   {
    "duration": 120,
    "start_time": "2024-06-15T10:39:47.564Z"
   },
   {
    "duration": 98,
    "start_time": "2024-06-15T10:39:47.686Z"
   },
   {
    "duration": 107,
    "start_time": "2024-06-15T10:39:47.785Z"
   },
   {
    "duration": 5,
    "start_time": "2024-06-15T10:39:47.893Z"
   },
   {
    "duration": 107,
    "start_time": "2024-06-15T10:39:47.901Z"
   },
   {
    "duration": 64,
    "start_time": "2024-06-15T10:39:48.010Z"
   },
   {
    "duration": 93,
    "start_time": "2024-06-15T10:39:48.077Z"
   },
   {
    "duration": 31,
    "start_time": "2024-06-15T10:39:48.171Z"
   },
   {
    "duration": 21,
    "start_time": "2024-06-15T10:39:48.204Z"
   },
   {
    "duration": 88,
    "start_time": "2024-06-15T10:39:48.227Z"
   },
   {
    "duration": 6,
    "start_time": "2024-06-15T10:39:48.316Z"
   },
   {
    "duration": 5,
    "start_time": "2024-06-15T10:39:48.323Z"
   },
   {
    "duration": 17,
    "start_time": "2024-06-15T10:39:48.330Z"
   },
   {
    "duration": 38,
    "start_time": "2024-06-15T10:39:48.348Z"
   },
   {
    "duration": 673,
    "start_time": "2024-06-15T10:39:48.388Z"
   },
   {
    "duration": 868,
    "start_time": "2024-06-15T10:39:49.062Z"
   },
   {
    "duration": 48,
    "start_time": "2024-06-15T10:39:49.932Z"
   },
   {
    "duration": 277,
    "start_time": "2024-06-15T10:39:49.981Z"
   },
   {
    "duration": 10,
    "start_time": "2024-06-15T10:39:50.259Z"
   },
   {
    "duration": 53,
    "start_time": "2024-06-15T10:39:50.271Z"
   },
   {
    "duration": 655,
    "start_time": "2024-06-15T10:39:50.325Z"
   },
   {
    "duration": 802,
    "start_time": "2024-06-15T10:39:50.982Z"
   },
   {
    "duration": 51,
    "start_time": "2024-06-15T10:39:51.786Z"
   },
   {
    "duration": 298,
    "start_time": "2024-06-15T10:39:51.838Z"
   },
   {
    "duration": 9,
    "start_time": "2024-06-15T10:39:52.138Z"
   },
   {
    "duration": 29,
    "start_time": "2024-06-15T10:39:52.149Z"
   },
   {
    "duration": 632,
    "start_time": "2024-06-15T10:39:52.180Z"
   },
   {
    "duration": 785,
    "start_time": "2024-06-15T10:39:52.813Z"
   },
   {
    "duration": 63,
    "start_time": "2024-06-15T10:39:53.601Z"
   },
   {
    "duration": 72,
    "start_time": "2024-06-15T10:39:53.665Z"
   },
   {
    "duration": 660,
    "start_time": "2024-06-15T10:39:53.738Z"
   },
   {
    "duration": 9,
    "start_time": "2024-06-15T10:39:54.401Z"
   },
   {
    "duration": 27,
    "start_time": "2024-06-15T10:39:54.412Z"
   },
   {
    "duration": 14,
    "start_time": "2024-06-15T10:39:54.440Z"
   },
   {
    "duration": 145,
    "start_time": "2024-06-15T10:39:54.456Z"
   },
   {
    "duration": 5,
    "start_time": "2024-06-15T10:39:54.603Z"
   },
   {
    "duration": 119,
    "start_time": "2024-06-15T10:39:54.610Z"
   },
   {
    "duration": 538,
    "start_time": "2024-06-15T10:39:54.730Z"
   },
   {
    "duration": 488,
    "start_time": "2024-06-15T10:39:55.270Z"
   },
   {
    "duration": 494,
    "start_time": "2024-06-15T10:39:55.760Z"
   },
   {
    "duration": 3,
    "start_time": "2024-06-15T10:39:56.256Z"
   },
   {
    "duration": 346,
    "start_time": "2024-06-15T10:39:56.260Z"
   },
   {
    "duration": 5,
    "start_time": "2024-06-15T10:39:56.608Z"
   },
   {
    "duration": 100,
    "start_time": "2024-06-15T10:39:56.703Z"
   },
   {
    "duration": 5,
    "start_time": "2024-06-15T10:39:56.804Z"
   },
   {
    "duration": 10,
    "start_time": "2024-06-15T10:39:56.810Z"
   },
   {
    "duration": 4,
    "start_time": "2024-06-15T10:39:56.821Z"
   },
   {
    "duration": 9,
    "start_time": "2024-06-15T10:39:56.826Z"
   },
   {
    "duration": 9,
    "start_time": "2024-06-15T10:39:56.837Z"
   },
   {
    "duration": 11,
    "start_time": "2024-06-15T10:39:56.847Z"
   },
   {
    "duration": 3,
    "start_time": "2024-06-15T10:40:03.873Z"
   },
   {
    "duration": 4,
    "start_time": "2024-06-15T10:40:04.404Z"
   },
   {
    "duration": 2,
    "start_time": "2024-06-15T10:40:04.572Z"
   },
   {
    "duration": 3,
    "start_time": "2024-06-15T10:40:04.900Z"
   },
   {
    "duration": 2,
    "start_time": "2024-06-15T10:40:05.215Z"
   },
   {
    "duration": 4,
    "start_time": "2024-06-15T10:40:05.415Z"
   },
   {
    "duration": 3573,
    "start_time": "2024-06-15T10:40:05.697Z"
   },
   {
    "duration": 6,
    "start_time": "2024-06-15T10:40:09.272Z"
   },
   {
    "duration": 24649,
    "start_time": "2024-06-15T10:43:21.065Z"
   },
   {
    "duration": 5,
    "start_time": "2024-06-15T10:43:45.716Z"
   },
   {
    "duration": 10,
    "start_time": "2024-06-15T10:43:45.723Z"
   },
   {
    "duration": 128,
    "start_time": "2024-06-15T10:43:45.735Z"
   },
   {
    "duration": 111,
    "start_time": "2024-06-15T10:43:45.865Z"
   },
   {
    "duration": 109,
    "start_time": "2024-06-15T10:43:45.977Z"
   },
   {
    "duration": 4,
    "start_time": "2024-06-15T10:43:46.087Z"
   },
   {
    "duration": 85,
    "start_time": "2024-06-15T10:43:46.092Z"
   },
   {
    "duration": 82,
    "start_time": "2024-06-15T10:43:46.179Z"
   },
   {
    "duration": 96,
    "start_time": "2024-06-15T10:43:46.263Z"
   },
   {
    "duration": 11,
    "start_time": "2024-06-15T10:43:46.360Z"
   },
   {
    "duration": 29,
    "start_time": "2024-06-15T10:43:46.372Z"
   },
   {
    "duration": 80,
    "start_time": "2024-06-15T10:43:46.403Z"
   },
   {
    "duration": 4,
    "start_time": "2024-06-15T10:43:46.484Z"
   },
   {
    "duration": 265,
    "start_time": "2024-06-15T10:43:46.489Z"
   },
   {
    "duration": 23,
    "start_time": "2024-06-15T10:43:46.755Z"
   },
   {
    "duration": 46,
    "start_time": "2024-06-15T10:43:46.779Z"
   },
   {
    "duration": 722,
    "start_time": "2024-06-15T10:43:46.827Z"
   },
   {
    "duration": 709,
    "start_time": "2024-06-15T10:43:47.550Z"
   },
   {
    "duration": 52,
    "start_time": "2024-06-15T10:43:48.261Z"
   },
   {
    "duration": 314,
    "start_time": "2024-06-15T10:43:48.314Z"
   },
   {
    "duration": 11,
    "start_time": "2024-06-15T10:43:48.629Z"
   },
   {
    "duration": 31,
    "start_time": "2024-06-15T10:43:48.641Z"
   },
   {
    "duration": 631,
    "start_time": "2024-06-15T10:43:48.673Z"
   },
   {
    "duration": 924,
    "start_time": "2024-06-15T10:43:49.306Z"
   },
   {
    "duration": 47,
    "start_time": "2024-06-15T10:43:50.231Z"
   },
   {
    "duration": 352,
    "start_time": "2024-06-15T10:43:50.280Z"
   },
   {
    "duration": 10,
    "start_time": "2024-06-15T10:43:50.637Z"
   },
   {
    "duration": 32,
    "start_time": "2024-06-15T10:43:50.648Z"
   },
   {
    "duration": 634,
    "start_time": "2024-06-15T10:43:50.681Z"
   },
   {
    "duration": 765,
    "start_time": "2024-06-15T10:43:51.316Z"
   },
   {
    "duration": 98,
    "start_time": "2024-06-15T10:43:52.083Z"
   },
   {
    "duration": 72,
    "start_time": "2024-06-15T10:43:52.183Z"
   },
   {
    "duration": 532,
    "start_time": "2024-06-15T10:43:52.256Z"
   },
   {
    "duration": 15,
    "start_time": "2024-06-15T10:43:52.790Z"
   },
   {
    "duration": 80,
    "start_time": "2024-06-15T10:43:52.806Z"
   },
   {
    "duration": 22,
    "start_time": "2024-06-15T10:43:52.887Z"
   },
   {
    "duration": 122,
    "start_time": "2024-06-15T10:43:52.910Z"
   },
   {
    "duration": 6,
    "start_time": "2024-06-15T10:43:53.033Z"
   },
   {
    "duration": 5,
    "start_time": "2024-06-15T10:43:53.040Z"
   },
   {
    "duration": 534,
    "start_time": "2024-06-15T10:43:53.046Z"
   },
   {
    "duration": 495,
    "start_time": "2024-06-15T10:43:53.581Z"
   },
   {
    "duration": 488,
    "start_time": "2024-06-15T10:43:54.077Z"
   },
   {
    "duration": 3,
    "start_time": "2024-06-15T10:43:54.567Z"
   },
   {
    "duration": 350,
    "start_time": "2024-06-15T10:43:54.571Z"
   },
   {
    "duration": 7,
    "start_time": "2024-06-15T10:43:54.926Z"
   },
   {
    "duration": 101,
    "start_time": "2024-06-15T10:43:55.002Z"
   },
   {
    "duration": 25,
    "start_time": "2024-06-15T10:43:55.105Z"
   },
   {
    "duration": 5,
    "start_time": "2024-06-15T10:43:55.131Z"
   },
   {
    "duration": 4,
    "start_time": "2024-06-15T10:43:55.137Z"
   },
   {
    "duration": 11,
    "start_time": "2024-06-15T10:43:55.143Z"
   },
   {
    "duration": 8,
    "start_time": "2024-06-15T10:43:55.155Z"
   },
   {
    "duration": 8,
    "start_time": "2024-06-15T10:43:55.164Z"
   },
   {
    "duration": 3,
    "start_time": "2024-06-15T10:43:55.173Z"
   },
   {
    "duration": 4,
    "start_time": "2024-06-15T10:43:55.177Z"
   },
   {
    "duration": 5,
    "start_time": "2024-06-15T10:43:55.182Z"
   },
   {
    "duration": 3,
    "start_time": "2024-06-15T10:43:55.188Z"
   },
   {
    "duration": 6,
    "start_time": "2024-06-15T10:43:55.192Z"
   },
   {
    "duration": 3039,
    "start_time": "2024-06-15T10:43:55.199Z"
   },
   {
    "duration": 6,
    "start_time": "2024-06-15T10:43:58.240Z"
   },
   {
    "duration": 6,
    "start_time": "2024-06-15T10:45:52.004Z"
   },
   {
    "duration": 24076,
    "start_time": "2024-06-15T10:48:01.675Z"
   },
   {
    "duration": 4,
    "start_time": "2024-06-15T10:48:25.753Z"
   },
   {
    "duration": 26,
    "start_time": "2024-06-15T10:48:25.758Z"
   },
   {
    "duration": 133,
    "start_time": "2024-06-15T10:48:25.786Z"
   },
   {
    "duration": 107,
    "start_time": "2024-06-15T10:48:25.921Z"
   },
   {
    "duration": 110,
    "start_time": "2024-06-15T10:48:26.029Z"
   },
   {
    "duration": 4,
    "start_time": "2024-06-15T10:48:26.141Z"
   },
   {
    "duration": 97,
    "start_time": "2024-06-15T10:48:26.146Z"
   },
   {
    "duration": 84,
    "start_time": "2024-06-15T10:48:26.244Z"
   },
   {
    "duration": 80,
    "start_time": "2024-06-15T10:48:26.330Z"
   },
   {
    "duration": 15,
    "start_time": "2024-06-15T10:48:26.412Z"
   },
   {
    "duration": 22,
    "start_time": "2024-06-15T10:48:26.429Z"
   },
   {
    "duration": 83,
    "start_time": "2024-06-15T10:48:26.452Z"
   },
   {
    "duration": 4,
    "start_time": "2024-06-15T10:48:26.537Z"
   },
   {
    "duration": 8,
    "start_time": "2024-06-15T10:48:26.542Z"
   },
   {
    "duration": 7,
    "start_time": "2024-06-15T10:48:26.552Z"
   },
   {
    "duration": 73,
    "start_time": "2024-06-15T10:48:26.560Z"
   },
   {
    "duration": 784,
    "start_time": "2024-06-15T10:48:26.635Z"
   },
   {
    "duration": 728,
    "start_time": "2024-06-15T10:48:27.421Z"
   },
   {
    "duration": 53,
    "start_time": "2024-06-15T10:48:28.150Z"
   },
   {
    "duration": 313,
    "start_time": "2024-06-15T10:48:28.205Z"
   },
   {
    "duration": 12,
    "start_time": "2024-06-15T10:48:28.519Z"
   },
   {
    "duration": 31,
    "start_time": "2024-06-15T10:48:28.532Z"
   },
   {
    "duration": 630,
    "start_time": "2024-06-15T10:48:28.564Z"
   },
   {
    "duration": 800,
    "start_time": "2024-06-15T10:48:29.195Z"
   },
   {
    "duration": 56,
    "start_time": "2024-06-15T10:48:29.997Z"
   },
   {
    "duration": 289,
    "start_time": "2024-06-15T10:48:30.054Z"
   },
   {
    "duration": 12,
    "start_time": "2024-06-15T10:48:30.345Z"
   },
   {
    "duration": 72,
    "start_time": "2024-06-15T10:48:30.359Z"
   },
   {
    "duration": 650,
    "start_time": "2024-06-15T10:48:30.432Z"
   },
   {
    "duration": 960,
    "start_time": "2024-06-15T10:48:31.084Z"
   },
   {
    "duration": 83,
    "start_time": "2024-06-15T10:48:32.046Z"
   },
   {
    "duration": 72,
    "start_time": "2024-06-15T10:48:32.130Z"
   },
   {
    "duration": 559,
    "start_time": "2024-06-15T10:48:32.204Z"
   },
   {
    "duration": 9,
    "start_time": "2024-06-15T10:48:32.765Z"
   },
   {
    "duration": 15,
    "start_time": "2024-06-15T10:48:32.776Z"
   },
   {
    "duration": 12,
    "start_time": "2024-06-15T10:48:32.792Z"
   },
   {
    "duration": 143,
    "start_time": "2024-06-15T10:48:32.805Z"
   },
   {
    "duration": 7,
    "start_time": "2024-06-15T10:48:32.949Z"
   },
   {
    "duration": 9,
    "start_time": "2024-06-15T10:48:32.957Z"
   },
   {
    "duration": 586,
    "start_time": "2024-06-15T10:48:32.971Z"
   },
   {
    "duration": 493,
    "start_time": "2024-06-15T10:48:33.558Z"
   },
   {
    "duration": 506,
    "start_time": "2024-06-15T10:48:34.052Z"
   },
   {
    "duration": 3,
    "start_time": "2024-06-15T10:48:34.560Z"
   },
   {
    "duration": 447,
    "start_time": "2024-06-15T10:48:34.565Z"
   },
   {
    "duration": 6,
    "start_time": "2024-06-15T10:48:35.013Z"
   },
   {
    "duration": 8,
    "start_time": "2024-06-15T10:48:35.102Z"
   },
   {
    "duration": 94,
    "start_time": "2024-06-15T10:48:35.111Z"
   },
   {
    "duration": 10,
    "start_time": "2024-06-15T10:48:35.206Z"
   },
   {
    "duration": 5,
    "start_time": "2024-06-15T10:48:35.217Z"
   },
   {
    "duration": 3,
    "start_time": "2024-06-15T10:48:35.224Z"
   },
   {
    "duration": 13,
    "start_time": "2024-06-15T10:48:35.228Z"
   },
   {
    "duration": 20,
    "start_time": "2024-06-15T10:48:35.242Z"
   },
   {
    "duration": 36,
    "start_time": "2024-06-15T10:48:35.263Z"
   },
   {
    "duration": 28,
    "start_time": "2024-06-15T10:48:35.300Z"
   },
   {
    "duration": 32,
    "start_time": "2024-06-15T10:48:35.330Z"
   },
   {
    "duration": 19,
    "start_time": "2024-06-15T10:48:35.363Z"
   },
   {
    "duration": 34,
    "start_time": "2024-06-15T10:48:35.383Z"
   },
   {
    "duration": 3021,
    "start_time": "2024-06-15T10:48:35.419Z"
   },
   {
    "duration": 5,
    "start_time": "2024-06-15T10:48:38.442Z"
   },
   {
    "duration": 23941,
    "start_time": "2024-06-15T11:09:28.108Z"
   },
   {
    "duration": 4,
    "start_time": "2024-06-15T11:09:52.051Z"
   },
   {
    "duration": 11,
    "start_time": "2024-06-15T11:09:52.056Z"
   },
   {
    "duration": 124,
    "start_time": "2024-06-15T11:09:52.068Z"
   },
   {
    "duration": 102,
    "start_time": "2024-06-15T11:09:52.193Z"
   },
   {
    "duration": 101,
    "start_time": "2024-06-15T11:09:52.296Z"
   },
   {
    "duration": 4,
    "start_time": "2024-06-15T11:09:52.398Z"
   },
   {
    "duration": 79,
    "start_time": "2024-06-15T11:09:52.403Z"
   },
   {
    "duration": 68,
    "start_time": "2024-06-15T11:09:52.484Z"
   },
   {
    "duration": 92,
    "start_time": "2024-06-15T11:09:52.553Z"
   },
   {
    "duration": 12,
    "start_time": "2024-06-15T11:09:52.647Z"
   },
   {
    "duration": 74,
    "start_time": "2024-06-15T11:09:52.660Z"
   },
   {
    "duration": 77,
    "start_time": "2024-06-15T11:09:52.735Z"
   },
   {
    "duration": 4,
    "start_time": "2024-06-15T11:09:52.814Z"
   },
   {
    "duration": 16,
    "start_time": "2024-06-15T11:09:52.819Z"
   },
   {
    "duration": 8,
    "start_time": "2024-06-15T11:09:52.836Z"
   },
   {
    "duration": 37,
    "start_time": "2024-06-15T11:09:52.845Z"
   },
   {
    "duration": 783,
    "start_time": "2024-06-15T11:09:52.883Z"
   },
   {
    "duration": 710,
    "start_time": "2024-06-15T11:09:53.668Z"
   },
   {
    "duration": 53,
    "start_time": "2024-06-15T11:09:54.380Z"
   },
   {
    "duration": 331,
    "start_time": "2024-06-15T11:09:54.435Z"
   },
   {
    "duration": 10,
    "start_time": "2024-06-15T11:09:54.767Z"
   },
   {
    "duration": 45,
    "start_time": "2024-06-15T11:09:54.778Z"
   },
   {
    "duration": 611,
    "start_time": "2024-06-15T11:09:54.824Z"
   },
   {
    "duration": 752,
    "start_time": "2024-06-15T11:09:55.436Z"
   },
   {
    "duration": 49,
    "start_time": "2024-06-15T11:09:56.189Z"
   },
   {
    "duration": 278,
    "start_time": "2024-06-15T11:09:56.239Z"
   },
   {
    "duration": 9,
    "start_time": "2024-06-15T11:09:56.519Z"
   },
   {
    "duration": 75,
    "start_time": "2024-06-15T11:09:56.529Z"
   },
   {
    "duration": 602,
    "start_time": "2024-06-15T11:09:56.605Z"
   },
   {
    "duration": 868,
    "start_time": "2024-06-15T11:09:57.208Z"
   },
   {
    "duration": 71,
    "start_time": "2024-06-15T11:09:58.077Z"
   },
   {
    "duration": 71,
    "start_time": "2024-06-15T11:09:58.149Z"
   },
   {
    "duration": 529,
    "start_time": "2024-06-15T11:09:58.221Z"
   },
   {
    "duration": 9,
    "start_time": "2024-06-15T11:09:58.751Z"
   },
   {
    "duration": 5,
    "start_time": "2024-06-15T11:09:58.762Z"
   },
   {
    "duration": 7,
    "start_time": "2024-06-15T11:09:58.768Z"
   },
   {
    "duration": 136,
    "start_time": "2024-06-15T11:09:58.776Z"
   },
   {
    "duration": 5,
    "start_time": "2024-06-15T11:09:58.914Z"
   },
   {
    "duration": 85,
    "start_time": "2024-06-15T11:09:58.920Z"
   },
   {
    "duration": 457,
    "start_time": "2024-06-15T11:09:59.007Z"
   },
   {
    "duration": 488,
    "start_time": "2024-06-15T11:09:59.466Z"
   },
   {
    "duration": 498,
    "start_time": "2024-06-15T11:09:59.955Z"
   },
   {
    "duration": 3,
    "start_time": "2024-06-15T11:10:00.455Z"
   },
   {
    "duration": 350,
    "start_time": "2024-06-15T11:10:00.459Z"
   },
   {
    "duration": 94,
    "start_time": "2024-06-15T11:10:00.811Z"
   },
   {
    "duration": 126,
    "start_time": "2024-06-15T11:10:00.907Z"
   },
   {
    "duration": 47,
    "start_time": "2024-06-15T11:10:01.034Z"
   },
   {
    "duration": 45,
    "start_time": "2024-06-15T11:10:01.083Z"
   },
   {
    "duration": 59,
    "start_time": "2024-06-15T11:10:01.130Z"
   },
   {
    "duration": 122,
    "start_time": "2024-06-15T11:10:01.191Z"
   },
   {
    "duration": 194,
    "start_time": "2024-06-15T11:10:01.314Z"
   },
   {
    "duration": 102,
    "start_time": "2024-06-15T11:10:01.509Z"
   },
   {
    "duration": 53,
    "start_time": "2024-06-15T11:10:01.612Z"
   },
   {
    "duration": 52,
    "start_time": "2024-06-15T11:10:01.667Z"
   },
   {
    "duration": 154,
    "start_time": "2024-06-15T11:10:01.720Z"
   },
   {
    "duration": 39,
    "start_time": "2024-06-15T11:10:01.876Z"
   },
   {
    "duration": 35,
    "start_time": "2024-06-15T11:10:01.916Z"
   },
   {
    "duration": 2902,
    "start_time": "2024-06-15T11:10:01.952Z"
   },
   {
    "duration": 6,
    "start_time": "2024-06-15T11:10:04.856Z"
   },
   {
    "duration": 3,
    "start_time": "2024-06-15T11:13:38.367Z"
   },
   {
    "duration": 4,
    "start_time": "2024-06-15T11:22:00.060Z"
   },
   {
    "duration": 24150,
    "start_time": "2024-06-15T11:26:04.901Z"
   },
   {
    "duration": 4,
    "start_time": "2024-06-15T11:26:29.054Z"
   },
   {
    "duration": 15,
    "start_time": "2024-06-15T11:26:29.059Z"
   },
   {
    "duration": 121,
    "start_time": "2024-06-15T11:26:29.075Z"
   },
   {
    "duration": 98,
    "start_time": "2024-06-15T11:26:29.198Z"
   },
   {
    "duration": 102,
    "start_time": "2024-06-15T11:26:29.297Z"
   },
   {
    "duration": 5,
    "start_time": "2024-06-15T11:26:29.401Z"
   },
   {
    "duration": 119,
    "start_time": "2024-06-15T11:26:29.407Z"
   },
   {
    "duration": 84,
    "start_time": "2024-06-15T11:26:29.528Z"
   },
   {
    "duration": 65,
    "start_time": "2024-06-15T11:26:29.614Z"
   },
   {
    "duration": 30,
    "start_time": "2024-06-15T11:26:29.680Z"
   },
   {
    "duration": 19,
    "start_time": "2024-06-15T11:26:29.712Z"
   },
   {
    "duration": 90,
    "start_time": "2024-06-15T11:26:29.732Z"
   },
   {
    "duration": 4,
    "start_time": "2024-06-15T11:26:29.825Z"
   },
   {
    "duration": 17,
    "start_time": "2024-06-15T11:26:29.831Z"
   },
   {
    "duration": 6,
    "start_time": "2024-06-15T11:26:29.849Z"
   },
   {
    "duration": 36,
    "start_time": "2024-06-15T11:26:29.857Z"
   },
   {
    "duration": 655,
    "start_time": "2024-06-15T11:26:29.895Z"
   },
   {
    "duration": 717,
    "start_time": "2024-06-15T11:26:30.551Z"
   },
   {
    "duration": 53,
    "start_time": "2024-06-15T11:26:31.269Z"
   },
   {
    "duration": 320,
    "start_time": "2024-06-15T11:26:31.323Z"
   },
   {
    "duration": 10,
    "start_time": "2024-06-15T11:26:31.644Z"
   },
   {
    "duration": 199,
    "start_time": "2024-06-15T11:26:31.655Z"
   },
   {
    "duration": 727,
    "start_time": "2024-06-15T11:26:31.856Z"
   },
   {
    "duration": 837,
    "start_time": "2024-06-15T11:26:32.585Z"
   },
   {
    "duration": 44,
    "start_time": "2024-06-15T11:26:33.423Z"
   },
   {
    "duration": 261,
    "start_time": "2024-06-15T11:26:33.468Z"
   },
   {
    "duration": 9,
    "start_time": "2024-06-15T11:26:33.730Z"
   },
   {
    "duration": 42,
    "start_time": "2024-06-15T11:26:33.740Z"
   },
   {
    "duration": 607,
    "start_time": "2024-06-15T11:26:33.783Z"
   },
   {
    "duration": 744,
    "start_time": "2024-06-15T11:26:34.403Z"
   },
   {
    "duration": 75,
    "start_time": "2024-06-15T11:26:35.148Z"
   },
   {
    "duration": 83,
    "start_time": "2024-06-15T11:26:35.224Z"
   },
   {
    "duration": 545,
    "start_time": "2024-06-15T11:26:35.308Z"
   },
   {
    "duration": 11,
    "start_time": "2024-06-15T11:26:35.854Z"
   },
   {
    "duration": 17,
    "start_time": "2024-06-15T11:26:35.866Z"
   },
   {
    "duration": 26,
    "start_time": "2024-06-15T11:26:35.884Z"
   },
   {
    "duration": 186,
    "start_time": "2024-06-15T11:26:35.911Z"
   },
   {
    "duration": 4,
    "start_time": "2024-06-15T11:26:36.099Z"
   },
   {
    "duration": 6,
    "start_time": "2024-06-15T11:26:36.104Z"
   },
   {
    "duration": 523,
    "start_time": "2024-06-15T11:26:36.113Z"
   },
   {
    "duration": 502,
    "start_time": "2024-06-15T11:26:36.637Z"
   },
   {
    "duration": 604,
    "start_time": "2024-06-15T11:26:37.140Z"
   },
   {
    "duration": 4,
    "start_time": "2024-06-15T11:26:37.745Z"
   },
   {
    "duration": 362,
    "start_time": "2024-06-15T11:26:37.750Z"
   },
   {
    "duration": 93,
    "start_time": "2024-06-15T11:26:38.113Z"
   },
   {
    "duration": 94,
    "start_time": "2024-06-15T11:26:38.208Z"
   },
   {
    "duration": 5,
    "start_time": "2024-06-15T11:26:38.304Z"
   },
   {
    "duration": 6,
    "start_time": "2024-06-15T11:26:38.310Z"
   },
   {
    "duration": 12,
    "start_time": "2024-06-15T11:26:38.317Z"
   },
   {
    "duration": 3,
    "start_time": "2024-06-15T11:26:38.331Z"
   },
   {
    "duration": 6,
    "start_time": "2024-06-15T11:26:38.335Z"
   },
   {
    "duration": 5,
    "start_time": "2024-06-15T11:26:38.342Z"
   },
   {
    "duration": 15,
    "start_time": "2024-06-15T11:26:38.348Z"
   },
   {
    "duration": 4,
    "start_time": "2024-06-15T11:26:38.364Z"
   },
   {
    "duration": 11,
    "start_time": "2024-06-15T11:26:38.369Z"
   },
   {
    "duration": 8,
    "start_time": "2024-06-15T11:26:38.382Z"
   },
   {
    "duration": 2978,
    "start_time": "2024-06-15T11:26:38.391Z"
   },
   {
    "duration": 5,
    "start_time": "2024-06-15T11:26:41.371Z"
   },
   {
    "duration": 24880,
    "start_time": "2024-06-15T11:30:32.672Z"
   },
   {
    "duration": 5,
    "start_time": "2024-06-15T11:30:57.556Z"
   },
   {
    "duration": 35,
    "start_time": "2024-06-15T11:30:57.562Z"
   },
   {
    "duration": 143,
    "start_time": "2024-06-15T11:30:57.600Z"
   },
   {
    "duration": 128,
    "start_time": "2024-06-15T11:30:57.745Z"
   },
   {
    "duration": 115,
    "start_time": "2024-06-15T11:30:57.874Z"
   },
   {
    "duration": 5,
    "start_time": "2024-06-15T11:30:57.990Z"
   },
   {
    "duration": 89,
    "start_time": "2024-06-15T11:30:57.997Z"
   },
   {
    "duration": 77,
    "start_time": "2024-06-15T11:30:58.087Z"
   },
   {
    "duration": 94,
    "start_time": "2024-06-15T11:30:58.167Z"
   },
   {
    "duration": 12,
    "start_time": "2024-06-15T11:30:58.263Z"
   },
   {
    "duration": 34,
    "start_time": "2024-06-15T11:30:58.276Z"
   },
   {
    "duration": 62,
    "start_time": "2024-06-15T11:30:58.311Z"
   },
   {
    "duration": 4,
    "start_time": "2024-06-15T11:30:58.375Z"
   },
   {
    "duration": 6,
    "start_time": "2024-06-15T11:30:58.380Z"
   },
   {
    "duration": 11,
    "start_time": "2024-06-15T11:30:58.402Z"
   },
   {
    "duration": 40,
    "start_time": "2024-06-15T11:30:58.415Z"
   },
   {
    "duration": 705,
    "start_time": "2024-06-15T11:30:58.457Z"
   },
   {
    "duration": 783,
    "start_time": "2024-06-15T11:30:59.163Z"
   },
   {
    "duration": 45,
    "start_time": "2024-06-15T11:30:59.947Z"
   },
   {
    "duration": 308,
    "start_time": "2024-06-15T11:31:00.002Z"
   },
   {
    "duration": 12,
    "start_time": "2024-06-15T11:31:00.312Z"
   },
   {
    "duration": 269,
    "start_time": "2024-06-15T11:31:00.328Z"
   },
   {
    "duration": 716,
    "start_time": "2024-06-15T11:31:00.599Z"
   },
   {
    "duration": 782,
    "start_time": "2024-06-15T11:31:01.316Z"
   },
   {
    "duration": 49,
    "start_time": "2024-06-15T11:31:02.099Z"
   },
   {
    "duration": 291,
    "start_time": "2024-06-15T11:31:02.149Z"
   },
   {
    "duration": 12,
    "start_time": "2024-06-15T11:31:02.444Z"
   },
   {
    "duration": 52,
    "start_time": "2024-06-15T11:31:02.457Z"
   },
   {
    "duration": 722,
    "start_time": "2024-06-15T11:31:02.510Z"
   },
   {
    "duration": 765,
    "start_time": "2024-06-15T11:31:03.233Z"
   },
   {
    "duration": 80,
    "start_time": "2024-06-15T11:31:03.999Z"
   },
   {
    "duration": 81,
    "start_time": "2024-06-15T11:31:04.080Z"
   },
   {
    "duration": 561,
    "start_time": "2024-06-15T11:31:04.162Z"
   },
   {
    "duration": 10,
    "start_time": "2024-06-15T11:31:04.724Z"
   },
   {
    "duration": 4,
    "start_time": "2024-06-15T11:31:04.735Z"
   },
   {
    "duration": 100,
    "start_time": "2024-06-15T11:31:04.740Z"
   },
   {
    "duration": 137,
    "start_time": "2024-06-15T11:31:04.841Z"
   },
   {
    "duration": 4,
    "start_time": "2024-06-15T11:31:04.980Z"
   },
   {
    "duration": 87,
    "start_time": "2024-06-15T11:31:04.985Z"
   },
   {
    "duration": 528,
    "start_time": "2024-06-15T11:31:05.074Z"
   },
   {
    "duration": 456,
    "start_time": "2024-06-15T11:31:05.603Z"
   },
   {
    "duration": 491,
    "start_time": "2024-06-15T11:31:06.061Z"
   },
   {
    "duration": 5,
    "start_time": "2024-06-15T11:31:06.553Z"
   },
   {
    "duration": 253,
    "start_time": "2024-06-15T11:31:06.559Z"
   },
   {
    "duration": 91,
    "start_time": "2024-06-15T11:31:06.813Z"
   },
   {
    "duration": 97,
    "start_time": "2024-06-15T11:31:06.905Z"
   },
   {
    "duration": 27,
    "start_time": "2024-06-15T11:31:07.004Z"
   },
   {
    "duration": 11,
    "start_time": "2024-06-15T11:31:07.032Z"
   },
   {
    "duration": 17,
    "start_time": "2024-06-15T11:31:07.044Z"
   },
   {
    "duration": 4,
    "start_time": "2024-06-15T11:31:07.063Z"
   },
   {
    "duration": 8,
    "start_time": "2024-06-15T11:31:07.069Z"
   },
   {
    "duration": 7,
    "start_time": "2024-06-15T11:31:07.079Z"
   },
   {
    "duration": 14,
    "start_time": "2024-06-15T11:31:07.087Z"
   },
   {
    "duration": 6,
    "start_time": "2024-06-15T11:31:07.102Z"
   },
   {
    "duration": 12,
    "start_time": "2024-06-15T11:31:07.109Z"
   },
   {
    "duration": 7,
    "start_time": "2024-06-15T11:31:07.123Z"
   },
   {
    "duration": 2960,
    "start_time": "2024-06-15T11:31:07.132Z"
   },
   {
    "duration": 14,
    "start_time": "2024-06-15T11:31:10.094Z"
   },
   {
    "duration": 24798,
    "start_time": "2024-06-15T11:32:30.866Z"
   },
   {
    "duration": 5,
    "start_time": "2024-06-15T11:32:55.667Z"
   },
   {
    "duration": 20,
    "start_time": "2024-06-15T11:32:55.674Z"
   },
   {
    "duration": 134,
    "start_time": "2024-06-15T11:32:55.696Z"
   },
   {
    "duration": 101,
    "start_time": "2024-06-15T11:32:55.832Z"
   },
   {
    "duration": 102,
    "start_time": "2024-06-15T11:32:55.935Z"
   },
   {
    "duration": 5,
    "start_time": "2024-06-15T11:32:56.038Z"
   },
   {
    "duration": 93,
    "start_time": "2024-06-15T11:32:56.045Z"
   },
   {
    "duration": 92,
    "start_time": "2024-06-15T11:32:56.139Z"
   },
   {
    "duration": 89,
    "start_time": "2024-06-15T11:32:56.232Z"
   },
   {
    "duration": 14,
    "start_time": "2024-06-15T11:32:56.322Z"
   },
   {
    "duration": 46,
    "start_time": "2024-06-15T11:32:56.338Z"
   },
   {
    "duration": 89,
    "start_time": "2024-06-15T11:32:56.385Z"
   },
   {
    "duration": 4,
    "start_time": "2024-06-15T11:32:56.478Z"
   },
   {
    "duration": 17,
    "start_time": "2024-06-15T11:32:56.484Z"
   },
   {
    "duration": 9,
    "start_time": "2024-06-15T11:32:56.503Z"
   },
   {
    "duration": 54,
    "start_time": "2024-06-15T11:32:56.514Z"
   },
   {
    "duration": 701,
    "start_time": "2024-06-15T11:32:56.570Z"
   },
   {
    "duration": 876,
    "start_time": "2024-06-15T11:32:57.273Z"
   },
   {
    "duration": 83,
    "start_time": "2024-06-15T11:32:58.151Z"
   },
   {
    "duration": 311,
    "start_time": "2024-06-15T11:32:58.236Z"
   },
   {
    "duration": 13,
    "start_time": "2024-06-15T11:32:58.549Z"
   },
   {
    "duration": 55,
    "start_time": "2024-06-15T11:32:58.563Z"
   },
   {
    "duration": 647,
    "start_time": "2024-06-15T11:32:58.620Z"
   },
   {
    "duration": 746,
    "start_time": "2024-06-15T11:32:59.268Z"
   },
   {
    "duration": 51,
    "start_time": "2024-06-15T11:33:00.016Z"
   },
   {
    "duration": 378,
    "start_time": "2024-06-15T11:33:00.069Z"
   },
   {
    "duration": 10,
    "start_time": "2024-06-15T11:33:00.448Z"
   },
   {
    "duration": 103,
    "start_time": "2024-06-15T11:33:00.459Z"
   },
   {
    "duration": 654,
    "start_time": "2024-06-15T11:33:00.564Z"
   },
   {
    "duration": 886,
    "start_time": "2024-06-15T11:33:01.220Z"
   },
   {
    "duration": 66,
    "start_time": "2024-06-15T11:33:02.107Z"
   },
   {
    "duration": 85,
    "start_time": "2024-06-15T11:33:02.174Z"
   },
   {
    "duration": 551,
    "start_time": "2024-06-15T11:33:02.260Z"
   },
   {
    "duration": 11,
    "start_time": "2024-06-15T11:33:02.813Z"
   },
   {
    "duration": 9,
    "start_time": "2024-06-15T11:33:02.825Z"
   },
   {
    "duration": 57,
    "start_time": "2024-06-15T11:33:02.836Z"
   },
   {
    "duration": 130,
    "start_time": "2024-06-15T11:33:02.895Z"
   },
   {
    "duration": 5,
    "start_time": "2024-06-15T11:33:03.027Z"
   },
   {
    "duration": 7,
    "start_time": "2024-06-15T11:33:03.033Z"
   },
   {
    "duration": 673,
    "start_time": "2024-06-15T11:33:03.044Z"
   },
   {
    "duration": 522,
    "start_time": "2024-06-15T11:33:03.719Z"
   },
   {
    "duration": 559,
    "start_time": "2024-06-15T11:33:04.243Z"
   },
   {
    "duration": 5,
    "start_time": "2024-06-15T11:33:04.803Z"
   },
   {
    "duration": 414,
    "start_time": "2024-06-15T11:33:04.810Z"
   },
   {
    "duration": 79,
    "start_time": "2024-06-15T11:33:05.227Z"
   },
   {
    "duration": 3,
    "start_time": "2024-06-15T11:33:05.311Z"
   },
   {
    "duration": 8,
    "start_time": "2024-06-15T11:33:05.401Z"
   },
   {
    "duration": 7,
    "start_time": "2024-06-15T11:33:05.411Z"
   },
   {
    "duration": 5,
    "start_time": "2024-06-15T11:33:05.419Z"
   },
   {
    "duration": 3,
    "start_time": "2024-06-15T11:33:05.425Z"
   },
   {
    "duration": 4,
    "start_time": "2024-06-15T11:33:05.430Z"
   },
   {
    "duration": 6,
    "start_time": "2024-06-15T11:33:05.435Z"
   },
   {
    "duration": 15,
    "start_time": "2024-06-15T11:33:05.442Z"
   },
   {
    "duration": 2,
    "start_time": "2024-06-15T11:33:05.459Z"
   },
   {
    "duration": 4,
    "start_time": "2024-06-15T11:33:05.462Z"
   },
   {
    "duration": 18,
    "start_time": "2024-06-15T11:33:05.467Z"
   },
   {
    "duration": 3008,
    "start_time": "2024-06-15T11:33:05.486Z"
   },
   {
    "duration": 6,
    "start_time": "2024-06-15T11:33:08.496Z"
   },
   {
    "duration": 49460,
    "start_time": "2024-06-16T07:55:11.587Z"
   },
   {
    "duration": 1675,
    "start_time": "2024-06-16T07:56:01.049Z"
   },
   {
    "duration": 4,
    "start_time": "2024-06-16T07:56:02.726Z"
   },
   {
    "duration": 27,
    "start_time": "2024-06-16T07:56:02.797Z"
   },
   {
    "duration": 2,
    "start_time": "2024-06-16T07:56:55.555Z"
   },
   {
    "duration": 46,
    "start_time": "2024-06-16T08:01:13.766Z"
   },
   {
    "duration": 25596,
    "start_time": "2024-06-16T08:09:57.963Z"
   },
   {
    "duration": 3,
    "start_time": "2024-06-16T08:10:23.561Z"
   },
   {
    "duration": 9,
    "start_time": "2024-06-16T08:10:23.566Z"
   },
   {
    "duration": 20,
    "start_time": "2024-06-16T08:10:23.577Z"
   },
   {
    "duration": 544,
    "start_time": "2024-06-16T08:10:23.598Z"
   },
   {
    "duration": 485,
    "start_time": "2024-06-16T08:10:24.143Z"
   },
   {
    "duration": 495,
    "start_time": "2024-06-16T08:10:24.630Z"
   },
   {
    "duration": 4,
    "start_time": "2024-06-16T08:10:25.126Z"
   },
   {
    "duration": 80,
    "start_time": "2024-06-16T08:10:25.131Z"
   },
   {
    "duration": 65,
    "start_time": "2024-06-16T08:10:25.213Z"
   },
   {
    "duration": 90,
    "start_time": "2024-06-16T08:10:25.279Z"
   },
   {
    "duration": 13,
    "start_time": "2024-06-16T08:10:25.371Z"
   },
   {
    "duration": 15,
    "start_time": "2024-06-16T08:10:25.408Z"
   },
   {
    "duration": 84,
    "start_time": "2024-06-16T08:10:25.425Z"
   },
   {
    "duration": 4,
    "start_time": "2024-06-16T08:10:32.308Z"
   },
   {
    "duration": 5,
    "start_time": "2024-06-16T08:10:33.038Z"
   },
   {
    "duration": 3,
    "start_time": "2024-06-16T08:10:33.406Z"
   },
   {
    "duration": 34,
    "start_time": "2024-06-16T08:10:34.045Z"
   },
   {
    "duration": 765,
    "start_time": "2024-06-16T08:10:34.245Z"
   },
   {
    "duration": 746,
    "start_time": "2024-06-16T08:10:35.012Z"
   },
   {
    "duration": 5,
    "start_time": "2024-06-16T08:11:27.184Z"
   },
   {
    "duration": 4,
    "start_time": "2024-06-16T08:11:27.969Z"
   },
   {
    "duration": 3,
    "start_time": "2024-06-16T08:11:28.725Z"
   },
   {
    "duration": 33,
    "start_time": "2024-06-16T08:11:29.324Z"
   },
   {
    "duration": 591,
    "start_time": "2024-06-16T08:11:29.559Z"
   },
   {
    "duration": 697,
    "start_time": "2024-06-16T08:11:30.152Z"
   },
   {
    "duration": 4,
    "start_time": "2024-06-16T08:11:47.515Z"
   },
   {
    "duration": 4,
    "start_time": "2024-06-16T08:11:47.840Z"
   },
   {
    "duration": 4,
    "start_time": "2024-06-16T08:11:48.165Z"
   },
   {
    "duration": 32,
    "start_time": "2024-06-16T08:11:48.520Z"
   },
   {
    "duration": 460,
    "start_time": "2024-06-16T08:11:48.718Z"
   },
   {
    "duration": 612,
    "start_time": "2024-06-16T08:11:49.180Z"
   },
   {
    "duration": 4,
    "start_time": "2024-06-16T08:12:14.638Z"
   },
   {
    "duration": 4,
    "start_time": "2024-06-16T08:12:15.210Z"
   },
   {
    "duration": 3,
    "start_time": "2024-06-16T08:12:15.595Z"
   },
   {
    "duration": 32,
    "start_time": "2024-06-16T08:12:15.944Z"
   },
   {
    "duration": 610,
    "start_time": "2024-06-16T08:12:16.130Z"
   },
   {
    "duration": 634,
    "start_time": "2024-06-16T08:12:16.741Z"
   },
   {
    "duration": 3,
    "start_time": "2024-06-16T08:13:26.671Z"
   },
   {
    "duration": 4,
    "start_time": "2024-06-16T08:13:27.235Z"
   },
   {
    "duration": 3,
    "start_time": "2024-06-16T08:13:27.576Z"
   },
   {
    "duration": 33,
    "start_time": "2024-06-16T08:13:28.095Z"
   },
   {
    "duration": 595,
    "start_time": "2024-06-16T08:13:28.276Z"
   },
   {
    "duration": 787,
    "start_time": "2024-06-16T08:13:28.873Z"
   },
   {
    "duration": 4,
    "start_time": "2024-06-16T08:13:45.219Z"
   },
   {
    "duration": 4,
    "start_time": "2024-06-16T08:13:45.860Z"
   },
   {
    "duration": 34,
    "start_time": "2024-06-16T08:13:46.230Z"
   },
   {
    "duration": 560,
    "start_time": "2024-06-16T08:13:46.510Z"
   },
   {
    "duration": 703,
    "start_time": "2024-06-16T08:13:47.071Z"
   },
   {
    "duration": 4,
    "start_time": "2024-06-16T08:16:27.673Z"
   },
   {
    "duration": 4,
    "start_time": "2024-06-16T08:16:28.722Z"
   },
   {
    "duration": 33,
    "start_time": "2024-06-16T08:16:33.672Z"
   },
   {
    "duration": 692,
    "start_time": "2024-06-16T08:16:33.838Z"
   },
   {
    "duration": 763,
    "start_time": "2024-06-16T08:16:34.532Z"
   },
   {
    "duration": 51,
    "start_time": "2024-06-16T08:16:35.296Z"
   },
   {
    "duration": 322,
    "start_time": "2024-06-16T08:16:35.348Z"
   },
   {
    "duration": 5,
    "start_time": "2024-06-16T08:26:49.110Z"
   },
   {
    "duration": 123,
    "start_time": "2024-06-16T08:27:11.931Z"
   },
   {
    "duration": 5,
    "start_time": "2024-06-16T08:27:24.175Z"
   },
   {
    "duration": 1172,
    "start_time": "2024-06-16T08:27:29.258Z"
   },
   {
    "duration": 5,
    "start_time": "2024-06-16T08:27:54.324Z"
   },
   {
    "duration": 1196,
    "start_time": "2024-06-16T08:27:59.569Z"
   },
   {
    "duration": 6,
    "start_time": "2024-06-16T08:28:15.731Z"
   },
   {
    "duration": 1058,
    "start_time": "2024-06-16T08:28:20.690Z"
   },
   {
    "duration": 5,
    "start_time": "2024-06-16T08:28:58.928Z"
   },
   {
    "duration": 1073,
    "start_time": "2024-06-16T08:29:03.090Z"
   },
   {
    "duration": 5,
    "start_time": "2024-06-16T08:37:31.699Z"
   },
   {
    "duration": 1130,
    "start_time": "2024-06-16T08:37:35.916Z"
   },
   {
    "duration": 6,
    "start_time": "2024-06-16T08:40:00.798Z"
   },
   {
    "duration": 1137,
    "start_time": "2024-06-16T08:40:08.905Z"
   },
   {
    "duration": 5,
    "start_time": "2024-06-16T08:40:37.069Z"
   },
   {
    "duration": 1237,
    "start_time": "2024-06-16T08:40:41.061Z"
   },
   {
    "duration": 8,
    "start_time": "2024-06-16T08:41:11.183Z"
   },
   {
    "duration": 1383,
    "start_time": "2024-06-16T08:41:16.036Z"
   },
   {
    "duration": 5,
    "start_time": "2024-06-16T08:41:46.198Z"
   },
   {
    "duration": 1253,
    "start_time": "2024-06-16T08:41:50.542Z"
   },
   {
    "duration": 571,
    "start_time": "2024-07-18T08:24:29.367Z"
   },
   {
    "duration": 64192,
    "start_time": "2024-08-12T05:36:21.607Z"
   },
   {
    "duration": 526,
    "start_time": "2024-08-12T05:37:34.945Z"
   },
   {
    "duration": 536,
    "start_time": "2024-08-12T05:38:32.809Z"
   },
   {
    "duration": 2883,
    "start_time": "2024-08-12T05:39:33.776Z"
   },
   {
    "duration": 237,
    "start_time": "2024-08-12T05:39:40.621Z"
   },
   {
    "duration": 258,
    "start_time": "2024-08-12T05:39:44.853Z"
   },
   {
    "duration": 32384,
    "start_time": "2024-08-12T06:16:40.896Z"
   },
   {
    "duration": 28791,
    "start_time": "2024-08-12T06:19:01.143Z"
   },
   {
    "duration": 26003,
    "start_time": "2024-08-12T06:19:39.454Z"
   },
   {
    "duration": 1962,
    "start_time": "2024-08-12T06:20:43.460Z"
   },
   {
    "duration": 21267,
    "start_time": "2024-08-12T06:21:07.486Z"
   },
   {
    "duration": 3,
    "start_time": "2024-08-12T06:21:28.756Z"
   },
   {
    "duration": 17,
    "start_time": "2024-08-12T06:21:28.760Z"
   },
   {
    "duration": 1761,
    "start_time": "2024-08-12T06:21:28.778Z"
   },
   {
    "duration": 3,
    "start_time": "2024-08-12T06:21:30.541Z"
   },
   {
    "duration": 226,
    "start_time": "2024-08-12T06:21:30.546Z"
   },
   {
    "duration": 0,
    "start_time": "2024-08-12T06:21:30.775Z"
   },
   {
    "duration": 0,
    "start_time": "2024-08-12T06:21:30.777Z"
   },
   {
    "duration": 0,
    "start_time": "2024-08-12T06:21:30.777Z"
   },
   {
    "duration": 0,
    "start_time": "2024-08-12T06:21:30.779Z"
   },
   {
    "duration": 0,
    "start_time": "2024-08-12T06:21:30.780Z"
   },
   {
    "duration": 0,
    "start_time": "2024-08-12T06:21:30.782Z"
   },
   {
    "duration": 0,
    "start_time": "2024-08-12T06:21:30.783Z"
   },
   {
    "duration": 0,
    "start_time": "2024-08-12T06:21:30.785Z"
   },
   {
    "duration": 0,
    "start_time": "2024-08-12T06:21:30.786Z"
   },
   {
    "duration": 0,
    "start_time": "2024-08-12T06:21:30.787Z"
   },
   {
    "duration": 0,
    "start_time": "2024-08-12T06:21:30.788Z"
   },
   {
    "duration": 0,
    "start_time": "2024-08-12T06:21:30.789Z"
   },
   {
    "duration": 0,
    "start_time": "2024-08-12T06:21:30.790Z"
   },
   {
    "duration": 0,
    "start_time": "2024-08-12T06:21:30.791Z"
   },
   {
    "duration": 0,
    "start_time": "2024-08-12T06:21:30.792Z"
   },
   {
    "duration": 0,
    "start_time": "2024-08-12T06:21:30.794Z"
   },
   {
    "duration": 0,
    "start_time": "2024-08-12T06:21:30.795Z"
   },
   {
    "duration": 0,
    "start_time": "2024-08-12T06:21:30.796Z"
   },
   {
    "duration": 0,
    "start_time": "2024-08-12T06:21:30.797Z"
   },
   {
    "duration": 0,
    "start_time": "2024-08-12T06:21:30.798Z"
   },
   {
    "duration": 0,
    "start_time": "2024-08-12T06:21:30.799Z"
   },
   {
    "duration": 0,
    "start_time": "2024-08-12T06:21:30.801Z"
   },
   {
    "duration": 0,
    "start_time": "2024-08-12T06:21:30.802Z"
   },
   {
    "duration": 0,
    "start_time": "2024-08-12T06:21:30.803Z"
   },
   {
    "duration": 0,
    "start_time": "2024-08-12T06:21:30.846Z"
   },
   {
    "duration": 0,
    "start_time": "2024-08-12T06:21:30.848Z"
   },
   {
    "duration": 0,
    "start_time": "2024-08-12T06:21:30.850Z"
   },
   {
    "duration": 0,
    "start_time": "2024-08-12T06:21:30.851Z"
   },
   {
    "duration": 0,
    "start_time": "2024-08-12T06:21:30.853Z"
   },
   {
    "duration": 0,
    "start_time": "2024-08-12T06:21:30.855Z"
   },
   {
    "duration": 0,
    "start_time": "2024-08-12T06:21:30.857Z"
   },
   {
    "duration": 0,
    "start_time": "2024-08-12T06:21:30.860Z"
   },
   {
    "duration": 0,
    "start_time": "2024-08-12T06:21:30.861Z"
   },
   {
    "duration": 0,
    "start_time": "2024-08-12T06:21:30.863Z"
   },
   {
    "duration": 0,
    "start_time": "2024-08-12T06:21:30.864Z"
   },
   {
    "duration": 0,
    "start_time": "2024-08-12T06:21:30.866Z"
   },
   {
    "duration": 0,
    "start_time": "2024-08-12T06:21:30.868Z"
   },
   {
    "duration": 0,
    "start_time": "2024-08-12T06:21:30.870Z"
   },
   {
    "duration": 0,
    "start_time": "2024-08-12T06:21:30.871Z"
   },
   {
    "duration": 0,
    "start_time": "2024-08-12T06:21:30.873Z"
   },
   {
    "duration": 0,
    "start_time": "2024-08-12T06:21:30.874Z"
   },
   {
    "duration": 0,
    "start_time": "2024-08-12T06:21:30.875Z"
   },
   {
    "duration": 0,
    "start_time": "2024-08-12T06:21:30.876Z"
   },
   {
    "duration": 0,
    "start_time": "2024-08-12T06:21:30.877Z"
   },
   {
    "duration": 0,
    "start_time": "2024-08-12T06:21:30.879Z"
   },
   {
    "duration": 0,
    "start_time": "2024-08-12T06:21:30.880Z"
   },
   {
    "duration": 0,
    "start_time": "2024-08-12T06:21:30.881Z"
   },
   {
    "duration": 0,
    "start_time": "2024-08-12T06:21:30.882Z"
   },
   {
    "duration": 0,
    "start_time": "2024-08-12T06:21:30.947Z"
   },
   {
    "duration": 0,
    "start_time": "2024-08-12T06:21:30.949Z"
   },
   {
    "duration": 0,
    "start_time": "2024-08-12T06:21:30.950Z"
   },
   {
    "duration": 0,
    "start_time": "2024-08-12T06:21:30.951Z"
   },
   {
    "duration": 0,
    "start_time": "2024-08-12T06:21:30.953Z"
   },
   {
    "duration": 0,
    "start_time": "2024-08-12T06:21:30.953Z"
   },
   {
    "duration": 0,
    "start_time": "2024-08-12T06:21:30.954Z"
   },
   {
    "duration": 0,
    "start_time": "2024-08-12T06:21:30.956Z"
   },
   {
    "duration": 0,
    "start_time": "2024-08-12T06:21:30.957Z"
   },
   {
    "duration": 498,
    "start_time": "2024-08-12T06:22:40.256Z"
   },
   {
    "duration": 234,
    "start_time": "2024-08-12T06:22:50.102Z"
   },
   {
    "duration": 251,
    "start_time": "2024-08-12T06:22:50.393Z"
   },
   {
    "duration": 12,
    "start_time": "2024-08-12T06:22:55.338Z"
   },
   {
    "duration": 148,
    "start_time": "2024-08-12T06:22:55.353Z"
   },
   {
    "duration": 109,
    "start_time": "2024-08-12T06:22:55.503Z"
   },
   {
    "duration": 137,
    "start_time": "2024-08-12T06:22:55.614Z"
   },
   {
    "duration": 17,
    "start_time": "2024-08-12T06:22:55.753Z"
   },
   {
    "duration": 55,
    "start_time": "2024-08-12T06:22:55.772Z"
   },
   {
    "duration": 145,
    "start_time": "2024-08-12T06:22:55.828Z"
   },
   {
    "duration": 6,
    "start_time": "2024-08-12T06:22:55.975Z"
   },
   {
    "duration": 21,
    "start_time": "2024-08-12T06:22:55.983Z"
   },
   {
    "duration": 52,
    "start_time": "2024-08-12T06:22:56.007Z"
   },
   {
    "duration": 47,
    "start_time": "2024-08-12T06:22:56.061Z"
   },
   {
    "duration": 68,
    "start_time": "2024-08-12T06:22:56.109Z"
   },
   {
    "duration": 895,
    "start_time": "2024-08-12T06:22:56.178Z"
   },
   {
    "duration": 959,
    "start_time": "2024-08-12T06:22:57.076Z"
   },
   {
    "duration": 1706,
    "start_time": "2024-08-12T06:22:58.037Z"
   },
   {
    "duration": 57,
    "start_time": "2024-08-12T06:22:59.745Z"
   },
   {
    "duration": 368,
    "start_time": "2024-08-12T06:22:59.804Z"
   },
   {
    "duration": 13,
    "start_time": "2024-08-12T06:23:00.173Z"
   },
   {
    "duration": 80,
    "start_time": "2024-08-12T06:23:00.187Z"
   },
   {
    "duration": 860,
    "start_time": "2024-08-12T06:23:00.268Z"
   },
   {
    "duration": 1098,
    "start_time": "2024-08-12T06:23:01.130Z"
   },
   {
    "duration": 62,
    "start_time": "2024-08-12T06:23:02.229Z"
   },
   {
    "duration": 424,
    "start_time": "2024-08-12T06:23:02.292Z"
   },
   {
    "duration": 28,
    "start_time": "2024-08-12T06:23:02.718Z"
   },
   {
    "duration": 79,
    "start_time": "2024-08-12T06:23:02.749Z"
   },
   {
    "duration": 797,
    "start_time": "2024-08-12T06:23:02.830Z"
   },
   {
    "duration": 913,
    "start_time": "2024-08-12T06:23:03.628Z"
   },
   {
    "duration": 115,
    "start_time": "2024-08-12T06:23:04.548Z"
   },
   {
    "duration": 105,
    "start_time": "2024-08-12T06:23:04.668Z"
   },
   {
    "duration": 712,
    "start_time": "2024-08-12T06:23:04.775Z"
   },
   {
    "duration": 11,
    "start_time": "2024-08-12T06:23:05.489Z"
   },
   {
    "duration": 5,
    "start_time": "2024-08-12T06:23:05.502Z"
   },
   {
    "duration": 21,
    "start_time": "2024-08-12T06:23:05.510Z"
   },
   {
    "duration": 190,
    "start_time": "2024-08-12T06:23:05.533Z"
   },
   {
    "duration": 9,
    "start_time": "2024-08-12T06:23:05.725Z"
   },
   {
    "duration": 15,
    "start_time": "2024-08-12T06:23:05.736Z"
   },
   {
    "duration": 695,
    "start_time": "2024-08-12T06:23:05.753Z"
   },
   {
    "duration": 767,
    "start_time": "2024-08-12T06:23:06.450Z"
   },
   {
    "duration": 634,
    "start_time": "2024-08-12T06:23:07.219Z"
   },
   {
    "duration": 4,
    "start_time": "2024-08-12T06:23:07.855Z"
   },
   {
    "duration": 17,
    "start_time": "2024-08-12T06:23:07.861Z"
   },
   {
    "duration": 0,
    "start_time": "2024-08-12T06:23:07.879Z"
   },
   {
    "duration": 0,
    "start_time": "2024-08-12T06:23:07.881Z"
   },
   {
    "duration": 0,
    "start_time": "2024-08-12T06:23:07.882Z"
   },
   {
    "duration": 0,
    "start_time": "2024-08-12T06:23:07.883Z"
   },
   {
    "duration": 0,
    "start_time": "2024-08-12T06:23:07.884Z"
   },
   {
    "duration": 0,
    "start_time": "2024-08-12T06:23:07.885Z"
   },
   {
    "duration": 0,
    "start_time": "2024-08-12T06:23:07.886Z"
   },
   {
    "duration": 0,
    "start_time": "2024-08-12T06:23:07.887Z"
   },
   {
    "duration": 0,
    "start_time": "2024-08-12T06:23:07.889Z"
   },
   {
    "duration": 0,
    "start_time": "2024-08-12T06:23:07.890Z"
   },
   {
    "duration": 0,
    "start_time": "2024-08-12T06:23:07.892Z"
   },
   {
    "duration": 0,
    "start_time": "2024-08-12T06:23:07.893Z"
   },
   {
    "duration": 0,
    "start_time": "2024-08-12T06:23:07.894Z"
   },
   {
    "duration": 0,
    "start_time": "2024-08-12T06:23:07.895Z"
   },
   {
    "duration": 20,
    "start_time": "2024-08-12T06:25:12.675Z"
   },
   {
    "duration": 151,
    "start_time": "2024-08-12T06:25:33.385Z"
   },
   {
    "duration": 133,
    "start_time": "2024-08-12T06:25:33.549Z"
   },
   {
    "duration": 143,
    "start_time": "2024-08-12T06:25:33.684Z"
   },
   {
    "duration": 5,
    "start_time": "2024-08-12T06:25:34.603Z"
   },
   {
    "duration": 93,
    "start_time": "2024-08-12T06:25:35.764Z"
   },
   {
    "duration": 80,
    "start_time": "2024-08-12T06:25:36.686Z"
   },
   {
    "duration": 85,
    "start_time": "2024-08-12T06:25:37.329Z"
   },
   {
    "duration": 17,
    "start_time": "2024-08-12T06:25:37.726Z"
   },
   {
    "duration": 19,
    "start_time": "2024-08-12T06:25:37.924Z"
   },
   {
    "duration": 76,
    "start_time": "2024-08-12T06:25:38.320Z"
   },
   {
    "duration": 5,
    "start_time": "2024-08-12T06:25:38.854Z"
   },
   {
    "duration": 5,
    "start_time": "2024-08-12T06:25:39.225Z"
   },
   {
    "duration": 5,
    "start_time": "2024-08-12T06:25:39.631Z"
   },
   {
    "duration": 7,
    "start_time": "2024-08-12T06:25:39.775Z"
   },
   {
    "duration": 44,
    "start_time": "2024-08-12T06:25:40.485Z"
   },
   {
    "duration": 957,
    "start_time": "2024-08-12T06:25:40.686Z"
   },
   {
    "duration": 856,
    "start_time": "2024-08-12T06:25:41.646Z"
   },
   {
    "duration": 1670,
    "start_time": "2024-08-12T06:25:42.505Z"
   },
   {
    "duration": 56,
    "start_time": "2024-08-12T06:25:44.177Z"
   },
   {
    "duration": 400,
    "start_time": "2024-08-12T06:25:44.246Z"
   },
   {
    "duration": 12,
    "start_time": "2024-08-12T06:25:44.648Z"
   },
   {
    "duration": 42,
    "start_time": "2024-08-12T06:25:44.662Z"
   },
   {
    "duration": 814,
    "start_time": "2024-08-12T06:25:44.706Z"
   },
   {
    "duration": 1064,
    "start_time": "2024-08-12T06:25:45.521Z"
   },
   {
    "duration": 83,
    "start_time": "2024-08-12T06:25:46.587Z"
   },
   {
    "duration": 343,
    "start_time": "2024-08-12T06:25:46.672Z"
   },
   {
    "duration": 11,
    "start_time": "2024-08-12T06:25:47.016Z"
   },
   {
    "duration": 38,
    "start_time": "2024-08-12T06:25:47.046Z"
   },
   {
    "duration": 800,
    "start_time": "2024-08-12T06:25:47.085Z"
   },
   {
    "duration": 1015,
    "start_time": "2024-08-12T06:25:47.888Z"
   },
   {
    "duration": 93,
    "start_time": "2024-08-12T06:25:48.905Z"
   },
   {
    "duration": 91,
    "start_time": "2024-08-12T06:25:49.000Z"
   },
   {
    "duration": 661,
    "start_time": "2024-08-12T06:25:49.093Z"
   },
   {
    "duration": 11,
    "start_time": "2024-08-12T06:25:49.756Z"
   },
   {
    "duration": 6,
    "start_time": "2024-08-12T06:25:49.768Z"
   },
   {
    "duration": 6,
    "start_time": "2024-08-12T06:25:49.776Z"
   },
   {
    "duration": 195,
    "start_time": "2024-08-12T06:25:49.783Z"
   },
   {
    "duration": 7,
    "start_time": "2024-08-12T06:25:49.980Z"
   },
   {
    "duration": 46,
    "start_time": "2024-08-12T06:25:49.989Z"
   },
   {
    "duration": 632,
    "start_time": "2024-08-12T06:25:51.317Z"
   },
   {
    "duration": 707,
    "start_time": "2024-08-12T06:25:52.042Z"
   },
   {
    "duration": 683,
    "start_time": "2024-08-12T06:25:52.751Z"
   },
   {
    "duration": 5,
    "start_time": "2024-08-12T06:25:54.296Z"
   },
   {
    "duration": 15,
    "start_time": "2024-08-12T06:25:54.869Z"
   },
   {
    "duration": 16,
    "start_time": "2024-08-12T06:25:55.250Z"
   },
   {
    "duration": 467,
    "start_time": "2024-08-12T06:26:20.214Z"
   },
   {
    "duration": 6,
    "start_time": "2024-08-12T06:26:21.181Z"
   },
   {
    "duration": 3,
    "start_time": "2024-08-12T06:26:23.594Z"
   },
   {
    "duration": 3,
    "start_time": "2024-08-12T06:26:24.002Z"
   },
   {
    "duration": 2,
    "start_time": "2024-08-12T06:26:24.445Z"
   },
   {
    "duration": 3,
    "start_time": "2024-08-12T06:26:24.833Z"
   },
   {
    "duration": 3,
    "start_time": "2024-08-12T06:26:25.239Z"
   },
   {
    "duration": 5,
    "start_time": "2024-08-12T06:26:25.679Z"
   },
   {
    "duration": 8,
    "start_time": "2024-08-12T06:26:26.124Z"
   },
   {
    "duration": 4,
    "start_time": "2024-08-12T06:26:28.304Z"
   },
   {
    "duration": 3,
    "start_time": "2024-08-12T06:26:28.471Z"
   },
   {
    "duration": 5,
    "start_time": "2024-08-12T06:26:28.845Z"
   },
   {
    "duration": 7,
    "start_time": "2024-08-12T06:26:29.418Z"
   },
   {
    "duration": 4373,
    "start_time": "2024-08-12T06:26:29.993Z"
   },
   {
    "duration": 6,
    "start_time": "2024-08-12T06:26:34.368Z"
   },
   {
    "duration": 7,
    "start_time": "2024-08-12T06:30:48.767Z"
   },
   {
    "duration": 7,
    "start_time": "2024-08-12T06:32:31.008Z"
   },
   {
    "duration": 5,
    "start_time": "2024-08-12T06:32:32.235Z"
   },
   {
    "duration": 56,
    "start_time": "2024-08-12T06:32:33.420Z"
   },
   {
    "duration": 840,
    "start_time": "2024-08-12T06:32:34.091Z"
   },
   {
    "duration": 1086,
    "start_time": "2024-08-12T06:32:35.387Z"
   },
   {
    "duration": 1726,
    "start_time": "2024-08-12T06:32:50.772Z"
   },
   {
    "duration": 54,
    "start_time": "2024-08-12T06:33:20.315Z"
   },
   {
    "duration": 391,
    "start_time": "2024-08-12T06:33:25.665Z"
   },
   {
    "duration": 12,
    "start_time": "2024-08-12T06:33:27.129Z"
   },
   {
    "duration": 1763,
    "start_time": "2024-08-12T07:49:36.409Z"
   },
   {
    "duration": 2074,
    "start_time": "2024-08-12T07:49:49.600Z"
   },
   {
    "duration": 4509,
    "start_time": "2024-08-12T07:54:11.573Z"
   },
   {
    "duration": 22376,
    "start_time": "2024-08-12T07:54:35.003Z"
   },
   {
    "duration": 3,
    "start_time": "2024-08-12T07:54:57.382Z"
   },
   {
    "duration": 16,
    "start_time": "2024-08-12T07:54:57.386Z"
   },
   {
    "duration": 15,
    "start_time": "2024-08-12T07:54:57.404Z"
   },
   {
    "duration": 18,
    "start_time": "2024-08-12T07:54:57.422Z"
   },
   {
    "duration": 181,
    "start_time": "2024-08-12T07:54:57.441Z"
   },
   {
    "duration": 147,
    "start_time": "2024-08-12T07:54:57.625Z"
   },
   {
    "duration": 139,
    "start_time": "2024-08-12T07:54:57.774Z"
   },
   {
    "duration": 6,
    "start_time": "2024-08-12T07:54:57.914Z"
   },
   {
    "duration": 133,
    "start_time": "2024-08-12T07:54:57.922Z"
   },
   {
    "duration": 100,
    "start_time": "2024-08-12T07:54:58.058Z"
   },
   {
    "duration": 123,
    "start_time": "2024-08-12T07:54:58.160Z"
   },
   {
    "duration": 13,
    "start_time": "2024-08-12T07:54:58.284Z"
   },
   {
    "duration": 56,
    "start_time": "2024-08-12T07:54:58.300Z"
   },
   {
    "duration": 125,
    "start_time": "2024-08-12T07:54:58.358Z"
   },
   {
    "duration": 12,
    "start_time": "2024-08-12T07:54:58.485Z"
   },
   {
    "duration": 28,
    "start_time": "2024-08-12T07:54:58.499Z"
   },
   {
    "duration": 65,
    "start_time": "2024-08-12T07:54:58.529Z"
   },
   {
    "duration": 1738,
    "start_time": "2024-08-12T07:54:58.597Z"
   },
   {
    "duration": 64,
    "start_time": "2024-08-12T07:55:00.336Z"
   },
   {
    "duration": 475,
    "start_time": "2024-08-12T07:55:00.402Z"
   },
   {
    "duration": 12,
    "start_time": "2024-08-12T07:55:00.879Z"
   },
   {
    "duration": 117,
    "start_time": "2024-08-12T07:55:00.893Z"
   },
   {
    "duration": 1908,
    "start_time": "2024-08-12T07:55:01.012Z"
   },
   {
    "duration": 73,
    "start_time": "2024-08-12T07:55:02.922Z"
   },
   {
    "duration": 358,
    "start_time": "2024-08-12T07:55:02.997Z"
   },
   {
    "duration": 20,
    "start_time": "2024-08-12T07:55:03.358Z"
   },
   {
    "duration": 48,
    "start_time": "2024-08-12T07:55:03.380Z"
   },
   {
    "duration": 1876,
    "start_time": "2024-08-12T07:55:03.430Z"
   },
   {
    "duration": 95,
    "start_time": "2024-08-12T07:55:05.308Z"
   },
   {
    "duration": 102,
    "start_time": "2024-08-12T07:55:05.405Z"
   },
   {
    "duration": 716,
    "start_time": "2024-08-12T07:55:05.509Z"
   },
   {
    "duration": 21,
    "start_time": "2024-08-12T07:55:06.227Z"
   },
   {
    "duration": 6,
    "start_time": "2024-08-12T07:55:06.250Z"
   },
   {
    "duration": 16,
    "start_time": "2024-08-12T07:55:06.259Z"
   },
   {
    "duration": 189,
    "start_time": "2024-08-12T07:55:06.276Z"
   },
   {
    "duration": 8,
    "start_time": "2024-08-12T07:55:06.466Z"
   },
   {
    "duration": 43,
    "start_time": "2024-08-12T07:55:06.475Z"
   },
   {
    "duration": 723,
    "start_time": "2024-08-12T07:55:06.519Z"
   },
   {
    "duration": 700,
    "start_time": "2024-08-12T07:55:07.246Z"
   },
   {
    "duration": 714,
    "start_time": "2024-08-12T07:55:07.951Z"
   },
   {
    "duration": 6,
    "start_time": "2024-08-12T07:55:08.667Z"
   },
   {
    "duration": 499,
    "start_time": "2024-08-12T07:55:08.675Z"
   },
   {
    "duration": 76,
    "start_time": "2024-08-12T07:55:09.177Z"
   },
   {
    "duration": 118,
    "start_time": "2024-08-12T07:55:09.258Z"
   },
   {
    "duration": 28,
    "start_time": "2024-08-12T07:55:09.377Z"
   },
   {
    "duration": 6,
    "start_time": "2024-08-12T07:55:09.407Z"
   },
   {
    "duration": 30,
    "start_time": "2024-08-12T07:55:09.415Z"
   },
   {
    "duration": 57,
    "start_time": "2024-08-12T07:55:09.447Z"
   },
   {
    "duration": 18,
    "start_time": "2024-08-12T07:55:09.505Z"
   },
   {
    "duration": 44,
    "start_time": "2024-08-12T07:55:09.524Z"
   },
   {
    "duration": 31,
    "start_time": "2024-08-12T07:55:09.570Z"
   },
   {
    "duration": 23,
    "start_time": "2024-08-12T07:55:09.603Z"
   },
   {
    "duration": 25,
    "start_time": "2024-08-12T07:55:09.628Z"
   },
   {
    "duration": 21,
    "start_time": "2024-08-12T07:55:09.656Z"
   },
   {
    "duration": 4863,
    "start_time": "2024-08-12T07:55:09.678Z"
   },
   {
    "duration": 10,
    "start_time": "2024-08-12T07:55:14.543Z"
   },
   {
    "duration": 3,
    "start_time": "2024-08-12T08:00:57.248Z"
   },
   {
    "duration": 10,
    "start_time": "2024-08-12T08:19:04.303Z"
   },
   {
    "duration": 23,
    "start_time": "2024-08-12T08:19:55.065Z"
   },
   {
    "duration": 4505,
    "start_time": "2024-08-12T08:19:58.491Z"
   },
   {
    "duration": 4589,
    "start_time": "2024-08-12T08:20:05.985Z"
   },
   {
    "duration": 17,
    "start_time": "2024-08-12T08:20:10.576Z"
   },
   {
    "duration": 17,
    "start_time": "2024-08-12T08:20:17.804Z"
   },
   {
    "duration": 10,
    "start_time": "2024-08-12T08:20:26.793Z"
   },
   {
    "duration": 15,
    "start_time": "2024-08-12T08:20:31.593Z"
   },
   {
    "duration": 11,
    "start_time": "2024-08-12T08:20:52.924Z"
   },
   {
    "duration": 14,
    "start_time": "2024-08-12T08:24:57.570Z"
   },
   {
    "duration": 11,
    "start_time": "2024-08-12T08:26:11.676Z"
   },
   {
    "duration": 10,
    "start_time": "2024-08-12T08:26:25.278Z"
   },
   {
    "duration": 5,
    "start_time": "2024-08-12T08:27:20.411Z"
   },
   {
    "duration": 4504,
    "start_time": "2024-08-12T08:27:21.683Z"
   },
   {
    "duration": 11,
    "start_time": "2024-08-12T08:27:26.189Z"
   },
   {
    "duration": 35,
    "start_time": "2024-08-12T08:27:26.201Z"
   },
   {
    "duration": 7,
    "start_time": "2024-08-12T08:27:50.267Z"
   },
   {
    "duration": 4539,
    "start_time": "2024-08-12T08:27:51.332Z"
   },
   {
    "duration": 10,
    "start_time": "2024-08-12T08:27:55.873Z"
   },
   {
    "duration": 57,
    "start_time": "2024-08-12T08:27:55.885Z"
   },
   {
    "duration": 10,
    "start_time": "2024-08-12T08:28:55.077Z"
   },
   {
    "duration": 10,
    "start_time": "2024-08-12T08:29:15.982Z"
   },
   {
    "duration": 10,
    "start_time": "2024-08-12T08:30:24.785Z"
   },
   {
    "duration": 400,
    "start_time": "2024-08-12T08:31:46.557Z"
   },
   {
    "duration": 383,
    "start_time": "2024-08-12T08:31:49.371Z"
   },
   {
    "duration": 9,
    "start_time": "2024-08-12T08:31:50.454Z"
   },
   {
    "duration": 8,
    "start_time": "2024-08-12T08:34:12.773Z"
   },
   {
    "duration": 7,
    "start_time": "2024-08-12T08:34:50.264Z"
   },
   {
    "duration": 8,
    "start_time": "2024-08-12T08:36:14.852Z"
   },
   {
    "duration": 6,
    "start_time": "2024-08-12T08:38:12.911Z"
   },
   {
    "duration": 8,
    "start_time": "2024-08-12T08:39:53.359Z"
   },
   {
    "duration": 11,
    "start_time": "2024-08-12T08:40:06.554Z"
   },
   {
    "duration": 7,
    "start_time": "2024-08-12T08:40:25.985Z"
   },
   {
    "duration": 7,
    "start_time": "2024-08-12T08:41:11.753Z"
   },
   {
    "duration": 6,
    "start_time": "2024-08-12T08:42:46.403Z"
   },
   {
    "duration": 8,
    "start_time": "2024-08-12T08:43:21.646Z"
   },
   {
    "duration": 24,
    "start_time": "2024-08-12T08:44:58.653Z"
   },
   {
    "duration": 6,
    "start_time": "2024-08-12T08:45:09.763Z"
   },
   {
    "duration": 6,
    "start_time": "2024-08-12T08:45:21.471Z"
   },
   {
    "duration": 6,
    "start_time": "2024-08-12T08:45:43.915Z"
   },
   {
    "duration": 67,
    "start_time": "2024-08-12T08:46:26.303Z"
   },
   {
    "duration": 7,
    "start_time": "2024-08-12T08:46:34.846Z"
   },
   {
    "duration": 9,
    "start_time": "2024-08-12T08:46:49.061Z"
   },
   {
    "duration": 7,
    "start_time": "2024-08-12T08:46:54.386Z"
   },
   {
    "duration": 4,
    "start_time": "2024-08-12T08:47:37.486Z"
   },
   {
    "duration": 10,
    "start_time": "2024-08-12T08:48:03.042Z"
   },
   {
    "duration": 6,
    "start_time": "2024-08-12T08:48:56.246Z"
   },
   {
    "duration": 22375,
    "start_time": "2024-08-12T08:49:08.047Z"
   },
   {
    "duration": 3,
    "start_time": "2024-08-12T08:49:30.425Z"
   },
   {
    "duration": 157,
    "start_time": "2024-08-12T08:49:30.429Z"
   },
   {
    "duration": 33,
    "start_time": "2024-08-12T08:49:30.587Z"
   },
   {
    "duration": 30,
    "start_time": "2024-08-12T08:49:30.622Z"
   },
   {
    "duration": 239,
    "start_time": "2024-08-12T08:49:30.654Z"
   },
   {
    "duration": 148,
    "start_time": "2024-08-12T08:49:30.895Z"
   },
   {
    "duration": 155,
    "start_time": "2024-08-12T08:49:31.045Z"
   },
   {
    "duration": 5,
    "start_time": "2024-08-12T08:49:31.202Z"
   },
   {
    "duration": 156,
    "start_time": "2024-08-12T08:49:31.209Z"
   },
   {
    "duration": 112,
    "start_time": "2024-08-12T08:49:31.367Z"
   },
   {
    "duration": 130,
    "start_time": "2024-08-12T08:49:31.481Z"
   },
   {
    "duration": 19,
    "start_time": "2024-08-12T08:49:31.621Z"
   },
   {
    "duration": 349,
    "start_time": "2024-08-12T08:49:31.651Z"
   },
   {
    "duration": 706,
    "start_time": "2024-08-12T08:49:32.002Z"
   },
   {
    "duration": 120,
    "start_time": "2024-08-12T08:49:32.710Z"
   },
   {
    "duration": 67,
    "start_time": "2024-08-12T08:49:32.832Z"
   },
   {
    "duration": 91,
    "start_time": "2024-08-12T08:49:32.901Z"
   },
   {
    "duration": 1993,
    "start_time": "2024-08-12T08:49:32.994Z"
   },
   {
    "duration": 64,
    "start_time": "2024-08-12T08:49:34.988Z"
   },
   {
    "duration": 394,
    "start_time": "2024-08-12T08:49:35.054Z"
   },
   {
    "duration": 15,
    "start_time": "2024-08-12T08:49:35.449Z"
   },
   {
    "duration": 37,
    "start_time": "2024-08-12T08:49:35.466Z"
   },
   {
    "duration": 1730,
    "start_time": "2024-08-12T08:49:35.505Z"
   },
   {
    "duration": 61,
    "start_time": "2024-08-12T08:49:37.236Z"
   },
   {
    "duration": 314,
    "start_time": "2024-08-12T08:49:37.299Z"
   },
   {
    "duration": 11,
    "start_time": "2024-08-12T08:49:37.615Z"
   },
   {
    "duration": 54,
    "start_time": "2024-08-12T08:49:37.628Z"
   },
   {
    "duration": 1983,
    "start_time": "2024-08-12T08:49:37.683Z"
   },
   {
    "duration": 102,
    "start_time": "2024-08-12T08:49:39.668Z"
   },
   {
    "duration": 96,
    "start_time": "2024-08-12T08:49:39.772Z"
   },
   {
    "duration": 709,
    "start_time": "2024-08-12T08:49:39.870Z"
   },
   {
    "duration": 16,
    "start_time": "2024-08-12T08:49:40.581Z"
   },
   {
    "duration": 18,
    "start_time": "2024-08-12T08:49:40.599Z"
   },
   {
    "duration": 5,
    "start_time": "2024-08-12T08:49:40.619Z"
   },
   {
    "duration": 210,
    "start_time": "2024-08-12T08:49:40.625Z"
   },
   {
    "duration": 6,
    "start_time": "2024-08-12T08:49:40.837Z"
   },
   {
    "duration": 8,
    "start_time": "2024-08-12T08:49:40.847Z"
   },
   {
    "duration": 695,
    "start_time": "2024-08-12T08:49:40.859Z"
   },
   {
    "duration": 678,
    "start_time": "2024-08-12T08:49:41.557Z"
   },
   {
    "duration": 693,
    "start_time": "2024-08-12T08:49:42.246Z"
   },
   {
    "duration": 7,
    "start_time": "2024-08-12T08:49:42.941Z"
   },
   {
    "duration": 615,
    "start_time": "2024-08-12T08:49:42.950Z"
   },
   {
    "duration": 85,
    "start_time": "2024-08-12T08:49:43.569Z"
   },
   {
    "duration": 117,
    "start_time": "2024-08-12T08:49:43.656Z"
   },
   {
    "duration": 36,
    "start_time": "2024-08-12T08:49:43.774Z"
   },
   {
    "duration": 42,
    "start_time": "2024-08-12T08:49:43.812Z"
   },
   {
    "duration": 27,
    "start_time": "2024-08-12T08:49:43.856Z"
   },
   {
    "duration": 10,
    "start_time": "2024-08-12T08:49:43.884Z"
   },
   {
    "duration": 17,
    "start_time": "2024-08-12T08:49:43.895Z"
   },
   {
    "duration": 29,
    "start_time": "2024-08-12T08:49:43.913Z"
   },
   {
    "duration": 21,
    "start_time": "2024-08-12T08:49:43.944Z"
   },
   {
    "duration": 224,
    "start_time": "2024-08-12T08:49:43.966Z"
   },
   {
    "duration": 22,
    "start_time": "2024-08-12T08:49:44.192Z"
   },
   {
    "duration": 18,
    "start_time": "2024-08-12T08:49:44.216Z"
   },
   {
    "duration": 4,
    "start_time": "2024-08-12T08:49:44.236Z"
   },
   {
    "duration": 30,
    "start_time": "2024-08-12T08:49:44.242Z"
   },
   {
    "duration": 4592,
    "start_time": "2024-08-12T08:49:44.274Z"
   },
   {
    "duration": 7,
    "start_time": "2024-08-12T08:49:48.869Z"
   },
   {
    "duration": 34,
    "start_time": "2024-08-12T08:49:48.878Z"
   },
   {
    "duration": 20,
    "start_time": "2024-08-12T08:49:48.913Z"
   },
   {
    "duration": 25,
    "start_time": "2024-08-12T08:49:48.934Z"
   },
   {
    "duration": 128,
    "start_time": "2024-08-12T08:49:48.961Z"
   },
   {
    "duration": 98,
    "start_time": "2024-08-12T08:49:49.090Z"
   },
   {
    "duration": 5,
    "start_time": "2024-08-12T09:09:55.377Z"
   },
   {
    "duration": 4773,
    "start_time": "2024-08-12T09:10:31.265Z"
   },
   {
    "duration": 25666,
    "start_time": "2024-08-12T09:15:40.311Z"
   },
   {
    "duration": 3,
    "start_time": "2024-08-12T09:16:05.980Z"
   },
   {
    "duration": 22,
    "start_time": "2024-08-12T09:16:05.985Z"
   },
   {
    "duration": 10,
    "start_time": "2024-08-12T09:16:06.009Z"
   },
   {
    "duration": 11,
    "start_time": "2024-08-12T09:16:06.021Z"
   },
   {
    "duration": 175,
    "start_time": "2024-08-12T09:16:06.034Z"
   },
   {
    "duration": 173,
    "start_time": "2024-08-12T09:16:06.211Z"
   },
   {
    "duration": 157,
    "start_time": "2024-08-12T09:16:06.386Z"
   },
   {
    "duration": 5,
    "start_time": "2024-08-12T09:16:06.546Z"
   },
   {
    "duration": 158,
    "start_time": "2024-08-12T09:16:06.553Z"
   },
   {
    "duration": 140,
    "start_time": "2024-08-12T09:16:06.714Z"
   },
   {
    "duration": 139,
    "start_time": "2024-08-12T09:16:06.859Z"
   },
   {
    "duration": 24,
    "start_time": "2024-08-12T09:16:07.000Z"
   },
   {
    "duration": 44,
    "start_time": "2024-08-12T09:16:07.029Z"
   },
   {
    "duration": 98,
    "start_time": "2024-08-12T09:16:07.075Z"
   },
   {
    "duration": 7,
    "start_time": "2024-08-12T09:16:07.174Z"
   },
   {
    "duration": 55,
    "start_time": "2024-08-12T09:16:07.183Z"
   },
   {
    "duration": 56,
    "start_time": "2024-08-12T09:16:07.240Z"
   },
   {
    "duration": 1936,
    "start_time": "2024-08-12T09:16:07.297Z"
   },
   {
    "duration": 75,
    "start_time": "2024-08-12T09:16:09.234Z"
   },
   {
    "duration": 417,
    "start_time": "2024-08-12T09:16:09.311Z"
   },
   {
    "duration": 25,
    "start_time": "2024-08-12T09:16:09.729Z"
   },
   {
    "duration": 42,
    "start_time": "2024-08-12T09:16:09.756Z"
   },
   {
    "duration": 2032,
    "start_time": "2024-08-12T09:16:09.801Z"
   },
   {
    "duration": 71,
    "start_time": "2024-08-12T09:16:11.835Z"
   },
   {
    "duration": 365,
    "start_time": "2024-08-12T09:16:11.908Z"
   },
   {
    "duration": 11,
    "start_time": "2024-08-12T09:16:12.275Z"
   },
   {
    "duration": 83,
    "start_time": "2024-08-12T09:16:12.288Z"
   },
   {
    "duration": 1750,
    "start_time": "2024-08-12T09:16:12.380Z"
   },
   {
    "duration": 101,
    "start_time": "2024-08-12T09:16:14.132Z"
   },
   {
    "duration": 103,
    "start_time": "2024-08-12T09:16:14.234Z"
   },
   {
    "duration": 779,
    "start_time": "2024-08-12T09:16:14.346Z"
   },
   {
    "duration": 20,
    "start_time": "2024-08-12T09:16:15.127Z"
   },
   {
    "duration": 28,
    "start_time": "2024-08-12T09:16:15.149Z"
   },
   {
    "duration": 34,
    "start_time": "2024-08-12T09:16:15.179Z"
   },
   {
    "duration": 233,
    "start_time": "2024-08-12T09:16:15.215Z"
   },
   {
    "duration": 8,
    "start_time": "2024-08-12T09:16:15.450Z"
   },
   {
    "duration": 14,
    "start_time": "2024-08-12T09:16:15.460Z"
   },
   {
    "duration": 737,
    "start_time": "2024-08-12T09:16:15.476Z"
   },
   {
    "duration": 724,
    "start_time": "2024-08-12T09:16:16.215Z"
   },
   {
    "duration": 705,
    "start_time": "2024-08-12T09:16:16.945Z"
   },
   {
    "duration": 5,
    "start_time": "2024-08-12T09:16:17.652Z"
   },
   {
    "duration": 610,
    "start_time": "2024-08-12T09:16:17.658Z"
   },
   {
    "duration": 85,
    "start_time": "2024-08-12T09:16:18.270Z"
   },
   {
    "duration": 89,
    "start_time": "2024-08-12T09:16:18.359Z"
   },
   {
    "duration": 4,
    "start_time": "2024-08-12T09:16:18.452Z"
   },
   {
    "duration": 17,
    "start_time": "2024-08-12T09:16:18.459Z"
   },
   {
    "duration": 11,
    "start_time": "2024-08-12T09:16:18.478Z"
   },
   {
    "duration": 6,
    "start_time": "2024-08-12T09:16:18.491Z"
   },
   {
    "duration": 7,
    "start_time": "2024-08-12T09:16:18.498Z"
   },
   {
    "duration": 20,
    "start_time": "2024-08-12T09:16:18.506Z"
   },
   {
    "duration": 18,
    "start_time": "2024-08-12T09:16:18.529Z"
   },
   {
    "duration": 9,
    "start_time": "2024-08-12T09:16:18.549Z"
   },
   {
    "duration": 9,
    "start_time": "2024-08-12T09:16:18.560Z"
   },
   {
    "duration": 23,
    "start_time": "2024-08-12T09:16:18.571Z"
   },
   {
    "duration": 18,
    "start_time": "2024-08-12T09:16:18.597Z"
   },
   {
    "duration": 14,
    "start_time": "2024-08-12T09:16:18.617Z"
   },
   {
    "duration": 15,
    "start_time": "2024-08-12T09:16:18.634Z"
   },
   {
    "duration": 4783,
    "start_time": "2024-08-12T09:16:18.651Z"
   },
   {
    "duration": 13,
    "start_time": "2024-08-12T09:16:23.435Z"
   },
   {
    "duration": 18,
    "start_time": "2024-08-12T09:16:23.452Z"
   },
   {
    "duration": 14,
    "start_time": "2024-08-12T09:16:23.472Z"
   },
   {
    "duration": 10,
    "start_time": "2024-08-12T09:16:23.488Z"
   },
   {
    "duration": 12,
    "start_time": "2024-08-12T09:16:23.500Z"
   },
   {
    "duration": 14,
    "start_time": "2024-08-12T09:16:23.514Z"
   },
   {
    "duration": 23881,
    "start_time": "2024-08-12T09:21:44.423Z"
   },
   {
    "duration": 4,
    "start_time": "2024-08-12T09:22:08.308Z"
   },
   {
    "duration": 9,
    "start_time": "2024-08-12T09:22:08.314Z"
   },
   {
    "duration": 7,
    "start_time": "2024-08-12T09:22:08.325Z"
   },
   {
    "duration": 4,
    "start_time": "2024-08-12T09:22:08.335Z"
   },
   {
    "duration": 168,
    "start_time": "2024-08-12T09:22:08.341Z"
   },
   {
    "duration": 182,
    "start_time": "2024-08-12T09:22:08.512Z"
   },
   {
    "duration": 142,
    "start_time": "2024-08-12T09:22:08.696Z"
   },
   {
    "duration": 8,
    "start_time": "2024-08-12T09:22:08.840Z"
   },
   {
    "duration": 125,
    "start_time": "2024-08-12T09:22:08.850Z"
   },
   {
    "duration": 103,
    "start_time": "2024-08-12T09:22:08.977Z"
   },
   {
    "duration": 121,
    "start_time": "2024-08-12T09:22:09.082Z"
   },
   {
    "duration": 13,
    "start_time": "2024-08-12T09:22:09.205Z"
   },
   {
    "duration": 44,
    "start_time": "2024-08-12T09:22:09.221Z"
   },
   {
    "duration": 99,
    "start_time": "2024-08-12T09:22:09.267Z"
   },
   {
    "duration": 9,
    "start_time": "2024-08-12T09:22:09.368Z"
   },
   {
    "duration": 26,
    "start_time": "2024-08-12T09:22:09.379Z"
   },
   {
    "duration": 66,
    "start_time": "2024-08-12T09:22:09.407Z"
   },
   {
    "duration": 2035,
    "start_time": "2024-08-12T09:22:09.475Z"
   },
   {
    "duration": 93,
    "start_time": "2024-08-12T09:22:11.513Z"
   },
   {
    "duration": 388,
    "start_time": "2024-08-12T09:22:11.608Z"
   },
   {
    "duration": 14,
    "start_time": "2024-08-12T09:22:11.999Z"
   },
   {
    "duration": 62,
    "start_time": "2024-08-12T09:22:12.015Z"
   },
   {
    "duration": 1950,
    "start_time": "2024-08-12T09:22:12.079Z"
   },
   {
    "duration": 68,
    "start_time": "2024-08-12T09:22:14.031Z"
   },
   {
    "duration": 360,
    "start_time": "2024-08-12T09:22:14.101Z"
   },
   {
    "duration": 13,
    "start_time": "2024-08-12T09:22:14.463Z"
   },
   {
    "duration": 54,
    "start_time": "2024-08-12T09:22:14.478Z"
   },
   {
    "duration": 2061,
    "start_time": "2024-08-12T09:22:14.545Z"
   },
   {
    "duration": 107,
    "start_time": "2024-08-12T09:22:16.609Z"
   },
   {
    "duration": 104,
    "start_time": "2024-08-12T09:22:16.718Z"
   },
   {
    "duration": 787,
    "start_time": "2024-08-12T09:22:16.824Z"
   },
   {
    "duration": 20,
    "start_time": "2024-08-12T09:22:17.613Z"
   },
   {
    "duration": 19,
    "start_time": "2024-08-12T09:22:17.636Z"
   },
   {
    "duration": 4,
    "start_time": "2024-08-12T09:22:17.658Z"
   },
   {
    "duration": 202,
    "start_time": "2024-08-12T09:22:17.664Z"
   },
   {
    "duration": 6,
    "start_time": "2024-08-12T09:22:17.867Z"
   },
   {
    "duration": 7,
    "start_time": "2024-08-12T09:22:17.874Z"
   },
   {
    "duration": 693,
    "start_time": "2024-08-12T09:22:17.883Z"
   },
   {
    "duration": 736,
    "start_time": "2024-08-12T09:22:18.578Z"
   },
   {
    "duration": 713,
    "start_time": "2024-08-12T09:22:19.319Z"
   },
   {
    "duration": 12,
    "start_time": "2024-08-12T09:22:20.034Z"
   },
   {
    "duration": 528,
    "start_time": "2024-08-12T09:22:20.048Z"
   },
   {
    "duration": 72,
    "start_time": "2024-08-12T09:22:20.579Z"
   },
   {
    "duration": 108,
    "start_time": "2024-08-12T09:22:20.654Z"
   },
   {
    "duration": 14,
    "start_time": "2024-08-12T09:22:20.764Z"
   },
   {
    "duration": 25,
    "start_time": "2024-08-12T09:22:20.779Z"
   },
   {
    "duration": 24,
    "start_time": "2024-08-12T09:22:20.806Z"
   },
   {
    "duration": 24,
    "start_time": "2024-08-12T09:22:20.833Z"
   },
   {
    "duration": 11,
    "start_time": "2024-08-12T09:22:20.860Z"
   },
   {
    "duration": 20,
    "start_time": "2024-08-12T09:22:20.873Z"
   },
   {
    "duration": 51,
    "start_time": "2024-08-12T09:22:20.896Z"
   },
   {
    "duration": 31,
    "start_time": "2024-08-12T09:22:20.949Z"
   },
   {
    "duration": 13,
    "start_time": "2024-08-12T09:22:20.983Z"
   },
   {
    "duration": 38,
    "start_time": "2024-08-12T09:22:20.998Z"
   },
   {
    "duration": 13,
    "start_time": "2024-08-12T09:22:21.039Z"
   },
   {
    "duration": 45,
    "start_time": "2024-08-12T09:22:21.054Z"
   },
   {
    "duration": 35,
    "start_time": "2024-08-12T09:22:21.102Z"
   },
   {
    "duration": 4659,
    "start_time": "2024-08-12T09:22:21.139Z"
   },
   {
    "duration": 7,
    "start_time": "2024-08-12T09:22:25.800Z"
   },
   {
    "duration": 40,
    "start_time": "2024-08-12T09:22:25.809Z"
   },
   {
    "duration": 45,
    "start_time": "2024-08-12T09:22:25.850Z"
   },
   {
    "duration": 24,
    "start_time": "2024-08-12T09:22:25.897Z"
   },
   {
    "duration": 18,
    "start_time": "2024-08-12T09:22:25.923Z"
   },
   {
    "duration": 26,
    "start_time": "2024-08-12T09:22:25.943Z"
   }
  ],
  "kernelspec": {
   "display_name": "Python 3 (ipykernel)",
   "language": "python",
   "name": "python3"
  },
  "language_info": {
   "codemirror_mode": {
    "name": "ipython",
    "version": 3
   },
   "file_extension": ".py",
   "mimetype": "text/x-python",
   "name": "python",
   "nbconvert_exporter": "python",
   "pygments_lexer": "ipython3",
   "version": "3.11.5"
  },
  "toc": {
   "base_numbering": 1,
   "nav_menu": {},
   "number_sections": true,
   "sideBar": false,
   "skip_h1_title": true,
   "title_cell": "Table of Contents",
   "title_sidebar": "Contents",
   "toc_cell": false,
   "toc_position": {
    "height": "676px",
    "left": "24px",
    "top": "111.125px",
    "width": "312px"
   },
   "toc_section_display": true,
   "toc_window_display": true
  }
 },
 "nbformat": 4,
 "nbformat_minor": 2
}
